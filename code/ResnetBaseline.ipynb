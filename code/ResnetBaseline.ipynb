{
 "cells": [
  {
   "cell_type": "code",
   "execution_count": 24,
   "metadata": {
    "collapsed": true,
    "executionInfo": {
     "elapsed": 15,
     "status": "ok",
     "timestamp": 1681458003378,
     "user": {
      "displayName": "Nau Tei",
      "userId": "05419850125273823117"
     },
     "user_tz": -120
    },
    "id": "wVPuQpWJLIZE"
   },
   "outputs": [],
   "source": [
    "import torch\n",
    "from torchvision import transforms\n",
    "import matplotlib.pyplot as plt\n",
    "import torchvision.models as models\n",
    "\n",
    "from dataset.CombinedDataLoader import CDL"
   ]
  },
  {
   "cell_type": "code",
   "execution_count": 25,
   "metadata": {
    "colab": {
     "base_uri": "https://localhost:8080/"
    },
    "executionInfo": {
     "elapsed": 13,
     "status": "ok",
     "timestamp": 1681458003380,
     "user": {
      "displayName": "Nau Tei",
      "userId": "05419850125273823117"
     },
     "user_tz": -120
    },
    "id": "OMz78M-oMqUh",
    "outputId": "3d5e2a15-a9eb-4084-b1e1-ccb7bc257508"
   },
   "outputs": [
    {
     "name": "stdout",
     "output_type": "stream",
     "text": [
      "cuda\n"
     ]
    }
   ],
   "source": [
    "if torch.cuda.is_available():\n",
    "    device = torch.device('cuda')\n",
    "else:\n",
    "    device = torch.device('cpu')\n",
    "print(device)"
   ]
  },
  {
   "cell_type": "code",
   "execution_count": 26,
   "metadata": {
    "executionInfo": {
     "elapsed": 10,
     "status": "ok",
     "timestamp": 1681458003381,
     "user": {
      "displayName": "Nau Tei",
      "userId": "05419850125273823117"
     },
     "user_tz": -120
    },
    "id": "6soIgJJHMt3v"
   },
   "outputs": [],
   "source": [
    "root = './dataset/data'"
   ]
  },
  {
   "cell_type": "code",
   "execution_count": 27,
   "outputs": [],
   "source": [
    "def get_net(out_dims = 20):\n",
    "    resnet = models.resnet34(pretrained=True)\n",
    "    resnet.fc = torch.nn.Linear(resnet.fc.in_features, out_dims)\n",
    "    return resnet"
   ],
   "metadata": {
    "collapsed": false
   }
  },
  {
   "cell_type": "code",
   "execution_count": 28,
   "metadata": {
    "executionInfo": {
     "elapsed": 23,
     "status": "ok",
     "timestamp": 1681458005509,
     "user": {
      "displayName": "Nau Tei",
      "userId": "05419850125273823117"
     },
     "user_tz": -120
    },
    "id": "NEZ98iGfLIZN"
   },
   "outputs": [],
   "source": [
    "batch_size = 32"
   ]
  },
  {
   "cell_type": "code",
   "execution_count": 29,
   "metadata": {
    "executionInfo": {
     "elapsed": 24,
     "status": "ok",
     "timestamp": 1681458005513,
     "user": {
      "displayName": "Nau Tei",
      "userId": "05419850125273823117"
     },
     "user_tz": -120
    },
    "id": "Wq0XgCunMxaT"
   },
   "outputs": [],
   "source": [
    "trans = transforms.Compose([\n",
    "    transforms.Resize((224, 224)),\n",
    "    transforms.ToTensor()\n",
    "])"
   ]
  },
  {
   "cell_type": "code",
   "execution_count": 30,
   "metadata": {
    "executionInfo": {
     "elapsed": 24,
     "status": "ok",
     "timestamp": 1681458005515,
     "user": {
      "displayName": "Nau Tei",
      "userId": "05419850125273823117"
     },
     "user_tz": -120
    },
    "id": "uB_ctMS_LIZO"
   },
   "outputs": [],
   "source": [
    "ds_train = CDL(root, train=True, transform=trans, num_classes=20, images=['cropped', \"rotated\", \"sheared\", \"skewed\"])\n",
    "ds_test = CDL(root, train=False, transform=trans, num_classes=20, images=['cropped'])"
   ]
  },
  {
   "cell_type": "code",
   "execution_count": 31,
   "metadata": {
    "executionInfo": {
     "elapsed": 26,
     "status": "ok",
     "timestamp": 1681458005518,
     "user": {
      "displayName": "Nau Tei",
      "userId": "05419850125273823117"
     },
     "user_tz": -120
    },
    "id": "JGNmd-u9Mekw"
   },
   "outputs": [],
   "source": [
    "train_loader = torch.utils.data.DataLoader(ds_train, batch_size=batch_size, shuffle=True, num_workers=2)\n",
    "test_loader = torch.utils.data.DataLoader(ds_test, batch_size=batch_size, shuffle=False, num_workers=2)"
   ]
  },
  {
   "cell_type": "code",
   "execution_count": 50,
   "outputs": [],
   "source": [
    "def train(net, train_dataloader, valid_dataloader, criterion, optimizer, epochs=10, device='cpu', checkpoint_epochs=10):\n",
    "    print(f'Training for {epochs} epochs on {device}')\n",
    "    train_losses = []\n",
    "    train_accs = []\n",
    "    valid_losses = []\n",
    "    valid_accs = []\n",
    "    for epoch in range(1,epochs+1):\n",
    "        print(f\"Epoch {epoch}/{epochs}\")\n",
    "        net.train()\n",
    "        train_loss = torch.tensor(0., device=device)\n",
    "        train_accuracy = torch.tensor(0., device=device)\n",
    "        for X, y in train_dataloader:\n",
    "            X = X.to(device)\n",
    "            y = y.to(device)\n",
    "            preds = net(X)\n",
    "            loss = criterion(preds, y)\n",
    "\n",
    "            optimizer.zero_grad()\n",
    "            loss.backward()\n",
    "            optimizer.step()\n",
    "\n",
    "            with torch.no_grad():\n",
    "                train_loss += loss * train_dataloader.batch_size\n",
    "                train_accuracy += (torch.argmax(preds, dim=1) == y).sum()\n",
    "\n",
    "        if valid_dataloader is not None:\n",
    "            net.eval()\n",
    "            valid_loss = torch.tensor(0., device=device)\n",
    "            valid_accuracy = torch.tensor(0., device=device)\n",
    "            with torch.no_grad():\n",
    "                for X, y in valid_dataloader:\n",
    "                    X = X.to(device)\n",
    "                    y = y.to(device)\n",
    "                    preds = net(X)\n",
    "                    loss = criterion(preds, y)\n",
    "\n",
    "                    valid_loss += loss * valid_dataloader.batch_size\n",
    "                    valid_accuracy += (torch.argmax(preds, dim=1) == y).sum()\n",
    "\n",
    "        print(f'Training loss: {train_loss/len(train_dataloader.dataset):.2f}')\n",
    "        print(f'Training accuracy: {100*train_accuracy/len(train_dataloader.dataset):.2f}')\n",
    "\n",
    "        if valid_dataloader is not None:\n",
    "            print(f'Valid loss: {valid_loss/len(valid_dataloader.dataset):.2f}')\n",
    "            print(f'Valid accuracy: {100*valid_accuracy/len(valid_dataloader.dataset):.2f}')\n",
    "\n",
    "        train_losses.append((train_loss / len(train_dataloader.dataset)).cpu())\n",
    "        train_accs.append((train_accuracy / len(train_dataloader.dataset)).cpu())\n",
    "        valid_losses.append((valid_loss / len(valid_dataloader.dataset)).cpu())\n",
    "        valid_accs.append((valid_accuracy / len(valid_dataloader.dataset)).cpu())\n",
    "    return net, train_losses, train_accs, valid_losses, valid_accs"
   ],
   "metadata": {
    "collapsed": false
   }
  },
  {
   "cell_type": "code",
   "execution_count": 51,
   "outputs": [
    {
     "name": "stdout",
     "output_type": "stream",
     "text": [
      "Training for 50 epochs on cuda\n",
      "Epoch 1/50\n",
      "Training loss: 2.55\n",
      "Training accuracy: 28.04\n",
      "Valid loss: 2.09\n",
      "Valid accuracy: 54.17\n",
      "Epoch 2/50\n",
      "Training loss: 1.37\n",
      "Training accuracy: 83.58\n",
      "Valid loss: 1.23\n",
      "Valid accuracy: 83.69\n",
      "Epoch 3/50\n",
      "Training loss: 0.74\n",
      "Training accuracy: 96.00\n",
      "Valid loss: 0.83\n",
      "Valid accuracy: 86.99\n",
      "Epoch 4/50\n",
      "Training loss: 0.43\n",
      "Training accuracy: 98.38\n",
      "Valid loss: 0.64\n",
      "Valid accuracy: 88.54\n",
      "Epoch 5/50\n",
      "Training loss: 0.27\n",
      "Training accuracy: 99.33\n",
      "Valid loss: 0.54\n",
      "Valid accuracy: 88.93\n",
      "Epoch 6/50\n",
      "Training loss: 0.18\n",
      "Training accuracy: 99.75\n",
      "Valid loss: 0.47\n",
      "Valid accuracy: 90.49\n",
      "Epoch 7/50\n",
      "Training loss: 0.13\n",
      "Training accuracy: 99.92\n",
      "Valid loss: 0.44\n",
      "Valid accuracy: 89.90\n",
      "Epoch 8/50\n",
      "Training loss: 0.09\n",
      "Training accuracy: 100.00\n",
      "Valid loss: 0.40\n",
      "Valid accuracy: 89.71\n",
      "Epoch 9/50\n",
      "Training loss: 0.07\n",
      "Training accuracy: 100.00\n",
      "Valid loss: 0.40\n",
      "Valid accuracy: 89.13\n",
      "Epoch 10/50\n",
      "Training loss: 0.06\n",
      "Training accuracy: 100.00\n",
      "Valid loss: 0.37\n",
      "Valid accuracy: 89.90\n",
      "Epoch 11/50\n",
      "Training loss: 0.05\n",
      "Training accuracy: 100.00\n",
      "Valid loss: 0.36\n",
      "Valid accuracy: 89.32\n",
      "Epoch 12/50\n",
      "Training loss: 0.04\n",
      "Training accuracy: 100.00\n",
      "Valid loss: 0.35\n",
      "Valid accuracy: 89.71\n",
      "Epoch 13/50\n",
      "Training loss: 0.03\n",
      "Training accuracy: 100.00\n",
      "Valid loss: 0.35\n",
      "Valid accuracy: 89.32\n",
      "Epoch 14/50\n",
      "Training loss: 0.03\n",
      "Training accuracy: 100.00\n",
      "Valid loss: 0.35\n",
      "Valid accuracy: 90.10\n",
      "Epoch 15/50\n",
      "Training loss: 0.02\n",
      "Training accuracy: 100.00\n",
      "Valid loss: 0.34\n",
      "Valid accuracy: 89.90\n",
      "Epoch 16/50\n",
      "Training loss: 0.02\n",
      "Training accuracy: 100.00\n",
      "Valid loss: 0.33\n",
      "Valid accuracy: 89.90\n",
      "Epoch 17/50\n",
      "Training loss: 0.02\n",
      "Training accuracy: 100.00\n",
      "Valid loss: 0.33\n",
      "Valid accuracy: 89.51\n",
      "Epoch 18/50\n",
      "Training loss: 0.02\n",
      "Training accuracy: 100.00\n",
      "Valid loss: 0.34\n",
      "Valid accuracy: 89.90\n",
      "Epoch 19/50\n",
      "Training loss: 0.02\n",
      "Training accuracy: 100.00\n",
      "Valid loss: 0.33\n",
      "Valid accuracy: 90.49\n",
      "Epoch 20/50\n",
      "Training loss: 0.02\n",
      "Training accuracy: 100.00\n",
      "Valid loss: 0.32\n",
      "Valid accuracy: 89.90\n",
      "Epoch 21/50\n",
      "Training loss: 0.01\n",
      "Training accuracy: 100.00\n",
      "Valid loss: 0.32\n",
      "Valid accuracy: 89.90\n",
      "Epoch 22/50\n",
      "Training loss: 0.01\n",
      "Training accuracy: 100.00\n",
      "Valid loss: 0.32\n",
      "Valid accuracy: 90.10\n",
      "Epoch 23/50\n",
      "Training loss: 0.01\n",
      "Training accuracy: 100.00\n",
      "Valid loss: 0.32\n",
      "Valid accuracy: 89.32\n",
      "Epoch 24/50\n",
      "Training loss: 0.01\n",
      "Training accuracy: 100.00\n",
      "Valid loss: 0.32\n",
      "Valid accuracy: 89.71\n",
      "Epoch 25/50\n",
      "Training loss: 0.01\n",
      "Training accuracy: 100.00\n",
      "Valid loss: 0.32\n",
      "Valid accuracy: 89.90\n",
      "Epoch 26/50\n",
      "Training loss: 0.01\n",
      "Training accuracy: 100.00\n",
      "Valid loss: 0.31\n",
      "Valid accuracy: 90.10\n",
      "Epoch 27/50\n",
      "Training loss: 0.01\n",
      "Training accuracy: 100.00\n",
      "Valid loss: 0.32\n",
      "Valid accuracy: 89.90\n",
      "Epoch 28/50\n",
      "Training loss: 0.01\n",
      "Training accuracy: 100.00\n",
      "Valid loss: 0.32\n",
      "Valid accuracy: 90.29\n",
      "Epoch 29/50\n",
      "Training loss: 0.01\n",
      "Training accuracy: 100.00\n",
      "Valid loss: 0.32\n",
      "Valid accuracy: 89.71\n",
      "Epoch 30/50\n",
      "Training loss: 0.01\n",
      "Training accuracy: 100.00\n",
      "Valid loss: 0.32\n",
      "Valid accuracy: 90.29\n",
      "Epoch 31/50\n",
      "Training loss: 0.01\n",
      "Training accuracy: 100.00\n",
      "Valid loss: 0.31\n",
      "Valid accuracy: 89.90\n",
      "Epoch 32/50\n",
      "Training loss: 0.01\n",
      "Training accuracy: 100.00\n",
      "Valid loss: 0.32\n",
      "Valid accuracy: 89.32\n",
      "Epoch 33/50\n",
      "Training loss: 0.01\n",
      "Training accuracy: 100.00\n",
      "Valid loss: 0.32\n",
      "Valid accuracy: 90.29\n",
      "Epoch 34/50\n",
      "Training loss: 0.01\n",
      "Training accuracy: 100.00\n",
      "Valid loss: 0.31\n",
      "Valid accuracy: 90.10\n",
      "Epoch 35/50\n",
      "Training loss: 0.01\n",
      "Training accuracy: 100.00\n",
      "Valid loss: 0.31\n",
      "Valid accuracy: 90.10\n",
      "Epoch 36/50\n",
      "Training loss: 0.01\n",
      "Training accuracy: 100.00\n",
      "Valid loss: 0.32\n",
      "Valid accuracy: 89.51\n",
      "Epoch 37/50\n",
      "Training loss: 0.00\n",
      "Training accuracy: 100.00\n",
      "Valid loss: 0.31\n",
      "Valid accuracy: 89.90\n",
      "Epoch 38/50\n",
      "Training loss: 0.00\n",
      "Training accuracy: 100.00\n",
      "Valid loss: 0.31\n",
      "Valid accuracy: 90.29\n",
      "Epoch 39/50\n",
      "Training loss: 0.00\n",
      "Training accuracy: 100.00\n",
      "Valid loss: 0.31\n",
      "Valid accuracy: 90.29\n",
      "Epoch 40/50\n",
      "Training loss: 0.00\n",
      "Training accuracy: 100.00\n",
      "Valid loss: 0.31\n",
      "Valid accuracy: 90.10\n",
      "Epoch 41/50\n",
      "Training loss: 0.00\n",
      "Training accuracy: 100.00\n",
      "Valid loss: 0.31\n",
      "Valid accuracy: 90.10\n",
      "Epoch 42/50\n",
      "Training loss: 0.00\n",
      "Training accuracy: 100.00\n",
      "Valid loss: 0.31\n",
      "Valid accuracy: 90.10\n",
      "Epoch 43/50\n",
      "Training loss: 0.00\n",
      "Training accuracy: 100.00\n",
      "Valid loss: 0.31\n",
      "Valid accuracy: 89.90\n",
      "Epoch 44/50\n",
      "Training loss: 0.00\n",
      "Training accuracy: 100.00\n",
      "Valid loss: 0.32\n",
      "Valid accuracy: 90.10\n",
      "Epoch 45/50\n",
      "Training loss: 0.00\n",
      "Training accuracy: 100.00\n",
      "Valid loss: 0.32\n",
      "Valid accuracy: 90.29\n",
      "Epoch 46/50\n",
      "Training loss: 0.00\n",
      "Training accuracy: 100.00\n",
      "Valid loss: 0.31\n",
      "Valid accuracy: 90.10\n",
      "Epoch 47/50\n",
      "Training loss: 0.00\n",
      "Training accuracy: 100.00\n",
      "Valid loss: 0.31\n",
      "Valid accuracy: 90.49\n",
      "Epoch 48/50\n",
      "Training loss: 0.00\n",
      "Training accuracy: 100.00\n",
      "Valid loss: 0.31\n",
      "Valid accuracy: 90.10\n",
      "Epoch 49/50\n",
      "Training loss: 0.00\n",
      "Training accuracy: 100.00\n",
      "Valid loss: 0.31\n",
      "Valid accuracy: 90.49\n",
      "Epoch 50/50\n",
      "Training loss: 0.00\n",
      "Training accuracy: 100.00\n",
      "Valid loss: 0.32\n",
      "Valid accuracy: 89.90\n"
     ]
    }
   ],
   "source": [
    "device = 'cuda' if torch.cuda.is_available() else 'cpu'\n",
    "\n",
    "model = get_net(20).to(device)\n",
    "\n",
    "criterion = torch.nn.CrossEntropyLoss()\n",
    "\n",
    "optimizer = torch.optim.Adam(model.parameters(), lr=1e-5, weight_decay=5e-4)\n",
    "\n",
    "epochs = 50\n",
    "\n",
    "net, train_losses, train_accs, valid_losses, valid_accs = train(model, train_loader, test_loader, criterion, optimizer, epochs, device)"
   ],
   "metadata": {
    "collapsed": false
   }
  },
  {
   "cell_type": "code",
   "execution_count": 52,
   "outputs": [
    {
     "name": "stdout",
     "output_type": "stream",
     "text": [
      "Top train accuracy:  1.0000\n",
      "Top valid accuracy:  0.9049\n"
     ]
    }
   ],
   "source": [
    "print(f'Top train accuracy:  {float(max(train_accs)):.4f}')\n",
    "print(f'Top valid accuracy:  {float(max(valid_accs)):.4f}')"
   ],
   "metadata": {
    "collapsed": false
   }
  },
  {
   "cell_type": "code",
   "execution_count": 55,
   "outputs": [
    {
     "data": {
      "text/plain": "<Figure size 640x480 with 4 Axes>",
      "image/png": "[encoded data removed]"
     },
     "metadata": {},
     "output_type": "display_data"
    }
   ],
   "source": [
    "fig, axs = plt.subplots(2, 2)\n",
    "axs[0, 0].plot(train_losses)\n",
    "axs[0, 0].set_title('Train loss')\n",
    "axs[0, 1].plot(train_accs)\n",
    "axs[0, 1].set_title('Train accuracy')\n",
    "axs[1, 0].plot(valid_losses)\n",
    "axs[1, 0].set_title('Validation loss')\n",
    "axs[1, 1].plot(valid_accs)\n",
    "axs[1, 1].set_title('Validation accuracy')\n",
    "plt.tight_layout()"
   ],
   "metadata": {
    "collapsed": false
   }
  }
 ],
 "metadata": {
  "accelerator": "GPU",
  "colab": {
   "name": "",
   "version": ""
  },
  "gpuClass": "standard",
  "kernelspec": {
   "display_name": "Python 3",
   "language": "python",
   "name": "python3"
  },
  "language_info": {
   "codemirror_mode": {
    "name": "ipython",
    "version": 2
   },
   "file_extension": ".py",
   "mimetype": "text/x-python",
   "name": "python",
   "nbconvert_exporter": "python",
   "pygments_lexer": "ipython2",
   "version": "2.7.6"
  }
 },
 "nbformat": 4,
 "nbformat_minor": 0
}
