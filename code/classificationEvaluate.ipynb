{
 "cells": [
  {
   "cell_type": "code",
   "execution_count": null,
   "metadata": {
    "collapsed": true
   },
   "outputs": [],
   "source": [
    "import torch\n",
    "from torchvision import transforms, datasets\n",
    "import matplotlib.pyplot as plt\n",
    "\n",
    "from models.classificationModel import ClassificationModel"
   ]
  },
  {
   "cell_type": "code",
   "execution_count": null,
   "outputs": [],
   "source": [
    "model = ClassificationModel(out_dim=20, dataset='')\n",
    "\n",
    "model.load_state_dict(torch.load('saved_models/test.pth'))"
   ],
   "metadata": {
    "collapsed": false
   }
  },
  {
   "cell_type": "code",
   "execution_count": null,
   "outputs": [],
   "source": [
    "batch_size: int = 1024"
   ],
   "metadata": {
    "collapsed": false
   }
  },
  {
   "cell_type": "code",
   "execution_count": null,
   "outputs": [],
   "source": [
    "#declare test_dataset and test_loader"
   ],
   "metadata": {
    "collapsed": false
   }
  },
  {
   "cell_type": "code",
   "execution_count": null,
   "outputs": [],
   "source": [
    "correct, numel = 0, 0\n",
    "loss_fn = torch.nn.CrossEntropyLoss()\n",
    "logs: dict = {\n",
    "    \"test_loss\": [],\n",
    "    \"test_accuracy\": []\n",
    "}\n",
    "\n",
    "for _ in range(10):\n",
    "    with torch.no_grad():\n",
    "        for x_test, y_test in test_loader:\n",
    "            output = model(x_test)\n",
    "            y_pred = torch.argmax(output, dim=1)\n",
    "            correct += torch.sum(y_pred == y_test).item()\n",
    "            numel += batch_size\n",
    "            loss = loss_fn(output, y_test)\n",
    "            logs['test_loss'].append(loss.item())\n",
    "            logs['test_accuracy'].append(correct / numel)"
   ],
   "metadata": {
    "collapsed": false
   }
  },
  {
   "cell_type": "code",
   "execution_count": null,
   "outputs": [],
   "source": [
    "\n",
    "\n",
    "def show_results(orientation='horizontal', accuracy_bottom=None, loss_top=None, **histories):\n",
    "    if orientation == 'horizontal':\n",
    "        f, ax = plt.subplots(1, 2, figsize=(16, 5))\n",
    "    else:\n",
    "        f, ax = plt.subplots(2, 1, figsize=(16, 16))\n",
    "    for i, (name, h) in enumerate(histories.items()):\n",
    "        if len(histories) == 1:\n",
    "            ax[0].set_title(\"Best test accuracy: {:.2f}%\".format(\n",
    "                max(h['test_accuracy']) * 100,\n",
    "            ))\n",
    "        else:\n",
    "            ax[0].set_title(\"Accuracy\")\n",
    "        ax[0].plot(h['test_accuracy'], color='C%s' % i, label='%s test' % name)\n",
    "        ax[0].set_xlabel('epochs')\n",
    "        ax[0].set_ylabel('accuracy')\n",
    "        if accuracy_bottom:\n",
    "            ax[0].set_ylim(bottom=accuracy_bottom)\n",
    "        ax[0].legend()\n",
    "\n",
    "show_results(model=logs)"
   ],
   "metadata": {
    "collapsed": false
   }
  }
 ],
 "metadata": {
  "kernelspec": {
   "display_name": "Python 3",
   "language": "python",
   "name": "python3"
  },
  "language_info": {
   "codemirror_mode": {
    "name": "ipython",
    "version": 2
   },
   "file_extension": ".py",
   "mimetype": "text/x-python",
   "name": "python",
   "nbconvert_exporter": "python",
   "pygments_lexer": "ipython2",
   "version": "2.7.6"
  }
 },
 "nbformat": 4,
 "nbformat_minor": 0
}
