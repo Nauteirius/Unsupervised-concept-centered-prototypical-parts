{
 "cells": [
  {
   "cell_type": "code",
   "execution_count": 26,
   "metadata": {
    "colab": {
     "base_uri": "https://localhost:8080/"
    },
    "executionInfo": {
     "elapsed": 3515,
     "status": "ok",
     "timestamp": 1681458003377,
     "user": {
      "displayName": "Nau Tei",
      "userId": "05419850125273823117"
     },
     "user_tz": -120
    },
    "id": "fqoaUnOULYnC",
    "outputId": "9fadb586-c0f6-46a1-c1cd-87a508355511"
   },
   "outputs": [
    {
     "name": "stdout",
     "output_type": "stream",
     "text": [
      "Drive already mounted at /content/drive; to attempt to forcibly remount, call drive.mount(\"/content/drive\", force_remount=True).\n",
      "/content/drive/MyDrive/Unsupervised-concept-centered-prototypical-parts/code\n"
     ]
    }
   ],
   "source": [
    "#imports and preprocessing, setting up train_loader\n",
    "from google.colab import drive\n",
    "drive.mount('/content/drive')\n",
    "%cd /content/drive/MyDrive/Unsupervised-concept-centered-prototypical-parts/code"
   ]
  },
  {
   "cell_type": "code",
   "execution_count": 27,
   "metadata": {
    "collapsed": true,
    "executionInfo": {
     "elapsed": 15,
     "status": "ok",
     "timestamp": 1681458003378,
     "user": {
      "displayName": "Nau Tei",
      "userId": "05419850125273823117"
     },
     "user_tz": -120
    },
    "id": "wVPuQpWJLIZE"
   },
   "outputs": [],
   "source": [
    "import torch\n",
    "import torch.backends.cudnn as cudnn\n",
    "from torchvision import transforms, datasets\n",
    "import matplotlib.pyplot as plt\n",
    "\n",
    "from dataset import utils\n",
    "from dataset.cub2011 import Cub2011\n",
    "from dataset.CombinedDataLoader import CDL\n",
    "\n",
    "from models.classificationModel import ClassificationModel"
   ]
  },
  {
   "cell_type": "code",
   "execution_count": 28,
   "metadata": {
    "colab": {
     "base_uri": "https://localhost:8080/"
    },
    "executionInfo": {
     "elapsed": 13,
     "status": "ok",
     "timestamp": 1681458003380,
     "user": {
      "displayName": "Nau Tei",
      "userId": "05419850125273823117"
     },
     "user_tz": -120
    },
    "id": "OMz78M-oMqUh",
    "outputId": "3d5e2a15-a9eb-4084-b1e1-ccb7bc257508"
   },
   "outputs": [
    {
     "name": "stdout",
     "output_type": "stream",
     "text": [
      "cpu\n"
     ]
    }
   ],
   "source": [
    "if torch.cuda.is_available():\n",
    "    device = torch.device('cuda')\n",
    "    cudnn.deterministic = True\n",
    "    cudnn.benchmark = True\n",
    "    gpu_index = 0\n",
    "else:\n",
    "    device = torch.device('cpu')\n",
    "    gpu_index = -1\n",
    "\n",
    "  \n",
    "\n",
    "print(device)\n",
    "\n"
   ]
  },
  {
   "cell_type": "code",
   "execution_count": 29,
   "metadata": {
    "executionInfo": {
     "elapsed": 10,
     "status": "ok",
     "timestamp": 1681458003381,
     "user": {
      "displayName": "Nau Tei",
      "userId": "05419850125273823117"
     },
     "user_tz": -120
    },
    "id": "6soIgJJHMt3v"
   },
   "outputs": [],
   "source": [
    "\n",
    "\n",
    "root = './dataset/data'\n",
    "\n"
   ]
  },
  {
   "cell_type": "code",
   "execution_count": 29,
   "metadata": {
    "executionInfo": {
     "elapsed": 10,
     "status": "ok",
     "timestamp": 1681458003382,
     "user": {
      "displayName": "Nau Tei",
      "userId": "05419850125273823117"
     },
     "user_tz": -120
    },
    "id": "bVW7Y9mjMuPh"
   },
   "outputs": [],
   "source": []
  },
  {
   "cell_type": "code",
   "execution_count": 30,
   "metadata": {
    "colab": {
     "base_uri": "https://localhost:8080/"
    },
    "executionInfo": {
     "elapsed": 851,
     "status": "ok",
     "timestamp": 1681458004224,
     "user": {
      "displayName": "Nau Tei",
      "userId": "05419850125273823117"
     },
     "user_tz": -120
    },
    "id": "Pk7xqJDqLIZJ",
    "outputId": "810f6ad1-93e1-44fd-9f79-fd0d3014b35f"
   },
   "outputs": [
    {
     "name": "stderr",
     "output_type": "stream",
     "text": [
      "/usr/local/lib/python3.9/dist-packages/torchvision/models/_utils.py:208: UserWarning: The parameter 'pretrained' is deprecated since 0.13 and may be removed in the future, please use 'weights' instead.\n",
      "  warnings.warn(\n",
      "/usr/local/lib/python3.9/dist-packages/torchvision/models/_utils.py:223: UserWarning: Arguments other than a weight enum or `None` for 'weights' are deprecated since 0.13 and may be removed in the future. The current behavior is equivalent to passing `weights=ResNet34_Weights.IMAGENET1K_V1`. You can also use `weights=ResNet34_Weights.DEFAULT` to get the most up-to-date weights.\n",
      "  warnings.warn(msg)\n"
     ]
    }
   ],
   "source": [
    "model = ClassificationModel(out_dim=1000, dataset='./dataset/data/CUB_200_2011')\n",
    "\n"
   ]
  },
  {
   "cell_type": "code",
   "execution_count": 31,
   "metadata": {
    "executionInfo": {
     "elapsed": 10,
     "status": "ok",
     "timestamp": 1681458004226,
     "user": {
      "displayName": "Nau Tei",
      "userId": "05419850125273823117"
     },
     "user_tz": -120
    },
    "id": "W9Ycsw2TLoPd"
   },
   "outputs": [],
   "source": [
    "model.backbone.fc = torch.nn.Sequential(#wariant 1\n",
    "    torch.nn.Linear(in_features=512, out_features=128, bias=True),\n",
    "    torch.nn.Linear(in_features=128, out_features=20, bias=True),\n",
    ")"
   ]
  },
  {
   "cell_type": "code",
   "execution_count": 32,
   "metadata": {
    "colab": {
     "base_uri": "https://localhost:8080/"
    },
    "executionInfo": {
     "elapsed": 1288,
     "status": "ok",
     "timestamp": 1681458005507,
     "user": {
      "displayName": "Nau Tei",
      "userId": "05419850125273823117"
     },
     "user_tz": -120
    },
    "id": "SZumdUwWLgY5",
    "outputId": "a13a2445-42ce-4401-9f3d-07a142480a96"
   },
   "outputs": [
    {
     "data": {
      "text/plain": [
       "<All keys matched successfully>"
      ]
     },
     "execution_count": 32,
     "metadata": {},
     "output_type": "execute_result"
    }
   ],
   "source": [
    "\n",
    "model.load_state_dict(torch.load('saved_models/test3.pth'))"
   ]
  },
  {
   "cell_type": "code",
   "execution_count": 33,
   "metadata": {
    "executionInfo": {
     "elapsed": 23,
     "status": "ok",
     "timestamp": 1681458005509,
     "user": {
      "displayName": "Nau Tei",
      "userId": "05419850125273823117"
     },
     "user_tz": -120
    },
    "id": "NEZ98iGfLIZN"
   },
   "outputs": [],
   "source": [
    "batch_size: int = 32"
   ]
  },
  {
   "cell_type": "code",
   "execution_count": 34,
   "metadata": {
    "executionInfo": {
     "elapsed": 24,
     "status": "ok",
     "timestamp": 1681458005513,
     "user": {
      "displayName": "Nau Tei",
      "userId": "05419850125273823117"
     },
     "user_tz": -120
    },
    "id": "Wq0XgCunMxaT"
   },
   "outputs": [],
   "source": [
    "\n",
    "\n",
    "transformy = transforms.Compose([\n",
    "    transforms.Resize((224, 224)), # Resize the image to 224x224\n",
    "    transforms.ToTensor() # Convert the image to a tensor\n",
    "])\n",
    "\n"
   ]
  },
  {
   "cell_type": "code",
   "execution_count": 35,
   "metadata": {
    "executionInfo": {
     "elapsed": 24,
     "status": "ok",
     "timestamp": 1681458005515,
     "user": {
      "displayName": "Nau Tei",
      "userId": "05419850125273823117"
     },
     "user_tz": -120
    },
    "id": "uB_ctMS_LIZO"
   },
   "outputs": [],
   "source": [
    "#declare test_dataset and test_loader\n",
    "test_loader1 = CDL(root, train=False, transform=transformy, num_classes=3, images=['cropped', \"grayscale\", \"gaussianBlur\", \"colorJitter\"])"
   ]
  },
  {
   "cell_type": "code",
   "execution_count": 36,
   "metadata": {
    "executionInfo": {
     "elapsed": 26,
     "status": "ok",
     "timestamp": 1681458005518,
     "user": {
      "displayName": "Nau Tei",
      "userId": "05419850125273823117"
     },
     "user_tz": -120
    },
    "id": "JGNmd-u9Mekw"
   },
   "outputs": [],
   "source": [
    "test_loader = torch.utils.data.DataLoader(test_loader1, batch_size=32, shuffle=False, pin_memory=True, drop_last=True)"
   ]
  },
  {
   "cell_type": "code",
   "execution_count": null,
   "metadata": {
    "colab": {
     "background_save": true
    },
    "id": "o8gRUFTMLIZQ"
   },
   "outputs": [],
   "source": [
    "correct, numel = 0, 0\n",
    "loss_fn = torch.nn.CrossEntropyLoss()\n",
    "logs: dict = {\n",
    "    \"test_loss\": [],\n",
    "    \"test_accuracy\": []\n",
    "}\n",
    "\n",
    "for _ in range(10):\n",
    "    with torch.no_grad():\n",
    "        for x_test, y_test in test_loader:\n",
    "            output = model(x_test)\n",
    "            y_pred = torch.argmax(output, dim=1)\n",
    "            correct += torch.sum(y_pred == y_test).item()\n",
    "            numel += batch_size\n",
    "            loss = loss_fn(output, y_test)\n",
    "            logs['test_loss'].append(loss.item())\n",
    "            logs['test_accuracy'].append(correct / numel)"
   ]
  },
  {
   "cell_type": "code",
   "execution_count": null,
   "metadata": {
    "colab": {
     "background_save": true
    },
    "id": "fe9Z7TtULIZS"
   },
   "outputs": [
    {
     "data": {
      "image/png": "[encoded data removed]",
      "text/plain": [
       "<Figure size 1600x500 with 2 Axes>"
      ]
     },
     "metadata": {},
     "output_type": "display_data"
    }
   ],
   "source": [
    "\n",
    "\n",
    "def show_results(orientation='horizontal', accuracy_bottom=None, loss_top=None, **histories):\n",
    "    if orientation == 'horizontal':\n",
    "        f, ax = plt.subplots(1, 2, figsize=(16, 5))\n",
    "    else:\n",
    "        f, ax = plt.subplots(2, 1, figsize=(16, 16))\n",
    "    for i, (name, h) in enumerate(histories.items()):\n",
    "        if len(histories) == 1:\n",
    "            ax[0].set_title(\"Best test accuracy: {:.2f}%\".format(\n",
    "                max(h['test_accuracy']) * 100,\n",
    "            ))\n",
    "        else:\n",
    "            ax[0].set_title(\"Accuracy\")\n",
    "        ax[0].plot(h['test_accuracy'], color='C%s' % i, label='%s test' % name)\n",
    "        ax[0].set_xlabel('epochs')\n",
    "        ax[0].set_ylabel('accuracy')\n",
    "        if accuracy_bottom:\n",
    "            ax[0].set_ylim(bottom=accuracy_bottom)\n",
    "        ax[0].legend()\n",
    "\n",
    "show_results(model=logs)"
   ]
  }
 ],
 "metadata": {
  "accelerator": "GPU",
  "colab": {
   "name": "",
   "version": ""
  },
  "gpuClass": "standard",
  "kernelspec": {
   "display_name": "Python 3",
   "language": "python",
   "name": "python3"
  },
  "language_info": {
   "codemirror_mode": {
    "name": "ipython",
    "version": 2
   },
   "file_extension": ".py",
   "mimetype": "text/x-python",
   "name": "python",
   "nbconvert_exporter": "python",
   "pygments_lexer": "ipython2",
   "version": "2.7.6"
  }
 },
 "nbformat": 4,
 "nbformat_minor": 0
}
