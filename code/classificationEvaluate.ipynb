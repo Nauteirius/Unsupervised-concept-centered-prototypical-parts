{
 "cells": [
  {
   "cell_type": "code",
   "source": [
    "#imports and preprocessing, setting up train_loader\n",
    "from google.colab import drive\n",
    "drive.mount('/content/drive')\n",
    "%cd /content/drive/MyDrive/Unsupervised-concept-centered-prototypical-parts/code"
   ],
   "metadata": {
    "colab": {
     "base_uri": "https://localhost:8080/"
    },
    "id": "fqoaUnOULYnC",
    "executionInfo": {
     "status": "ok",
     "timestamp": 1681399197487,
     "user_tz": -120,
     "elapsed": 3576,
     "user": {
      "displayName": "Nau Tei",
      "userId": "05419850125273823117"
     }
    },
    "outputId": "fe3b6537-f16c-4306-f63c-3128d53b3c7b"
   },
   "execution_count": 19,
   "outputs": [
    {
     "output_type": "stream",
     "name": "stdout",
     "text": [
      "Drive already mounted at /content/drive; to attempt to forcibly remount, call drive.mount(\"/content/drive\", force_remount=True).\n",
      "/content/drive/MyDrive/Unsupervised-concept-centered-prototypical-parts/code\n"
     ]
    }
   ]
  },
  {
   "cell_type": "code",
   "execution_count": 20,
   "metadata": {
    "collapsed": true,
    "id": "wVPuQpWJLIZE",
    "executionInfo": {
     "status": "ok",
     "timestamp": 1681399197488,
     "user_tz": -120,
     "elapsed": 15,
     "user": {
      "displayName": "Nau Tei",
      "userId": "05419850125273823117"
     }
    }
   },
   "outputs": [],
   "source": [
    "import torch\n",
    "import torch.backends.cudnn as cudnn\n",
    "from torchvision import transforms, datasets\n",
    "import matplotlib.pyplot as plt\n",
    "\n",
    "from dataset import utils\n",
    "from dataset.cub2011 import Cub2011\n",
    "from dataset.CombinedDataLoader import CDL\n",
    "\n",
    "from models.classificationModel import ClassificationModel"
   ]
  },
  {
   "cell_type": "code",
   "source": [
    "if torch.cuda.is_available():\n",
    "    device = torch.device('cuda')\n",
    "    cudnn.deterministic = True\n",
    "    cudnn.benchmark = True\n",
    "    gpu_index = 0\n",
    "else:\n",
    "    device = torch.device('cpu')\n",
    "    gpu_index = -1\n",
    "\n",
    "  \n",
    "\n",
    "print(device)\n",
    "\n"
   ],
   "metadata": {
    "colab": {
     "base_uri": "https://localhost:8080/"
    },
    "id": "OMz78M-oMqUh",
    "executionInfo": {
     "status": "ok",
     "timestamp": 1681399197488,
     "user_tz": -120,
     "elapsed": 13,
     "user": {
      "displayName": "Nau Tei",
      "userId": "05419850125273823117"
     }
    },
    "outputId": "158f2fd3-5424-4edf-f0d0-f094c7e2735b"
   },
   "execution_count": 21,
   "outputs": [
    {
     "output_type": "stream",
     "name": "stdout",
     "text": [
      "cuda\n"
     ]
    }
   ]
  },
  {
   "cell_type": "code",
   "source": [
    "\n",
    "\n",
    "root = './dataset/data'\n",
    "\n"
   ],
   "metadata": {
    "id": "6soIgJJHMt3v",
    "executionInfo": {
     "status": "ok",
     "timestamp": 1681399197489,
     "user_tz": -120,
     "elapsed": 11,
     "user": {
      "displayName": "Nau Tei",
      "userId": "05419850125273823117"
     }
    }
   },
   "execution_count": 22,
   "outputs": []
  },
  {
   "cell_type": "code",
   "source": [],
   "metadata": {
    "id": "bVW7Y9mjMuPh",
    "executionInfo": {
     "status": "ok",
     "timestamp": 1681399197491,
     "user_tz": -120,
     "elapsed": 12,
     "user": {
      "displayName": "Nau Tei",
      "userId": "05419850125273823117"
     }
    }
   },
   "execution_count": 22,
   "outputs": []
  },
  {
   "cell_type": "code",
   "execution_count": 23,
   "outputs": [],
   "source": [
    "model = ClassificationModel(out_dim=1000, dataset='./dataset/data/CUB_200_2011')\n",
    "\n"
   ],
   "metadata": {
    "id": "Pk7xqJDqLIZJ",
    "executionInfo": {
     "status": "ok",
     "timestamp": 1681399197939,
     "user_tz": -120,
     "elapsed": 459,
     "user": {
      "displayName": "Nau Tei",
      "userId": "05419850125273823117"
     }
    }
   }
  },
  {
   "cell_type": "code",
   "source": [
    "model.backbone.fc = torch.nn.Sequential(#wariant 1\n",
    "    torch.nn.Linear(in_features=512, out_features=128, bias=True),\n",
    "    torch.nn.Linear(in_features=128, out_features=20, bias=True),\n",
    ")"
   ],
   "metadata": {
    "id": "W9Ycsw2TLoPd",
    "executionInfo": {
     "status": "ok",
     "timestamp": 1681399197940,
     "user_tz": -120,
     "elapsed": 4,
     "user": {
      "displayName": "Nau Tei",
      "userId": "05419850125273823117"
     }
    }
   },
   "execution_count": 24,
   "outputs": []
  },
  {
   "cell_type": "code",
   "source": [
    "\n",
    "model.load_state_dict(torch.load('saved_models/test.pth'))"
   ],
   "metadata": {
    "colab": {
     "base_uri": "https://localhost:8080/"
    },
    "id": "SZumdUwWLgY5",
    "executionInfo": {
     "status": "ok",
     "timestamp": 1681399198244,
     "user_tz": -120,
     "elapsed": 307,
     "user": {
      "displayName": "Nau Tei",
      "userId": "05419850125273823117"
     }
    },
    "outputId": "030b2912-3149-4223-e81b-e18d20757d33"
   },
   "execution_count": 25,
   "outputs": [
    {
     "output_type": "execute_result",
     "data": {
      "text/plain": [
       "<All keys matched successfully>"
      ]
     },
     "metadata": {},
     "execution_count": 25
    }
   ]
  },
  {
   "cell_type": "code",
   "execution_count": 26,
   "outputs": [],
   "source": [
    "batch_size: int = 64"
   ],
   "metadata": {
    "id": "NEZ98iGfLIZN",
    "executionInfo": {
     "status": "ok",
     "timestamp": 1681399198245,
     "user_tz": -120,
     "elapsed": 6,
     "user": {
      "displayName": "Nau Tei",
      "userId": "05419850125273823117"
     }
    }
   }
  },
  {
   "cell_type": "code",
   "source": [
    "\n",
    "\n",
    "transformy = transforms.Compose([\n",
    "    transforms.Resize((224, 224)), # Resize the image to 224x224\n",
    "    transforms.ToTensor() # Convert the image to a tensor\n",
    "])\n",
    "\n"
   ],
   "metadata": {
    "id": "Wq0XgCunMxaT",
    "executionInfo": {
     "status": "ok",
     "timestamp": 1681399198245,
     "user_tz": -120,
     "elapsed": 5,
     "user": {
      "displayName": "Nau Tei",
      "userId": "05419850125273823117"
     }
    }
   },
   "execution_count": 27,
   "outputs": []
  },
  {
   "cell_type": "code",
   "execution_count": 28,
   "outputs": [],
   "source": [
    "#declare test_dataset and test_loader\n",
    "test_loader1 = CDL(root, train=False, transform=transformy, num_classes=3, images=['cropped', \"grayscale\", \"gaussianBlur\", \"colorJitter\"])"
   ],
   "metadata": {
    "id": "uB_ctMS_LIZO",
    "executionInfo": {
     "status": "ok",
     "timestamp": 1681399199618,
     "user_tz": -120,
     "elapsed": 1378,
     "user": {
      "displayName": "Nau Tei",
      "userId": "05419850125273823117"
     }
    }
   }
  },
  {
   "cell_type": "code",
   "source": [
    "test_loader = torch.utils.data.DataLoader(test_loader1, batch_size=32, shuffle=False, pin_memory=True, drop_last=True)"
   ],
   "metadata": {
    "id": "JGNmd-u9Mekw",
    "executionInfo": {
     "status": "ok",
     "timestamp": 1681399199621,
     "user_tz": -120,
     "elapsed": 10,
     "user": {
      "displayName": "Nau Tei",
      "userId": "05419850125273823117"
     }
    }
   },
   "execution_count": 29,
   "outputs": []
  },
  {
   "cell_type": "code",
   "execution_count": 30,
   "outputs": [],
   "source": [
    "correct, numel = 0, 0\n",
    "loss_fn = torch.nn.CrossEntropyLoss()\n",
    "logs: dict = {\n",
    "    \"test_loss\": [],\n",
    "    \"test_accuracy\": []\n",
    "}\n",
    "\n",
    "for _ in range(10):\n",
    "    with torch.no_grad():\n",
    "        for x_test, y_test in test_loader:\n",
    "            output = model(x_test)\n",
    "            y_pred = torch.argmax(output, dim=1)\n",
    "            correct += torch.sum(y_pred == y_test).item()\n",
    "            numel += batch_size\n",
    "            loss = loss_fn(output, y_test)\n",
    "            logs['test_loss'].append(loss.item())\n",
    "            logs['test_accuracy'].append(correct / numel)"
   ],
   "metadata": {
    "id": "o8gRUFTMLIZQ",
    "executionInfo": {
     "status": "ok",
     "timestamp": 1681400804457,
     "user_tz": -120,
     "elapsed": 1604845,
     "user": {
      "displayName": "Nau Tei",
      "userId": "05419850125273823117"
     }
    }
   }
  },
  {
   "cell_type": "code",
   "execution_count": 31,
   "outputs": [
    {
     "output_type": "display_data",
     "data": {
      "text/plain": [
       "<Figure size 1600x500 with 2 Axes>"
      ],
      "image/png": "[encoded data removed]"
     },
     "metadata": {}
    }
   ],
   "source": [
    "\n",
    "\n",
    "def show_results(orientation='horizontal', accuracy_bottom=None, loss_top=None, **histories):\n",
    "    if orientation == 'horizontal':\n",
    "        f, ax = plt.subplots(1, 2, figsize=(16, 5))\n",
    "    else:\n",
    "        f, ax = plt.subplots(2, 1, figsize=(16, 16))\n",
    "    for i, (name, h) in enumerate(histories.items()):\n",
    "        if len(histories) == 1:\n",
    "            ax[0].set_title(\"Best test accuracy: {:.2f}%\".format(\n",
    "                max(h['test_accuracy']) * 100,\n",
    "            ))\n",
    "        else:\n",
    "            ax[0].set_title(\"Accuracy\")\n",
    "        ax[0].plot(h['test_accuracy'], color='C%s' % i, label='%s test' % name)\n",
    "        ax[0].set_xlabel('epochs')\n",
    "        ax[0].set_ylabel('accuracy')\n",
    "        if accuracy_bottom:\n",
    "            ax[0].set_ylim(bottom=accuracy_bottom)\n",
    "        ax[0].legend()\n",
    "\n",
    "show_results(model=logs)"
   ],
   "metadata": {
    "colab": {
     "base_uri": "https://localhost:8080/",
     "height": 487
    },
    "id": "fe9Z7TtULIZS",
    "executionInfo": {
     "status": "ok",
     "timestamp": 1681400805189,
     "user_tz": -120,
     "elapsed": 744,
     "user": {
      "displayName": "Nau Tei",
      "userId": "05419850125273823117"
     }
    },
    "outputId": "46f7c05a-8b45-49ac-bbb5-4cdc9c8cba3d"
   }
  }
 ],
 "metadata": {
  "kernelspec": {
   "display_name": "Python 3",
   "language": "python",
   "name": "python3"
  },
  "language_info": {
   "codemirror_mode": {
    "name": "ipython",
    "version": 2
   },
   "file_extension": ".py",
   "mimetype": "text/x-python",
   "name": "python",
   "nbconvert_exporter": "python",
   "pygments_lexer": "ipython2",
   "version": "2.7.6"
  },
  "colab": {
   "provenance": []
  },
  "accelerator": "GPU",
  "gpuClass": "standard"
 },
 "nbformat": 4,
 "nbformat_minor": 0
}
