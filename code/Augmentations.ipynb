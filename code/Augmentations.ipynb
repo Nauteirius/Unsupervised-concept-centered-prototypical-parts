{
 "cells": [
  {
   "cell_type": "code",
   "execution_count": 7,
   "metadata": {
    "collapsed": true
   },
   "outputs": [],
   "source": [
    "import Augmentor\n",
    "import os\n",
    "import random\n",
    "import uuid\n",
    "from Augmentor.Pipeline import Image"
   ]
  },
  {
   "cell_type": "code",
   "execution_count": 8,
   "outputs": [],
   "source": [
    "#nadpisuję jedną metodę, bo chcę zachowac nazwy obrazków, zmiany tam, gdzie podpisane \"zmiana\"\n",
    "class CustomPipeline(Augmentor.Pipeline):\n",
    "        def _execute(self, augmentor_image, save_to_disk=True, multi_threaded=True):\n",
    "            images = []\n",
    "\n",
    "            if augmentor_image.image_path is not None:\n",
    "                images.append(Image.open(augmentor_image.image_path))\n",
    "\n",
    "            # What if they are array data?\n",
    "            if augmentor_image.pil_images is not None:\n",
    "                images.append(augmentor_image.pil_images)\n",
    "\n",
    "            if augmentor_image.ground_truth is not None:\n",
    "                if isinstance(augmentor_image.ground_truth, list):\n",
    "                    for image in augmentor_image.ground_truth:\n",
    "                        images.append(Image.open(image))\n",
    "                else:\n",
    "                    images.append(Image.open(augmentor_image.ground_truth))\n",
    "\n",
    "            for operation in self.operations:\n",
    "                r = round(random.uniform(0, 1), 1)\n",
    "                if r <= operation.probability:\n",
    "                    images = operation.perform_operation(images)\n",
    "\n",
    "            # TEMP FOR TESTING\n",
    "            # save_to_disk = False\n",
    "\n",
    "            if save_to_disk:\n",
    "                file_name = str(uuid.uuid4())\n",
    "                try:\n",
    "                    for i in range(len(images)):\n",
    "                        if i == 0:\n",
    "                            save_name = os.path.basename(augmentor_image.image_path) #zmiana\n",
    "\n",
    "                            images[i].save(os.path.join(augmentor_image.output_directory, save_name))\n",
    "\n",
    "                        else:\n",
    "                            save_name = os.path.basename(augmentor_image.image_path) #zmiana\n",
    "\n",
    "                            images[i].save(os.path.join(augmentor_image.output_directory, save_name))\n",
    "\n",
    "                except IOError as e:\n",
    "                    print(\"Error writing %s, %s. Change save_format to PNG?\" % (file_name, e.message))\n",
    "                    print(\"You can change the save format using the set_save_format(save_format) function.\")\n",
    "                    print(\"By passing save_format=\\\"auto\\\", Augmentor can save in the correct format automatically.\")\n",
    "\n",
    "            # TODO: Fix this really strange behaviour.\n",
    "            # As a workaround, we can pass the same back and basically\n",
    "            # ignore the multi_threaded parameter completely for now.\n",
    "            # if multi_threaded:\n",
    "            #   return os.path.basename(augmentor_image.image_path)\n",
    "            # else:\n",
    "            #   return images[0]  # Here we return only the first image for the generators.\n",
    "\n",
    "            # return images[0]  # old method.\n",
    "            return images[0]"
   ],
   "metadata": {
    "collapsed": false
   }
  },
  {
   "cell_type": "code",
   "execution_count": 9,
   "outputs": [
    {
     "name": "stdout",
     "output_type": "stream",
     "text": [
      "Initialised with 60 image(s) found.\n",
      "Output directory set to ./dataset/data/CUB_200_2011/cropped/001.Black_footed_Albatross\\../../rotated/001.Black_footed_Albatross."
     ]
    },
    {
     "name": "stderr",
     "output_type": "stream",
     "text": [
      "Processing <PIL.Image.Image image mode=RGB size=210x130 at 0x1DE13810AF0>: 100%|██████████| 60/60 [00:00<00:00, 636.75 Samples/s]\n"
     ]
    },
    {
     "name": "stdout",
     "output_type": "stream",
     "text": [
      "Initialised with 60 image(s) found.\n",
      "Output directory set to ./dataset/data/CUB_200_2011/cropped/001.Black_footed_Albatross\\../../skewed/001.Black_footed_Albatross."
     ]
    },
    {
     "name": "stderr",
     "output_type": "stream",
     "text": [
      "Processing <PIL.Image.Image image mode=RGB size=210x130 at 0x1DE137EBEB0>: 100%|██████████| 60/60 [00:00<00:00, 668.65 Samples/s]\n"
     ]
    },
    {
     "name": "stdout",
     "output_type": "stream",
     "text": [
      "Initialised with 60 image(s) found.\n",
      "Output directory set to ./dataset/data/CUB_200_2011/cropped/001.Black_footed_Albatross\\../../sheared/001.Black_footed_Albatross."
     ]
    },
    {
     "name": "stderr",
     "output_type": "stream",
     "text": [
      "Processing <PIL.Image.Image image mode=RGB size=210x130 at 0x1DE137F94F0>: 100%|██████████| 60/60 [00:00<00:00, 687.55 Samples/s]\n"
     ]
    },
    {
     "name": "stdout",
     "output_type": "stream",
     "text": [
      "Initialised with 60 image(s) found.\n",
      "Output directory set to ./dataset/data/CUB_200_2011/cropped/002.Laysan_Albatross\\../../rotated/002.Laysan_Albatross."
     ]
    },
    {
     "name": "stderr",
     "output_type": "stream",
     "text": [
      "Processing <PIL.Image.Image image mode=RGB size=118x123 at 0x1DE137F3850>: 100%|██████████| 60/60 [00:00<00:00, 588.99 Samples/s]\n"
     ]
    },
    {
     "name": "stdout",
     "output_type": "stream",
     "text": [
      "Initialised with 60 image(s) found.\n",
      "Output directory set to ./dataset/data/CUB_200_2011/cropped/002.Laysan_Albatross\\../../skewed/002.Laysan_Albatross."
     ]
    },
    {
     "name": "stderr",
     "output_type": "stream",
     "text": [
      "Processing <PIL.Image.Image image mode=RGB size=118x123 at 0x1DE1381DD90>: 100%|██████████| 60/60 [00:00<00:00, 622.15 Samples/s]\n"
     ]
    },
    {
     "name": "stdout",
     "output_type": "stream",
     "text": [
      "Initialised with 60 image(s) found.\n",
      "Output directory set to ./dataset/data/CUB_200_2011/cropped/002.Laysan_Albatross\\../../sheared/002.Laysan_Albatross."
     ]
    },
    {
     "name": "stderr",
     "output_type": "stream",
     "text": [
      "Processing <PIL.Image.Image image mode=RGB size=118x123 at 0x1DE137F23A0>: 100%|██████████| 60/60 [00:00<00:00, 583.70 Samples/s]\n"
     ]
    },
    {
     "name": "stdout",
     "output_type": "stream",
     "text": [
      "Initialised with 58 image(s) found.\n",
      "Output directory set to ./dataset/data/CUB_200_2011/cropped/003.Sooty_Albatross\\../../rotated/003.Sooty_Albatross."
     ]
    },
    {
     "name": "stderr",
     "output_type": "stream",
     "text": [
      "Processing <PIL.Image.Image image mode=RGB size=222x290 at 0x1DE13767DF0>: 100%|██████████| 58/58 [00:00<00:00, 618.36 Samples/s]\n"
     ]
    },
    {
     "name": "stdout",
     "output_type": "stream",
     "text": [
      "Initialised with 58 image(s) found.\n",
      "Output directory set to ./dataset/data/CUB_200_2011/cropped/003.Sooty_Albatross\\../../skewed/003.Sooty_Albatross."
     ]
    },
    {
     "name": "stderr",
     "output_type": "stream",
     "text": [
      "Processing <PIL.Image.Image image mode=RGB size=222x290 at 0x1DE1380BD60>: 100%|██████████| 58/58 [00:00<00:00, 636.00 Samples/s]\n"
     ]
    },
    {
     "name": "stdout",
     "output_type": "stream",
     "text": [
      "Initialised with 58 image(s) found.\n",
      "Output directory set to ./dataset/data/CUB_200_2011/cropped/003.Sooty_Albatross\\../../sheared/003.Sooty_Albatross."
     ]
    },
    {
     "name": "stderr",
     "output_type": "stream",
     "text": [
      "Processing <PIL.Image.Image image mode=RGB size=222x290 at 0x1DE1219C460>: 100%|██████████| 58/58 [00:00<00:00, 621.82 Samples/s]\n"
     ]
    },
    {
     "name": "stdout",
     "output_type": "stream",
     "text": [
      "Initialised with 60 image(s) found.\n",
      "Output directory set to ./dataset/data/CUB_200_2011/cropped/004.Groove_billed_Ani\\../../rotated/004.Groove_billed_Ani."
     ]
    },
    {
     "name": "stderr",
     "output_type": "stream",
     "text": [
      "Processing <PIL.Image.Image image mode=RGB size=161x329 at 0x1DE1219C760>: 100%|██████████| 60/60 [00:00<00:00, 689.71 Samples/s]\n"
     ]
    },
    {
     "name": "stdout",
     "output_type": "stream",
     "text": [
      "Initialised with 60 image(s) found.\n",
      "Output directory set to ./dataset/data/CUB_200_2011/cropped/004.Groove_billed_Ani\\../../skewed/004.Groove_billed_Ani."
     ]
    },
    {
     "name": "stderr",
     "output_type": "stream",
     "text": [
      "Processing <PIL.Image.Image image mode=RGB size=161x329 at 0x1DE13814F10>: 100%|██████████| 60/60 [00:00<00:00, 636.71 Samples/s]\n"
     ]
    },
    {
     "name": "stdout",
     "output_type": "stream",
     "text": [
      "Initialised with 60 image(s) found.\n",
      "Output directory set to ./dataset/data/CUB_200_2011/cropped/004.Groove_billed_Ani\\../../sheared/004.Groove_billed_Ani."
     ]
    },
    {
     "name": "stderr",
     "output_type": "stream",
     "text": [
      "Processing <PIL.Image.Image image mode=RGB size=161x329 at 0x1DE13813AC0>: 100%|██████████| 60/60 [00:00<00:00, 564.70 Samples/s]\n"
     ]
    },
    {
     "name": "stdout",
     "output_type": "stream",
     "text": [
      "Initialised with 44 image(s) found.\n",
      "Output directory set to ./dataset/data/CUB_200_2011/cropped/005.Crested_Auklet\\../../rotated/005.Crested_Auklet."
     ]
    },
    {
     "name": "stderr",
     "output_type": "stream",
     "text": [
      "Processing <PIL.Image.Image image mode=RGB size=105x143 at 0x1DE138135B0>: 100%|██████████| 44/44 [00:00<00:00, 609.15 Samples/s]\n"
     ]
    },
    {
     "name": "stdout",
     "output_type": "stream",
     "text": [
      "Initialised with 44 image(s) found.\n",
      "Output directory set to ./dataset/data/CUB_200_2011/cropped/005.Crested_Auklet\\../../skewed/005.Crested_Auklet."
     ]
    },
    {
     "name": "stderr",
     "output_type": "stream",
     "text": [
      "Processing <PIL.Image.Image image mode=RGB size=105x143 at 0x1DE137F9040>: 100%|██████████| 44/44 [00:00<00:00, 584.62 Samples/s]\n"
     ]
    },
    {
     "name": "stdout",
     "output_type": "stream",
     "text": [
      "Initialised with 44 image(s) found.\n",
      "Output directory set to ./dataset/data/CUB_200_2011/cropped/005.Crested_Auklet\\../../sheared/005.Crested_Auklet."
     ]
    },
    {
     "name": "stderr",
     "output_type": "stream",
     "text": [
      "Processing <PIL.Image.Image image mode=RGB size=105x143 at 0x1DE137F9640>: 100%|██████████| 44/44 [00:00<00:00, 670.15 Samples/s]\n"
     ]
    },
    {
     "name": "stdout",
     "output_type": "stream",
     "text": [
      "Initialised with 41 image(s) found.\n",
      "Output directory set to ./dataset/data/CUB_200_2011/cropped/006.Least_Auklet\\../../rotated/006.Least_Auklet."
     ]
    },
    {
     "name": "stderr",
     "output_type": "stream",
     "text": [
      "Processing <PIL.Image.Image image mode=RGB size=389x461 at 0x1DE1219EDF0>: 100%|██████████| 41/41 [00:00<00:00, 610.50 Samples/s]\n"
     ]
    },
    {
     "name": "stdout",
     "output_type": "stream",
     "text": [
      "Initialised with 41 image(s) found.\n",
      "Output directory set to ./dataset/data/CUB_200_2011/cropped/006.Least_Auklet\\../../skewed/006.Least_Auklet."
     ]
    },
    {
     "name": "stderr",
     "output_type": "stream",
     "text": [
      "Processing <PIL.Image.Image image mode=RGB size=389x461 at 0x1DE137673A0>: 100%|██████████| 41/41 [00:00<00:00, 604.30 Samples/s]\n"
     ]
    },
    {
     "name": "stdout",
     "output_type": "stream",
     "text": [
      "Initialised with 41 image(s) found.\n",
      "Output directory set to ./dataset/data/CUB_200_2011/cropped/006.Least_Auklet\\../../sheared/006.Least_Auklet."
     ]
    },
    {
     "name": "stderr",
     "output_type": "stream",
     "text": [
      "Processing <PIL.Image.Image image mode=RGB size=389x461 at 0x1DE1380DBB0>: 100%|██████████| 41/41 [00:00<00:00, 555.44 Samples/s]\n"
     ]
    },
    {
     "name": "stdout",
     "output_type": "stream",
     "text": [
      "Initialised with 53 image(s) found.\n",
      "Output directory set to ./dataset/data/CUB_200_2011/cropped/007.Parakeet_Auklet\\../../rotated/007.Parakeet_Auklet."
     ]
    },
    {
     "name": "stderr",
     "output_type": "stream",
     "text": [
      "Processing <PIL.Image.Image image mode=RGB size=229x240 at 0x1DE137CD160>: 100%|██████████| 53/53 [00:00<00:00, 604.25 Samples/s]\n"
     ]
    },
    {
     "name": "stdout",
     "output_type": "stream",
     "text": [
      "Initialised with 53 image(s) found.\n",
      "Output directory set to ./dataset/data/CUB_200_2011/cropped/007.Parakeet_Auklet\\../../skewed/007.Parakeet_Auklet."
     ]
    },
    {
     "name": "stderr",
     "output_type": "stream",
     "text": [
      "Processing <PIL.Image.Image image mode=RGB size=229x240 at 0x1DE137CD760>: 100%|██████████| 53/53 [00:00<00:00, 675.87 Samples/s]\n"
     ]
    },
    {
     "name": "stdout",
     "output_type": "stream",
     "text": [
      "Initialised with 53 image(s) found.\n",
      "Output directory set to ./dataset/data/CUB_200_2011/cropped/007.Parakeet_Auklet\\../../sheared/007.Parakeet_Auklet."
     ]
    },
    {
     "name": "stderr",
     "output_type": "stream",
     "text": [
      "Processing <PIL.Image.Image image mode=RGB size=229x240 at 0x1DE1381C490>: 100%|██████████| 53/53 [00:00<00:00, 704.55 Samples/s]"
     ]
    },
    {
     "name": "stdout",
     "output_type": "stream",
     "text": [
      "Initialised with 48 image(s) found.\n"
     ]
    },
    {
     "name": "stderr",
     "output_type": "stream",
     "text": [
      "\n"
     ]
    },
    {
     "name": "stdout",
     "output_type": "stream",
     "text": [
      "Output directory set to ./dataset/data/CUB_200_2011/cropped/008.Rhinoceros_Auklet\\../../rotated/008.Rhinoceros_Auklet."
     ]
    },
    {
     "name": "stderr",
     "output_type": "stream",
     "text": [
      "Processing <PIL.Image.Image image mode=RGB size=161x132 at 0x1DE1219E9D0>: 100%|██████████| 48/48 [00:00<00:00, 679.74 Samples/s]\n"
     ]
    },
    {
     "name": "stdout",
     "output_type": "stream",
     "text": [
      "Initialised with 48 image(s) found.\n",
      "Output directory set to ./dataset/data/CUB_200_2011/cropped/008.Rhinoceros_Auklet\\../../skewed/008.Rhinoceros_Auklet."
     ]
    },
    {
     "name": "stderr",
     "output_type": "stream",
     "text": [
      "Processing <PIL.Image.Image image mode=RGB size=161x132 at 0x1DE1380D670>: 100%|██████████| 48/48 [00:00<00:00, 629.04 Samples/s]\n"
     ]
    },
    {
     "name": "stdout",
     "output_type": "stream",
     "text": [
      "Initialised with 48 image(s) found.\n",
      "Output directory set to ./dataset/data/CUB_200_2011/cropped/008.Rhinoceros_Auklet\\../../sheared/008.Rhinoceros_Auklet."
     ]
    },
    {
     "name": "stderr",
     "output_type": "stream",
     "text": [
      "Processing <PIL.Image.Image image mode=RGB size=161x132 at 0x1DE137CD8B0>: 100%|██████████| 48/48 [00:00<00:00, 639.67 Samples/s]"
     ]
    },
    {
     "name": "stdout",
     "output_type": "stream",
     "text": [
      "Initialised with 59 image(s) found.\n"
     ]
    },
    {
     "name": "stderr",
     "output_type": "stream",
     "text": [
      "\n"
     ]
    },
    {
     "name": "stdout",
     "output_type": "stream",
     "text": [
      "Output directory set to ./dataset/data/CUB_200_2011/cropped/009.Brewer_Blackbird\\../../rotated/009.Brewer_Blackbird."
     ]
    },
    {
     "name": "stderr",
     "output_type": "stream",
     "text": [
      "Processing <PIL.Image.Image image mode=RGB size=257x251 at 0x1DE1219C310>: 100%|██████████| 59/59 [00:00<00:00, 566.25 Samples/s]\n"
     ]
    },
    {
     "name": "stdout",
     "output_type": "stream",
     "text": [
      "Initialised with 59 image(s) found.\n",
      "Output directory set to ./dataset/data/CUB_200_2011/cropped/009.Brewer_Blackbird\\../../skewed/009.Brewer_Blackbird."
     ]
    },
    {
     "name": "stderr",
     "output_type": "stream",
     "text": [
      "Processing <PIL.Image.Image image mode=RGB size=257x251 at 0x1DE13818730>: 100%|██████████| 59/59 [00:00<00:00, 621.88 Samples/s]\n"
     ]
    },
    {
     "name": "stdout",
     "output_type": "stream",
     "text": [
      "Initialised with 59 image(s) found.\n",
      "Output directory set to ./dataset/data/CUB_200_2011/cropped/009.Brewer_Blackbird\\../../sheared/009.Brewer_Blackbird."
     ]
    },
    {
     "name": "stderr",
     "output_type": "stream",
     "text": [
      "Processing <PIL.Image.Image image mode=RGB size=257x251 at 0x1DE137CDDC0>: 100%|██████████| 59/59 [00:00<00:00, 658.27 Samples/s]\n"
     ]
    },
    {
     "name": "stdout",
     "output_type": "stream",
     "text": [
      "Initialised with 60 image(s) found.\n",
      "Output directory set to ./dataset/data/CUB_200_2011/cropped/010.Red_winged_Blackbird\\../../rotated/010.Red_winged_Blackbird."
     ]
    },
    {
     "name": "stderr",
     "output_type": "stream",
     "text": [
      "Processing <PIL.Image.Image image mode=RGB size=457x260 at 0x1DE1219EDF0>: 100%|██████████| 60/60 [00:00<00:00, 664.24 Samples/s]\n"
     ]
    },
    {
     "name": "stdout",
     "output_type": "stream",
     "text": [
      "Initialised with 60 image(s) found.\n",
      "Output directory set to ./dataset/data/CUB_200_2011/cropped/010.Red_winged_Blackbird\\../../skewed/010.Red_winged_Blackbird."
     ]
    },
    {
     "name": "stderr",
     "output_type": "stream",
     "text": [
      "Processing <PIL.Image.Image image mode=RGB size=457x260 at 0x1DE13815280>: 100%|██████████| 60/60 [00:00<00:00, 657.17 Samples/s]\n"
     ]
    },
    {
     "name": "stdout",
     "output_type": "stream",
     "text": [
      "Initialised with 60 image(s) found.\n",
      "Output directory set to ./dataset/data/CUB_200_2011/cropped/010.Red_winged_Blackbird\\../../sheared/010.Red_winged_Blackbird."
     ]
    },
    {
     "name": "stderr",
     "output_type": "stream",
     "text": [
      "Processing <PIL.Image.Image image mode=RGB size=457x260 at 0x1DE137F9490>: 100%|██████████| 60/60 [00:00<00:00, 642.33 Samples/s]\n"
     ]
    },
    {
     "name": "stdout",
     "output_type": "stream",
     "text": [
      "Initialised with 60 image(s) found.\n",
      "Output directory set to ./dataset/data/CUB_200_2011/cropped/011.Rusty_Blackbird\\../../rotated/011.Rusty_Blackbird."
     ]
    },
    {
     "name": "stderr",
     "output_type": "stream",
     "text": [
      "Processing <PIL.Image.Image image mode=RGB size=270x238 at 0x1DE137F9040>: 100%|██████████| 60/60 [00:00<00:00, 528.92 Samples/s]\n"
     ]
    },
    {
     "name": "stdout",
     "output_type": "stream",
     "text": [
      "Initialised with 60 image(s) found.\n",
      "Output directory set to ./dataset/data/CUB_200_2011/cropped/011.Rusty_Blackbird\\../../skewed/011.Rusty_Blackbird."
     ]
    },
    {
     "name": "stderr",
     "output_type": "stream",
     "text": [
      "Processing <PIL.Image.Image image mode=RGB size=270x238 at 0x1DE13803E80>: 100%|██████████| 60/60 [00:00<00:00, 716.20 Samples/s]\n"
     ]
    },
    {
     "name": "stdout",
     "output_type": "stream",
     "text": [
      "Initialised with 60 image(s) found.\n",
      "Output directory set to ./dataset/data/CUB_200_2011/cropped/011.Rusty_Blackbird\\../../sheared/011.Rusty_Blackbird."
     ]
    },
    {
     "name": "stderr",
     "output_type": "stream",
     "text": [
      "Processing <PIL.Image.Image image mode=RGB size=270x238 at 0x1DE1380CD90>: 100%|██████████| 60/60 [00:00<00:00, 667.67 Samples/s]\n"
     ]
    },
    {
     "name": "stdout",
     "output_type": "stream",
     "text": [
      "Initialised with 56 image(s) found.\n",
      "Output directory set to ./dataset/data/CUB_200_2011/cropped/012.Yellow_headed_Blackbird\\../../rotated/012.Yellow_headed_Blackbird."
     ]
    },
    {
     "name": "stderr",
     "output_type": "stream",
     "text": [
      "Processing <PIL.Image.Image image mode=RGB size=164x174 at 0x1DE1219C460>: 100%|██████████| 56/56 [00:00<00:00, 674.99 Samples/s]\n"
     ]
    },
    {
     "name": "stdout",
     "output_type": "stream",
     "text": [
      "Initialised with 56 image(s) found.\n",
      "Output directory set to ./dataset/data/CUB_200_2011/cropped/012.Yellow_headed_Blackbird\\../../skewed/012.Yellow_headed_Blackbird."
     ]
    },
    {
     "name": "stderr",
     "output_type": "stream",
     "text": [
      "Processing <PIL.Image.Image image mode=RGB size=164x174 at 0x1DE13820490>: 100%|██████████| 56/56 [00:00<00:00, 596.52 Samples/s]\n"
     ]
    },
    {
     "name": "stdout",
     "output_type": "stream",
     "text": [
      "Initialised with 56 image(s) found.\n",
      "Output directory set to ./dataset/data/CUB_200_2011/cropped/012.Yellow_headed_Blackbird\\../../sheared/012.Yellow_headed_Blackbird."
     ]
    },
    {
     "name": "stderr",
     "output_type": "stream",
     "text": [
      "Processing <PIL.Image.Image image mode=RGB size=164x174 at 0x1DE1219C700>: 100%|██████████| 56/56 [00:00<00:00, 735.05 Samples/s]\n"
     ]
    },
    {
     "name": "stdout",
     "output_type": "stream",
     "text": [
      "Initialised with 60 image(s) found.\n",
      "Output directory set to ./dataset/data/CUB_200_2011/cropped/013.Bobolink\\../../rotated/013.Bobolink."
     ]
    },
    {
     "name": "stderr",
     "output_type": "stream",
     "text": [
      "Processing <PIL.Image.Image image mode=RGB size=197x210 at 0x1DE1381DD90>: 100%|██████████| 60/60 [00:00<00:00, 733.14 Samples/s]\n"
     ]
    },
    {
     "name": "stdout",
     "output_type": "stream",
     "text": [
      "Initialised with 60 image(s) found.\n",
      "Output directory set to ./dataset/data/CUB_200_2011/cropped/013.Bobolink\\../../skewed/013.Bobolink."
     ]
    },
    {
     "name": "stderr",
     "output_type": "stream",
     "text": [
      "Processing <PIL.Image.Image image mode=RGB size=197x210 at 0x1DE13807AF0>: 100%|██████████| 60/60 [00:00<00:00, 676.38 Samples/s]\n"
     ]
    },
    {
     "name": "stdout",
     "output_type": "stream",
     "text": [
      "Initialised with 60 image(s) found.\n",
      "Output directory set to ./dataset/data/CUB_200_2011/cropped/013.Bobolink\\../../sheared/013.Bobolink."
     ]
    },
    {
     "name": "stderr",
     "output_type": "stream",
     "text": [
      "Processing <PIL.Image.Image image mode=RGB size=197x210 at 0x1DE137CD040>: 100%|██████████| 60/60 [00:00<00:00, 716.24 Samples/s]\n"
     ]
    },
    {
     "name": "stdout",
     "output_type": "stream",
     "text": [
      "Initialised with 60 image(s) found.\n",
      "Output directory set to ./dataset/data/CUB_200_2011/cropped/014.Indigo_Bunting\\../../rotated/014.Indigo_Bunting."
     ]
    },
    {
     "name": "stderr",
     "output_type": "stream",
     "text": [
      "Processing <PIL.Image.Image image mode=RGB size=215x196 at 0x1DE137CDDC0>: 100%|██████████| 60/60 [00:00<00:00, 609.76 Samples/s]\n"
     ]
    },
    {
     "name": "stdout",
     "output_type": "stream",
     "text": [
      "Initialised with 60 image(s) found.\n",
      "Output directory set to ./dataset/data/CUB_200_2011/cropped/014.Indigo_Bunting\\../../skewed/014.Indigo_Bunting."
     ]
    },
    {
     "name": "stderr",
     "output_type": "stream",
     "text": [
      "Processing <PIL.Image.Image image mode=RGB size=215x196 at 0x1DE1219C760>: 100%|██████████| 60/60 [00:00<00:00, 663.88 Samples/s]\n"
     ]
    },
    {
     "name": "stdout",
     "output_type": "stream",
     "text": [
      "Initialised with 60 image(s) found.\n",
      "Output directory set to ./dataset/data/CUB_200_2011/cropped/014.Indigo_Bunting\\../../sheared/014.Indigo_Bunting."
     ]
    },
    {
     "name": "stderr",
     "output_type": "stream",
     "text": [
      "Processing <PIL.Image.Image image mode=RGB size=215x196 at 0x1DE13818B80>: 100%|██████████| 60/60 [00:00<00:00, 573.14 Samples/s]\n"
     ]
    },
    {
     "name": "stdout",
     "output_type": "stream",
     "text": [
      "Initialised with 58 image(s) found.\n",
      "Output directory set to ./dataset/data/CUB_200_2011/cropped/015.Lazuli_Bunting\\../../rotated/015.Lazuli_Bunting."
     ]
    },
    {
     "name": "stderr",
     "output_type": "stream",
     "text": [
      "Processing <PIL.Image.Image image mode=RGB size=224x281 at 0x1DE13806250>: 100%|██████████| 58/58 [00:00<00:00, 755.06 Samples/s]\n"
     ]
    },
    {
     "name": "stdout",
     "output_type": "stream",
     "text": [
      "Initialised with 58 image(s) found.\n",
      "Output directory set to ./dataset/data/CUB_200_2011/cropped/015.Lazuli_Bunting\\../../skewed/015.Lazuli_Bunting."
     ]
    },
    {
     "name": "stderr",
     "output_type": "stream",
     "text": [
      "Processing <PIL.Image.Image image mode=RGB size=224x281 at 0x1DE138202E0>: 100%|██████████| 58/58 [00:00<00:00, 691.34 Samples/s]\n"
     ]
    },
    {
     "name": "stdout",
     "output_type": "stream",
     "text": [
      "Initialised with 58 image(s) found.\n",
      "Output directory set to ./dataset/data/CUB_200_2011/cropped/015.Lazuli_Bunting\\../../sheared/015.Lazuli_Bunting."
     ]
    },
    {
     "name": "stderr",
     "output_type": "stream",
     "text": [
      "Processing <PIL.Image.Image image mode=RGB size=224x281 at 0x1DE1219C2B0>: 100%|██████████| 58/58 [00:00<00:00, 714.08 Samples/s]\n"
     ]
    },
    {
     "name": "stdout",
     "output_type": "stream",
     "text": [
      "Initialised with 58 image(s) found.\n",
      "Output directory set to ./dataset/data/CUB_200_2011/cropped/016.Painted_Bunting\\../../rotated/016.Painted_Bunting."
     ]
    },
    {
     "name": "stderr",
     "output_type": "stream",
     "text": [
      "Processing <PIL.Image.Image image mode=RGB size=339x208 at 0x1DE1380BE80>: 100%|██████████| 58/58 [00:00<00:00, 628.59 Samples/s]\n"
     ]
    },
    {
     "name": "stdout",
     "output_type": "stream",
     "text": [
      "Initialised with 58 image(s) found.\n",
      "Output directory set to ./dataset/data/CUB_200_2011/cropped/016.Painted_Bunting\\../../skewed/016.Painted_Bunting."
     ]
    },
    {
     "name": "stderr",
     "output_type": "stream",
     "text": [
      "Processing <PIL.Image.Image image mode=RGB size=339x208 at 0x1DE137CD1F0>: 100%|██████████| 58/58 [00:00<00:00, 717.57 Samples/s]\n"
     ]
    },
    {
     "name": "stdout",
     "output_type": "stream",
     "text": [
      "Initialised with 58 image(s) found.\n",
      "Output directory set to ./dataset/data/CUB_200_2011/cropped/016.Painted_Bunting\\../../sheared/016.Painted_Bunting."
     ]
    },
    {
     "name": "stderr",
     "output_type": "stream",
     "text": [
      "Processing <PIL.Image.Image image mode=RGB size=339x208 at 0x1DE137D1B80>: 100%|██████████| 58/58 [00:00<00:00, 713.69 Samples/s]\n"
     ]
    },
    {
     "name": "stdout",
     "output_type": "stream",
     "text": [
      "Initialised with 57 image(s) found.\n",
      "Output directory set to ./dataset/data/CUB_200_2011/cropped/017.Cardinal\\../../rotated/017.Cardinal."
     ]
    },
    {
     "name": "stderr",
     "output_type": "stream",
     "text": [
      "Processing <PIL.Image.Image image mode=RGB size=280x194 at 0x1DE1219CC40>: 100%|██████████| 57/57 [00:00<00:00, 634.25 Samples/s]\n"
     ]
    },
    {
     "name": "stdout",
     "output_type": "stream",
     "text": [
      "Initialised with 57 image(s) found.\n",
      "Output directory set to ./dataset/data/CUB_200_2011/cropped/017.Cardinal\\../../skewed/017.Cardinal."
     ]
    },
    {
     "name": "stderr",
     "output_type": "stream",
     "text": [
      "Processing <PIL.Image.Image image mode=RGB size=280x194 at 0x1DE13812F10>: 100%|██████████| 57/57 [00:00<00:00, 681.46 Samples/s]\n"
     ]
    },
    {
     "name": "stdout",
     "output_type": "stream",
     "text": [
      "Initialised with 57 image(s) found.\n",
      "Output directory set to ./dataset/data/CUB_200_2011/cropped/017.Cardinal\\../../sheared/017.Cardinal."
     ]
    },
    {
     "name": "stderr",
     "output_type": "stream",
     "text": [
      "Processing <PIL.Image.Image image mode=RGB size=280x194 at 0x1DE138074F0>: 100%|██████████| 57/57 [00:00<00:00, 577.62 Samples/s]\n"
     ]
    },
    {
     "name": "stdout",
     "output_type": "stream",
     "text": [
      "Initialised with 45 image(s) found.\n",
      "Output directory set to ./dataset/data/CUB_200_2011/cropped/018.Spotted_Catbird\\../../rotated/018.Spotted_Catbird."
     ]
    },
    {
     "name": "stderr",
     "output_type": "stream",
     "text": [
      "Processing <PIL.Image.Image image mode=RGB size=259x284 at 0x1DE13806D90>: 100%|██████████| 45/45 [00:00<00:00, 700.62 Samples/s]"
     ]
    },
    {
     "name": "stdout",
     "output_type": "stream",
     "text": [
      "Initialised with 45 image(s) found.\n"
     ]
    },
    {
     "name": "stderr",
     "output_type": "stream",
     "text": [
      "\n"
     ]
    },
    {
     "name": "stdout",
     "output_type": "stream",
     "text": [
      "Output directory set to ./dataset/data/CUB_200_2011/cropped/018.Spotted_Catbird\\../../skewed/018.Spotted_Catbird."
     ]
    },
    {
     "name": "stderr",
     "output_type": "stream",
     "text": [
      "Processing <PIL.Image.Image image mode=RGB size=259x284 at 0x1DE1219EA60>: 100%|██████████| 45/45 [00:00<00:00, 675.68 Samples/s]\n"
     ]
    },
    {
     "name": "stdout",
     "output_type": "stream",
     "text": [
      "Initialised with 45 image(s) found.\n",
      "Output directory set to ./dataset/data/CUB_200_2011/cropped/018.Spotted_Catbird\\../../sheared/018.Spotted_Catbird."
     ]
    },
    {
     "name": "stderr",
     "output_type": "stream",
     "text": [
      "Processing <PIL.Image.Image image mode=RGB size=259x284 at 0x1DE1219E8B0>: 100%|██████████| 45/45 [00:00<00:00, 695.57 Samples/s]\n"
     ]
    },
    {
     "name": "stdout",
     "output_type": "stream",
     "text": [
      "Initialised with 59 image(s) found.\n",
      "Output directory set to ./dataset/data/CUB_200_2011/cropped/019.Gray_Catbird\\../../rotated/019.Gray_Catbird."
     ]
    },
    {
     "name": "stderr",
     "output_type": "stream",
     "text": [
      "Processing <PIL.Image.Image image mode=RGB size=332x214 at 0x1DE1380D640>: 100%|██████████| 59/59 [00:00<00:00, 672.51 Samples/s]\n"
     ]
    },
    {
     "name": "stdout",
     "output_type": "stream",
     "text": [
      "Initialised with 59 image(s) found.\n",
      "Output directory set to ./dataset/data/CUB_200_2011/cropped/019.Gray_Catbird\\../../skewed/019.Gray_Catbird."
     ]
    },
    {
     "name": "stderr",
     "output_type": "stream",
     "text": [
      "Processing <PIL.Image.Image image mode=RGB size=332x214 at 0x1DE13802D60>: 100%|██████████| 59/59 [00:00<00:00, 656.93 Samples/s]\n"
     ]
    },
    {
     "name": "stdout",
     "output_type": "stream",
     "text": [
      "Initialised with 59 image(s) found.\n",
      "Output directory set to ./dataset/data/CUB_200_2011/cropped/019.Gray_Catbird\\../../sheared/019.Gray_Catbird."
     ]
    },
    {
     "name": "stderr",
     "output_type": "stream",
     "text": [
      "Processing <PIL.Image.Image image mode=RGB size=332x214 at 0x1DE1380D850>: 100%|██████████| 59/59 [00:00<00:00, 594.85 Samples/s]\n"
     ]
    },
    {
     "name": "stdout",
     "output_type": "stream",
     "text": [
      "Initialised with 59 image(s) found.\n",
      "Output directory set to ./dataset/data/CUB_200_2011/cropped/020.Yellow_breasted_Chat\\../../rotated/020.Yellow_breasted_Chat."
     ]
    },
    {
     "name": "stderr",
     "output_type": "stream",
     "text": [
      "Processing <PIL.Image.Image image mode=RGB size=371x164 at 0x1DE1219EA00>: 100%|██████████| 59/59 [00:00<00:00, 739.27 Samples/s]\n"
     ]
    },
    {
     "name": "stdout",
     "output_type": "stream",
     "text": [
      "Initialised with 59 image(s) found.\n",
      "Output directory set to ./dataset/data/CUB_200_2011/cropped/020.Yellow_breasted_Chat\\../../skewed/020.Yellow_breasted_Chat."
     ]
    },
    {
     "name": "stderr",
     "output_type": "stream",
     "text": [
      "Processing <PIL.Image.Image image mode=RGB size=371x164 at 0x1DE13820310>: 100%|██████████| 59/59 [00:00<00:00, 698.28 Samples/s]\n"
     ]
    },
    {
     "name": "stdout",
     "output_type": "stream",
     "text": [
      "Initialised with 59 image(s) found.\n",
      "Output directory set to ./dataset/data/CUB_200_2011/cropped/020.Yellow_breasted_Chat\\../../sheared/020.Yellow_breasted_Chat."
     ]
    },
    {
     "name": "stderr",
     "output_type": "stream",
     "text": [
      "Processing <PIL.Image.Image image mode=RGB size=371x164 at 0x1DE13819940>: 100%|██████████| 59/59 [00:00<00:00, 805.61 Samples/s]"
     ]
    },
    {
     "name": "stdout",
     "output_type": "stream",
     "text": [
      "Initialised with 60 image(s) found.\n"
     ]
    },
    {
     "name": "stderr",
     "output_type": "stream",
     "text": [
      "\n"
     ]
    },
    {
     "name": "stdout",
     "output_type": "stream",
     "text": [
      "Output directory set to ./dataset/data/CUB_200_2011/cropped/021.Eastern_Towhee\\../../rotated/021.Eastern_Towhee."
     ]
    },
    {
     "name": "stderr",
     "output_type": "stream",
     "text": [
      "Processing <PIL.Image.Image image mode=RGB size=317x204 at 0x1DE13812B80>: 100%|██████████| 60/60 [00:00<00:00, 711.95 Samples/s]\n"
     ]
    },
    {
     "name": "stdout",
     "output_type": "stream",
     "text": [
      "Initialised with 60 image(s) found.\n",
      "Output directory set to ./dataset/data/CUB_200_2011/cropped/021.Eastern_Towhee\\../../skewed/021.Eastern_Towhee."
     ]
    },
    {
     "name": "stderr",
     "output_type": "stream",
     "text": [
      "Processing <PIL.Image.Image image mode=RGB size=317x204 at 0x1DE138125B0>: 100%|██████████| 60/60 [00:00<00:00, 604.24 Samples/s]\n"
     ]
    },
    {
     "name": "stdout",
     "output_type": "stream",
     "text": [
      "Initialised with 60 image(s) found.\n",
      "Output directory set to ./dataset/data/CUB_200_2011/cropped/021.Eastern_Towhee\\../../sheared/021.Eastern_Towhee."
     ]
    },
    {
     "name": "stderr",
     "output_type": "stream",
     "text": [
      "Processing <PIL.Image.Image image mode=RGB size=317x204 at 0x1DE138124C0>: 100%|██████████| 60/60 [00:00<00:00, 680.03 Samples/s]\n"
     ]
    },
    {
     "name": "stdout",
     "output_type": "stream",
     "text": [
      "Initialised with 56 image(s) found.\n",
      "Output directory set to ./dataset/data/CUB_200_2011/cropped/022.Chuck_will_Widow\\../../rotated/022.Chuck_will_Widow."
     ]
    },
    {
     "name": "stderr",
     "output_type": "stream",
     "text": [
      "Processing <PIL.Image.Image image mode=RGB size=421x257 at 0x1DE13822F10>: 100%|██████████| 56/56 [00:00<00:00, 630.85 Samples/s]\n"
     ]
    },
    {
     "name": "stdout",
     "output_type": "stream",
     "text": [
      "Initialised with 56 image(s) found.\n",
      "Output directory set to ./dataset/data/CUB_200_2011/cropped/022.Chuck_will_Widow\\../../skewed/022.Chuck_will_Widow."
     ]
    },
    {
     "name": "stderr",
     "output_type": "stream",
     "text": [
      "Processing <PIL.Image.Image image mode=RGB size=421x257 at 0x1DE13812040>: 100%|██████████| 56/56 [00:00<00:00, 649.11 Samples/s]\n"
     ]
    },
    {
     "name": "stdout",
     "output_type": "stream",
     "text": [
      "Initialised with 56 image(s) found.\n",
      "Output directory set to ./dataset/data/CUB_200_2011/cropped/022.Chuck_will_Widow\\../../sheared/022.Chuck_will_Widow."
     ]
    },
    {
     "name": "stderr",
     "output_type": "stream",
     "text": [
      "Processing <PIL.Image.Image image mode=RGB size=421x257 at 0x1DE1219EBE0>: 100%|██████████| 56/56 [00:00<00:00, 581.83 Samples/s]\n"
     ]
    },
    {
     "name": "stdout",
     "output_type": "stream",
     "text": [
      "Initialised with 59 image(s) found.\n",
      "Output directory set to ./dataset/data/CUB_200_2011/cropped/023.Brandt_Cormorant\\../../rotated/023.Brandt_Cormorant."
     ]
    },
    {
     "name": "stderr",
     "output_type": "stream",
     "text": [
      "Processing <PIL.Image.Image image mode=RGB size=312x298 at 0x1DE13806AC0>: 100%|██████████| 59/59 [00:00<00:00, 573.95 Samples/s]\n"
     ]
    },
    {
     "name": "stdout",
     "output_type": "stream",
     "text": [
      "Initialised with 59 image(s) found.\n",
      "Output directory set to ./dataset/data/CUB_200_2011/cropped/023.Brandt_Cormorant\\../../skewed/023.Brandt_Cormorant."
     ]
    },
    {
     "name": "stderr",
     "output_type": "stream",
     "text": [
      "Processing <PIL.Image.Image image mode=RGB size=312x298 at 0x1DE1219C5B0>: 100%|██████████| 59/59 [00:00<00:00, 680.54 Samples/s]\n"
     ]
    },
    {
     "name": "stdout",
     "output_type": "stream",
     "text": [
      "Initialised with 59 image(s) found.\n",
      "Output directory set to ./dataset/data/CUB_200_2011/cropped/023.Brandt_Cormorant\\../../sheared/023.Brandt_Cormorant."
     ]
    },
    {
     "name": "stderr",
     "output_type": "stream",
     "text": [
      "Processing <PIL.Image.Image image mode=RGB size=312x298 at 0x1DE1380E730>: 100%|██████████| 59/59 [00:00<00:00, 668.38 Samples/s]\n"
     ]
    },
    {
     "name": "stdout",
     "output_type": "stream",
     "text": [
      "Initialised with 52 image(s) found.\n",
      "Output directory set to ./dataset/data/CUB_200_2011/cropped/024.Red_faced_Cormorant\\../../rotated/024.Red_faced_Cormorant."
     ]
    },
    {
     "name": "stderr",
     "output_type": "stream",
     "text": [
      "Processing <PIL.Image.Image image mode=RGB size=137x308 at 0x1DE1219E790>: 100%|██████████| 52/52 [00:00<00:00, 690.31 Samples/s]\n"
     ]
    },
    {
     "name": "stdout",
     "output_type": "stream",
     "text": [
      "Initialised with 52 image(s) found.\n",
      "Output directory set to ./dataset/data/CUB_200_2011/cropped/024.Red_faced_Cormorant\\../../skewed/024.Red_faced_Cormorant."
     ]
    },
    {
     "name": "stderr",
     "output_type": "stream",
     "text": [
      "Processing <PIL.Image.Image image mode=RGB size=137x308 at 0x1DE13819190>: 100%|██████████| 52/52 [00:00<00:00, 719.41 Samples/s]\n"
     ]
    },
    {
     "name": "stdout",
     "output_type": "stream",
     "text": [
      "Initialised with 52 image(s) found.\n",
      "Output directory set to ./dataset/data/CUB_200_2011/cropped/024.Red_faced_Cormorant\\../../sheared/024.Red_faced_Cormorant."
     ]
    },
    {
     "name": "stderr",
     "output_type": "stream",
     "text": [
      "Processing <PIL.Image.Image image mode=RGB size=137x308 at 0x1DE13806700>: 100%|██████████| 52/52 [00:00<00:00, 673.11 Samples/s]\n"
     ]
    },
    {
     "name": "stdout",
     "output_type": "stream",
     "text": [
      "Initialised with 60 image(s) found.\n",
      "Output directory set to ./dataset/data/CUB_200_2011/cropped/025.Pelagic_Cormorant\\../../rotated/025.Pelagic_Cormorant."
     ]
    },
    {
     "name": "stderr",
     "output_type": "stream",
     "text": [
      "Processing <PIL.Image.Image image mode=RGB size=179x359 at 0x1DE1219EA90>: 100%|██████████| 60/60 [00:00<00:00, 657.47 Samples/s]\n"
     ]
    },
    {
     "name": "stdout",
     "output_type": "stream",
     "text": [
      "Initialised with 60 image(s) found.\n",
      "Output directory set to ./dataset/data/CUB_200_2011/cropped/025.Pelagic_Cormorant\\../../skewed/025.Pelagic_Cormorant."
     ]
    },
    {
     "name": "stderr",
     "output_type": "stream",
     "text": [
      "Processing <PIL.Image.Image image mode=RGB size=179x359 at 0x1DE13827220>: 100%|██████████| 60/60 [00:00<00:00, 708.22 Samples/s]\n"
     ]
    },
    {
     "name": "stdout",
     "output_type": "stream",
     "text": [
      "Initialised with 60 image(s) found.\n",
      "Output directory set to ./dataset/data/CUB_200_2011/cropped/025.Pelagic_Cormorant\\../../sheared/025.Pelagic_Cormorant."
     ]
    },
    {
     "name": "stderr",
     "output_type": "stream",
     "text": [
      "Processing <PIL.Image.Image image mode=RGB size=179x359 at 0x1DE13812520>: 100%|██████████| 60/60 [00:00<00:00, 738.70 Samples/s]\n"
     ]
    },
    {
     "name": "stdout",
     "output_type": "stream",
     "text": [
      "Initialised with 60 image(s) found.\n",
      "Output directory set to ./dataset/data/CUB_200_2011/cropped/026.Bronzed_Cowbird\\../../rotated/026.Bronzed_Cowbird."
     ]
    },
    {
     "name": "stderr",
     "output_type": "stream",
     "text": [
      "Processing <PIL.Image.Image image mode=RGB size=280x170 at 0x1DE137CD160>: 100%|██████████| 60/60 [00:00<00:00, 690.87 Samples/s]\n"
     ]
    },
    {
     "name": "stdout",
     "output_type": "stream",
     "text": [
      "Initialised with 60 image(s) found.\n",
      "Output directory set to ./dataset/data/CUB_200_2011/cropped/026.Bronzed_Cowbird\\../../skewed/026.Bronzed_Cowbird."
     ]
    },
    {
     "name": "stderr",
     "output_type": "stream",
     "text": [
      "Processing <PIL.Image.Image image mode=RGB size=280x170 at 0x1DE137CD8E0>: 100%|██████████| 60/60 [00:00<00:00, 680.04 Samples/s]\n"
     ]
    },
    {
     "name": "stdout",
     "output_type": "stream",
     "text": [
      "Initialised with 60 image(s) found.\n",
      "Output directory set to ./dataset/data/CUB_200_2011/cropped/026.Bronzed_Cowbird\\../../sheared/026.Bronzed_Cowbird."
     ]
    },
    {
     "name": "stderr",
     "output_type": "stream",
     "text": [
      "Processing <PIL.Image.Image image mode=RGB size=280x170 at 0x1DE1219EE20>: 100%|██████████| 60/60 [00:00<00:00, 653.69 Samples/s]\n"
     ]
    },
    {
     "name": "stdout",
     "output_type": "stream",
     "text": [
      "Initialised with 60 image(s) found.\n",
      "Output directory set to ./dataset/data/CUB_200_2011/cropped/027.Shiny_Cowbird\\../../rotated/027.Shiny_Cowbird."
     ]
    },
    {
     "name": "stderr",
     "output_type": "stream",
     "text": [
      "Processing <PIL.Image.Image image mode=RGB size=156x139 at 0x1DE13825C40>: 100%|██████████| 60/60 [00:00<00:00, 716.91 Samples/s]\n"
     ]
    },
    {
     "name": "stdout",
     "output_type": "stream",
     "text": [
      "Initialised with 60 image(s) found.\n",
      "Output directory set to ./dataset/data/CUB_200_2011/cropped/027.Shiny_Cowbird\\../../skewed/027.Shiny_Cowbird."
     ]
    },
    {
     "name": "stderr",
     "output_type": "stream",
     "text": [
      "Processing <PIL.Image.Image image mode=RGB size=156x139 at 0x1DE1380E760>: 100%|██████████| 60/60 [00:00<00:00, 716.18 Samples/s]\n"
     ]
    },
    {
     "name": "stdout",
     "output_type": "stream",
     "text": [
      "Initialised with 60 image(s) found.\n",
      "Output directory set to ./dataset/data/CUB_200_2011/cropped/027.Shiny_Cowbird\\../../sheared/027.Shiny_Cowbird."
     ]
    },
    {
     "name": "stderr",
     "output_type": "stream",
     "text": [
      "Processing <PIL.Image.Image image mode=RGB size=156x139 at 0x1DE1380EF10>: 100%|██████████| 60/60 [00:00<00:00, 738.69 Samples/s]"
     ]
    },
    {
     "name": "stdout",
     "output_type": "stream",
     "text": [
      "Initialised with 59 image(s) found.\n"
     ]
    },
    {
     "name": "stderr",
     "output_type": "stream",
     "text": [
      "\n"
     ]
    },
    {
     "name": "stdout",
     "output_type": "stream",
     "text": [
      "Output directory set to ./dataset/data/CUB_200_2011/cropped/028.Brown_Creeper\\../../rotated/028.Brown_Creeper."
     ]
    },
    {
     "name": "stderr",
     "output_type": "stream",
     "text": [
      "Processing <PIL.Image.Image image mode=RGB size=189x256 at 0x1DE137F8370>: 100%|██████████| 59/59 [00:00<00:00, 716.54 Samples/s]\n"
     ]
    },
    {
     "name": "stdout",
     "output_type": "stream",
     "text": [
      "Initialised with 59 image(s) found.\n",
      "Output directory set to ./dataset/data/CUB_200_2011/cropped/028.Brown_Creeper\\../../skewed/028.Brown_Creeper."
     ]
    },
    {
     "name": "stderr",
     "output_type": "stream",
     "text": [
      "Processing <PIL.Image.Image image mode=RGB size=189x256 at 0x1DE1219C730>: 100%|██████████| 59/59 [00:00<00:00, 642.28 Samples/s]\n"
     ]
    },
    {
     "name": "stdout",
     "output_type": "stream",
     "text": [
      "Initialised with 59 image(s) found.\n",
      "Output directory set to ./dataset/data/CUB_200_2011/cropped/028.Brown_Creeper\\../../sheared/028.Brown_Creeper."
     ]
    },
    {
     "name": "stderr",
     "output_type": "stream",
     "text": [
      "Processing <PIL.Image.Image image mode=RGB size=189x256 at 0x1DE1219EDC0>: 100%|██████████| 59/59 [00:00<00:00, 676.09 Samples/s]\n"
     ]
    },
    {
     "name": "stdout",
     "output_type": "stream",
     "text": [
      "Initialised with 60 image(s) found.\n",
      "Output directory set to ./dataset/data/CUB_200_2011/cropped/029.American_Crow\\../../rotated/029.American_Crow."
     ]
    },
    {
     "name": "stderr",
     "output_type": "stream",
     "text": [
      "Processing <PIL.Image.Image image mode=RGB size=156x158 at 0x1DE13820B20>: 100%|██████████| 60/60 [00:00<00:00, 607.53 Samples/s]\n"
     ]
    },
    {
     "name": "stdout",
     "output_type": "stream",
     "text": [
      "Initialised with 60 image(s) found.\n",
      "Output directory set to ./dataset/data/CUB_200_2011/cropped/029.American_Crow\\../../skewed/029.American_Crow."
     ]
    },
    {
     "name": "stderr",
     "output_type": "stream",
     "text": [
      "Processing <PIL.Image.Image image mode=RGB size=156x158 at 0x1DE1219E2B0>: 100%|██████████| 60/60 [00:00<00:00, 636.49 Samples/s]\n"
     ]
    },
    {
     "name": "stdout",
     "output_type": "stream",
     "text": [
      "Initialised with 60 image(s) found.\n",
      "Output directory set to ./dataset/data/CUB_200_2011/cropped/029.American_Crow\\../../sheared/029.American_Crow."
     ]
    },
    {
     "name": "stderr",
     "output_type": "stream",
     "text": [
      "Processing <PIL.Image.Image image mode=RGB size=156x158 at 0x1DE13807790>: 100%|██████████| 60/60 [00:00<00:00, 661.52 Samples/s]\n"
     ]
    },
    {
     "name": "stdout",
     "output_type": "stream",
     "text": [
      "Initialised with 60 image(s) found.\n",
      "Output directory set to ./dataset/data/CUB_200_2011/cropped/030.Fish_Crow\\../../rotated/030.Fish_Crow."
     ]
    },
    {
     "name": "stderr",
     "output_type": "stream",
     "text": [
      "Processing <PIL.Image.Image image mode=RGB size=266x175 at 0x1DE138068B0>: 100%|██████████| 60/60 [00:00<00:00, 612.86 Samples/s]\n"
     ]
    },
    {
     "name": "stdout",
     "output_type": "stream",
     "text": [
      "Initialised with 60 image(s) found.\n",
      "Output directory set to ./dataset/data/CUB_200_2011/cropped/030.Fish_Crow\\../../skewed/030.Fish_Crow."
     ]
    },
    {
     "name": "stderr",
     "output_type": "stream",
     "text": [
      "Processing <PIL.Image.Image image mode=RGB size=266x175 at 0x1DE137F3340>: 100%|██████████| 60/60 [00:00<00:00, 657.29 Samples/s]\n"
     ]
    },
    {
     "name": "stdout",
     "output_type": "stream",
     "text": [
      "Initialised with 60 image(s) found.\n",
      "Output directory set to ./dataset/data/CUB_200_2011/cropped/030.Fish_Crow\\../../sheared/030.Fish_Crow."
     ]
    },
    {
     "name": "stderr",
     "output_type": "stream",
     "text": [
      "Processing <PIL.Image.Image image mode=RGB size=266x175 at 0x1DE1219EB20>: 100%|██████████| 60/60 [00:00<00:00, 672.49 Samples/s]\n"
     ]
    },
    {
     "name": "stdout",
     "output_type": "stream",
     "text": [
      "Initialised with 60 image(s) found.\n",
      "Output directory set to ./dataset/data/CUB_200_2011/cropped/031.Black_billed_Cuckoo\\../../rotated/031.Black_billed_Cuckoo."
     ]
    },
    {
     "name": "stderr",
     "output_type": "stream",
     "text": [
      "Processing <PIL.Image.Image image mode=RGB size=170x274 at 0x1DE137CDEE0>: 100%|██████████| 60/60 [00:00<00:00, 671.51 Samples/s]\n"
     ]
    },
    {
     "name": "stdout",
     "output_type": "stream",
     "text": [
      "Initialised with 60 image(s) found.\n",
      "Output directory set to ./dataset/data/CUB_200_2011/cropped/031.Black_billed_Cuckoo\\../../skewed/031.Black_billed_Cuckoo."
     ]
    },
    {
     "name": "stderr",
     "output_type": "stream",
     "text": [
      "Processing <PIL.Image.Image image mode=RGB size=170x274 at 0x1DE13812130>: 100%|██████████| 60/60 [00:00<00:00, 716.68 Samples/s]\n"
     ]
    },
    {
     "name": "stdout",
     "output_type": "stream",
     "text": [
      "Initialised with 60 image(s) found.\n",
      "Output directory set to ./dataset/data/CUB_200_2011/cropped/031.Black_billed_Cuckoo\\../../sheared/031.Black_billed_Cuckoo."
     ]
    },
    {
     "name": "stderr",
     "output_type": "stream",
     "text": [
      "Processing <PIL.Image.Image image mode=RGB size=170x274 at 0x1DE1219CCD0>: 100%|██████████| 60/60 [00:00<00:00, 708.38 Samples/s]\n"
     ]
    },
    {
     "name": "stdout",
     "output_type": "stream",
     "text": [
      "Initialised with 53 image(s) found.\n",
      "Output directory set to ./dataset/data/CUB_200_2011/cropped/032.Mangrove_Cuckoo\\../../rotated/032.Mangrove_Cuckoo."
     ]
    },
    {
     "name": "stderr",
     "output_type": "stream",
     "text": [
      "Processing <PIL.Image.Image image mode=RGB size=149x400 at 0x1DE13812880>: 100%|██████████| 53/53 [00:00<00:00, 571.55 Samples/s]\n"
     ]
    },
    {
     "name": "stdout",
     "output_type": "stream",
     "text": [
      "Initialised with 53 image(s) found.\n",
      "Output directory set to ./dataset/data/CUB_200_2011/cropped/032.Mangrove_Cuckoo\\../../skewed/032.Mangrove_Cuckoo."
     ]
    },
    {
     "name": "stderr",
     "output_type": "stream",
     "text": [
      "Processing <PIL.Image.Image image mode=RGB size=149x400 at 0x1DE138210D0>: 100%|██████████| 53/53 [00:00<00:00, 651.76 Samples/s]\n"
     ]
    },
    {
     "name": "stdout",
     "output_type": "stream",
     "text": [
      "Initialised with 53 image(s) found.\n",
      "Output directory set to ./dataset/data/CUB_200_2011/cropped/032.Mangrove_Cuckoo\\../../sheared/032.Mangrove_Cuckoo."
     ]
    },
    {
     "name": "stderr",
     "output_type": "stream",
     "text": [
      "Processing <PIL.Image.Image image mode=RGB size=149x400 at 0x1DE137CDDC0>: 100%|██████████| 53/53 [00:00<00:00, 695.60 Samples/s]"
     ]
    },
    {
     "name": "stdout",
     "output_type": "stream",
     "text": [
      "Initialised with 59 image(s) found.\n"
     ]
    },
    {
     "name": "stderr",
     "output_type": "stream",
     "text": [
      "\n"
     ]
    },
    {
     "name": "stdout",
     "output_type": "stream",
     "text": [
      "Output directory set to ./dataset/data/CUB_200_2011/cropped/033.Yellow_billed_Cuckoo\\../../rotated/033.Yellow_billed_Cuckoo."
     ]
    },
    {
     "name": "stderr",
     "output_type": "stream",
     "text": [
      "Processing <PIL.Image.Image image mode=RGB size=128x177 at 0x1DE137CD070>: 100%|██████████| 59/59 [00:00<00:00, 698.99 Samples/s]\n"
     ]
    },
    {
     "name": "stdout",
     "output_type": "stream",
     "text": [
      "Initialised with 59 image(s) found.\n",
      "Output directory set to ./dataset/data/CUB_200_2011/cropped/033.Yellow_billed_Cuckoo\\../../skewed/033.Yellow_billed_Cuckoo."
     ]
    },
    {
     "name": "stderr",
     "output_type": "stream",
     "text": [
      "Processing <PIL.Image.Image image mode=RGB size=128x177 at 0x1DE1219C2E0>: 100%|██████████| 59/59 [00:00<00:00, 734.68 Samples/s]\n"
     ]
    },
    {
     "name": "stdout",
     "output_type": "stream",
     "text": [
      "Initialised with 59 image(s) found.\n",
      "Output directory set to ./dataset/data/CUB_200_2011/cropped/033.Yellow_billed_Cuckoo\\../../sheared/033.Yellow_billed_Cuckoo."
     ]
    },
    {
     "name": "stderr",
     "output_type": "stream",
     "text": [
      "Processing <PIL.Image.Image image mode=RGB size=128x177 at 0x1DE13820250>: 100%|██████████| 59/59 [00:00<00:00, 672.68 Samples/s]\n"
     ]
    },
    {
     "name": "stdout",
     "output_type": "stream",
     "text": [
      "Initialised with 59 image(s) found.\n",
      "Output directory set to ./dataset/data/CUB_200_2011/cropped/034.Gray_crowned_Rosy_Finch\\../../rotated/034.Gray_crowned_Rosy_Finch."
     ]
    },
    {
     "name": "stderr",
     "output_type": "stream",
     "text": [
      "Processing <PIL.Image.Image image mode=RGB size=284x325 at 0x1DE1219C6D0>: 100%|██████████| 59/59 [00:00<00:00, 643.21 Samples/s]\n"
     ]
    },
    {
     "name": "stdout",
     "output_type": "stream",
     "text": [
      "Initialised with 59 image(s) found.\n",
      "Output directory set to ./dataset/data/CUB_200_2011/cropped/034.Gray_crowned_Rosy_Finch\\../../skewed/034.Gray_crowned_Rosy_Finch."
     ]
    },
    {
     "name": "stderr",
     "output_type": "stream",
     "text": [
      "Processing <PIL.Image.Image image mode=RGB size=284x325 at 0x1DE1381CAC0>: 100%|██████████| 59/59 [00:00<00:00, 744.37 Samples/s]\n"
     ]
    },
    {
     "name": "stdout",
     "output_type": "stream",
     "text": [
      "Initialised with 59 image(s) found.\n",
      "Output directory set to ./dataset/data/CUB_200_2011/cropped/034.Gray_crowned_Rosy_Finch\\../../sheared/034.Gray_crowned_Rosy_Finch."
     ]
    },
    {
     "name": "stderr",
     "output_type": "stream",
     "text": [
      "Processing <PIL.Image.Image image mode=RGB size=284x325 at 0x1DE1219EBB0>: 100%|██████████| 59/59 [00:00<00:00, 731.69 Samples/s]\n"
     ]
    },
    {
     "name": "stdout",
     "output_type": "stream",
     "text": [
      "Initialised with 60 image(s) found.\n",
      "Output directory set to ./dataset/data/CUB_200_2011/cropped/035.Purple_Finch\\../../rotated/035.Purple_Finch."
     ]
    },
    {
     "name": "stderr",
     "output_type": "stream",
     "text": [
      "Processing <PIL.Image.Image image mode=RGB size=281x210 at 0x1DE1219EE20>: 100%|██████████| 60/60 [00:00<00:00, 716.81 Samples/s]\n"
     ]
    },
    {
     "name": "stdout",
     "output_type": "stream",
     "text": [
      "Initialised with 60 image(s) found.\n",
      "Output directory set to ./dataset/data/CUB_200_2011/cropped/035.Purple_Finch\\../../skewed/035.Purple_Finch."
     ]
    },
    {
     "name": "stderr",
     "output_type": "stream",
     "text": [
      "Processing <PIL.Image.Image image mode=RGB size=281x210 at 0x1DE13828AF0>: 100%|██████████| 60/60 [00:00<00:00, 653.91 Samples/s]\n"
     ]
    },
    {
     "name": "stdout",
     "output_type": "stream",
     "text": [
      "Initialised with 60 image(s) found.\n",
      "Output directory set to ./dataset/data/CUB_200_2011/cropped/035.Purple_Finch\\../../sheared/035.Purple_Finch."
     ]
    },
    {
     "name": "stderr",
     "output_type": "stream",
     "text": [
      "Processing <PIL.Image.Image image mode=RGB size=281x210 at 0x1DE13820B80>: 100%|██████████| 60/60 [00:00<00:00, 643.88 Samples/s]\n"
     ]
    },
    {
     "name": "stdout",
     "output_type": "stream",
     "text": [
      "Initialised with 60 image(s) found.\n",
      "Output directory set to ./dataset/data/CUB_200_2011/cropped/036.Northern_Flicker\\../../rotated/036.Northern_Flicker."
     ]
    },
    {
     "name": "stderr",
     "output_type": "stream",
     "text": [
      "Processing <PIL.Image.Image image mode=RGB size=201x337 at 0x1DE1380F670>: 100%|██████████| 60/60 [00:00<00:00, 692.00 Samples/s]\n"
     ]
    },
    {
     "name": "stdout",
     "output_type": "stream",
     "text": [
      "Initialised with 60 image(s) found.\n",
      "Output directory set to ./dataset/data/CUB_200_2011/cropped/036.Northern_Flicker\\../../skewed/036.Northern_Flicker."
     ]
    },
    {
     "name": "stderr",
     "output_type": "stream",
     "text": [
      "Processing <PIL.Image.Image image mode=RGB size=201x337 at 0x1DE1380D670>: 100%|██████████| 60/60 [00:00<00:00, 714.78 Samples/s]\n"
     ]
    },
    {
     "name": "stdout",
     "output_type": "stream",
     "text": [
      "Initialised with 60 image(s) found.\n",
      "Output directory set to ./dataset/data/CUB_200_2011/cropped/036.Northern_Flicker\\../../sheared/036.Northern_Flicker."
     ]
    },
    {
     "name": "stderr",
     "output_type": "stream",
     "text": [
      "Processing <PIL.Image.Image image mode=RGB size=201x337 at 0x1DE13806190>: 100%|██████████| 60/60 [00:00<00:00, 698.68 Samples/s]\n"
     ]
    },
    {
     "name": "stdout",
     "output_type": "stream",
     "text": [
      "Initialised with 59 image(s) found.\n",
      "Output directory set to ./dataset/data/CUB_200_2011/cropped/037.Acadian_Flycatcher\\../../rotated/037.Acadian_Flycatcher."
     ]
    },
    {
     "name": "stderr",
     "output_type": "stream",
     "text": [
      "Processing <PIL.Image.Image image mode=RGB size=226x453 at 0x1DE1219C310>: 100%|██████████| 59/59 [00:00<00:00, 733.56 Samples/s]\n"
     ]
    },
    {
     "name": "stdout",
     "output_type": "stream",
     "text": [
      "Initialised with 59 image(s) found.\n",
      "Output directory set to ./dataset/data/CUB_200_2011/cropped/037.Acadian_Flycatcher\\../../skewed/037.Acadian_Flycatcher."
     ]
    },
    {
     "name": "stderr",
     "output_type": "stream",
     "text": [
      "Processing <PIL.Image.Image image mode=RGB size=226x453 at 0x1DE137D15E0>: 100%|██████████| 59/59 [00:00<00:00, 600.29 Samples/s]\n"
     ]
    },
    {
     "name": "stdout",
     "output_type": "stream",
     "text": [
      "Initialised with 59 image(s) found.\n",
      "Output directory set to ./dataset/data/CUB_200_2011/cropped/037.Acadian_Flycatcher\\../../sheared/037.Acadian_Flycatcher."
     ]
    },
    {
     "name": "stderr",
     "output_type": "stream",
     "text": [
      "Processing <PIL.Image.Image image mode=RGB size=226x453 at 0x1DE13825970>: 100%|██████████| 59/59 [00:00<00:00, 703.99 Samples/s]\n"
     ]
    },
    {
     "name": "stdout",
     "output_type": "stream",
     "text": [
      "Initialised with 60 image(s) found.\n",
      "Output directory set to ./dataset/data/CUB_200_2011/cropped/038.Great_Crested_Flycatcher\\../../rotated/038.Great_Crested_Flycatcher."
     ]
    },
    {
     "name": "stderr",
     "output_type": "stream",
     "text": [
      "Processing <PIL.Image.Image image mode=RGB size=134x191 at 0x1DE13809C70>: 100%|██████████| 60/60 [00:00<00:00, 635.78 Samples/s]\n"
     ]
    },
    {
     "name": "stdout",
     "output_type": "stream",
     "text": [
      "Initialised with 60 image(s) found.\n",
      "Output directory set to ./dataset/data/CUB_200_2011/cropped/038.Great_Crested_Flycatcher\\../../skewed/038.Great_Crested_Flycatcher."
     ]
    },
    {
     "name": "stderr",
     "output_type": "stream",
     "text": [
      "Processing <PIL.Image.Image image mode=RGB size=134x191 at 0x1DE1380DA00>: 100%|██████████| 60/60 [00:00<00:00, 719.17 Samples/s]\n"
     ]
    },
    {
     "name": "stdout",
     "output_type": "stream",
     "text": [
      "Initialised with 60 image(s) found.\n",
      "Output directory set to ./dataset/data/CUB_200_2011/cropped/038.Great_Crested_Flycatcher\\../../sheared/038.Great_Crested_Flycatcher."
     ]
    },
    {
     "name": "stderr",
     "output_type": "stream",
     "text": [
      "Processing <PIL.Image.Image image mode=RGB size=134x191 at 0x1DE137F85E0>: 100%|██████████| 60/60 [00:00<00:00, 711.27 Samples/s]\n"
     ]
    },
    {
     "name": "stdout",
     "output_type": "stream",
     "text": [
      "Initialised with 59 image(s) found.\n",
      "Output directory set to ./dataset/data/CUB_200_2011/cropped/039.Least_Flycatcher\\../../rotated/039.Least_Flycatcher."
     ]
    },
    {
     "name": "stderr",
     "output_type": "stream",
     "text": [
      "Processing <PIL.Image.Image image mode=RGB size=323x396 at 0x1DE1219CC40>: 100%|██████████| 59/59 [00:00<00:00, 725.93 Samples/s]\n"
     ]
    },
    {
     "name": "stdout",
     "output_type": "stream",
     "text": [
      "Initialised with 59 image(s) found.\n",
      "Output directory set to ./dataset/data/CUB_200_2011/cropped/039.Least_Flycatcher\\../../skewed/039.Least_Flycatcher."
     ]
    },
    {
     "name": "stderr",
     "output_type": "stream",
     "text": [
      "Processing <PIL.Image.Image image mode=RGB size=323x396 at 0x1DE1219C400>: 100%|██████████| 59/59 [00:00<00:00, 663.26 Samples/s]\n"
     ]
    },
    {
     "name": "stdout",
     "output_type": "stream",
     "text": [
      "Initialised with 59 image(s) found.\n",
      "Output directory set to ./dataset/data/CUB_200_2011/cropped/039.Least_Flycatcher\\../../sheared/039.Least_Flycatcher."
     ]
    },
    {
     "name": "stderr",
     "output_type": "stream",
     "text": [
      "Processing <PIL.Image.Image image mode=RGB size=323x396 at 0x1DE1380D8E0>: 100%|██████████| 59/59 [00:00<00:00, 676.28 Samples/s]\n"
     ]
    },
    {
     "name": "stdout",
     "output_type": "stream",
     "text": [
      "Initialised with 60 image(s) found.\n",
      "Output directory set to ./dataset/data/CUB_200_2011/cropped/040.Olive_sided_Flycatcher\\../../rotated/040.Olive_sided_Flycatcher."
     ]
    },
    {
     "name": "stderr",
     "output_type": "stream",
     "text": [
      "Processing <PIL.Image.Image image mode=RGB size=168x241 at 0x1DE1381C4C0>: 100%|██████████| 60/60 [00:00<00:00, 776.50 Samples/s]\n"
     ]
    },
    {
     "name": "stdout",
     "output_type": "stream",
     "text": [
      "Initialised with 60 image(s) found.\n",
      "Output directory set to ./dataset/data/CUB_200_2011/cropped/040.Olive_sided_Flycatcher\\../../skewed/040.Olive_sided_Flycatcher."
     ]
    },
    {
     "name": "stderr",
     "output_type": "stream",
     "text": [
      "Processing <PIL.Image.Image image mode=RGB size=168x241 at 0x1DE1381DC40>: 100%|██████████| 60/60 [00:00<00:00, 719.67 Samples/s]\n"
     ]
    },
    {
     "name": "stdout",
     "output_type": "stream",
     "text": [
      "Initialised with 60 image(s) found.\n",
      "Output directory set to ./dataset/data/CUB_200_2011/cropped/040.Olive_sided_Flycatcher\\../../sheared/040.Olive_sided_Flycatcher."
     ]
    },
    {
     "name": "stderr",
     "output_type": "stream",
     "text": [
      "Processing <PIL.Image.Image image mode=RGB size=168x241 at 0x1DE1219E790>: 100%|██████████| 60/60 [00:00<00:00, 757.22 Samples/s]\n"
     ]
    },
    {
     "name": "stdout",
     "output_type": "stream",
     "text": [
      "Initialised with 60 image(s) found.\n",
      "Output directory set to ./dataset/data/CUB_200_2011/cropped/041.Scissor_tailed_Flycatcher\\../../rotated/041.Scissor_tailed_Flycatcher."
     ]
    },
    {
     "name": "stderr",
     "output_type": "stream",
     "text": [
      "Processing <PIL.Image.Image image mode=RGB size=196x108 at 0x1DE137D1670>: 100%|██████████| 60/60 [00:00<00:00, 707.46 Samples/s]\n"
     ]
    },
    {
     "name": "stdout",
     "output_type": "stream",
     "text": [
      "Initialised with 60 image(s) found.\n",
      "Output directory set to ./dataset/data/CUB_200_2011/cropped/041.Scissor_tailed_Flycatcher\\../../skewed/041.Scissor_tailed_Flycatcher."
     ]
    },
    {
     "name": "stderr",
     "output_type": "stream",
     "text": [
      "Processing <PIL.Image.Image image mode=RGB size=196x108 at 0x1DE1381EF70>: 100%|██████████| 60/60 [00:00<00:00, 671.61 Samples/s]\n"
     ]
    },
    {
     "name": "stdout",
     "output_type": "stream",
     "text": [
      "Initialised with 60 image(s) found.\n",
      "Output directory set to ./dataset/data/CUB_200_2011/cropped/041.Scissor_tailed_Flycatcher\\../../sheared/041.Scissor_tailed_Flycatcher."
     ]
    },
    {
     "name": "stderr",
     "output_type": "stream",
     "text": [
      "Processing <PIL.Image.Image image mode=RGB size=196x108 at 0x1DE13815FA0>: 100%|██████████| 60/60 [00:00<00:00, 771.42 Samples/s]\n"
     ]
    },
    {
     "name": "stdout",
     "output_type": "stream",
     "text": [
      "Initialised with 60 image(s) found.\n",
      "Output directory set to ./dataset/data/CUB_200_2011/cropped/042.Vermilion_Flycatcher\\../../rotated/042.Vermilion_Flycatcher."
     ]
    },
    {
     "name": "stderr",
     "output_type": "stream",
     "text": [
      "Processing <PIL.Image.Image image mode=RGB size=200x191 at 0x1DE13821130>: 100%|██████████| 60/60 [00:00<00:00, 762.00 Samples/s]\n"
     ]
    },
    {
     "name": "stdout",
     "output_type": "stream",
     "text": [
      "Initialised with 60 image(s) found.\n",
      "Output directory set to ./dataset/data/CUB_200_2011/cropped/042.Vermilion_Flycatcher\\../../skewed/042.Vermilion_Flycatcher."
     ]
    },
    {
     "name": "stderr",
     "output_type": "stream",
     "text": [
      "Processing <PIL.Image.Image image mode=RGB size=200x191 at 0x1DE13829250>: 100%|██████████| 60/60 [00:00<00:00, 738.59 Samples/s]\n"
     ]
    },
    {
     "name": "stdout",
     "output_type": "stream",
     "text": [
      "Initialised with 60 image(s) found.\n",
      "Output directory set to ./dataset/data/CUB_200_2011/cropped/042.Vermilion_Flycatcher\\../../sheared/042.Vermilion_Flycatcher."
     ]
    },
    {
     "name": "stderr",
     "output_type": "stream",
     "text": [
      "Processing <PIL.Image.Image image mode=RGB size=200x191 at 0x1DE1219C4F0>: 100%|██████████| 60/60 [00:00<00:00, 792.51 Samples/s]"
     ]
    },
    {
     "name": "stdout",
     "output_type": "stream",
     "text": [
      "Initialised with 59 image(s) found.\n"
     ]
    },
    {
     "name": "stderr",
     "output_type": "stream",
     "text": [
      "\n"
     ]
    },
    {
     "name": "stdout",
     "output_type": "stream",
     "text": [
      "Output directory set to ./dataset/data/CUB_200_2011/cropped/043.Yellow_bellied_Flycatcher\\../../rotated/043.Yellow_bellied_Flycatcher."
     ]
    },
    {
     "name": "stderr",
     "output_type": "stream",
     "text": [
      "Processing <PIL.Image.Image image mode=RGB size=438x282 at 0x1DE13823DC0>: 100%|██████████| 59/59 [00:00<00:00, 729.89 Samples/s]\n"
     ]
    },
    {
     "name": "stdout",
     "output_type": "stream",
     "text": [
      "Initialised with 59 image(s) found.\n",
      "Output directory set to ./dataset/data/CUB_200_2011/cropped/043.Yellow_bellied_Flycatcher\\../../skewed/043.Yellow_bellied_Flycatcher."
     ]
    },
    {
     "name": "stderr",
     "output_type": "stream",
     "text": [
      "Processing <PIL.Image.Image image mode=RGB size=438x282 at 0x1DE13806760>: 100%|██████████| 59/59 [00:00<00:00, 777.62 Samples/s]"
     ]
    },
    {
     "name": "stdout",
     "output_type": "stream",
     "text": [
      "Initialised with 59 image(s) found.\n",
      "Output directory set to ./dataset/data/CUB_200_2011/cropped/043.Yellow_bellied_Flycatcher\\../../sheared/043.Yellow_bellied_Flycatcher."
     ]
    },
    {
     "name": "stderr",
     "output_type": "stream",
     "text": [
      "\n",
      "Processing <PIL.Image.Image image mode=RGB size=438x282 at 0x1DE137CDCA0>: 100%|██████████| 59/59 [00:00<00:00, 794.03 Samples/s]"
     ]
    },
    {
     "name": "stdout",
     "output_type": "stream",
     "text": [
      "Initialised with 60 image(s) found.\n"
     ]
    },
    {
     "name": "stderr",
     "output_type": "stream",
     "text": [
      "\n"
     ]
    },
    {
     "name": "stdout",
     "output_type": "stream",
     "text": [
      "Output directory set to ./dataset/data/CUB_200_2011/cropped/044.Frigatebird\\../../rotated/044.Frigatebird."
     ]
    },
    {
     "name": "stderr",
     "output_type": "stream",
     "text": [
      "Processing <PIL.Image.Image image mode=RGB size=340x186 at 0x1DE13812880>: 100%|██████████| 60/60 [00:00<00:00, 707.36 Samples/s]\n"
     ]
    },
    {
     "name": "stdout",
     "output_type": "stream",
     "text": [
      "Initialised with 60 image(s) found.\n",
      "Output directory set to ./dataset/data/CUB_200_2011/cropped/044.Frigatebird\\../../skewed/044.Frigatebird."
     ]
    },
    {
     "name": "stderr",
     "output_type": "stream",
     "text": [
      "Processing <PIL.Image.Image image mode=RGB size=340x186 at 0x1DE13812400>: 100%|██████████| 60/60 [00:00<00:00, 699.80 Samples/s]\n"
     ]
    },
    {
     "name": "stdout",
     "output_type": "stream",
     "text": [
      "Initialised with 60 image(s) found.\n",
      "Output directory set to ./dataset/data/CUB_200_2011/cropped/044.Frigatebird\\../../sheared/044.Frigatebird."
     ]
    },
    {
     "name": "stderr",
     "output_type": "stream",
     "text": [
      "Processing <PIL.Image.Image image mode=RGB size=340x186 at 0x1DE137D11F0>: 100%|██████████| 60/60 [00:00<00:00, 606.65 Samples/s]\n"
     ]
    },
    {
     "name": "stdout",
     "output_type": "stream",
     "text": [
      "Initialised with 60 image(s) found.\n",
      "Output directory set to ./dataset/data/CUB_200_2011/cropped/045.Northern_Fulmar\\../../rotated/045.Northern_Fulmar."
     ]
    },
    {
     "name": "stderr",
     "output_type": "stream",
     "text": [
      "Processing <PIL.Image.Image image mode=RGB size=232x142 at 0x1DE1380DDF0>: 100%|██████████| 60/60 [00:00<00:00, 752.45 Samples/s]\n"
     ]
    },
    {
     "name": "stdout",
     "output_type": "stream",
     "text": [
      "Initialised with 60 image(s) found.\n",
      "Output directory set to ./dataset/data/CUB_200_2011/cropped/045.Northern_Fulmar\\../../skewed/045.Northern_Fulmar."
     ]
    },
    {
     "name": "stderr",
     "output_type": "stream",
     "text": [
      "Processing <PIL.Image.Image image mode=RGB size=232x142 at 0x1DE1219E190>: 100%|██████████| 60/60 [00:00<00:00, 719.19 Samples/s]\n"
     ]
    },
    {
     "name": "stdout",
     "output_type": "stream",
     "text": [
      "Initialised with 60 image(s) found.\n",
      "Output directory set to ./dataset/data/CUB_200_2011/cropped/045.Northern_Fulmar\\../../sheared/045.Northern_Fulmar."
     ]
    },
    {
     "name": "stderr",
     "output_type": "stream",
     "text": [
      "Processing <PIL.Image.Image image mode=RGB size=232x142 at 0x1DE13802460>: 100%|██████████| 60/60 [00:00<00:00, 622.75 Samples/s]\n"
     ]
    },
    {
     "name": "stdout",
     "output_type": "stream",
     "text": [
      "Initialised with 60 image(s) found.\n",
      "Output directory set to ./dataset/data/CUB_200_2011/cropped/046.Gadwall\\../../rotated/046.Gadwall."
     ]
    },
    {
     "name": "stderr",
     "output_type": "stream",
     "text": [
      "Processing <PIL.Image.Image image mode=RGB size=187x122 at 0x1DE1219EF40>: 100%|██████████| 60/60 [00:00<00:00, 727.06 Samples/s]\n"
     ]
    },
    {
     "name": "stdout",
     "output_type": "stream",
     "text": [
      "Initialised with 60 image(s) found.\n",
      "Output directory set to ./dataset/data/CUB_200_2011/cropped/046.Gadwall\\../../skewed/046.Gadwall."
     ]
    },
    {
     "name": "stderr",
     "output_type": "stream",
     "text": [
      "Processing <PIL.Image.Image image mode=RGB size=187x122 at 0x1DE138128B0>: 100%|██████████| 60/60 [00:00<00:00, 703.06 Samples/s]\n"
     ]
    },
    {
     "name": "stdout",
     "output_type": "stream",
     "text": [
      "Initialised with 60 image(s) found.\n",
      "Output directory set to ./dataset/data/CUB_200_2011/cropped/046.Gadwall\\../../sheared/046.Gadwall."
     ]
    },
    {
     "name": "stderr",
     "output_type": "stream",
     "text": [
      "Processing <PIL.Image.Image image mode=RGB size=187x122 at 0x1DE1219EA00>: 100%|██████████| 60/60 [00:00<00:00, 660.55 Samples/s]\n"
     ]
    },
    {
     "name": "stdout",
     "output_type": "stream",
     "text": [
      "Initialised with 60 image(s) found.\n",
      "Output directory set to ./dataset/data/CUB_200_2011/cropped/047.American_Goldfinch\\../../rotated/047.American_Goldfinch."
     ]
    },
    {
     "name": "stderr",
     "output_type": "stream",
     "text": [
      "Processing <PIL.Image.Image image mode=RGB size=145x120 at 0x1DE13818FA0>: 100%|██████████| 60/60 [00:00<00:00, 761.79 Samples/s]\n"
     ]
    },
    {
     "name": "stdout",
     "output_type": "stream",
     "text": [
      "Initialised with 60 image(s) found.\n",
      "Output directory set to ./dataset/data/CUB_200_2011/cropped/047.American_Goldfinch\\../../skewed/047.American_Goldfinch."
     ]
    },
    {
     "name": "stderr",
     "output_type": "stream",
     "text": [
      "Processing <PIL.Image.Image image mode=RGB size=145x120 at 0x1DE1380D880>: 100%|██████████| 60/60 [00:00<00:00, 771.28 Samples/s]"
     ]
    },
    {
     "name": "stdout",
     "output_type": "stream",
     "text": [
      "Initialised with 60 image(s) found.\n"
     ]
    },
    {
     "name": "stderr",
     "output_type": "stream",
     "text": [
      "\n"
     ]
    },
    {
     "name": "stdout",
     "output_type": "stream",
     "text": [
      "Output directory set to ./dataset/data/CUB_200_2011/cropped/047.American_Goldfinch\\../../sheared/047.American_Goldfinch."
     ]
    },
    {
     "name": "stderr",
     "output_type": "stream",
     "text": [
      "Processing <PIL.Image.Image image mode=RGB size=145x120 at 0x1DE137F8EB0>: 100%|██████████| 60/60 [00:00<00:00, 734.36 Samples/s]\n"
     ]
    },
    {
     "name": "stdout",
     "output_type": "stream",
     "text": [
      "Initialised with 60 image(s) found.\n",
      "Output directory set to ./dataset/data/CUB_200_2011/cropped/048.European_Goldfinch\\../../rotated/048.European_Goldfinch."
     ]
    },
    {
     "name": "stderr",
     "output_type": "stream",
     "text": [
      "Processing <PIL.Image.Image image mode=RGB size=114x130 at 0x1DE138212E0>: 100%|██████████| 60/60 [00:00<00:00, 734.19 Samples/s]\n"
     ]
    },
    {
     "name": "stdout",
     "output_type": "stream",
     "text": [
      "Initialised with 60 image(s) found.\n",
      "Output directory set to ./dataset/data/CUB_200_2011/cropped/048.European_Goldfinch\\../../skewed/048.European_Goldfinch."
     ]
    },
    {
     "name": "stderr",
     "output_type": "stream",
     "text": [
      "Processing <PIL.Image.Image image mode=RGB size=114x130 at 0x1DE13826490>: 100%|██████████| 60/60 [00:00<00:00, 635.60 Samples/s]\n"
     ]
    },
    {
     "name": "stdout",
     "output_type": "stream",
     "text": [
      "Initialised with 60 image(s) found.\n",
      "Output directory set to ./dataset/data/CUB_200_2011/cropped/048.European_Goldfinch\\../../sheared/048.European_Goldfinch."
     ]
    },
    {
     "name": "stderr",
     "output_type": "stream",
     "text": [
      "Processing <PIL.Image.Image image mode=RGB size=114x130 at 0x1DE13807580>: 100%|██████████| 60/60 [00:00<00:00, 707.70 Samples/s]\n"
     ]
    },
    {
     "name": "stdout",
     "output_type": "stream",
     "text": [
      "Initialised with 60 image(s) found.\n",
      "Output directory set to ./dataset/data/CUB_200_2011/cropped/049.Boat_tailed_Grackle\\../../rotated/049.Boat_tailed_Grackle."
     ]
    },
    {
     "name": "stderr",
     "output_type": "stream",
     "text": [
      "Processing <PIL.Image.Image image mode=RGB size=258x305 at 0x1DE13803A90>: 100%|██████████| 60/60 [00:00<00:00, 695.81 Samples/s]\n"
     ]
    },
    {
     "name": "stdout",
     "output_type": "stream",
     "text": [
      "Initialised with 60 image(s) found.\n",
      "Output directory set to ./dataset/data/CUB_200_2011/cropped/049.Boat_tailed_Grackle\\../../skewed/049.Boat_tailed_Grackle."
     ]
    },
    {
     "name": "stderr",
     "output_type": "stream",
     "text": [
      "Processing <PIL.Image.Image image mode=RGB size=258x305 at 0x1DE136E4EE0>: 100%|██████████| 60/60 [00:00<00:00, 412.85 Samples/s]\n"
     ]
    },
    {
     "name": "stdout",
     "output_type": "stream",
     "text": [
      "Initialised with 60 image(s) found.\n",
      "Output directory set to ./dataset/data/CUB_200_2011/cropped/049.Boat_tailed_Grackle\\../../sheared/049.Boat_tailed_Grackle."
     ]
    },
    {
     "name": "stderr",
     "output_type": "stream",
     "text": [
      "Processing <PIL.Image.Image image mode=RGB size=258x305 at 0x1DE1370D940>: 100%|██████████| 60/60 [00:00<00:00, 660.86 Samples/s]\n"
     ]
    },
    {
     "name": "stdout",
     "output_type": "stream",
     "text": [
      "Initialised with 60 image(s) found.\n",
      "Output directory set to ./dataset/data/CUB_200_2011/cropped/050.Eared_Grebe\\../../rotated/050.Eared_Grebe."
     ]
    },
    {
     "name": "stderr",
     "output_type": "stream",
     "text": [
      "Processing <PIL.Image.Image image mode=RGB size=226x115 at 0x1DE1375AE80>: 100%|██████████| 60/60 [00:00<00:00, 771.24 Samples/s]\n"
     ]
    },
    {
     "name": "stdout",
     "output_type": "stream",
     "text": [
      "Initialised with 60 image(s) found.\n",
      "Output directory set to ./dataset/data/CUB_200_2011/cropped/050.Eared_Grebe\\../../skewed/050.Eared_Grebe."
     ]
    },
    {
     "name": "stderr",
     "output_type": "stream",
     "text": [
      "Processing <PIL.Image.Image image mode=RGB size=226x115 at 0x1DE138126A0>: 100%|██████████| 60/60 [00:00<00:00, 682.60 Samples/s]\n"
     ]
    },
    {
     "name": "stdout",
     "output_type": "stream",
     "text": [
      "Initialised with 60 image(s) found.\n",
      "Output directory set to ./dataset/data/CUB_200_2011/cropped/050.Eared_Grebe\\../../sheared/050.Eared_Grebe."
     ]
    },
    {
     "name": "stderr",
     "output_type": "stream",
     "text": [
      "Processing <PIL.Image.Image image mode=RGB size=226x115 at 0x1DE1219E700>: 100%|██████████| 60/60 [00:00<00:00, 775.57 Samples/s]\n"
     ]
    },
    {
     "name": "stdout",
     "output_type": "stream",
     "text": [
      "Initialised with 60 image(s) found.\n",
      "Output directory set to ./dataset/data/CUB_200_2011/cropped/051.Horned_Grebe\\../../rotated/051.Horned_Grebe."
     ]
    },
    {
     "name": "stderr",
     "output_type": "stream",
     "text": [
      "Processing <PIL.Image.Image image mode=RGB size=238x130 at 0x1DE136C0040>: 100%|██████████| 60/60 [00:00<00:00, 756.64 Samples/s]\n"
     ]
    },
    {
     "name": "stdout",
     "output_type": "stream",
     "text": [
      "Initialised with 60 image(s) found.\n",
      "Output directory set to ./dataset/data/CUB_200_2011/cropped/051.Horned_Grebe\\../../skewed/051.Horned_Grebe."
     ]
    },
    {
     "name": "stderr",
     "output_type": "stream",
     "text": [
      "Processing <PIL.Image.Image image mode=RGB size=238x130 at 0x1DE1370DD00>: 100%|██████████| 60/60 [00:00<00:00, 707.54 Samples/s]\n"
     ]
    },
    {
     "name": "stdout",
     "output_type": "stream",
     "text": [
      "Initialised with 60 image(s) found.\n",
      "Output directory set to ./dataset/data/CUB_200_2011/cropped/051.Horned_Grebe\\../../sheared/051.Horned_Grebe."
     ]
    },
    {
     "name": "stderr",
     "output_type": "stream",
     "text": [
      "Processing <PIL.Image.Image image mode=RGB size=238x130 at 0x1DE13812DF0>: 100%|██████████| 60/60 [00:00<00:00, 722.31 Samples/s]\n"
     ]
    },
    {
     "name": "stdout",
     "output_type": "stream",
     "text": [
      "Initialised with 60 image(s) found.\n",
      "Output directory set to ./dataset/data/CUB_200_2011/cropped/052.Pied_billed_Grebe\\../../rotated/052.Pied_billed_Grebe."
     ]
    },
    {
     "name": "stderr",
     "output_type": "stream",
     "text": [
      "Processing <PIL.Image.Image image mode=RGB size=239x128 at 0x1DE1370D790>: 100%|██████████| 60/60 [00:00<00:00, 735.80 Samples/s]\n"
     ]
    },
    {
     "name": "stdout",
     "output_type": "stream",
     "text": [
      "Initialised with 60 image(s) found.\n",
      "Output directory set to ./dataset/data/CUB_200_2011/cropped/052.Pied_billed_Grebe\\../../skewed/052.Pied_billed_Grebe."
     ]
    },
    {
     "name": "stderr",
     "output_type": "stream",
     "text": [
      "Processing <PIL.Image.Image image mode=RGB size=239x128 at 0x1DE125ADD00>: 100%|██████████| 60/60 [00:00<00:00, 726.55 Samples/s]\n"
     ]
    },
    {
     "name": "stdout",
     "output_type": "stream",
     "text": [
      "Initialised with 60 image(s) found.\n",
      "Output directory set to ./dataset/data/CUB_200_2011/cropped/052.Pied_billed_Grebe\\../../sheared/052.Pied_billed_Grebe."
     ]
    },
    {
     "name": "stderr",
     "output_type": "stream",
     "text": [
      "Processing <PIL.Image.Image image mode=RGB size=239x128 at 0x1DE136C2C70>: 100%|██████████| 60/60 [00:00<00:00, 697.50 Samples/s]\n"
     ]
    },
    {
     "name": "stdout",
     "output_type": "stream",
     "text": [
      "Initialised with 60 image(s) found.\n",
      "Output directory set to ./dataset/data/CUB_200_2011/cropped/053.Western_Grebe\\../../rotated/053.Western_Grebe."
     ]
    },
    {
     "name": "stderr",
     "output_type": "stream",
     "text": [
      "Processing <PIL.Image.Image image mode=RGB size=182x124 at 0x1DE137D12E0>: 100%|██████████| 60/60 [00:00<00:00, 732.98 Samples/s]\n"
     ]
    },
    {
     "name": "stdout",
     "output_type": "stream",
     "text": [
      "Initialised with 60 image(s) found.\n",
      "Output directory set to ./dataset/data/CUB_200_2011/cropped/053.Western_Grebe\\../../skewed/053.Western_Grebe."
     ]
    },
    {
     "name": "stderr",
     "output_type": "stream",
     "text": [
      "Processing <PIL.Image.Image image mode=RGB size=182x124 at 0x1DE12F93880>: 100%|██████████| 60/60 [00:00<00:00, 765.05 Samples/s]\n"
     ]
    },
    {
     "name": "stdout",
     "output_type": "stream",
     "text": [
      "Initialised with 60 image(s) found.\n",
      "Output directory set to ./dataset/data/CUB_200_2011/cropped/053.Western_Grebe\\../../sheared/053.Western_Grebe."
     ]
    },
    {
     "name": "stderr",
     "output_type": "stream",
     "text": [
      "Processing <PIL.Image.Image image mode=RGB size=182x124 at 0x1DE12F93910>: 100%|██████████| 60/60 [00:00<00:00, 823.39 Samples/s]\n"
     ]
    },
    {
     "name": "stdout",
     "output_type": "stream",
     "text": [
      "Initialised with 60 image(s) found.\n",
      "Output directory set to ./dataset/data/CUB_200_2011/cropped/054.Blue_Grosbeak\\../../rotated/054.Blue_Grosbeak."
     ]
    },
    {
     "name": "stderr",
     "output_type": "stream",
     "text": [
      "Processing <PIL.Image.Image image mode=RGB size=186x216 at 0x1DE137D1610>: 100%|██████████| 60/60 [00:00<00:00, 737.86 Samples/s]"
     ]
    },
    {
     "name": "stdout",
     "output_type": "stream",
     "text": [
      "Initialised with 60 image(s) found.\n"
     ]
    },
    {
     "name": "stderr",
     "output_type": "stream",
     "text": [
      "\n"
     ]
    },
    {
     "name": "stdout",
     "output_type": "stream",
     "text": [
      "Output directory set to ./dataset/data/CUB_200_2011/cropped/054.Blue_Grosbeak\\../../skewed/054.Blue_Grosbeak."
     ]
    },
    {
     "name": "stderr",
     "output_type": "stream",
     "text": [
      "Processing <PIL.Image.Image image mode=RGB size=186x216 at 0x1DE13829F40>: 100%|██████████| 60/60 [00:00<00:00, 727.95 Samples/s]"
     ]
    },
    {
     "name": "stdout",
     "output_type": "stream",
     "text": [
      "Initialised with 60 image(s) found.\n"
     ]
    },
    {
     "name": "stderr",
     "output_type": "stream",
     "text": [
      "\n"
     ]
    },
    {
     "name": "stdout",
     "output_type": "stream",
     "text": [
      "Output directory set to ./dataset/data/CUB_200_2011/cropped/054.Blue_Grosbeak\\../../sheared/054.Blue_Grosbeak."
     ]
    },
    {
     "name": "stderr",
     "output_type": "stream",
     "text": [
      "Processing <PIL.Image.Image image mode=RGB size=186x216 at 0x1DE13806430>: 100%|██████████| 60/60 [00:00<00:00, 780.61 Samples/s]\n"
     ]
    },
    {
     "name": "stdout",
     "output_type": "stream",
     "text": [
      "Initialised with 60 image(s) found.\n",
      "Output directory set to ./dataset/data/CUB_200_2011/cropped/055.Evening_Grosbeak\\../../rotated/055.Evening_Grosbeak."
     ]
    },
    {
     "name": "stderr",
     "output_type": "stream",
     "text": [
      "Processing <PIL.Image.Image image mode=RGB size=260x114 at 0x1DE13767820>: 100%|██████████| 60/60 [00:00<00:00, 699.65 Samples/s]\n"
     ]
    },
    {
     "name": "stdout",
     "output_type": "stream",
     "text": [
      "Initialised with 60 image(s) found.\n",
      "Output directory set to ./dataset/data/CUB_200_2011/cropped/055.Evening_Grosbeak\\../../skewed/055.Evening_Grosbeak."
     ]
    },
    {
     "name": "stderr",
     "output_type": "stream",
     "text": [
      "Processing <PIL.Image.Image image mode=RGB size=260x114 at 0x1DE138062B0>: 100%|██████████| 60/60 [00:00<00:00, 742.23 Samples/s]"
     ]
    },
    {
     "name": "stdout",
     "output_type": "stream",
     "text": [
      "Initialised with 60 image(s) found.\n"
     ]
    },
    {
     "name": "stderr",
     "output_type": "stream",
     "text": [
      "\n"
     ]
    },
    {
     "name": "stdout",
     "output_type": "stream",
     "text": [
      "Output directory set to ./dataset/data/CUB_200_2011/cropped/055.Evening_Grosbeak\\../../sheared/055.Evening_Grosbeak."
     ]
    },
    {
     "name": "stderr",
     "output_type": "stream",
     "text": [
      "Processing <PIL.Image.Image image mode=RGB size=260x114 at 0x1DE13812D00>: 100%|██████████| 60/60 [00:00<00:00, 719.96 Samples/s]\n"
     ]
    },
    {
     "name": "stdout",
     "output_type": "stream",
     "text": [
      "Initialised with 60 image(s) found.\n",
      "Output directory set to ./dataset/data/CUB_200_2011/cropped/056.Pine_Grosbeak\\../../rotated/056.Pine_Grosbeak."
     ]
    },
    {
     "name": "stderr",
     "output_type": "stream",
     "text": [
      "Processing <PIL.Image.Image image mode=RGB size=196x132 at 0x1DE137D1A90>: 100%|██████████| 60/60 [00:00<00:00, 703.24 Samples/s]\n"
     ]
    },
    {
     "name": "stdout",
     "output_type": "stream",
     "text": [
      "Initialised with 60 image(s) found.\n",
      "Output directory set to ./dataset/data/CUB_200_2011/cropped/056.Pine_Grosbeak\\../../skewed/056.Pine_Grosbeak."
     ]
    },
    {
     "name": "stderr",
     "output_type": "stream",
     "text": [
      "Processing <PIL.Image.Image image mode=RGB size=196x132 at 0x1DE137D16A0>: 100%|██████████| 60/60 [00:00<00:00, 671.55 Samples/s]\n"
     ]
    },
    {
     "name": "stdout",
     "output_type": "stream",
     "text": [
      "Initialised with 60 image(s) found.\n",
      "Output directory set to ./dataset/data/CUB_200_2011/cropped/056.Pine_Grosbeak\\../../sheared/056.Pine_Grosbeak."
     ]
    },
    {
     "name": "stderr",
     "output_type": "stream",
     "text": [
      "Processing <PIL.Image.Image image mode=RGB size=196x132 at 0x1DE13767250>: 100%|██████████| 60/60 [00:00<00:00, 756.34 Samples/s]\n"
     ]
    },
    {
     "name": "stdout",
     "output_type": "stream",
     "text": [
      "Initialised with 60 image(s) found.\n",
      "Output directory set to ./dataset/data/CUB_200_2011/cropped/057.Rose_breasted_Grosbeak\\../../rotated/057.Rose_breasted_Grosbeak."
     ]
    },
    {
     "name": "stderr",
     "output_type": "stream",
     "text": [
      "Processing <PIL.Image.Image image mode=RGB size=122x156 at 0x1DE137D15E0>: 100%|██████████| 60/60 [00:00<00:00, 746.87 Samples/s]\n"
     ]
    },
    {
     "name": "stdout",
     "output_type": "stream",
     "text": [
      "Initialised with 60 image(s) found.\n",
      "Output directory set to ./dataset/data/CUB_200_2011/cropped/057.Rose_breasted_Grosbeak\\../../skewed/057.Rose_breasted_Grosbeak."
     ]
    },
    {
     "name": "stderr",
     "output_type": "stream",
     "text": [
      "Processing <PIL.Image.Image image mode=RGB size=122x156 at 0x1DE1375A340>: 100%|██████████| 60/60 [00:00<00:00, 585.57 Samples/s]\n"
     ]
    },
    {
     "name": "stdout",
     "output_type": "stream",
     "text": [
      "Initialised with 60 image(s) found.\n",
      "Output directory set to ./dataset/data/CUB_200_2011/cropped/057.Rose_breasted_Grosbeak\\../../sheared/057.Rose_breasted_Grosbeak."
     ]
    },
    {
     "name": "stderr",
     "output_type": "stream",
     "text": [
      "Processing <PIL.Image.Image image mode=RGB size=122x156 at 0x1DE13766F70>: 100%|██████████| 60/60 [00:00<00:00, 751.03 Samples/s]\n"
     ]
    },
    {
     "name": "stdout",
     "output_type": "stream",
     "text": [
      "Initialised with 58 image(s) found.\n",
      "Output directory set to ./dataset/data/CUB_200_2011/cropped/058.Pigeon_Guillemot\\../../rotated/058.Pigeon_Guillemot."
     ]
    },
    {
     "name": "stderr",
     "output_type": "stream",
     "text": [
      "Processing <PIL.Image.Image image mode=RGB size=139x181 at 0x1DE13767700>: 100%|██████████| 58/58 [00:00<00:00, 770.99 Samples/s]\n"
     ]
    },
    {
     "name": "stdout",
     "output_type": "stream",
     "text": [
      "Initialised with 58 image(s) found.\n",
      "Output directory set to ./dataset/data/CUB_200_2011/cropped/058.Pigeon_Guillemot\\../../skewed/058.Pigeon_Guillemot."
     ]
    },
    {
     "name": "stderr",
     "output_type": "stream",
     "text": [
      "Processing <PIL.Image.Image image mode=RGB size=139x181 at 0x1DE137D1670>: 100%|██████████| 58/58 [00:00<00:00, 759.42 Samples/s]\n"
     ]
    },
    {
     "name": "stdout",
     "output_type": "stream",
     "text": [
      "Initialised with 58 image(s) found.\n",
      "Output directory set to ./dataset/data/CUB_200_2011/cropped/058.Pigeon_Guillemot\\../../sheared/058.Pigeon_Guillemot."
     ]
    },
    {
     "name": "stderr",
     "output_type": "stream",
     "text": [
      "Processing <PIL.Image.Image image mode=RGB size=139x181 at 0x1DE13767DC0>: 100%|██████████| 58/58 [00:00<00:00, 779.55 Samples/s]\n"
     ]
    },
    {
     "name": "stdout",
     "output_type": "stream",
     "text": [
      "Initialised with 60 image(s) found.\n",
      "Output directory set to ./dataset/data/CUB_200_2011/cropped/059.California_Gull\\../../rotated/059.California_Gull."
     ]
    },
    {
     "name": "stderr",
     "output_type": "stream",
     "text": [
      "Processing <PIL.Image.Image image mode=RGB size=243x200 at 0x1DE1370DC40>: 100%|██████████| 60/60 [00:00<00:00, 699.70 Samples/s]\n"
     ]
    },
    {
     "name": "stdout",
     "output_type": "stream",
     "text": [
      "Initialised with 60 image(s) found.\n",
      "Output directory set to ./dataset/data/CUB_200_2011/cropped/059.California_Gull\\../../skewed/059.California_Gull."
     ]
    },
    {
     "name": "stderr",
     "output_type": "stream",
     "text": [
      "Processing <PIL.Image.Image image mode=RGB size=243x200 at 0x1DE13829C10>: 100%|██████████| 60/60 [00:00<00:00, 690.03 Samples/s]\n"
     ]
    },
    {
     "name": "stdout",
     "output_type": "stream",
     "text": [
      "Initialised with 60 image(s) found.\n",
      "Output directory set to ./dataset/data/CUB_200_2011/cropped/059.California_Gull\\../../sheared/059.California_Gull."
     ]
    },
    {
     "name": "stderr",
     "output_type": "stream",
     "text": [
      "Processing <PIL.Image.Image image mode=RGB size=243x200 at 0x1DE12195EB0>: 100%|██████████| 60/60 [00:00<00:00, 676.25 Samples/s]\n"
     ]
    },
    {
     "name": "stdout",
     "output_type": "stream",
     "text": [
      "Initialised with 59 image(s) found.\n",
      "Output directory set to ./dataset/data/CUB_200_2011/cropped/060.Glaucous_winged_Gull\\../../rotated/060.Glaucous_winged_Gull."
     ]
    },
    {
     "name": "stderr",
     "output_type": "stream",
     "text": [
      "Processing <PIL.Image.Image image mode=RGB size=410x370 at 0x1DE137CD310>: 100%|██████████| 59/59 [00:00<00:00, 717.60 Samples/s]\n"
     ]
    },
    {
     "name": "stdout",
     "output_type": "stream",
     "text": [
      "Initialised with 59 image(s) found.\n",
      "Output directory set to ./dataset/data/CUB_200_2011/cropped/060.Glaucous_winged_Gull\\../../skewed/060.Glaucous_winged_Gull."
     ]
    },
    {
     "name": "stderr",
     "output_type": "stream",
     "text": [
      "Processing <PIL.Image.Image image mode=RGB size=410x370 at 0x1DE13812BB0>: 100%|██████████| 59/59 [00:00<00:00, 659.85 Samples/s]\n"
     ]
    },
    {
     "name": "stdout",
     "output_type": "stream",
     "text": [
      "Initialised with 59 image(s) found.\n",
      "Output directory set to ./dataset/data/CUB_200_2011/cropped/060.Glaucous_winged_Gull\\../../sheared/060.Glaucous_winged_Gull."
     ]
    },
    {
     "name": "stderr",
     "output_type": "stream",
     "text": [
      "Processing <PIL.Image.Image image mode=RGB size=410x370 at 0x1DE135AE610>: 100%|██████████| 59/59 [00:00<00:00, 675.78 Samples/s]\n"
     ]
    },
    {
     "name": "stdout",
     "output_type": "stream",
     "text": [
      "Initialised with 60 image(s) found.\n",
      "Output directory set to ./dataset/data/CUB_200_2011/cropped/061.Heermann_Gull\\../../rotated/061.Heermann_Gull."
     ]
    },
    {
     "name": "stderr",
     "output_type": "stream",
     "text": [
      "Processing <PIL.Image.Image image mode=RGB size=351x249 at 0x1DE1370D940>: 100%|██████████| 60/60 [00:00<00:00, 707.51 Samples/s]\n"
     ]
    },
    {
     "name": "stdout",
     "output_type": "stream",
     "text": [
      "Initialised with 60 image(s) found.\n",
      "Output directory set to ./dataset/data/CUB_200_2011/cropped/061.Heermann_Gull\\../../skewed/061.Heermann_Gull."
     ]
    },
    {
     "name": "stderr",
     "output_type": "stream",
     "text": [
      "Processing <PIL.Image.Image image mode=RGB size=351x249 at 0x1DE137CDDC0>: 100%|██████████| 60/60 [00:00<00:00, 698.82 Samples/s]\n"
     ]
    },
    {
     "name": "stdout",
     "output_type": "stream",
     "text": [
      "Initialised with 60 image(s) found.\n",
      "Output directory set to ./dataset/data/CUB_200_2011/cropped/061.Heermann_Gull\\../../sheared/061.Heermann_Gull."
     ]
    },
    {
     "name": "stderr",
     "output_type": "stream",
     "text": [
      "Processing <PIL.Image.Image image mode=RGB size=351x249 at 0x1DE13767970>: 100%|██████████| 60/60 [00:00<00:00, 709.42 Samples/s]\n"
     ]
    },
    {
     "name": "stdout",
     "output_type": "stream",
     "text": [
      "Initialised with 60 image(s) found.\n",
      "Output directory set to ./dataset/data/CUB_200_2011/cropped/062.Herring_Gull\\../../rotated/062.Herring_Gull."
     ]
    },
    {
     "name": "stderr",
     "output_type": "stream",
     "text": [
      "Processing <PIL.Image.Image image mode=RGB size=298x281 at 0x1DE13701940>: 100%|██████████| 60/60 [00:00<00:00, 649.66 Samples/s]\n"
     ]
    },
    {
     "name": "stdout",
     "output_type": "stream",
     "text": [
      "Initialised with 60 image(s) found.\n",
      "Output directory set to ./dataset/data/CUB_200_2011/cropped/062.Herring_Gull\\../../skewed/062.Herring_Gull."
     ]
    },
    {
     "name": "stderr",
     "output_type": "stream",
     "text": [
      "Processing <PIL.Image.Image image mode=RGB size=298x281 at 0x1DE137CD5B0>: 100%|██████████| 60/60 [00:00<00:00, 677.73 Samples/s]\n"
     ]
    },
    {
     "name": "stdout",
     "output_type": "stream",
     "text": [
      "Initialised with 60 image(s) found.\n",
      "Output directory set to ./dataset/data/CUB_200_2011/cropped/062.Herring_Gull\\../../sheared/062.Herring_Gull."
     ]
    },
    {
     "name": "stderr",
     "output_type": "stream",
     "text": [
      "Processing <PIL.Image.Image image mode=RGB size=298x281 at 0x1DE1373A850>: 100%|██████████| 60/60 [00:00<00:00, 642.65 Samples/s]\n"
     ]
    },
    {
     "name": "stdout",
     "output_type": "stream",
     "text": [
      "Initialised with 60 image(s) found.\n",
      "Output directory set to ./dataset/data/CUB_200_2011/cropped/063.Ivory_Gull\\../../rotated/063.Ivory_Gull."
     ]
    },
    {
     "name": "stderr",
     "output_type": "stream",
     "text": [
      "Processing <PIL.Image.Image image mode=RGB size=195x309 at 0x1DE137D1100>: 100%|██████████| 60/60 [00:00<00:00, 665.27 Samples/s]\n"
     ]
    },
    {
     "name": "stdout",
     "output_type": "stream",
     "text": [
      "Initialised with 60 image(s) found.\n",
      "Output directory set to ./dataset/data/CUB_200_2011/cropped/063.Ivory_Gull\\../../skewed/063.Ivory_Gull."
     ]
    },
    {
     "name": "stderr",
     "output_type": "stream",
     "text": [
      "Processing <PIL.Image.Image image mode=RGB size=195x309 at 0x1DE1373ABB0>: 100%|██████████| 60/60 [00:00<00:00, 702.98 Samples/s]\n"
     ]
    },
    {
     "name": "stdout",
     "output_type": "stream",
     "text": [
      "Initialised with 60 image(s) found.\n",
      "Output directory set to ./dataset/data/CUB_200_2011/cropped/063.Ivory_Gull\\../../sheared/063.Ivory_Gull."
     ]
    },
    {
     "name": "stderr",
     "output_type": "stream",
     "text": [
      "Processing <PIL.Image.Image image mode=RGB size=195x309 at 0x1DE1370DD30>: 100%|██████████| 60/60 [00:00<00:00, 661.32 Samples/s]\n"
     ]
    },
    {
     "name": "stdout",
     "output_type": "stream",
     "text": [
      "Initialised with 60 image(s) found.\n",
      "Output directory set to ./dataset/data/CUB_200_2011/cropped/064.Ring_billed_Gull\\../../rotated/064.Ring_billed_Gull."
     ]
    },
    {
     "name": "stderr",
     "output_type": "stream",
     "text": [
      "Processing <PIL.Image.Image image mode=RGB size=343x247 at 0x1DE13812DC0>: 100%|██████████| 60/60 [00:00<00:00, 695.00 Samples/s]\n"
     ]
    },
    {
     "name": "stdout",
     "output_type": "stream",
     "text": [
      "Initialised with 60 image(s) found.\n",
      "Output directory set to ./dataset/data/CUB_200_2011/cropped/064.Ring_billed_Gull\\../../skewed/064.Ring_billed_Gull."
     ]
    },
    {
     "name": "stderr",
     "output_type": "stream",
     "text": [
      "Processing <PIL.Image.Image image mode=RGB size=343x247 at 0x1DE137D1250>: 100%|██████████| 60/60 [00:00<00:00, 719.72 Samples/s]\n"
     ]
    },
    {
     "name": "stdout",
     "output_type": "stream",
     "text": [
      "Initialised with 60 image(s) found.\n",
      "Output directory set to ./dataset/data/CUB_200_2011/cropped/064.Ring_billed_Gull\\../../sheared/064.Ring_billed_Gull."
     ]
    },
    {
     "name": "stderr",
     "output_type": "stream",
     "text": [
      "Processing <PIL.Image.Image image mode=RGB size=343x247 at 0x1DE136C2BE0>: 100%|██████████| 60/60 [00:00<00:00, 651.13 Samples/s]\n"
     ]
    },
    {
     "name": "stdout",
     "output_type": "stream",
     "text": [
      "Initialised with 50 image(s) found.\n",
      "Output directory set to ./dataset/data/CUB_200_2011/cropped/065.Slaty_backed_Gull\\../../rotated/065.Slaty_backed_Gull."
     ]
    },
    {
     "name": "stderr",
     "output_type": "stream",
     "text": [
      "Processing <PIL.Image.Image image mode=RGB size=121x141 at 0x1DE13806FA0>: 100%|██████████| 50/50 [00:00<00:00, 650.84 Samples/s]\n"
     ]
    },
    {
     "name": "stdout",
     "output_type": "stream",
     "text": [
      "Initialised with 50 image(s) found.\n",
      "Output directory set to ./dataset/data/CUB_200_2011/cropped/065.Slaty_backed_Gull\\../../skewed/065.Slaty_backed_Gull."
     ]
    },
    {
     "name": "stderr",
     "output_type": "stream",
     "text": [
      "Processing <PIL.Image.Image image mode=RGB size=121x141 at 0x1DE1373A910>: 100%|██████████| 50/50 [00:00<00:00, 664.11 Samples/s]\n"
     ]
    },
    {
     "name": "stdout",
     "output_type": "stream",
     "text": [
      "Initialised with 50 image(s) found.\n",
      "Output directory set to ./dataset/data/CUB_200_2011/cropped/065.Slaty_backed_Gull\\../../sheared/065.Slaty_backed_Gull."
     ]
    },
    {
     "name": "stderr",
     "output_type": "stream",
     "text": [
      "Processing <PIL.Image.Image image mode=RGB size=121x141 at 0x1DE136C2CA0>: 100%|██████████| 50/50 [00:00<00:00, 757.37 Samples/s]\n"
     ]
    },
    {
     "name": "stdout",
     "output_type": "stream",
     "text": [
      "Initialised with 60 image(s) found.\n",
      "Output directory set to ./dataset/data/CUB_200_2011/cropped/066.Western_Gull\\../../rotated/066.Western_Gull."
     ]
    },
    {
     "name": "stderr",
     "output_type": "stream",
     "text": [
      "Processing <PIL.Image.Image image mode=RGB size=137x155 at 0x1DE1375AE20>: 100%|██████████| 60/60 [00:00<00:00, 738.23 Samples/s]"
     ]
    },
    {
     "name": "stdout",
     "output_type": "stream",
     "text": [
      "Initialised with 60 image(s) found.\n"
     ]
    },
    {
     "name": "stderr",
     "output_type": "stream",
     "text": [
      "\n"
     ]
    },
    {
     "name": "stdout",
     "output_type": "stream",
     "text": [
      "Output directory set to ./dataset/data/CUB_200_2011/cropped/066.Western_Gull\\../../skewed/066.Western_Gull."
     ]
    },
    {
     "name": "stderr",
     "output_type": "stream",
     "text": [
      "Processing <PIL.Image.Image image mode=RGB size=137x155 at 0x1DE137D1640>: 100%|██████████| 60/60 [00:00<00:00, 613.00 Samples/s]\n"
     ]
    },
    {
     "name": "stdout",
     "output_type": "stream",
     "text": [
      "Initialised with 60 image(s) found.\n",
      "Output directory set to ./dataset/data/CUB_200_2011/cropped/066.Western_Gull\\../../sheared/066.Western_Gull."
     ]
    },
    {
     "name": "stderr",
     "output_type": "stream",
     "text": [
      "Processing <PIL.Image.Image image mode=RGB size=137x155 at 0x1DE136C0160>: 100%|██████████| 60/60 [00:00<00:00, 640.01 Samples/s]\n"
     ]
    },
    {
     "name": "stdout",
     "output_type": "stream",
     "text": [
      "Initialised with 60 image(s) found.\n",
      "Output directory set to ./dataset/data/CUB_200_2011/cropped/067.Anna_Hummingbird\\../../rotated/067.Anna_Hummingbird."
     ]
    },
    {
     "name": "stderr",
     "output_type": "stream",
     "text": [
      "Processing <PIL.Image.Image image mode=RGB size=179x127 at 0x1DE13766610>: 100%|██████████| 60/60 [00:00<00:00, 706.41 Samples/s]\n"
     ]
    },
    {
     "name": "stdout",
     "output_type": "stream",
     "text": [
      "Initialised with 60 image(s) found.\n",
      "Output directory set to ./dataset/data/CUB_200_2011/cropped/067.Anna_Hummingbird\\../../skewed/067.Anna_Hummingbird."
     ]
    },
    {
     "name": "stderr",
     "output_type": "stream",
     "text": [
      "Processing <PIL.Image.Image image mode=RGB size=179x127 at 0x1DE137661F0>: 100%|██████████| 60/60 [00:00<00:00, 770.52 Samples/s]\n"
     ]
    },
    {
     "name": "stdout",
     "output_type": "stream",
     "text": [
      "Initialised with 60 image(s) found.\n",
      "Output directory set to ./dataset/data/CUB_200_2011/cropped/067.Anna_Hummingbird\\../../sheared/067.Anna_Hummingbird."
     ]
    },
    {
     "name": "stderr",
     "output_type": "stream",
     "text": [
      "Processing <PIL.Image.Image image mode=RGB size=179x127 at 0x1DE12195430>: 100%|██████████| 60/60 [00:00<00:00, 738.26 Samples/s]"
     ]
    },
    {
     "name": "stdout",
     "output_type": "stream",
     "text": [
      "Initialised with 60 image(s) found.\n"
     ]
    },
    {
     "name": "stderr",
     "output_type": "stream",
     "text": [
      "\n"
     ]
    },
    {
     "name": "stdout",
     "output_type": "stream",
     "text": [
      "Output directory set to ./dataset/data/CUB_200_2011/cropped/068.Ruby_throated_Hummingbird\\../../rotated/068.Ruby_throated_Hummingbird."
     ]
    },
    {
     "name": "stderr",
     "output_type": "stream",
     "text": [
      "Processing <PIL.Image.Image image mode=RGB size=253x189 at 0x1DE135AE670>: 100%|██████████| 60/60 [00:00<00:00, 707.23 Samples/s]\n"
     ]
    },
    {
     "name": "stdout",
     "output_type": "stream",
     "text": [
      "Initialised with 60 image(s) found.\n",
      "Output directory set to ./dataset/data/CUB_200_2011/cropped/068.Ruby_throated_Hummingbird\\../../skewed/068.Ruby_throated_Hummingbird."
     ]
    },
    {
     "name": "stderr",
     "output_type": "stream",
     "text": [
      "Processing <PIL.Image.Image image mode=RGB size=253x189 at 0x1DE137669A0>: 100%|██████████| 60/60 [00:00<00:00, 625.07 Samples/s]\n"
     ]
    },
    {
     "name": "stdout",
     "output_type": "stream",
     "text": [
      "Initialised with 60 image(s) found.\n",
      "Output directory set to ./dataset/data/CUB_200_2011/cropped/068.Ruby_throated_Hummingbird\\../../sheared/068.Ruby_throated_Hummingbird."
     ]
    },
    {
     "name": "stderr",
     "output_type": "stream",
     "text": [
      "Processing <PIL.Image.Image image mode=RGB size=253x189 at 0x1DE1370DB20>: 100%|██████████| 60/60 [00:00<00:00, 791.07 Samples/s]\n"
     ]
    },
    {
     "name": "stdout",
     "output_type": "stream",
     "text": [
      "Initialised with 60 image(s) found.\n",
      "Output directory set to ./dataset/data/CUB_200_2011/cropped/069.Rufous_Hummingbird\\../../rotated/069.Rufous_Hummingbird."
     ]
    },
    {
     "name": "stderr",
     "output_type": "stream",
     "text": [
      "Processing <PIL.Image.Image image mode=RGB size=251x237 at 0x1DE137CD040>: 100%|██████████| 60/60 [00:00<00:00, 695.06 Samples/s]\n"
     ]
    },
    {
     "name": "stdout",
     "output_type": "stream",
     "text": [
      "Initialised with 60 image(s) found.\n",
      "Output directory set to ./dataset/data/CUB_200_2011/cropped/069.Rufous_Hummingbird\\../../skewed/069.Rufous_Hummingbird."
     ]
    },
    {
     "name": "stderr",
     "output_type": "stream",
     "text": [
      "Processing <PIL.Image.Image image mode=RGB size=251x237 at 0x1DE13806400>: 100%|██████████| 60/60 [00:00<00:00, 703.68 Samples/s]\n"
     ]
    },
    {
     "name": "stdout",
     "output_type": "stream",
     "text": [
      "Initialised with 60 image(s) found.\n",
      "Output directory set to ./dataset/data/CUB_200_2011/cropped/069.Rufous_Hummingbird\\../../sheared/069.Rufous_Hummingbird."
     ]
    },
    {
     "name": "stderr",
     "output_type": "stream",
     "text": [
      "Processing <PIL.Image.Image image mode=RGB size=251x237 at 0x1DE138128E0>: 100%|██████████| 60/60 [00:00<00:00, 711.84 Samples/s]\n"
     ]
    },
    {
     "name": "stdout",
     "output_type": "stream",
     "text": [
      "Initialised with 60 image(s) found.\n",
      "Output directory set to ./dataset/data/CUB_200_2011/cropped/070.Green_Violetear\\../../rotated/070.Green_Violetear."
     ]
    },
    {
     "name": "stderr",
     "output_type": "stream",
     "text": [
      "Processing <PIL.Image.Image image mode=RGB size=327x268 at 0x1DE1373A220>: 100%|██████████| 60/60 [00:00<00:00, 586.01 Samples/s]\n"
     ]
    },
    {
     "name": "stdout",
     "output_type": "stream",
     "text": [
      "Initialised with 60 image(s) found.\n",
      "Output directory set to ./dataset/data/CUB_200_2011/cropped/070.Green_Violetear\\../../skewed/070.Green_Violetear."
     ]
    },
    {
     "name": "stderr",
     "output_type": "stream",
     "text": [
      "Processing <PIL.Image.Image image mode=RGB size=327x268 at 0x1DE136C2D90>: 100%|██████████| 60/60 [00:00<00:00, 686.40 Samples/s]\n"
     ]
    },
    {
     "name": "stdout",
     "output_type": "stream",
     "text": [
      "Initialised with 60 image(s) found.\n",
      "Output directory set to ./dataset/data/CUB_200_2011/cropped/070.Green_Violetear\\../../sheared/070.Green_Violetear."
     ]
    },
    {
     "name": "stderr",
     "output_type": "stream",
     "text": [
      "Processing <PIL.Image.Image image mode=RGB size=327x268 at 0x1DE12195EE0>: 100%|██████████| 60/60 [00:00<00:00, 738.24 Samples/s]\n"
     ]
    },
    {
     "name": "stdout",
     "output_type": "stream",
     "text": [
      "Initialised with 60 image(s) found.\n",
      "Output directory set to ./dataset/data/CUB_200_2011/cropped/071.Long_tailed_Jaeger\\../../rotated/071.Long_tailed_Jaeger."
     ]
    },
    {
     "name": "stderr",
     "output_type": "stream",
     "text": [
      "Processing <PIL.Image.Image image mode=RGB size=314x162 at 0x1DE1375AE50>: 100%|██████████| 60/60 [00:00<00:00, 725.46 Samples/s]\n"
     ]
    },
    {
     "name": "stdout",
     "output_type": "stream",
     "text": [
      "Initialised with 60 image(s) found.\n",
      "Output directory set to ./dataset/data/CUB_200_2011/cropped/071.Long_tailed_Jaeger\\../../skewed/071.Long_tailed_Jaeger."
     ]
    },
    {
     "name": "stderr",
     "output_type": "stream",
     "text": [
      "Processing <PIL.Image.Image image mode=RGB size=314x162 at 0x1DE137CD4F0>: 100%|██████████| 60/60 [00:00<00:00, 728.87 Samples/s]\n"
     ]
    },
    {
     "name": "stdout",
     "output_type": "stream",
     "text": [
      "Initialised with 60 image(s) found.\n",
      "Output directory set to ./dataset/data/CUB_200_2011/cropped/071.Long_tailed_Jaeger\\../../sheared/071.Long_tailed_Jaeger."
     ]
    },
    {
     "name": "stderr",
     "output_type": "stream",
     "text": [
      "Processing <PIL.Image.Image image mode=RGB size=314x162 at 0x1DE13701BB0>: 100%|██████████| 60/60 [00:00<00:00, 656.64 Samples/s]\n"
     ]
    },
    {
     "name": "stdout",
     "output_type": "stream",
     "text": [
      "Initialised with 60 image(s) found.\n",
      "Output directory set to ./dataset/data/CUB_200_2011/cropped/072.Pomarine_Jaeger\\../../rotated/072.Pomarine_Jaeger."
     ]
    },
    {
     "name": "stderr",
     "output_type": "stream",
     "text": [
      "Processing <PIL.Image.Image image mode=RGB size=451x267 at 0x1DE13766A00>: 100%|██████████| 60/60 [00:00<00:00, 756.74 Samples/s]\n"
     ]
    },
    {
     "name": "stdout",
     "output_type": "stream",
     "text": [
      "Initialised with 60 image(s) found.\n",
      "Output directory set to ./dataset/data/CUB_200_2011/cropped/072.Pomarine_Jaeger\\../../skewed/072.Pomarine_Jaeger."
     ]
    },
    {
     "name": "stderr",
     "output_type": "stream",
     "text": [
      "Processing <PIL.Image.Image image mode=RGB size=451x267 at 0x1DE13701F10>: 100%|██████████| 60/60 [00:00<00:00, 732.61 Samples/s]\n"
     ]
    },
    {
     "name": "stdout",
     "output_type": "stream",
     "text": [
      "Initialised with 60 image(s) found.\n",
      "Output directory set to ./dataset/data/CUB_200_2011/cropped/072.Pomarine_Jaeger\\../../sheared/072.Pomarine_Jaeger."
     ]
    },
    {
     "name": "stderr",
     "output_type": "stream",
     "text": [
      "Processing <PIL.Image.Image image mode=RGB size=451x267 at 0x1DE137D1730>: 100%|██████████| 60/60 [00:00<00:00, 698.36 Samples/s]\n"
     ]
    },
    {
     "name": "stdout",
     "output_type": "stream",
     "text": [
      "Initialised with 60 image(s) found.\n",
      "Output directory set to ./dataset/data/CUB_200_2011/cropped/073.Blue_Jay\\../../rotated/073.Blue_Jay."
     ]
    },
    {
     "name": "stderr",
     "output_type": "stream",
     "text": [
      "Processing <PIL.Image.Image image mode=RGB size=234x319 at 0x1DE13766040>: 100%|██████████| 60/60 [00:00<00:00, 686.97 Samples/s]\n"
     ]
    },
    {
     "name": "stdout",
     "output_type": "stream",
     "text": [
      "Initialised with 60 image(s) found.\n",
      "Output directory set to ./dataset/data/CUB_200_2011/cropped/073.Blue_Jay\\../../skewed/073.Blue_Jay."
     ]
    },
    {
     "name": "stderr",
     "output_type": "stream",
     "text": [
      "Processing <PIL.Image.Image image mode=RGB size=234x319 at 0x1DE137CDBB0>: 100%|██████████| 60/60 [00:00<00:00, 656.92 Samples/s]\n"
     ]
    },
    {
     "name": "stdout",
     "output_type": "stream",
     "text": [
      "Initialised with 60 image(s) found.\n",
      "Output directory set to ./dataset/data/CUB_200_2011/cropped/073.Blue_Jay\\../../sheared/073.Blue_Jay."
     ]
    },
    {
     "name": "stderr",
     "output_type": "stream",
     "text": [
      "Processing <PIL.Image.Image image mode=RGB size=234x319 at 0x1DE12195EE0>: 100%|██████████| 60/60 [00:00<00:00, 638.89 Samples/s]\n"
     ]
    },
    {
     "name": "stdout",
     "output_type": "stream",
     "text": [
      "Initialised with 60 image(s) found.\n",
      "Output directory set to ./dataset/data/CUB_200_2011/cropped/074.Florida_Jay\\../../rotated/074.Florida_Jay."
     ]
    },
    {
     "name": "stderr",
     "output_type": "stream",
     "text": [
      "Processing <PIL.Image.Image image mode=RGB size=204x202 at 0x1DE1370D940>: 100%|██████████| 60/60 [00:00<00:00, 716.01 Samples/s]\n"
     ]
    },
    {
     "name": "stdout",
     "output_type": "stream",
     "text": [
      "Initialised with 60 image(s) found.\n",
      "Output directory set to ./dataset/data/CUB_200_2011/cropped/074.Florida_Jay\\../../skewed/074.Florida_Jay."
     ]
    },
    {
     "name": "stderr",
     "output_type": "stream",
     "text": [
      "Processing <PIL.Image.Image image mode=RGB size=204x202 at 0x1DE1370DB20>: 100%|██████████| 60/60 [00:00<00:00, 707.16 Samples/s]\n"
     ]
    },
    {
     "name": "stdout",
     "output_type": "stream",
     "text": [
      "Initialised with 60 image(s) found.\n",
      "Output directory set to ./dataset/data/CUB_200_2011/cropped/074.Florida_Jay\\../../sheared/074.Florida_Jay."
     ]
    },
    {
     "name": "stderr",
     "output_type": "stream",
     "text": [
      "Processing <PIL.Image.Image image mode=RGB size=204x202 at 0x1DE13767370>: 100%|██████████| 60/60 [00:00<00:00, 704.68 Samples/s]\n"
     ]
    },
    {
     "name": "stdout",
     "output_type": "stream",
     "text": [
      "Initialised with 57 image(s) found.\n",
      "Output directory set to ./dataset/data/CUB_200_2011/cropped/075.Green_Jay\\../../rotated/075.Green_Jay."
     ]
    },
    {
     "name": "stderr",
     "output_type": "stream",
     "text": [
      "Processing <PIL.Image.Image image mode=RGB size=284x231 at 0x1DE13701C10>: 100%|██████████| 57/57 [00:00<00:00, 680.30 Samples/s]\n"
     ]
    },
    {
     "name": "stdout",
     "output_type": "stream",
     "text": [
      "Initialised with 57 image(s) found.\n",
      "Output directory set to ./dataset/data/CUB_200_2011/cropped/075.Green_Jay\\../../skewed/075.Green_Jay."
     ]
    },
    {
     "name": "stderr",
     "output_type": "stream",
     "text": [
      "Processing <PIL.Image.Image image mode=RGB size=284x231 at 0x1DE136C2FD0>: 100%|██████████| 57/57 [00:00<00:00, 613.23 Samples/s]\n"
     ]
    },
    {
     "name": "stdout",
     "output_type": "stream",
     "text": [
      "Initialised with 57 image(s) found.\n",
      "Output directory set to ./dataset/data/CUB_200_2011/cropped/075.Green_Jay\\../../sheared/075.Green_Jay."
     ]
    },
    {
     "name": "stderr",
     "output_type": "stream",
     "text": [
      "Processing <PIL.Image.Image image mode=RGB size=284x231 at 0x1DE136C2BE0>: 100%|██████████| 57/57 [00:00<00:00, 772.05 Samples/s]"
     ]
    },
    {
     "name": "stdout",
     "output_type": "stream",
     "text": [
      "Initialised with 60 image(s) found.\n"
     ]
    },
    {
     "name": "stderr",
     "output_type": "stream",
     "text": [
      "\n"
     ]
    },
    {
     "name": "stdout",
     "output_type": "stream",
     "text": [
      "Output directory set to ./dataset/data/CUB_200_2011/cropped/076.Dark_eyed_Junco\\../../rotated/076.Dark_eyed_Junco."
     ]
    },
    {
     "name": "stderr",
     "output_type": "stream",
     "text": [
      "Processing <PIL.Image.Image image mode=RGB size=235x432 at 0x1DE13701A00>: 100%|██████████| 60/60 [00:00<00:00, 723.66 Samples/s]\n"
     ]
    },
    {
     "name": "stdout",
     "output_type": "stream",
     "text": [
      "Initialised with 60 image(s) found.\n",
      "Output directory set to ./dataset/data/CUB_200_2011/cropped/076.Dark_eyed_Junco\\../../skewed/076.Dark_eyed_Junco."
     ]
    },
    {
     "name": "stderr",
     "output_type": "stream",
     "text": [
      "Processing <PIL.Image.Image image mode=RGB size=235x432 at 0x1DE137443D0>: 100%|██████████| 60/60 [00:00<00:00, 663.20 Samples/s]\n"
     ]
    },
    {
     "name": "stdout",
     "output_type": "stream",
     "text": [
      "Initialised with 60 image(s) found.\n",
      "Output directory set to ./dataset/data/CUB_200_2011/cropped/076.Dark_eyed_Junco\\../../sheared/076.Dark_eyed_Junco."
     ]
    },
    {
     "name": "stderr",
     "output_type": "stream",
     "text": [
      "Processing <PIL.Image.Image image mode=RGB size=235x432 at 0x1DE137D1700>: 100%|██████████| 60/60 [00:00<00:00, 733.73 Samples/s]\n"
     ]
    },
    {
     "name": "stdout",
     "output_type": "stream",
     "text": [
      "Initialised with 60 image(s) found.\n",
      "Output directory set to ./dataset/data/CUB_200_2011/cropped/077.Tropical_Kingbird\\../../rotated/077.Tropical_Kingbird."
     ]
    },
    {
     "name": "stderr",
     "output_type": "stream",
     "text": [
      "Processing <PIL.Image.Image image mode=RGB size=116x248 at 0x1DE13766160>: 100%|██████████| 60/60 [00:00<00:00, 667.89 Samples/s]\n"
     ]
    },
    {
     "name": "stdout",
     "output_type": "stream",
     "text": [
      "Initialised with 60 image(s) found.\n",
      "Output directory set to ./dataset/data/CUB_200_2011/cropped/077.Tropical_Kingbird\\../../skewed/077.Tropical_Kingbird."
     ]
    },
    {
     "name": "stderr",
     "output_type": "stream",
     "text": [
      "Processing <PIL.Image.Image image mode=RGB size=116x248 at 0x1DE138121C0>: 100%|██████████| 60/60 [00:00<00:00, 711.41 Samples/s]\n"
     ]
    },
    {
     "name": "stdout",
     "output_type": "stream",
     "text": [
      "Initialised with 60 image(s) found.\n",
      "Output directory set to ./dataset/data/CUB_200_2011/cropped/077.Tropical_Kingbird\\../../sheared/077.Tropical_Kingbird."
     ]
    },
    {
     "name": "stderr",
     "output_type": "stream",
     "text": [
      "Processing <PIL.Image.Image image mode=RGB size=116x248 at 0x1DE12195DC0>: 100%|██████████| 60/60 [00:00<00:00, 729.70 Samples/s]\n"
     ]
    },
    {
     "name": "stdout",
     "output_type": "stream",
     "text": [
      "Initialised with 59 image(s) found.\n",
      "Output directory set to ./dataset/data/CUB_200_2011/cropped/078.Gray_Kingbird\\../../rotated/078.Gray_Kingbird."
     ]
    },
    {
     "name": "stderr",
     "output_type": "stream",
     "text": [
      "Processing <PIL.Image.Image image mode=RGB size=155x405 at 0x1DE12195790>: 100%|██████████| 59/59 [00:00<00:00, 711.91 Samples/s]\n"
     ]
    },
    {
     "name": "stdout",
     "output_type": "stream",
     "text": [
      "Initialised with 59 image(s) found.\n",
      "Output directory set to ./dataset/data/CUB_200_2011/cropped/078.Gray_Kingbird\\../../skewed/078.Gray_Kingbird."
     ]
    },
    {
     "name": "stderr",
     "output_type": "stream",
     "text": [
      "Processing <PIL.Image.Image image mode=RGB size=155x405 at 0x1DE137CD310>: 100%|██████████| 59/59 [00:00<00:00, 716.44 Samples/s]\n"
     ]
    },
    {
     "name": "stdout",
     "output_type": "stream",
     "text": [
      "Initialised with 59 image(s) found.\n",
      "Output directory set to ./dataset/data/CUB_200_2011/cropped/078.Gray_Kingbird\\../../sheared/078.Gray_Kingbird."
     ]
    },
    {
     "name": "stderr",
     "output_type": "stream",
     "text": [
      "Processing <PIL.Image.Image image mode=RGB size=155x405 at 0x1DE1219EA60>: 100%|██████████| 59/59 [00:00<00:00, 748.55 Samples/s]\n"
     ]
    },
    {
     "name": "stdout",
     "output_type": "stream",
     "text": [
      "Initialised with 60 image(s) found.\n",
      "Output directory set to ./dataset/data/CUB_200_2011/cropped/079.Belted_Kingfisher\\../../rotated/079.Belted_Kingfisher."
     ]
    },
    {
     "name": "stderr",
     "output_type": "stream",
     "text": [
      "Processing <PIL.Image.Image image mode=RGB size=200x237 at 0x1DE13766B50>: 100%|██████████| 60/60 [00:00<00:00, 691.27 Samples/s]\n"
     ]
    },
    {
     "name": "stdout",
     "output_type": "stream",
     "text": [
      "Initialised with 60 image(s) found.\n",
      "Output directory set to ./dataset/data/CUB_200_2011/cropped/079.Belted_Kingfisher\\../../skewed/079.Belted_Kingfisher."
     ]
    },
    {
     "name": "stderr",
     "output_type": "stream",
     "text": [
      "Processing <PIL.Image.Image image mode=RGB size=200x237 at 0x1DE1219EE20>: 100%|██████████| 60/60 [00:00<00:00, 750.74 Samples/s]\n"
     ]
    },
    {
     "name": "stdout",
     "output_type": "stream",
     "text": [
      "Initialised with 60 image(s) found.\n",
      "Output directory set to ./dataset/data/CUB_200_2011/cropped/079.Belted_Kingfisher\\../../sheared/079.Belted_Kingfisher."
     ]
    },
    {
     "name": "stderr",
     "output_type": "stream",
     "text": [
      "Processing <PIL.Image.Image image mode=RGB size=200x237 at 0x1DE137D1610>: 100%|██████████| 60/60 [00:00<00:00, 756.47 Samples/s]\n"
     ]
    },
    {
     "name": "stdout",
     "output_type": "stream",
     "text": [
      "Initialised with 60 image(s) found.\n",
      "Output directory set to ./dataset/data/CUB_200_2011/cropped/080.Green_Kingfisher\\../../rotated/080.Green_Kingfisher."
     ]
    },
    {
     "name": "stderr",
     "output_type": "stream",
     "text": [
      "Processing <PIL.Image.Image image mode=RGB size=239x256 at 0x1DE125ADD90>: 100%|██████████| 60/60 [00:00<00:00, 714.91 Samples/s]\n"
     ]
    },
    {
     "name": "stdout",
     "output_type": "stream",
     "text": [
      "Initialised with 60 image(s) found.\n",
      "Output directory set to ./dataset/data/CUB_200_2011/cropped/080.Green_Kingfisher\\../../skewed/080.Green_Kingfisher."
     ]
    },
    {
     "name": "stderr",
     "output_type": "stream",
     "text": [
      "Processing <PIL.Image.Image image mode=RGB size=239x256 at 0x1DE13829400>: 100%|██████████| 60/60 [00:00<00:00, 731.99 Samples/s]\n"
     ]
    },
    {
     "name": "stdout",
     "output_type": "stream",
     "text": [
      "Initialised with 60 image(s) found.\n",
      "Output directory set to ./dataset/data/CUB_200_2011/cropped/080.Green_Kingfisher\\../../sheared/080.Green_Kingfisher."
     ]
    },
    {
     "name": "stderr",
     "output_type": "stream",
     "text": [
      "Processing <PIL.Image.Image image mode=RGB size=239x256 at 0x1DE137D16D0>: 100%|██████████| 60/60 [00:00<00:00, 813.30 Samples/s]"
     ]
    },
    {
     "name": "stdout",
     "output_type": "stream",
     "text": [
      "Initialised with 60 image(s) found.\n"
     ]
    },
    {
     "name": "stderr",
     "output_type": "stream",
     "text": [
      "\n"
     ]
    },
    {
     "name": "stdout",
     "output_type": "stream",
     "text": [
      "Output directory set to ./dataset/data/CUB_200_2011/cropped/081.Pied_Kingfisher\\../../rotated/081.Pied_Kingfisher."
     ]
    },
    {
     "name": "stderr",
     "output_type": "stream",
     "text": [
      "Processing <PIL.Image.Image image mode=RGB size=175x242 at 0x1DE137D1A90>: 100%|██████████| 60/60 [00:00<00:00, 694.74 Samples/s]\n"
     ]
    },
    {
     "name": "stdout",
     "output_type": "stream",
     "text": [
      "Initialised with 60 image(s) found.\n",
      "Output directory set to ./dataset/data/CUB_200_2011/cropped/081.Pied_Kingfisher\\../../skewed/081.Pied_Kingfisher."
     ]
    },
    {
     "name": "stderr",
     "output_type": "stream",
     "text": [
      "Processing <PIL.Image.Image image mode=RGB size=175x242 at 0x1DE136E0400>: 100%|██████████| 60/60 [00:00<00:00, 682.33 Samples/s]\n"
     ]
    },
    {
     "name": "stdout",
     "output_type": "stream",
     "text": [
      "Initialised with 60 image(s) found.\n",
      "Output directory set to ./dataset/data/CUB_200_2011/cropped/081.Pied_Kingfisher\\../../sheared/081.Pied_Kingfisher."
     ]
    },
    {
     "name": "stderr",
     "output_type": "stream",
     "text": [
      "Processing <PIL.Image.Image image mode=RGB size=175x242 at 0x1DE13767880>: 100%|██████████| 60/60 [00:00<00:00, 761.80 Samples/s]\n"
     ]
    },
    {
     "name": "stdout",
     "output_type": "stream",
     "text": [
      "Initialised with 60 image(s) found.\n",
      "Output directory set to ./dataset/data/CUB_200_2011/cropped/082.Ringed_Kingfisher\\../../rotated/082.Ringed_Kingfisher."
     ]
    },
    {
     "name": "stderr",
     "output_type": "stream",
     "text": [
      "Processing <PIL.Image.Image image mode=RGB size=146x104 at 0x1DE137CD310>: 100%|██████████| 60/60 [00:00<00:00, 743.32 Samples/s]\n"
     ]
    },
    {
     "name": "stdout",
     "output_type": "stream",
     "text": [
      "Initialised with 60 image(s) found.\n",
      "Output directory set to ./dataset/data/CUB_200_2011/cropped/082.Ringed_Kingfisher\\../../skewed/082.Ringed_Kingfisher."
     ]
    },
    {
     "name": "stderr",
     "output_type": "stream",
     "text": [
      "Processing <PIL.Image.Image image mode=RGB size=146x104 at 0x1DE13767C40>: 100%|██████████| 60/60 [00:00<00:00, 707.45 Samples/s]\n"
     ]
    },
    {
     "name": "stdout",
     "output_type": "stream",
     "text": [
      "Initialised with 60 image(s) found.\n",
      "Output directory set to ./dataset/data/CUB_200_2011/cropped/082.Ringed_Kingfisher\\../../sheared/082.Ringed_Kingfisher."
     ]
    },
    {
     "name": "stderr",
     "output_type": "stream",
     "text": [
      "Processing <PIL.Image.Image image mode=RGB size=146x104 at 0x1DE13812A00>: 100%|██████████| 60/60 [00:00<00:00, 664.08 Samples/s]\n"
     ]
    },
    {
     "name": "stdout",
     "output_type": "stream",
     "text": [
      "Initialised with 60 image(s) found.\n",
      "Output directory set to ./dataset/data/CUB_200_2011/cropped/083.White_breasted_Kingfisher\\../../rotated/083.White_breasted_Kingfisher."
     ]
    },
    {
     "name": "stderr",
     "output_type": "stream",
     "text": [
      "Processing <PIL.Image.Image image mode=RGB size=202x257 at 0x1DE13701F10>: 100%|██████████| 60/60 [00:00<00:00, 625.87 Samples/s]\n"
     ]
    },
    {
     "name": "stdout",
     "output_type": "stream",
     "text": [
      "Initialised with 60 image(s) found.\n",
      "Output directory set to ./dataset/data/CUB_200_2011/cropped/083.White_breasted_Kingfisher\\../../skewed/083.White_breasted_Kingfisher."
     ]
    },
    {
     "name": "stderr",
     "output_type": "stream",
     "text": [
      "Processing <PIL.Image.Image image mode=RGB size=202x257 at 0x1DE12195DC0>: 100%|██████████| 60/60 [00:00<00:00, 711.41 Samples/s]\n"
     ]
    },
    {
     "name": "stdout",
     "output_type": "stream",
     "text": [
      "Initialised with 60 image(s) found.\n",
      "Output directory set to ./dataset/data/CUB_200_2011/cropped/083.White_breasted_Kingfisher\\../../sheared/083.White_breasted_Kingfisher."
     ]
    },
    {
     "name": "stderr",
     "output_type": "stream",
     "text": [
      "Processing <PIL.Image.Image image mode=RGB size=202x257 at 0x1DE12195070>: 100%|██████████| 60/60 [00:00<00:00, 791.06 Samples/s]"
     ]
    },
    {
     "name": "stdout",
     "output_type": "stream",
     "text": [
      "Initialised with 53 image(s) found.\n"
     ]
    },
    {
     "name": "stderr",
     "output_type": "stream",
     "text": [
      "\n"
     ]
    },
    {
     "name": "stdout",
     "output_type": "stream",
     "text": [
      "Output directory set to ./dataset/data/CUB_200_2011/cropped/084.Red_legged_Kittiwake\\../../rotated/084.Red_legged_Kittiwake."
     ]
    },
    {
     "name": "stderr",
     "output_type": "stream",
     "text": [
      "Processing <PIL.Image.Image image mode=RGB size=259x220 at 0x1DE1375AF70>: 100%|██████████| 53/53 [00:00<00:00, 703.61 Samples/s]\n"
     ]
    },
    {
     "name": "stdout",
     "output_type": "stream",
     "text": [
      "Initialised with 53 image(s) found.\n",
      "Output directory set to ./dataset/data/CUB_200_2011/cropped/084.Red_legged_Kittiwake\\../../skewed/084.Red_legged_Kittiwake."
     ]
    },
    {
     "name": "stderr",
     "output_type": "stream",
     "text": [
      "Processing <PIL.Image.Image image mode=RGB size=259x220 at 0x1DE137D1F70>: 100%|██████████| 53/53 [00:00<00:00, 613.60 Samples/s]\n"
     ]
    },
    {
     "name": "stdout",
     "output_type": "stream",
     "text": [
      "Initialised with 53 image(s) found.\n",
      "Output directory set to ./dataset/data/CUB_200_2011/cropped/084.Red_legged_Kittiwake\\../../sheared/084.Red_legged_Kittiwake."
     ]
    },
    {
     "name": "stderr",
     "output_type": "stream",
     "text": [
      "Processing <PIL.Image.Image image mode=RGB size=259x220 at 0x1DE13744040>: 100%|██████████| 53/53 [00:00<00:00, 691.59 Samples/s]\n"
     ]
    },
    {
     "name": "stdout",
     "output_type": "stream",
     "text": [
      "Initialised with 60 image(s) found.\n",
      "Output directory set to ./dataset/data/CUB_200_2011/cropped/085.Horned_Lark\\../../rotated/085.Horned_Lark."
     ]
    },
    {
     "name": "stderr",
     "output_type": "stream",
     "text": [
      "Processing <PIL.Image.Image image mode=RGB size=318x167 at 0x1DE137CD7C0>: 100%|██████████| 60/60 [00:00<00:00, 711.21 Samples/s]\n"
     ]
    },
    {
     "name": "stdout",
     "output_type": "stream",
     "text": [
      "Initialised with 60 image(s) found.\n",
      "Output directory set to ./dataset/data/CUB_200_2011/cropped/085.Horned_Lark\\../../skewed/085.Horned_Lark."
     ]
    },
    {
     "name": "stderr",
     "output_type": "stream",
     "text": [
      "Processing <PIL.Image.Image image mode=RGB size=318x167 at 0x1DE1219EBE0>: 100%|██████████| 60/60 [00:00<00:00, 725.74 Samples/s]\n"
     ]
    },
    {
     "name": "stdout",
     "output_type": "stream",
     "text": [
      "Initialised with 60 image(s) found.\n",
      "Output directory set to ./dataset/data/CUB_200_2011/cropped/085.Horned_Lark\\../../sheared/085.Horned_Lark."
     ]
    },
    {
     "name": "stderr",
     "output_type": "stream",
     "text": [
      "Processing <PIL.Image.Image image mode=RGB size=318x167 at 0x1DE137CDDC0>: 100%|██████████| 60/60 [00:00<00:00, 775.82 Samples/s]\n"
     ]
    },
    {
     "name": "stdout",
     "output_type": "stream",
     "text": [
      "Initialised with 60 image(s) found.\n",
      "Output directory set to ./dataset/data/CUB_200_2011/cropped/086.Pacific_Loon\\../../rotated/086.Pacific_Loon."
     ]
    },
    {
     "name": "stderr",
     "output_type": "stream",
     "text": [
      "Processing <PIL.Image.Image image mode=RGB size=282x158 at 0x1DE13812C10>: 100%|██████████| 60/60 [00:00<00:00, 711.62 Samples/s]\n"
     ]
    },
    {
     "name": "stdout",
     "output_type": "stream",
     "text": [
      "Initialised with 60 image(s) found.\n",
      "Output directory set to ./dataset/data/CUB_200_2011/cropped/086.Pacific_Loon\\../../skewed/086.Pacific_Loon."
     ]
    },
    {
     "name": "stderr",
     "output_type": "stream",
     "text": [
      "Processing <PIL.Image.Image image mode=RGB size=282x158 at 0x1DE137D16A0>: 100%|██████████| 60/60 [00:00<00:00, 625.78 Samples/s]\n"
     ]
    },
    {
     "name": "stdout",
     "output_type": "stream",
     "text": [
      "Initialised with 60 image(s) found.\n",
      "Output directory set to ./dataset/data/CUB_200_2011/cropped/086.Pacific_Loon\\../../sheared/086.Pacific_Loon."
     ]
    },
    {
     "name": "stderr",
     "output_type": "stream",
     "text": [
      "Processing <PIL.Image.Image image mode=RGB size=282x158 at 0x1DE136C0040>: 100%|██████████| 60/60 [00:00<00:00, 755.53 Samples/s]\n"
     ]
    },
    {
     "name": "stdout",
     "output_type": "stream",
     "text": [
      "Initialised with 60 image(s) found.\n",
      "Output directory set to ./dataset/data/CUB_200_2011/cropped/087.Mallard\\../../rotated/087.Mallard."
     ]
    },
    {
     "name": "stderr",
     "output_type": "stream",
     "text": [
      "Processing <PIL.Image.Image image mode=RGB size=384x292 at 0x1DE136E01F0>: 100%|██████████| 60/60 [00:00<00:00, 639.80 Samples/s]\n"
     ]
    },
    {
     "name": "stdout",
     "output_type": "stream",
     "text": [
      "Initialised with 60 image(s) found.\n",
      "Output directory set to ./dataset/data/CUB_200_2011/cropped/087.Mallard\\../../skewed/087.Mallard."
     ]
    },
    {
     "name": "stderr",
     "output_type": "stream",
     "text": [
      "Processing <PIL.Image.Image image mode=RGB size=384x292 at 0x1DE136C0100>: 100%|██████████| 60/60 [00:00<00:00, 701.53 Samples/s]\n"
     ]
    },
    {
     "name": "stdout",
     "output_type": "stream",
     "text": [
      "Initialised with 60 image(s) found.\n",
      "Output directory set to ./dataset/data/CUB_200_2011/cropped/087.Mallard\\../../sheared/087.Mallard."
     ]
    },
    {
     "name": "stderr",
     "output_type": "stream",
     "text": [
      "Processing <PIL.Image.Image image mode=RGB size=384x292 at 0x1DE13812040>: 100%|██████████| 60/60 [00:00<00:00, 698.99 Samples/s]\n"
     ]
    },
    {
     "name": "stdout",
     "output_type": "stream",
     "text": [
      "Initialised with 60 image(s) found.\n",
      "Output directory set to ./dataset/data/CUB_200_2011/cropped/088.Western_Meadowlark\\../../rotated/088.Western_Meadowlark."
     ]
    },
    {
     "name": "stderr",
     "output_type": "stream",
     "text": [
      "Processing <PIL.Image.Image image mode=RGB size=171x189 at 0x1DE1373A5B0>: 100%|██████████| 60/60 [00:00<00:00, 668.10 Samples/s]\n"
     ]
    },
    {
     "name": "stdout",
     "output_type": "stream",
     "text": [
      "Initialised with 60 image(s) found.\n",
      "Output directory set to ./dataset/data/CUB_200_2011/cropped/088.Western_Meadowlark\\../../skewed/088.Western_Meadowlark."
     ]
    },
    {
     "name": "stderr",
     "output_type": "stream",
     "text": [
      "Processing <PIL.Image.Image image mode=RGB size=171x189 at 0x1DE137D1670>: 100%|██████████| 60/60 [00:00<00:00, 723.93 Samples/s]\n"
     ]
    },
    {
     "name": "stdout",
     "output_type": "stream",
     "text": [
      "Initialised with 60 image(s) found.\n",
      "Output directory set to ./dataset/data/CUB_200_2011/cropped/088.Western_Meadowlark\\../../sheared/088.Western_Meadowlark."
     ]
    },
    {
     "name": "stderr",
     "output_type": "stream",
     "text": [
      "Processing <PIL.Image.Image image mode=RGB size=171x189 at 0x1DE1375AF10>: 100%|██████████| 60/60 [00:00<00:00, 752.90 Samples/s]\n"
     ]
    },
    {
     "name": "stdout",
     "output_type": "stream",
     "text": [
      "Initialised with 60 image(s) found.\n",
      "Output directory set to ./dataset/data/CUB_200_2011/cropped/089.Hooded_Merganser\\../../rotated/089.Hooded_Merganser."
     ]
    },
    {
     "name": "stderr",
     "output_type": "stream",
     "text": [
      "Processing <PIL.Image.Image image mode=RGB size=342x152 at 0x1DE13701C10>: 100%|██████████| 60/60 [00:00<00:00, 707.90 Samples/s]\n"
     ]
    },
    {
     "name": "stdout",
     "output_type": "stream",
     "text": [
      "Initialised with 60 image(s) found.\n",
      "Output directory set to ./dataset/data/CUB_200_2011/cropped/089.Hooded_Merganser\\../../skewed/089.Hooded_Merganser."
     ]
    },
    {
     "name": "stderr",
     "output_type": "stream",
     "text": [
      "Processing <PIL.Image.Image image mode=RGB size=342x152 at 0x1DE13812AF0>: 100%|██████████| 60/60 [00:00<00:00, 659.75 Samples/s]\n"
     ]
    },
    {
     "name": "stdout",
     "output_type": "stream",
     "text": [
      "Initialised with 60 image(s) found.\n",
      "Output directory set to ./dataset/data/CUB_200_2011/cropped/089.Hooded_Merganser\\../../sheared/089.Hooded_Merganser."
     ]
    },
    {
     "name": "stderr",
     "output_type": "stream",
     "text": [
      "Processing <PIL.Image.Image image mode=RGB size=342x152 at 0x1DE136C0370>: 100%|██████████| 60/60 [00:00<00:00, 649.77 Samples/s]\n"
     ]
    },
    {
     "name": "stdout",
     "output_type": "stream",
     "text": [
      "Initialised with 60 image(s) found.\n",
      "Output directory set to ./dataset/data/CUB_200_2011/cropped/090.Red_breasted_Merganser\\../../rotated/090.Red_breasted_Merganser."
     ]
    },
    {
     "name": "stderr",
     "output_type": "stream",
     "text": [
      "Processing <PIL.Image.Image image mode=RGB size=418x137 at 0x1DE135AE700>: 100%|██████████| 60/60 [00:00<00:00, 711.65 Samples/s]\n"
     ]
    },
    {
     "name": "stdout",
     "output_type": "stream",
     "text": [
      "Initialised with 60 image(s) found.\n",
      "Output directory set to ./dataset/data/CUB_200_2011/cropped/090.Red_breasted_Merganser\\../../skewed/090.Red_breasted_Merganser."
     ]
    },
    {
     "name": "stderr",
     "output_type": "stream",
     "text": [
      "Processing <PIL.Image.Image image mode=RGB size=418x137 at 0x1DE137D1BE0>: 100%|██████████| 60/60 [00:00<00:00, 686.58 Samples/s]\n"
     ]
    },
    {
     "name": "stdout",
     "output_type": "stream",
     "text": [
      "Initialised with 60 image(s) found.\n",
      "Output directory set to ./dataset/data/CUB_200_2011/cropped/090.Red_breasted_Merganser\\../../sheared/090.Red_breasted_Merganser."
     ]
    },
    {
     "name": "stderr",
     "output_type": "stream",
     "text": [
      "Processing <PIL.Image.Image image mode=RGB size=418x137 at 0x1DE136C2E50>: 100%|██████████| 60/60 [00:00<00:00, 756.76 Samples/s]\n"
     ]
    },
    {
     "name": "stdout",
     "output_type": "stream",
     "text": [
      "Initialised with 60 image(s) found.\n",
      "Output directory set to ./dataset/data/CUB_200_2011/cropped/091.Mockingbird\\../../rotated/091.Mockingbird."
     ]
    },
    {
     "name": "stderr",
     "output_type": "stream",
     "text": [
      "Processing <PIL.Image.Image image mode=RGB size=242x462 at 0x1DE136E0BB0>: 100%|██████████| 60/60 [00:00<00:00, 683.01 Samples/s]\n"
     ]
    },
    {
     "name": "stdout",
     "output_type": "stream",
     "text": [
      "Initialised with 60 image(s) found.\n",
      "Output directory set to ./dataset/data/CUB_200_2011/cropped/091.Mockingbird\\../../skewed/091.Mockingbird."
     ]
    },
    {
     "name": "stderr",
     "output_type": "stream",
     "text": [
      "Processing <PIL.Image.Image image mode=RGB size=242x462 at 0x1DE13806550>: 100%|██████████| 60/60 [00:00<00:00, 642.51 Samples/s]\n"
     ]
    },
    {
     "name": "stdout",
     "output_type": "stream",
     "text": [
      "Initialised with 60 image(s) found.\n",
      "Output directory set to ./dataset/data/CUB_200_2011/cropped/091.Mockingbird\\../../sheared/091.Mockingbird."
     ]
    },
    {
     "name": "stderr",
     "output_type": "stream",
     "text": [
      "Processing <PIL.Image.Image image mode=RGB size=242x462 at 0x1DE1373A910>: 100%|██████████| 60/60 [00:00<00:00, 657.90 Samples/s]\n"
     ]
    },
    {
     "name": "stdout",
     "output_type": "stream",
     "text": [
      "Initialised with 60 image(s) found.\n",
      "Output directory set to ./dataset/data/CUB_200_2011/cropped/092.Nighthawk\\../../rotated/092.Nighthawk."
     ]
    },
    {
     "name": "stderr",
     "output_type": "stream",
     "text": [
      "Processing <PIL.Image.Image image mode=RGB size=239x235 at 0x1DE138122B0>: 100%|██████████| 60/60 [00:00<00:00, 752.20 Samples/s]\n"
     ]
    },
    {
     "name": "stdout",
     "output_type": "stream",
     "text": [
      "Initialised with 60 image(s) found.\n",
      "Output directory set to ./dataset/data/CUB_200_2011/cropped/092.Nighthawk\\../../skewed/092.Nighthawk."
     ]
    },
    {
     "name": "stderr",
     "output_type": "stream",
     "text": [
      "Processing <PIL.Image.Image image mode=RGB size=239x235 at 0x1DE137CD4F0>: 100%|██████████| 60/60 [00:00<00:00, 737.05 Samples/s]"
     ]
    },
    {
     "name": "stdout",
     "output_type": "stream",
     "text": [
      "Initialised with 60 image(s) found.\n"
     ]
    },
    {
     "name": "stderr",
     "output_type": "stream",
     "text": [
      "\n"
     ]
    },
    {
     "name": "stdout",
     "output_type": "stream",
     "text": [
      "Output directory set to ./dataset/data/CUB_200_2011/cropped/092.Nighthawk\\../../sheared/092.Nighthawk."
     ]
    },
    {
     "name": "stderr",
     "output_type": "stream",
     "text": [
      "Processing <PIL.Image.Image image mode=RGB size=239x235 at 0x1DE13766760>: 100%|██████████| 60/60 [00:00<00:00, 720.06 Samples/s]\n"
     ]
    },
    {
     "name": "stdout",
     "output_type": "stream",
     "text": [
      "Initialised with 60 image(s) found.\n",
      "Output directory set to ./dataset/data/CUB_200_2011/cropped/093.Clark_Nutcracker\\../../rotated/093.Clark_Nutcracker."
     ]
    },
    {
     "name": "stderr",
     "output_type": "stream",
     "text": [
      "Processing <PIL.Image.Image image mode=RGB size=202x208 at 0x1DE1373A610>: 100%|██████████| 60/60 [00:00<00:00, 679.10 Samples/s]\n"
     ]
    },
    {
     "name": "stdout",
     "output_type": "stream",
     "text": [
      "Initialised with 60 image(s) found.\n",
      "Output directory set to ./dataset/data/CUB_200_2011/cropped/093.Clark_Nutcracker\\../../skewed/093.Clark_Nutcracker."
     ]
    },
    {
     "name": "stderr",
     "output_type": "stream",
     "text": [
      "Processing <PIL.Image.Image image mode=RGB size=202x208 at 0x1DE13766D60>: 100%|██████████| 60/60 [00:00<00:00, 595.59 Samples/s]\n"
     ]
    },
    {
     "name": "stdout",
     "output_type": "stream",
     "text": [
      "Initialised with 60 image(s) found.\n",
      "Output directory set to ./dataset/data/CUB_200_2011/cropped/093.Clark_Nutcracker\\../../sheared/093.Clark_Nutcracker."
     ]
    },
    {
     "name": "stderr",
     "output_type": "stream",
     "text": [
      "Processing <PIL.Image.Image image mode=RGB size=202x208 at 0x1DE138122B0>: 100%|██████████| 60/60 [00:00<00:00, 683.59 Samples/s]\n"
     ]
    },
    {
     "name": "stdout",
     "output_type": "stream",
     "text": [
      "Initialised with 60 image(s) found.\n",
      "Output directory set to ./dataset/data/CUB_200_2011/cropped/094.White_breasted_Nuthatch\\../../rotated/094.White_breasted_Nuthatch."
     ]
    },
    {
     "name": "stderr",
     "output_type": "stream",
     "text": [
      "Processing <PIL.Image.Image image mode=RGB size=409x217 at 0x1DE137666D0>: 100%|██████████| 60/60 [00:00<00:00, 679.20 Samples/s]\n"
     ]
    },
    {
     "name": "stdout",
     "output_type": "stream",
     "text": [
      "Initialised with 60 image(s) found.\n",
      "Output directory set to ./dataset/data/CUB_200_2011/cropped/094.White_breasted_Nuthatch\\../../skewed/094.White_breasted_Nuthatch."
     ]
    },
    {
     "name": "stderr",
     "output_type": "stream",
     "text": [
      "Processing <PIL.Image.Image image mode=RGB size=409x217 at 0x1DE137CDD90>: 100%|██████████| 60/60 [00:00<00:00, 635.53 Samples/s]\n"
     ]
    },
    {
     "name": "stdout",
     "output_type": "stream",
     "text": [
      "Initialised with 60 image(s) found.\n",
      "Output directory set to ./dataset/data/CUB_200_2011/cropped/094.White_breasted_Nuthatch\\../../sheared/094.White_breasted_Nuthatch."
     ]
    },
    {
     "name": "stderr",
     "output_type": "stream",
     "text": [
      "Processing <PIL.Image.Image image mode=RGB size=409x217 at 0x1DE1375AE20>: 100%|██████████| 60/60 [00:00<00:00, 628.42 Samples/s]\n"
     ]
    },
    {
     "name": "stdout",
     "output_type": "stream",
     "text": [
      "Initialised with 60 image(s) found.\n",
      "Output directory set to ./dataset/data/CUB_200_2011/cropped/095.Baltimore_Oriole\\../../rotated/095.Baltimore_Oriole."
     ]
    },
    {
     "name": "stderr",
     "output_type": "stream",
     "text": [
      "Processing <PIL.Image.Image image mode=RGB size=243x109 at 0x1DE13806E20>: 100%|██████████| 60/60 [00:00<00:00, 569.40 Samples/s]\n"
     ]
    },
    {
     "name": "stdout",
     "output_type": "stream",
     "text": [
      "Initialised with 60 image(s) found.\n",
      "Output directory set to ./dataset/data/CUB_200_2011/cropped/095.Baltimore_Oriole\\../../skewed/095.Baltimore_Oriole."
     ]
    },
    {
     "name": "stderr",
     "output_type": "stream",
     "text": [
      "Processing <PIL.Image.Image image mode=RGB size=243x109 at 0x1DE13701970>: 100%|██████████| 60/60 [00:00<00:00, 616.02 Samples/s]\n"
     ]
    },
    {
     "name": "stdout",
     "output_type": "stream",
     "text": [
      "Initialised with 60 image(s) found.\n",
      "Output directory set to ./dataset/data/CUB_200_2011/cropped/095.Baltimore_Oriole\\../../sheared/095.Baltimore_Oriole."
     ]
    },
    {
     "name": "stderr",
     "output_type": "stream",
     "text": [
      "Processing <PIL.Image.Image image mode=RGB size=243x109 at 0x1DE136C0160>: 100%|██████████| 60/60 [00:00<00:00, 737.64 Samples/s]\n"
     ]
    },
    {
     "name": "stdout",
     "output_type": "stream",
     "text": [
      "Initialised with 60 image(s) found.\n",
      "Output directory set to ./dataset/data/CUB_200_2011/cropped/096.Hooded_Oriole\\../../rotated/096.Hooded_Oriole."
     ]
    },
    {
     "name": "stderr",
     "output_type": "stream",
     "text": [
      "Processing <PIL.Image.Image image mode=RGB size=336x314 at 0x1DE137CDD90>: 100%|██████████| 60/60 [00:00<00:00, 707.61 Samples/s]\n"
     ]
    },
    {
     "name": "stdout",
     "output_type": "stream",
     "text": [
      "Initialised with 60 image(s) found.\n",
      "Output directory set to ./dataset/data/CUB_200_2011/cropped/096.Hooded_Oriole\\../../skewed/096.Hooded_Oriole."
     ]
    },
    {
     "name": "stderr",
     "output_type": "stream",
     "text": [
      "Processing <PIL.Image.Image image mode=RGB size=336x314 at 0x1DE13767880>: 100%|██████████| 60/60 [00:00<00:00, 728.87 Samples/s]\n"
     ]
    },
    {
     "name": "stdout",
     "output_type": "stream",
     "text": [
      "Initialised with 60 image(s) found.\n",
      "Output directory set to ./dataset/data/CUB_200_2011/cropped/096.Hooded_Oriole\\../../sheared/096.Hooded_Oriole."
     ]
    },
    {
     "name": "stderr",
     "output_type": "stream",
     "text": [
      "Processing <PIL.Image.Image image mode=RGB size=336x314 at 0x1DE137018E0>: 100%|██████████| 60/60 [00:00<00:00, 686.31 Samples/s]\n"
     ]
    },
    {
     "name": "stdout",
     "output_type": "stream",
     "text": [
      "Initialised with 59 image(s) found.\n",
      "Output directory set to ./dataset/data/CUB_200_2011/cropped/097.Orchard_Oriole\\../../rotated/097.Orchard_Oriole."
     ]
    },
    {
     "name": "stderr",
     "output_type": "stream",
     "text": [
      "Processing <PIL.Image.Image image mode=RGB size=211x128 at 0x1DE13766F40>: 100%|██████████| 59/59 [00:00<00:00, 686.35 Samples/s]\n"
     ]
    },
    {
     "name": "stdout",
     "output_type": "stream",
     "text": [
      "Initialised with 59 image(s) found.\n",
      "Output directory set to ./dataset/data/CUB_200_2011/cropped/097.Orchard_Oriole\\../../skewed/097.Orchard_Oriole."
     ]
    },
    {
     "name": "stderr",
     "output_type": "stream",
     "text": [
      "Processing <PIL.Image.Image image mode=RGB size=211x128 at 0x1DE13766790>: 100%|██████████| 59/59 [00:00<00:00, 675.47 Samples/s]\n"
     ]
    },
    {
     "name": "stdout",
     "output_type": "stream",
     "text": [
      "Initialised with 59 image(s) found.\n",
      "Output directory set to ./dataset/data/CUB_200_2011/cropped/097.Orchard_Oriole\\../../sheared/097.Orchard_Oriole."
     ]
    },
    {
     "name": "stderr",
     "output_type": "stream",
     "text": [
      "Processing <PIL.Image.Image image mode=RGB size=211x128 at 0x1DE13829850>: 100%|██████████| 59/59 [00:00<00:00, 752.53 Samples/s]\n"
     ]
    },
    {
     "name": "stdout",
     "output_type": "stream",
     "text": [
      "Initialised with 60 image(s) found.\n",
      "Output directory set to ./dataset/data/CUB_200_2011/cropped/098.Scott_Oriole\\../../rotated/098.Scott_Oriole."
     ]
    },
    {
     "name": "stderr",
     "output_type": "stream",
     "text": [
      "Processing <PIL.Image.Image image mode=RGB size=259x199 at 0x1DE136B2BE0>: 100%|██████████| 60/60 [00:00<00:00, 463.51 Samples/s]\n"
     ]
    },
    {
     "name": "stdout",
     "output_type": "stream",
     "text": [
      "Initialised with 60 image(s) found.\n",
      "Output directory set to ./dataset/data/CUB_200_2011/cropped/098.Scott_Oriole\\../../skewed/098.Scott_Oriole."
     ]
    },
    {
     "name": "stderr",
     "output_type": "stream",
     "text": [
      "Processing <PIL.Image.Image image mode=RGB size=259x199 at 0x1DE136C2CD0>: 100%|██████████| 60/60 [00:00<00:00, 622.18 Samples/s]\n"
     ]
    },
    {
     "name": "stdout",
     "output_type": "stream",
     "text": [
      "Initialised with 60 image(s) found.\n",
      "Output directory set to ./dataset/data/CUB_200_2011/cropped/098.Scott_Oriole\\../../sheared/098.Scott_Oriole."
     ]
    },
    {
     "name": "stderr",
     "output_type": "stream",
     "text": [
      "Processing <PIL.Image.Image image mode=RGB size=259x199 at 0x1DE1249FF10>: 100%|██████████| 60/60 [00:00<00:00, 671.26 Samples/s]\n"
     ]
    },
    {
     "name": "stdout",
     "output_type": "stream",
     "text": [
      "Initialised with 60 image(s) found.\n",
      "Output directory set to ./dataset/data/CUB_200_2011/cropped/099.Ovenbird\\../../rotated/099.Ovenbird."
     ]
    },
    {
     "name": "stderr",
     "output_type": "stream",
     "text": [
      "Processing <PIL.Image.Image image mode=RGB size=263x285 at 0x1DE13829760>: 100%|██████████| 60/60 [00:00<00:00, 724.62 Samples/s]\n"
     ]
    },
    {
     "name": "stdout",
     "output_type": "stream",
     "text": [
      "Initialised with 60 image(s) found.\n",
      "Output directory set to ./dataset/data/CUB_200_2011/cropped/099.Ovenbird\\../../skewed/099.Ovenbird."
     ]
    },
    {
     "name": "stderr",
     "output_type": "stream",
     "text": [
      "Processing <PIL.Image.Image image mode=RGB size=263x285 at 0x1DE12195D60>: 100%|██████████| 60/60 [00:00<00:00, 704.25 Samples/s]\n"
     ]
    },
    {
     "name": "stdout",
     "output_type": "stream",
     "text": [
      "Initialised with 60 image(s) found.\n",
      "Output directory set to ./dataset/data/CUB_200_2011/cropped/099.Ovenbird\\../../sheared/099.Ovenbird."
     ]
    },
    {
     "name": "stderr",
     "output_type": "stream",
     "text": [
      "Processing <PIL.Image.Image image mode=RGB size=263x285 at 0x1DE13744040>: 100%|██████████| 60/60 [00:00<00:00, 761.26 Samples/s]\n"
     ]
    },
    {
     "name": "stdout",
     "output_type": "stream",
     "text": [
      "Initialised with 60 image(s) found.\n",
      "Output directory set to ./dataset/data/CUB_200_2011/cropped/100.Brown_Pelican\\../../rotated/100.Brown_Pelican."
     ]
    },
    {
     "name": "stderr",
     "output_type": "stream",
     "text": [
      "Processing <PIL.Image.Image image mode=RGB size=229x378 at 0x1DE13712970>: 100%|██████████| 60/60 [00:00<00:00, 676.44 Samples/s]\n"
     ]
    },
    {
     "name": "stdout",
     "output_type": "stream",
     "text": [
      "Initialised with 60 image(s) found.\n",
      "Output directory set to ./dataset/data/CUB_200_2011/cropped/100.Brown_Pelican\\../../skewed/100.Brown_Pelican."
     ]
    },
    {
     "name": "stderr",
     "output_type": "stream",
     "text": [
      "Processing <PIL.Image.Image image mode=RGB size=229x378 at 0x1DE1373A040>: 100%|██████████| 60/60 [00:00<00:00, 610.58 Samples/s]\n"
     ]
    },
    {
     "name": "stdout",
     "output_type": "stream",
     "text": [
      "Initialised with 60 image(s) found.\n",
      "Output directory set to ./dataset/data/CUB_200_2011/cropped/100.Brown_Pelican\\../../sheared/100.Brown_Pelican."
     ]
    },
    {
     "name": "stderr",
     "output_type": "stream",
     "text": [
      "Processing <PIL.Image.Image image mode=RGB size=229x378 at 0x1DE13744070>: 100%|██████████| 60/60 [00:00<00:00, 670.66 Samples/s]\n"
     ]
    },
    {
     "name": "stdout",
     "output_type": "stream",
     "text": [
      "Initialised with 50 image(s) found.\n",
      "Output directory set to ./dataset/data/CUB_200_2011/cropped/101.White_Pelican\\../../rotated/101.White_Pelican."
     ]
    },
    {
     "name": "stderr",
     "output_type": "stream",
     "text": [
      "Processing <PIL.Image.Image image mode=RGB size=284x330 at 0x1DE1375AB20>: 100%|██████████| 50/50 [00:00<00:00, 733.52 Samples/s]\n"
     ]
    },
    {
     "name": "stdout",
     "output_type": "stream",
     "text": [
      "Initialised with 50 image(s) found.\n",
      "Output directory set to ./dataset/data/CUB_200_2011/cropped/101.White_Pelican\\../../skewed/101.White_Pelican."
     ]
    },
    {
     "name": "stderr",
     "output_type": "stream",
     "text": [
      "Processing <PIL.Image.Image image mode=RGB size=284x330 at 0x1DE1370DC40>: 100%|██████████| 50/50 [00:00<00:00, 687.39 Samples/s]\n"
     ]
    },
    {
     "name": "stdout",
     "output_type": "stream",
     "text": [
      "Initialised with 50 image(s) found.\n",
      "Output directory set to ./dataset/data/CUB_200_2011/cropped/101.White_Pelican\\../../sheared/101.White_Pelican."
     ]
    },
    {
     "name": "stderr",
     "output_type": "stream",
     "text": [
      "Processing <PIL.Image.Image image mode=RGB size=284x330 at 0x1DE13701C40>: 100%|██████████| 50/50 [00:00<00:00, 744.84 Samples/s]\n"
     ]
    },
    {
     "name": "stdout",
     "output_type": "stream",
     "text": [
      "Initialised with 60 image(s) found.\n",
      "Output directory set to ./dataset/data/CUB_200_2011/cropped/102.Western_Wood_Pewee\\../../rotated/102.Western_Wood_Pewee."
     ]
    },
    {
     "name": "stderr",
     "output_type": "stream",
     "text": [
      "Processing <PIL.Image.Image image mode=RGB size=271x326 at 0x1DE1219EE20>: 100%|██████████| 60/60 [00:00<00:00, 657.47 Samples/s]"
     ]
    },
    {
     "name": "stdout",
     "output_type": "stream",
     "text": [
      "Initialised with 60 image(s) found.\n"
     ]
    },
    {
     "name": "stderr",
     "output_type": "stream",
     "text": [
      "\n"
     ]
    },
    {
     "name": "stdout",
     "output_type": "stream",
     "text": [
      "Output directory set to ./dataset/data/CUB_200_2011/cropped/102.Western_Wood_Pewee\\../../skewed/102.Western_Wood_Pewee."
     ]
    },
    {
     "name": "stderr",
     "output_type": "stream",
     "text": [
      "Processing <PIL.Image.Image image mode=RGB size=271x326 at 0x1DE13701F10>: 100%|██████████| 60/60 [00:00<00:00, 638.92 Samples/s]\n"
     ]
    },
    {
     "name": "stdout",
     "output_type": "stream",
     "text": [
      "Initialised with 60 image(s) found.\n",
      "Output directory set to ./dataset/data/CUB_200_2011/cropped/102.Western_Wood_Pewee\\../../sheared/102.Western_Wood_Pewee."
     ]
    },
    {
     "name": "stderr",
     "output_type": "stream",
     "text": [
      "Processing <PIL.Image.Image image mode=RGB size=271x326 at 0x1DE13829550>: 100%|██████████| 60/60 [00:00<00:00, 739.29 Samples/s]\n"
     ]
    },
    {
     "name": "stdout",
     "output_type": "stream",
     "text": [
      "Initialised with 60 image(s) found.\n",
      "Output directory set to ./dataset/data/CUB_200_2011/cropped/103.Sayornis\\../../rotated/103.Sayornis."
     ]
    },
    {
     "name": "stderr",
     "output_type": "stream",
     "text": [
      "Processing <PIL.Image.Image image mode=RGB size=376x357 at 0x1DE12195DC0>: 100%|██████████| 60/60 [00:00<00:00, 752.54 Samples/s]\n"
     ]
    },
    {
     "name": "stdout",
     "output_type": "stream",
     "text": [
      "Initialised with 60 image(s) found.\n",
      "Output directory set to ./dataset/data/CUB_200_2011/cropped/103.Sayornis\\../../skewed/103.Sayornis."
     ]
    },
    {
     "name": "stderr",
     "output_type": "stream",
     "text": [
      "Processing <PIL.Image.Image image mode=RGB size=376x357 at 0x1DE136C2E50>: 100%|██████████| 60/60 [00:00<00:00, 733.00 Samples/s]\n"
     ]
    },
    {
     "name": "stdout",
     "output_type": "stream",
     "text": [
      "Initialised with 60 image(s) found.\n",
      "Output directory set to ./dataset/data/CUB_200_2011/cropped/103.Sayornis\\../../sheared/103.Sayornis."
     ]
    },
    {
     "name": "stderr",
     "output_type": "stream",
     "text": [
      "Processing <PIL.Image.Image image mode=RGB size=376x357 at 0x1DE136E4790>: 100%|██████████| 60/60 [00:00<00:00, 734.47 Samples/s]\n"
     ]
    },
    {
     "name": "stdout",
     "output_type": "stream",
     "text": [
      "Initialised with 60 image(s) found.\n",
      "Output directory set to ./dataset/data/CUB_200_2011/cropped/104.American_Pipit\\../../rotated/104.American_Pipit."
     ]
    },
    {
     "name": "stderr",
     "output_type": "stream",
     "text": [
      "Processing <PIL.Image.Image image mode=RGB size=260x200 at 0x1DE1375AAF0>: 100%|██████████| 60/60 [00:00<00:00, 632.27 Samples/s]\n"
     ]
    },
    {
     "name": "stdout",
     "output_type": "stream",
     "text": [
      "Initialised with 60 image(s) found.\n",
      "Output directory set to ./dataset/data/CUB_200_2011/cropped/104.American_Pipit\\../../skewed/104.American_Pipit."
     ]
    },
    {
     "name": "stderr",
     "output_type": "stream",
     "text": [
      "Processing <PIL.Image.Image image mode=RGB size=260x200 at 0x1DE13812790>: 100%|██████████| 60/60 [00:00<00:00, 748.38 Samples/s]\n"
     ]
    },
    {
     "name": "stdout",
     "output_type": "stream",
     "text": [
      "Initialised with 60 image(s) found.\n",
      "Output directory set to ./dataset/data/CUB_200_2011/cropped/104.American_Pipit\\../../sheared/104.American_Pipit."
     ]
    },
    {
     "name": "stderr",
     "output_type": "stream",
     "text": [
      "Processing <PIL.Image.Image image mode=RGB size=260x200 at 0x1DE13767100>: 100%|██████████| 60/60 [00:00<00:00, 819.27 Samples/s]"
     ]
    },
    {
     "name": "stdout",
     "output_type": "stream",
     "text": [
      "Initialised with 49 image(s) found.\n"
     ]
    },
    {
     "name": "stderr",
     "output_type": "stream",
     "text": [
      "\n"
     ]
    },
    {
     "name": "stdout",
     "output_type": "stream",
     "text": [
      "Output directory set to ./dataset/data/CUB_200_2011/cropped/105.Whip_poor_Will\\../../rotated/105.Whip_poor_Will."
     ]
    },
    {
     "name": "stderr",
     "output_type": "stream",
     "text": [
      "Processing <PIL.Image.Image image mode=RGB size=281x250 at 0x1DE136B2490>: 100%|██████████| 49/49 [00:00<00:00, 724.28 Samples/s]\n"
     ]
    },
    {
     "name": "stdout",
     "output_type": "stream",
     "text": [
      "Initialised with 49 image(s) found.\n",
      "Output directory set to ./dataset/data/CUB_200_2011/cropped/105.Whip_poor_Will\\../../skewed/105.Whip_poor_Will."
     ]
    },
    {
     "name": "stderr",
     "output_type": "stream",
     "text": [
      "Processing <PIL.Image.Image image mode=RGB size=281x250 at 0x1DE125ADF70>: 100%|██████████| 49/49 [00:00<00:00, 687.43 Samples/s]\n"
     ]
    },
    {
     "name": "stdout",
     "output_type": "stream",
     "text": [
      "Initialised with 49 image(s) found.\n",
      "Output directory set to ./dataset/data/CUB_200_2011/cropped/105.Whip_poor_Will\\../../sheared/105.Whip_poor_Will."
     ]
    },
    {
     "name": "stderr",
     "output_type": "stream",
     "text": [
      "Processing <PIL.Image.Image image mode=RGB size=281x250 at 0x1DE136E43D0>: 100%|██████████| 49/49 [00:00<00:00, 692.26 Samples/s]\n"
     ]
    },
    {
     "name": "stdout",
     "output_type": "stream",
     "text": [
      "Initialised with 60 image(s) found.\n",
      "Output directory set to ./dataset/data/CUB_200_2011/cropped/106.Horned_Puffin\\../../rotated/106.Horned_Puffin."
     ]
    },
    {
     "name": "stderr",
     "output_type": "stream",
     "text": [
      "Processing <PIL.Image.Image image mode=RGB size=417x282 at 0x1DE1375AFA0>: 100%|██████████| 60/60 [00:00<00:00, 650.22 Samples/s]\n"
     ]
    },
    {
     "name": "stdout",
     "output_type": "stream",
     "text": [
      "Initialised with 60 image(s) found.\n",
      "Output directory set to ./dataset/data/CUB_200_2011/cropped/106.Horned_Puffin\\../../skewed/106.Horned_Puffin."
     ]
    },
    {
     "name": "stderr",
     "output_type": "stream",
     "text": [
      "Processing <PIL.Image.Image image mode=RGB size=417x282 at 0x1DE137CDD60>: 100%|██████████| 60/60 [00:00<00:00, 683.19 Samples/s]\n"
     ]
    },
    {
     "name": "stdout",
     "output_type": "stream",
     "text": [
      "Initialised with 60 image(s) found.\n",
      "Output directory set to ./dataset/data/CUB_200_2011/cropped/106.Horned_Puffin\\../../sheared/106.Horned_Puffin."
     ]
    },
    {
     "name": "stderr",
     "output_type": "stream",
     "text": [
      "Processing <PIL.Image.Image image mode=RGB size=417x282 at 0x1DE1219ECD0>: 100%|██████████| 60/60 [00:00<00:00, 802.36 Samples/s]\n"
     ]
    },
    {
     "name": "stdout",
     "output_type": "stream",
     "text": [
      "Initialised with 59 image(s) found.\n",
      "Output directory set to ./dataset/data/CUB_200_2011/cropped/107.Common_Raven\\../../rotated/107.Common_Raven."
     ]
    },
    {
     "name": "stderr",
     "output_type": "stream",
     "text": [
      "Processing <PIL.Image.Image image mode=RGB size=365x315 at 0x1DE137D1100>: 100%|██████████| 59/59 [00:00<00:00, 664.83 Samples/s]\n"
     ]
    },
    {
     "name": "stdout",
     "output_type": "stream",
     "text": [
      "Initialised with 59 image(s) found.\n",
      "Output directory set to ./dataset/data/CUB_200_2011/cropped/107.Common_Raven\\../../skewed/107.Common_Raven."
     ]
    },
    {
     "name": "stderr",
     "output_type": "stream",
     "text": [
      "Processing <PIL.Image.Image image mode=RGB size=365x315 at 0x1DE13812340>: 100%|██████████| 59/59 [00:00<00:00, 625.57 Samples/s]\n"
     ]
    },
    {
     "name": "stdout",
     "output_type": "stream",
     "text": [
      "Initialised with 59 image(s) found.\n",
      "Output directory set to ./dataset/data/CUB_200_2011/cropped/107.Common_Raven\\../../sheared/107.Common_Raven."
     ]
    },
    {
     "name": "stderr",
     "output_type": "stream",
     "text": [
      "Processing <PIL.Image.Image image mode=RGB size=365x315 at 0x1DE136C0130>: 100%|██████████| 59/59 [00:00<00:00, 655.61 Samples/s]\n"
     ]
    },
    {
     "name": "stdout",
     "output_type": "stream",
     "text": [
      "Initialised with 60 image(s) found.\n",
      "Output directory set to ./dataset/data/CUB_200_2011/cropped/108.White_necked_Raven\\../../rotated/108.White_necked_Raven."
     ]
    },
    {
     "name": "stderr",
     "output_type": "stream",
     "text": [
      "Processing <PIL.Image.Image image mode=RGB size=122x101 at 0x1DE136B21F0>: 100%|██████████| 60/60 [00:00<00:00, 664.71 Samples/s]\n"
     ]
    },
    {
     "name": "stdout",
     "output_type": "stream",
     "text": [
      "Initialised with 60 image(s) found.\n",
      "Output directory set to ./dataset/data/CUB_200_2011/cropped/108.White_necked_Raven\\../../skewed/108.White_necked_Raven."
     ]
    },
    {
     "name": "stderr",
     "output_type": "stream",
     "text": [
      "Processing <PIL.Image.Image image mode=RGB size=122x101 at 0x1DE13829160>: 100%|██████████| 60/60 [00:00<00:00, 733.45 Samples/s]\n"
     ]
    },
    {
     "name": "stdout",
     "output_type": "stream",
     "text": [
      "Initialised with 60 image(s) found.\n",
      "Output directory set to ./dataset/data/CUB_200_2011/cropped/108.White_necked_Raven\\../../sheared/108.White_necked_Raven."
     ]
    },
    {
     "name": "stderr",
     "output_type": "stream",
     "text": [
      "Processing <PIL.Image.Image image mode=RGB size=122x101 at 0x1DE135AE700>: 100%|██████████| 60/60 [00:00<00:00, 716.15 Samples/s]\n"
     ]
    },
    {
     "name": "stdout",
     "output_type": "stream",
     "text": [
      "Initialised with 60 image(s) found.\n",
      "Output directory set to ./dataset/data/CUB_200_2011/cropped/109.American_Redstart\\../../rotated/109.American_Redstart."
     ]
    },
    {
     "name": "stderr",
     "output_type": "stream",
     "text": [
      "Processing <PIL.Image.Image image mode=RGB size=412x197 at 0x1DE1373A5B0>: 100%|██████████| 60/60 [00:00<00:00, 715.62 Samples/s]\n"
     ]
    },
    {
     "name": "stdout",
     "output_type": "stream",
     "text": [
      "Initialised with 60 image(s) found.\n",
      "Output directory set to ./dataset/data/CUB_200_2011/cropped/109.American_Redstart\\../../skewed/109.American_Redstart."
     ]
    },
    {
     "name": "stderr",
     "output_type": "stream",
     "text": [
      "Processing <PIL.Image.Image image mode=RGB size=412x197 at 0x1DE136E42E0>: 100%|██████████| 60/60 [00:00<00:00, 706.32 Samples/s]\n"
     ]
    },
    {
     "name": "stdout",
     "output_type": "stream",
     "text": [
      "Initialised with 60 image(s) found.\n",
      "Output directory set to ./dataset/data/CUB_200_2011/cropped/109.American_Redstart\\../../sheared/109.American_Redstart."
     ]
    },
    {
     "name": "stderr",
     "output_type": "stream",
     "text": [
      "Processing <PIL.Image.Image image mode=RGB size=412x197 at 0x1DE136E0850>: 100%|██████████| 60/60 [00:00<00:00, 687.20 Samples/s]\n"
     ]
    },
    {
     "name": "stdout",
     "output_type": "stream",
     "text": [
      "Initialised with 60 image(s) found.\n",
      "Output directory set to ./dataset/data/CUB_200_2011/cropped/110.Geococcyx\\../../rotated/110.Geococcyx."
     ]
    },
    {
     "name": "stderr",
     "output_type": "stream",
     "text": [
      "Processing <PIL.Image.Image image mode=RGB size=139x107 at 0x1DE1375A640>: 100%|██████████| 60/60 [00:00<00:00, 683.99 Samples/s]\n"
     ]
    },
    {
     "name": "stdout",
     "output_type": "stream",
     "text": [
      "Initialised with 60 image(s) found.\n",
      "Output directory set to ./dataset/data/CUB_200_2011/cropped/110.Geococcyx\\../../skewed/110.Geococcyx."
     ]
    },
    {
     "name": "stderr",
     "output_type": "stream",
     "text": [
      "Processing <PIL.Image.Image image mode=RGB size=139x107 at 0x1DE136E0460>: 100%|██████████| 60/60 [00:00<00:00, 695.79 Samples/s]\n"
     ]
    },
    {
     "name": "stdout",
     "output_type": "stream",
     "text": [
      "Initialised with 60 image(s) found.\n",
      "Output directory set to ./dataset/data/CUB_200_2011/cropped/110.Geococcyx\\../../sheared/110.Geococcyx."
     ]
    },
    {
     "name": "stderr",
     "output_type": "stream",
     "text": [
      "Processing <PIL.Image.Image image mode=RGB size=139x107 at 0x1DE136C00A0>: 100%|██████████| 60/60 [00:00<00:00, 650.35 Samples/s]\n"
     ]
    },
    {
     "name": "stdout",
     "output_type": "stream",
     "text": [
      "Initialised with 60 image(s) found.\n",
      "Output directory set to ./dataset/data/CUB_200_2011/cropped/111.Loggerhead_Shrike\\../../rotated/111.Loggerhead_Shrike."
     ]
    },
    {
     "name": "stderr",
     "output_type": "stream",
     "text": [
      "Processing <PIL.Image.Image image mode=RGB size=237x345 at 0x1DE1370DC40>: 100%|██████████| 60/60 [00:00<00:00, 773.64 Samples/s]\n"
     ]
    },
    {
     "name": "stdout",
     "output_type": "stream",
     "text": [
      "Initialised with 60 image(s) found.\n",
      "Output directory set to ./dataset/data/CUB_200_2011/cropped/111.Loggerhead_Shrike\\../../skewed/111.Loggerhead_Shrike."
     ]
    },
    {
     "name": "stderr",
     "output_type": "stream",
     "text": [
      "Processing <PIL.Image.Image image mode=RGB size=237x345 at 0x1DE1375A520>: 100%|██████████| 60/60 [00:00<00:00, 668.51 Samples/s]\n"
     ]
    },
    {
     "name": "stdout",
     "output_type": "stream",
     "text": [
      "Initialised with 60 image(s) found.\n",
      "Output directory set to ./dataset/data/CUB_200_2011/cropped/111.Loggerhead_Shrike\\../../sheared/111.Loggerhead_Shrike."
     ]
    },
    {
     "name": "stderr",
     "output_type": "stream",
     "text": [
      "Processing <PIL.Image.Image image mode=RGB size=237x345 at 0x1DE13712970>: 100%|██████████| 60/60 [00:00<00:00, 752.45 Samples/s]\n"
     ]
    },
    {
     "name": "stdout",
     "output_type": "stream",
     "text": [
      "Initialised with 60 image(s) found.\n",
      "Output directory set to ./dataset/data/CUB_200_2011/cropped/112.Great_Grey_Shrike\\../../rotated/112.Great_Grey_Shrike."
     ]
    },
    {
     "name": "stderr",
     "output_type": "stream",
     "text": [
      "Processing <PIL.Image.Image image mode=RGB size=213x108 at 0x1DE136E0130>: 100%|██████████| 60/60 [00:00<00:00, 728.74 Samples/s]\n"
     ]
    },
    {
     "name": "stdout",
     "output_type": "stream",
     "text": [
      "Initialised with 60 image(s) found.\n",
      "Output directory set to ./dataset/data/CUB_200_2011/cropped/112.Great_Grey_Shrike\\../../skewed/112.Great_Grey_Shrike."
     ]
    },
    {
     "name": "stderr",
     "output_type": "stream",
     "text": [
      "Processing <PIL.Image.Image image mode=RGB size=213x108 at 0x1DE13829190>: 100%|██████████| 60/60 [00:00<00:00, 703.64 Samples/s]\n"
     ]
    },
    {
     "name": "stdout",
     "output_type": "stream",
     "text": [
      "Initialised with 60 image(s) found.\n",
      "Output directory set to ./dataset/data/CUB_200_2011/cropped/112.Great_Grey_Shrike\\../../sheared/112.Great_Grey_Shrike."
     ]
    },
    {
     "name": "stderr",
     "output_type": "stream",
     "text": [
      "Processing <PIL.Image.Image image mode=RGB size=213x108 at 0x1DE121950D0>: 100%|██████████| 60/60 [00:00<00:00, 780.46 Samples/s]"
     ]
    },
    {
     "name": "stdout",
     "output_type": "stream",
     "text": [
      "Initialised with 50 image(s) found.\n"
     ]
    },
    {
     "name": "stderr",
     "output_type": "stream",
     "text": [
      "\n"
     ]
    },
    {
     "name": "stdout",
     "output_type": "stream",
     "text": [
      "Output directory set to ./dataset/data/CUB_200_2011/cropped/113.Baird_Sparrow\\../../rotated/113.Baird_Sparrow."
     ]
    },
    {
     "name": "stderr",
     "output_type": "stream",
     "text": [
      "Processing <PIL.Image.Image image mode=RGB size=150x196 at 0x1DE12195310>: 100%|██████████| 50/50 [00:00<00:00, 749.81 Samples/s]\n"
     ]
    },
    {
     "name": "stdout",
     "output_type": "stream",
     "text": [
      "Initialised with 50 image(s) found.\n",
      "Output directory set to ./dataset/data/CUB_200_2011/cropped/113.Baird_Sparrow\\../../skewed/113.Baird_Sparrow."
     ]
    },
    {
     "name": "stderr",
     "output_type": "stream",
     "text": [
      "Processing <PIL.Image.Image image mode=RGB size=150x196 at 0x1DE136E0550>: 100%|██████████| 50/50 [00:00<00:00, 668.31 Samples/s]\n"
     ]
    },
    {
     "name": "stdout",
     "output_type": "stream",
     "text": [
      "Initialised with 50 image(s) found.\n",
      "Output directory set to ./dataset/data/CUB_200_2011/cropped/113.Baird_Sparrow\\../../sheared/113.Baird_Sparrow."
     ]
    },
    {
     "name": "stderr",
     "output_type": "stream",
     "text": [
      "Processing <PIL.Image.Image image mode=RGB size=150x196 at 0x1DE1375AEB0>: 100%|██████████| 50/50 [00:00<00:00, 772.30 Samples/s]\n"
     ]
    },
    {
     "name": "stdout",
     "output_type": "stream",
     "text": [
      "Initialised with 60 image(s) found.\n",
      "Output directory set to ./dataset/data/CUB_200_2011/cropped/114.Black_throated_Sparrow\\../../rotated/114.Black_throated_Sparrow."
     ]
    },
    {
     "name": "stderr",
     "output_type": "stream",
     "text": [
      "Processing <PIL.Image.Image image mode=RGB size=257x276 at 0x1DE137665B0>: 100%|██████████| 60/60 [00:00<00:00, 720.06 Samples/s]\n"
     ]
    },
    {
     "name": "stdout",
     "output_type": "stream",
     "text": [
      "Initialised with 60 image(s) found.\n",
      "Output directory set to ./dataset/data/CUB_200_2011/cropped/114.Black_throated_Sparrow\\../../skewed/114.Black_throated_Sparrow."
     ]
    },
    {
     "name": "stderr",
     "output_type": "stream",
     "text": [
      "Processing <PIL.Image.Image image mode=RGB size=257x276 at 0x1DE137D13D0>: 100%|██████████| 60/60 [00:00<00:00, 711.97 Samples/s]\n"
     ]
    },
    {
     "name": "stdout",
     "output_type": "stream",
     "text": [
      "Initialised with 60 image(s) found.\n",
      "Output directory set to ./dataset/data/CUB_200_2011/cropped/114.Black_throated_Sparrow\\../../sheared/114.Black_throated_Sparrow."
     ]
    },
    {
     "name": "stderr",
     "output_type": "stream",
     "text": [
      "Processing <PIL.Image.Image image mode=RGB size=257x276 at 0x1DE13767A60>: 100%|██████████| 60/60 [00:00<00:00, 777.13 Samples/s]\n"
     ]
    },
    {
     "name": "stdout",
     "output_type": "stream",
     "text": [
      "Initialised with 59 image(s) found.\n",
      "Output directory set to ./dataset/data/CUB_200_2011/cropped/115.Brewer_Sparrow\\../../rotated/115.Brewer_Sparrow."
     ]
    },
    {
     "name": "stderr",
     "output_type": "stream",
     "text": [
      "Processing <PIL.Image.Image image mode=RGB size=103x238 at 0x1DE13806610>: 100%|██████████| 59/59 [00:00<00:00, 740.27 Samples/s]\n"
     ]
    },
    {
     "name": "stdout",
     "output_type": "stream",
     "text": [
      "Initialised with 59 image(s) found.\n",
      "Output directory set to ./dataset/data/CUB_200_2011/cropped/115.Brewer_Sparrow\\../../skewed/115.Brewer_Sparrow."
     ]
    },
    {
     "name": "stderr",
     "output_type": "stream",
     "text": [
      "Processing <PIL.Image.Image image mode=RGB size=103x238 at 0x1DE13767520>: 100%|██████████| 59/59 [00:00<00:00, 639.12 Samples/s]\n"
     ]
    },
    {
     "name": "stdout",
     "output_type": "stream",
     "text": [
      "Initialised with 59 image(s) found.\n",
      "Output directory set to ./dataset/data/CUB_200_2011/cropped/115.Brewer_Sparrow\\../../sheared/115.Brewer_Sparrow."
     ]
    },
    {
     "name": "stderr",
     "output_type": "stream",
     "text": [
      "Processing <PIL.Image.Image image mode=RGB size=103x238 at 0x1DE1373A670>: 100%|██████████| 59/59 [00:00<00:00, 727.01 Samples/s]\n"
     ]
    },
    {
     "name": "stdout",
     "output_type": "stream",
     "text": [
      "Initialised with 60 image(s) found.\n",
      "Output directory set to ./dataset/data/CUB_200_2011/cropped/116.Chipping_Sparrow\\../../rotated/116.Chipping_Sparrow."
     ]
    },
    {
     "name": "stderr",
     "output_type": "stream",
     "text": [
      "Processing <PIL.Image.Image image mode=RGB size=276x283 at 0x1DE13829940>: 100%|██████████| 60/60 [00:00<00:00, 757.45 Samples/s]\n"
     ]
    },
    {
     "name": "stdout",
     "output_type": "stream",
     "text": [
      "Initialised with 60 image(s) found.\n",
      "Output directory set to ./dataset/data/CUB_200_2011/cropped/116.Chipping_Sparrow\\../../skewed/116.Chipping_Sparrow."
     ]
    },
    {
     "name": "stderr",
     "output_type": "stream",
     "text": [
      "Processing <PIL.Image.Image image mode=RGB size=276x283 at 0x1DE13829460>: 100%|██████████| 60/60 [00:00<00:00, 519.26 Samples/s]\n"
     ]
    },
    {
     "name": "stdout",
     "output_type": "stream",
     "text": [
      "Initialised with 60 image(s) found.\n",
      "Output directory set to ./dataset/data/CUB_200_2011/cropped/116.Chipping_Sparrow\\../../sheared/116.Chipping_Sparrow."
     ]
    },
    {
     "name": "stderr",
     "output_type": "stream",
     "text": [
      "Processing <PIL.Image.Image image mode=RGB size=276x283 at 0x1DE136C2D60>: 100%|██████████| 60/60 [00:00<00:00, 786.99 Samples/s]\n"
     ]
    },
    {
     "name": "stdout",
     "output_type": "stream",
     "text": [
      "Initialised with 59 image(s) found.\n",
      "Output directory set to ./dataset/data/CUB_200_2011/cropped/117.Clay_colored_Sparrow\\../../rotated/117.Clay_colored_Sparrow."
     ]
    },
    {
     "name": "stderr",
     "output_type": "stream",
     "text": [
      "Processing <PIL.Image.Image image mode=RGB size=133x119 at 0x1DE137665B0>: 100%|██████████| 59/59 [00:00<00:00, 616.03 Samples/s]\n"
     ]
    },
    {
     "name": "stdout",
     "output_type": "stream",
     "text": [
      "Initialised with 59 image(s) found.\n",
      "Output directory set to ./dataset/data/CUB_200_2011/cropped/117.Clay_colored_Sparrow\\../../skewed/117.Clay_colored_Sparrow."
     ]
    },
    {
     "name": "stderr",
     "output_type": "stream",
     "text": [
      "Processing <PIL.Image.Image image mode=RGB size=133x119 at 0x1DE13806FA0>: 100%|██████████| 59/59 [00:00<00:00, 671.25 Samples/s]\n"
     ]
    },
    {
     "name": "stdout",
     "output_type": "stream",
     "text": [
      "Initialised with 59 image(s) found.\n",
      "Output directory set to ./dataset/data/CUB_200_2011/cropped/117.Clay_colored_Sparrow\\../../sheared/117.Clay_colored_Sparrow."
     ]
    },
    {
     "name": "stderr",
     "output_type": "stream",
     "text": [
      "Processing <PIL.Image.Image image mode=RGB size=133x119 at 0x1DE13701BE0>: 100%|██████████| 59/59 [00:00<00:00, 739.73 Samples/s]\n"
     ]
    },
    {
     "name": "stdout",
     "output_type": "stream",
     "text": [
      "Initialised with 60 image(s) found.\n",
      "Output directory set to ./dataset/data/CUB_200_2011/cropped/118.House_Sparrow\\../../rotated/118.House_Sparrow."
     ]
    },
    {
     "name": "stderr",
     "output_type": "stream",
     "text": [
      "Processing <PIL.Image.Image image mode=RGB size=239x237 at 0x1DE1375A520>: 100%|██████████| 60/60 [00:00<00:00, 742.58 Samples/s]\n"
     ]
    },
    {
     "name": "stdout",
     "output_type": "stream",
     "text": [
      "Initialised with 60 image(s) found.\n",
      "Output directory set to ./dataset/data/CUB_200_2011/cropped/118.House_Sparrow\\../../skewed/118.House_Sparrow."
     ]
    },
    {
     "name": "stderr",
     "output_type": "stream",
     "text": [
      "Processing <PIL.Image.Image image mode=RGB size=239x237 at 0x1DE13767A60>: 100%|██████████| 60/60 [00:00<00:00, 747.86 Samples/s]"
     ]
    },
    {
     "name": "stdout",
     "output_type": "stream",
     "text": [
      "Initialised with 60 image(s) found.\n"
     ]
    },
    {
     "name": "stderr",
     "output_type": "stream",
     "text": [
      "\n"
     ]
    },
    {
     "name": "stdout",
     "output_type": "stream",
     "text": [
      "Output directory set to ./dataset/data/CUB_200_2011/cropped/118.House_Sparrow\\../../sheared/118.House_Sparrow."
     ]
    },
    {
     "name": "stderr",
     "output_type": "stream",
     "text": [
      "Processing <PIL.Image.Image image mode=RGB size=239x237 at 0x1DE13701CD0>: 100%|██████████| 60/60 [00:00<00:00, 687.17 Samples/s]\n"
     ]
    },
    {
     "name": "stdout",
     "output_type": "stream",
     "text": [
      "Initialised with 59 image(s) found.\n",
      "Output directory set to ./dataset/data/CUB_200_2011/cropped/119.Field_Sparrow\\../../rotated/119.Field_Sparrow."
     ]
    },
    {
     "name": "stderr",
     "output_type": "stream",
     "text": [
      "Processing <PIL.Image.Image image mode=RGB size=377x217 at 0x1DE12195DF0>: 100%|██████████| 59/59 [00:00<00:00, 688.06 Samples/s]\n"
     ]
    },
    {
     "name": "stdout",
     "output_type": "stream",
     "text": [
      "Initialised with 59 image(s) found.\n",
      "Output directory set to ./dataset/data/CUB_200_2011/cropped/119.Field_Sparrow\\../../skewed/119.Field_Sparrow."
     ]
    },
    {
     "name": "stderr",
     "output_type": "stream",
     "text": [
      "Processing <PIL.Image.Image image mode=RGB size=377x217 at 0x1DE138066A0>: 100%|██████████| 59/59 [00:00<00:00, 675.09 Samples/s]\n"
     ]
    },
    {
     "name": "stdout",
     "output_type": "stream",
     "text": [
      "Initialised with 59 image(s) found.\n",
      "Output directory set to ./dataset/data/CUB_200_2011/cropped/119.Field_Sparrow\\../../sheared/119.Field_Sparrow."
     ]
    },
    {
     "name": "stderr",
     "output_type": "stream",
     "text": [
      "Processing <PIL.Image.Image image mode=RGB size=377x217 at 0x1DE13712790>: 100%|██████████| 59/59 [00:00<00:00, 763.57 Samples/s]\n"
     ]
    },
    {
     "name": "stdout",
     "output_type": "stream",
     "text": [
      "Initialised with 60 image(s) found.\n",
      "Output directory set to ./dataset/data/CUB_200_2011/cropped/120.Fox_Sparrow\\../../rotated/120.Fox_Sparrow."
     ]
    },
    {
     "name": "stderr",
     "output_type": "stream",
     "text": [
      "Processing <PIL.Image.Image image mode=RGB size=334x403 at 0x1DE13744A30>: 100%|██████████| 60/60 [00:00<00:00, 752.08 Samples/s]"
     ]
    },
    {
     "name": "stdout",
     "output_type": "stream",
     "text": [
      "Initialised with 60 image(s) found.\n"
     ]
    },
    {
     "name": "stderr",
     "output_type": "stream",
     "text": [
      "\n"
     ]
    },
    {
     "name": "stdout",
     "output_type": "stream",
     "text": [
      "Output directory set to ./dataset/data/CUB_200_2011/cropped/120.Fox_Sparrow\\../../skewed/120.Fox_Sparrow."
     ]
    },
    {
     "name": "stderr",
     "output_type": "stream",
     "text": [
      "Processing <PIL.Image.Image image mode=RGB size=334x403 at 0x1DE1373A5B0>: 100%|██████████| 60/60 [00:00<00:00, 734.35 Samples/s]\n"
     ]
    },
    {
     "name": "stdout",
     "output_type": "stream",
     "text": [
      "Initialised with 60 image(s) found.\n",
      "Output directory set to ./dataset/data/CUB_200_2011/cropped/120.Fox_Sparrow\\../../sheared/120.Fox_Sparrow."
     ]
    },
    {
     "name": "stderr",
     "output_type": "stream",
     "text": [
      "Processing <PIL.Image.Image image mode=RGB size=334x403 at 0x1DE136C06D0>: 100%|██████████| 60/60 [00:00<00:00, 608.23 Samples/s]\n"
     ]
    },
    {
     "name": "stdout",
     "output_type": "stream",
     "text": [
      "Initialised with 60 image(s) found.\n",
      "Output directory set to ./dataset/data/CUB_200_2011/cropped/121.Grasshopper_Sparrow\\../../rotated/121.Grasshopper_Sparrow."
     ]
    },
    {
     "name": "stderr",
     "output_type": "stream",
     "text": [
      "Processing <PIL.Image.Image image mode=RGB size=167x247 at 0x1DE12195DF0>: 100%|██████████| 60/60 [00:00<00:00, 709.08 Samples/s]\n"
     ]
    },
    {
     "name": "stdout",
     "output_type": "stream",
     "text": [
      "Initialised with 60 image(s) found.\n",
      "Output directory set to ./dataset/data/CUB_200_2011/cropped/121.Grasshopper_Sparrow\\../../skewed/121.Grasshopper_Sparrow."
     ]
    },
    {
     "name": "stderr",
     "output_type": "stream",
     "text": [
      "Processing <PIL.Image.Image image mode=RGB size=167x247 at 0x1DE1375AB80>: 100%|██████████| 60/60 [00:00<00:00, 728.29 Samples/s]\n"
     ]
    },
    {
     "name": "stdout",
     "output_type": "stream",
     "text": [
      "Initialised with 60 image(s) found.\n",
      "Output directory set to ./dataset/data/CUB_200_2011/cropped/121.Grasshopper_Sparrow\\../../sheared/121.Grasshopper_Sparrow."
     ]
    },
    {
     "name": "stderr",
     "output_type": "stream",
     "text": [
      "Processing <PIL.Image.Image image mode=RGB size=167x247 at 0x1DE136ED3D0>: 100%|██████████| 60/60 [00:00<00:00, 765.56 Samples/s]"
     ]
    },
    {
     "name": "stdout",
     "output_type": "stream",
     "text": [
      "Initialised with 60 image(s) found.\n",
      "Output directory set to ./dataset/data/CUB_200_2011/cropped/122.Harris_Sparrow\\../../rotated/122.Harris_Sparrow."
     ]
    },
    {
     "name": "stderr",
     "output_type": "stream",
     "text": [
      "\n",
      "Processing <PIL.Image.Image image mode=RGB size=115x266 at 0x1DE1370DB20>: 100%|██████████| 60/60 [00:00<00:00, 730.22 Samples/s]\n"
     ]
    },
    {
     "name": "stdout",
     "output_type": "stream",
     "text": [
      "Initialised with 60 image(s) found.\n",
      "Output directory set to ./dataset/data/CUB_200_2011/cropped/122.Harris_Sparrow\\../../skewed/122.Harris_Sparrow."
     ]
    },
    {
     "name": "stderr",
     "output_type": "stream",
     "text": [
      "Processing <PIL.Image.Image image mode=RGB size=115x266 at 0x1DE12195100>: 100%|██████████| 60/60 [00:00<00:00, 667.85 Samples/s]\n"
     ]
    },
    {
     "name": "stdout",
     "output_type": "stream",
     "text": [
      "Initialised with 60 image(s) found.\n",
      "Output directory set to ./dataset/data/CUB_200_2011/cropped/122.Harris_Sparrow\\../../sheared/122.Harris_Sparrow."
     ]
    },
    {
     "name": "stderr",
     "output_type": "stream",
     "text": [
      "Processing <PIL.Image.Image image mode=RGB size=115x266 at 0x1DE13744070>: 100%|██████████| 60/60 [00:00<00:00, 742.33 Samples/s]\n"
     ]
    },
    {
     "name": "stdout",
     "output_type": "stream",
     "text": [
      "Initialised with 60 image(s) found.\n",
      "Output directory set to ./dataset/data/CUB_200_2011/cropped/123.Henslow_Sparrow\\../../rotated/123.Henslow_Sparrow."
     ]
    },
    {
     "name": "stderr",
     "output_type": "stream",
     "text": [
      "Processing <PIL.Image.Image image mode=RGB size=308x254 at 0x1DE137D1A90>: 100%|██████████| 60/60 [00:00<00:00, 796.57 Samples/s]\n"
     ]
    },
    {
     "name": "stdout",
     "output_type": "stream",
     "text": [
      "Initialised with 60 image(s) found.\n",
      "Output directory set to ./dataset/data/CUB_200_2011/cropped/123.Henslow_Sparrow\\../../skewed/123.Henslow_Sparrow."
     ]
    },
    {
     "name": "stderr",
     "output_type": "stream",
     "text": [
      "Processing <PIL.Image.Image image mode=RGB size=308x254 at 0x1DE136E0670>: 100%|██████████| 60/60 [00:00<00:00, 733.47 Samples/s]\n"
     ]
    },
    {
     "name": "stdout",
     "output_type": "stream",
     "text": [
      "Initialised with 60 image(s) found.\n",
      "Output directory set to ./dataset/data/CUB_200_2011/cropped/123.Henslow_Sparrow\\../../sheared/123.Henslow_Sparrow."
     ]
    },
    {
     "name": "stderr",
     "output_type": "stream",
     "text": [
      "Processing <PIL.Image.Image image mode=RGB size=308x254 at 0x1DE12195310>: 100%|██████████| 60/60 [00:00<00:00, 786.80 Samples/s]"
     ]
    },
    {
     "name": "stdout",
     "output_type": "stream",
     "text": [
      "Initialised with 59 image(s) found.\n"
     ]
    },
    {
     "name": "stderr",
     "output_type": "stream",
     "text": [
      "\n"
     ]
    },
    {
     "name": "stdout",
     "output_type": "stream",
     "text": [
      "Output directory set to ./dataset/data/CUB_200_2011/cropped/124.Le_Conte_Sparrow\\../../rotated/124.Le_Conte_Sparrow."
     ]
    },
    {
     "name": "stderr",
     "output_type": "stream",
     "text": [
      "Processing <PIL.Image.Image image mode=RGB size=315x244 at 0x1DE13766E80>: 100%|██████████| 59/59 [00:00<00:00, 703.35 Samples/s]\n"
     ]
    },
    {
     "name": "stdout",
     "output_type": "stream",
     "text": [
      "Initialised with 59 image(s) found.\n",
      "Output directory set to ./dataset/data/CUB_200_2011/cropped/124.Le_Conte_Sparrow\\../../skewed/124.Le_Conte_Sparrow."
     ]
    },
    {
     "name": "stderr",
     "output_type": "stream",
     "text": [
      "Processing <PIL.Image.Image image mode=RGB size=315x244 at 0x1DE136ED100>: 100%|██████████| 59/59 [00:00<00:00, 596.39 Samples/s]\n"
     ]
    },
    {
     "name": "stdout",
     "output_type": "stream",
     "text": [
      "Initialised with 59 image(s) found.\n",
      "Output directory set to ./dataset/data/CUB_200_2011/cropped/124.Le_Conte_Sparrow\\../../sheared/124.Le_Conte_Sparrow."
     ]
    },
    {
     "name": "stderr",
     "output_type": "stream",
     "text": [
      "Processing <PIL.Image.Image image mode=RGB size=315x244 at 0x1DE13812DF0>: 100%|██████████| 59/59 [00:00<00:00, 750.10 Samples/s]\n"
     ]
    },
    {
     "name": "stdout",
     "output_type": "stream",
     "text": [
      "Initialised with 59 image(s) found.\n",
      "Output directory set to ./dataset/data/CUB_200_2011/cropped/125.Lincoln_Sparrow\\../../rotated/125.Lincoln_Sparrow."
     ]
    },
    {
     "name": "stderr",
     "output_type": "stream",
     "text": [
      "Processing <PIL.Image.Image image mode=RGB size=283x194 at 0x1DE136B21C0>: 100%|██████████| 59/59 [00:00<00:00, 784.10 Samples/s]\n"
     ]
    },
    {
     "name": "stdout",
     "output_type": "stream",
     "text": [
      "Initialised with 59 image(s) found.\n",
      "Output directory set to ./dataset/data/CUB_200_2011/cropped/125.Lincoln_Sparrow\\../../skewed/125.Lincoln_Sparrow."
     ]
    },
    {
     "name": "stderr",
     "output_type": "stream",
     "text": [
      "Processing <PIL.Image.Image image mode=RGB size=283x194 at 0x1DE1370DA30>: 100%|██████████| 59/59 [00:00<00:00, 739.67 Samples/s]\n"
     ]
    },
    {
     "name": "stdout",
     "output_type": "stream",
     "text": [
      "Initialised with 59 image(s) found.\n",
      "Output directory set to ./dataset/data/CUB_200_2011/cropped/125.Lincoln_Sparrow\\../../sheared/125.Lincoln_Sparrow."
     ]
    },
    {
     "name": "stderr",
     "output_type": "stream",
     "text": [
      "Processing <PIL.Image.Image image mode=RGB size=283x194 at 0x1DE1375AF70>: 100%|██████████| 59/59 [00:00<00:00, 692.26 Samples/s]\n"
     ]
    },
    {
     "name": "stdout",
     "output_type": "stream",
     "text": [
      "Initialised with 59 image(s) found.\n",
      "Output directory set to ./dataset/data/CUB_200_2011/cropped/126.Nelson_Sharp_tailed_Sparrow\\../../rotated/126.Nelson_Sharp_tailed_Sparrow."
     ]
    },
    {
     "name": "stderr",
     "output_type": "stream",
     "text": [
      "Processing <PIL.Image.Image image mode=RGB size=284x263 at 0x1DE13701970>: 100%|██████████| 59/59 [00:00<00:00, 749.40 Samples/s]\n"
     ]
    },
    {
     "name": "stdout",
     "output_type": "stream",
     "text": [
      "Initialised with 59 image(s) found.\n",
      "Output directory set to ./dataset/data/CUB_200_2011/cropped/126.Nelson_Sharp_tailed_Sparrow\\../../skewed/126.Nelson_Sharp_tailed_Sparrow."
     ]
    },
    {
     "name": "stderr",
     "output_type": "stream",
     "text": [
      "Processing <PIL.Image.Image image mode=RGB size=284x263 at 0x1DE1373A250>: 100%|██████████| 59/59 [00:00<00:00, 668.02 Samples/s]\n"
     ]
    },
    {
     "name": "stdout",
     "output_type": "stream",
     "text": [
      "Initialised with 59 image(s) found.\n",
      "Output directory set to ./dataset/data/CUB_200_2011/cropped/126.Nelson_Sharp_tailed_Sparrow\\../../sheared/126.Nelson_Sharp_tailed_Sparrow."
     ]
    },
    {
     "name": "stderr",
     "output_type": "stream",
     "text": [
      "Processing <PIL.Image.Image image mode=RGB size=284x263 at 0x1DE137CDBE0>: 100%|██████████| 59/59 [00:00<00:00, 806.15 Samples/s]\n"
     ]
    },
    {
     "name": "stdout",
     "output_type": "stream",
     "text": [
      "Initialised with 60 image(s) found.\n",
      "Output directory set to ./dataset/data/CUB_200_2011/cropped/127.Savannah_Sparrow\\../../rotated/127.Savannah_Sparrow."
     ]
    },
    {
     "name": "stderr",
     "output_type": "stream",
     "text": [
      "Processing <PIL.Image.Image image mode=RGB size=169x171 at 0x1DE137D1A90>: 100%|██████████| 60/60 [00:00<00:00, 716.05 Samples/s]"
     ]
    },
    {
     "name": "stdout",
     "output_type": "stream",
     "text": [
      "Initialised with 60 image(s) found.\n",
      "Output directory set to ./dataset/data/CUB_200_2011/cropped/127.Savannah_Sparrow\\../../skewed/127.Savannah_Sparrow."
     ]
    },
    {
     "name": "stderr",
     "output_type": "stream",
     "text": [
      "\n",
      "Processing <PIL.Image.Image image mode=RGB size=169x171 at 0x1DE136E4E80>: 100%|██████████| 60/60 [00:00<00:00, 703.21 Samples/s]\n"
     ]
    },
    {
     "name": "stdout",
     "output_type": "stream",
     "text": [
      "Initialised with 60 image(s) found.\n",
      "Output directory set to ./dataset/data/CUB_200_2011/cropped/127.Savannah_Sparrow\\../../sheared/127.Savannah_Sparrow."
     ]
    },
    {
     "name": "stderr",
     "output_type": "stream",
     "text": [
      "Processing <PIL.Image.Image image mode=RGB size=169x171 at 0x1DE138067C0>: 100%|██████████| 60/60 [00:00<00:00, 766.54 Samples/s]\n"
     ]
    },
    {
     "name": "stdout",
     "output_type": "stream",
     "text": [
      "Initialised with 60 image(s) found.\n",
      "Output directory set to ./dataset/data/CUB_200_2011/cropped/128.Seaside_Sparrow\\../../rotated/128.Seaside_Sparrow."
     ]
    },
    {
     "name": "stderr",
     "output_type": "stream",
     "text": [
      "Processing <PIL.Image.Image image mode=RGB size=287x229 at 0x1DE137665B0>: 100%|██████████| 60/60 [00:00<00:00, 643.96 Samples/s]\n"
     ]
    },
    {
     "name": "stdout",
     "output_type": "stream",
     "text": [
      "Initialised with 60 image(s) found.\n",
      "Output directory set to ./dataset/data/CUB_200_2011/cropped/128.Seaside_Sparrow\\../../skewed/128.Seaside_Sparrow."
     ]
    },
    {
     "name": "stderr",
     "output_type": "stream",
     "text": [
      "Processing <PIL.Image.Image image mode=RGB size=287x229 at 0x1DE1375A1C0>: 100%|██████████| 60/60 [00:00<00:00, 738.39 Samples/s]\n"
     ]
    },
    {
     "name": "stdout",
     "output_type": "stream",
     "text": [
      "Initialised with 60 image(s) found.\n",
      "Output directory set to ./dataset/data/CUB_200_2011/cropped/128.Seaside_Sparrow\\../../sheared/128.Seaside_Sparrow."
     ]
    },
    {
     "name": "stderr",
     "output_type": "stream",
     "text": [
      "Processing <PIL.Image.Image image mode=RGB size=287x229 at 0x1DE12195DC0>: 100%|██████████| 60/60 [00:00<00:00, 792.82 Samples/s]\n"
     ]
    },
    {
     "name": "stdout",
     "output_type": "stream",
     "text": [
      "Initialised with 60 image(s) found.\n",
      "Output directory set to ./dataset/data/CUB_200_2011/cropped/129.Song_Sparrow\\../../rotated/129.Song_Sparrow."
     ]
    },
    {
     "name": "stderr",
     "output_type": "stream",
     "text": [
      "Processing <PIL.Image.Image image mode=RGB size=267x213 at 0x1DE136B2BE0>: 100%|██████████| 60/60 [00:00<00:00, 707.82 Samples/s]"
     ]
    },
    {
     "name": "stdout",
     "output_type": "stream",
     "text": [
      "Initialised with 60 image(s) found.\n"
     ]
    },
    {
     "name": "stderr",
     "output_type": "stream",
     "text": [
      "\n"
     ]
    },
    {
     "name": "stdout",
     "output_type": "stream",
     "text": [
      "Output directory set to ./dataset/data/CUB_200_2011/cropped/129.Song_Sparrow\\../../skewed/129.Song_Sparrow."
     ]
    },
    {
     "name": "stderr",
     "output_type": "stream",
     "text": [
      "Processing <PIL.Image.Image image mode=RGB size=267x213 at 0x1DE13812280>: 100%|██████████| 60/60 [00:00<00:00, 747.54 Samples/s]\n"
     ]
    },
    {
     "name": "stdout",
     "output_type": "stream",
     "text": [
      "Initialised with 60 image(s) found.\n",
      "Output directory set to ./dataset/data/CUB_200_2011/cropped/129.Song_Sparrow\\../../sheared/129.Song_Sparrow."
     ]
    },
    {
     "name": "stderr",
     "output_type": "stream",
     "text": [
      "Processing <PIL.Image.Image image mode=RGB size=267x213 at 0x1DE135AE670>: 100%|██████████| 60/60 [00:00<00:00, 776.69 Samples/s]\n"
     ]
    },
    {
     "name": "stdout",
     "output_type": "stream",
     "text": [
      "Initialised with 60 image(s) found.\n",
      "Output directory set to ./dataset/data/CUB_200_2011/cropped/130.Tree_Sparrow\\../../rotated/130.Tree_Sparrow."
     ]
    },
    {
     "name": "stderr",
     "output_type": "stream",
     "text": [
      "Processing <PIL.Image.Image image mode=RGB size=290x365 at 0x1DE12195E20>: 100%|██████████| 60/60 [00:00<00:00, 633.32 Samples/s]\n"
     ]
    },
    {
     "name": "stdout",
     "output_type": "stream",
     "text": [
      "Initialised with 60 image(s) found.\n",
      "Output directory set to ./dataset/data/CUB_200_2011/cropped/130.Tree_Sparrow\\../../skewed/130.Tree_Sparrow."
     ]
    },
    {
     "name": "stderr",
     "output_type": "stream",
     "text": [
      "Processing <PIL.Image.Image image mode=RGB size=290x365 at 0x1DE13701AF0>: 100%|██████████| 60/60 [00:00<00:00, 719.87 Samples/s]\n"
     ]
    },
    {
     "name": "stdout",
     "output_type": "stream",
     "text": [
      "Initialised with 60 image(s) found.\n",
      "Output directory set to ./dataset/data/CUB_200_2011/cropped/130.Tree_Sparrow\\../../sheared/130.Tree_Sparrow."
     ]
    },
    {
     "name": "stderr",
     "output_type": "stream",
     "text": [
      "Processing <PIL.Image.Image image mode=RGB size=290x365 at 0x1DE136E44F0>: 100%|██████████| 60/60 [00:00<00:00, 715.38 Samples/s]\n"
     ]
    },
    {
     "name": "stdout",
     "output_type": "stream",
     "text": [
      "Initialised with 60 image(s) found.\n",
      "Output directory set to ./dataset/data/CUB_200_2011/cropped/131.Vesper_Sparrow\\../../rotated/131.Vesper_Sparrow."
     ]
    },
    {
     "name": "stderr",
     "output_type": "stream",
     "text": [
      "Processing <PIL.Image.Image image mode=RGB size=225x193 at 0x1DE136E0550>: 100%|██████████| 60/60 [00:00<00:00, 768.95 Samples/s]\n"
     ]
    },
    {
     "name": "stdout",
     "output_type": "stream",
     "text": [
      "Initialised with 60 image(s) found.\n",
      "Output directory set to ./dataset/data/CUB_200_2011/cropped/131.Vesper_Sparrow\\../../skewed/131.Vesper_Sparrow."
     ]
    },
    {
     "name": "stderr",
     "output_type": "stream",
     "text": [
      "Processing <PIL.Image.Image image mode=RGB size=225x193 at 0x1DE13829760>: 100%|██████████| 60/60 [00:00<00:00, 747.70 Samples/s]\n"
     ]
    },
    {
     "name": "stdout",
     "output_type": "stream",
     "text": [
      "Initialised with 60 image(s) found.\n",
      "Output directory set to ./dataset/data/CUB_200_2011/cropped/131.Vesper_Sparrow\\../../sheared/131.Vesper_Sparrow."
     ]
    },
    {
     "name": "stderr",
     "output_type": "stream",
     "text": [
      "Processing <PIL.Image.Image image mode=RGB size=225x193 at 0x1DE13712970>: 100%|██████████| 60/60 [00:00<00:00, 679.89 Samples/s]\n"
     ]
    },
    {
     "name": "stdout",
     "output_type": "stream",
     "text": [
      "Initialised with 60 image(s) found.\n",
      "Output directory set to ./dataset/data/CUB_200_2011/cropped/132.White_crowned_Sparrow\\../../rotated/132.White_crowned_Sparrow."
     ]
    },
    {
     "name": "stderr",
     "output_type": "stream",
     "text": [
      "Processing <PIL.Image.Image image mode=RGB size=243x171 at 0x1DE136C2FA0>: 100%|██████████| 60/60 [00:00<00:00, 637.26 Samples/s]\n"
     ]
    },
    {
     "name": "stdout",
     "output_type": "stream",
     "text": [
      "Initialised with 60 image(s) found.\n",
      "Output directory set to ./dataset/data/CUB_200_2011/cropped/132.White_crowned_Sparrow\\../../skewed/132.White_crowned_Sparrow."
     ]
    },
    {
     "name": "stderr",
     "output_type": "stream",
     "text": [
      "Processing <PIL.Image.Image image mode=RGB size=243x171 at 0x1DE1370D250>: 100%|██████████| 60/60 [00:00<00:00, 657.12 Samples/s]\n"
     ]
    },
    {
     "name": "stdout",
     "output_type": "stream",
     "text": [
      "Initialised with 60 image(s) found.\n",
      "Output directory set to ./dataset/data/CUB_200_2011/cropped/132.White_crowned_Sparrow\\../../sheared/132.White_crowned_Sparrow."
     ]
    },
    {
     "name": "stderr",
     "output_type": "stream",
     "text": [
      "Processing <PIL.Image.Image image mode=RGB size=243x171 at 0x1DE13806280>: 100%|██████████| 60/60 [00:00<00:00, 747.44 Samples/s]\n"
     ]
    },
    {
     "name": "stdout",
     "output_type": "stream",
     "text": [
      "Initialised with 60 image(s) found.\n",
      "Output directory set to ./dataset/data/CUB_200_2011/cropped/133.White_throated_Sparrow\\../../rotated/133.White_throated_Sparrow."
     ]
    },
    {
     "name": "stderr",
     "output_type": "stream",
     "text": [
      "Processing <PIL.Image.Image image mode=RGB size=206x209 at 0x1DE13767610>: 100%|██████████| 60/60 [00:00<00:00, 746.83 Samples/s]\n"
     ]
    },
    {
     "name": "stdout",
     "output_type": "stream",
     "text": [
      "Initialised with 60 image(s) found.\n",
      "Output directory set to ./dataset/data/CUB_200_2011/cropped/133.White_throated_Sparrow\\../../skewed/133.White_throated_Sparrow."
     ]
    },
    {
     "name": "stderr",
     "output_type": "stream",
     "text": [
      "Processing <PIL.Image.Image image mode=RGB size=206x209 at 0x1DE121953D0>: 100%|██████████| 60/60 [00:00<00:00, 734.21 Samples/s]\n"
     ]
    },
    {
     "name": "stdout",
     "output_type": "stream",
     "text": [
      "Initialised with 60 image(s) found.\n",
      "Output directory set to ./dataset/data/CUB_200_2011/cropped/133.White_throated_Sparrow\\../../sheared/133.White_throated_Sparrow."
     ]
    },
    {
     "name": "stderr",
     "output_type": "stream",
     "text": [
      "Processing <PIL.Image.Image image mode=RGB size=206x209 at 0x1DE13701F10>: 100%|██████████| 60/60 [00:00<00:00, 534.76 Samples/s]\n"
     ]
    },
    {
     "name": "stdout",
     "output_type": "stream",
     "text": [
      "Initialised with 60 image(s) found.\n",
      "Output directory set to ./dataset/data/CUB_200_2011/cropped/134.Cape_Glossy_Starling\\../../rotated/134.Cape_Glossy_Starling."
     ]
    },
    {
     "name": "stderr",
     "output_type": "stream",
     "text": [
      "Processing <PIL.Image.Image image mode=RGB size=201x295 at 0x1DE135AE730>: 100%|██████████| 60/60 [00:00<00:00, 628.78 Samples/s]\n"
     ]
    },
    {
     "name": "stdout",
     "output_type": "stream",
     "text": [
      "Initialised with 60 image(s) found.\n",
      "Output directory set to ./dataset/data/CUB_200_2011/cropped/134.Cape_Glossy_Starling\\../../skewed/134.Cape_Glossy_Starling."
     ]
    },
    {
     "name": "stderr",
     "output_type": "stream",
     "text": [
      "Processing <PIL.Image.Image image mode=RGB size=201x295 at 0x1DE13766AF0>: 100%|██████████| 60/60 [00:00<00:00, 616.28 Samples/s]\n"
     ]
    },
    {
     "name": "stdout",
     "output_type": "stream",
     "text": [
      "Initialised with 60 image(s) found.\n",
      "Output directory set to ./dataset/data/CUB_200_2011/cropped/134.Cape_Glossy_Starling\\../../sheared/134.Cape_Glossy_Starling."
     ]
    },
    {
     "name": "stderr",
     "output_type": "stream",
     "text": [
      "Processing <PIL.Image.Image image mode=RGB size=201x295 at 0x1DE13766A90>: 100%|██████████| 60/60 [00:00<00:00, 680.08 Samples/s]\n"
     ]
    },
    {
     "name": "stdout",
     "output_type": "stream",
     "text": [
      "Initialised with 59 image(s) found.\n",
      "Output directory set to ./dataset/data/CUB_200_2011/cropped/135.Bank_Swallow\\../../rotated/135.Bank_Swallow."
     ]
    },
    {
     "name": "stderr",
     "output_type": "stream",
     "text": [
      "Processing <PIL.Image.Image image mode=RGB size=164x183 at 0x1DE136C2FD0>: 100%|██████████| 59/59 [00:00<00:00, 783.24 Samples/s]\n"
     ]
    },
    {
     "name": "stdout",
     "output_type": "stream",
     "text": [
      "Initialised with 59 image(s) found.\n",
      "Output directory set to ./dataset/data/CUB_200_2011/cropped/135.Bank_Swallow\\../../skewed/135.Bank_Swallow."
     ]
    },
    {
     "name": "stderr",
     "output_type": "stream",
     "text": [
      "Processing <PIL.Image.Image image mode=RGB size=164x183 at 0x1DE136E4250>: 100%|██████████| 59/59 [00:00<00:00, 645.27 Samples/s]\n"
     ]
    },
    {
     "name": "stdout",
     "output_type": "stream",
     "text": [
      "Initialised with 59 image(s) found.\n",
      "Output directory set to ./dataset/data/CUB_200_2011/cropped/135.Bank_Swallow\\../../sheared/135.Bank_Swallow."
     ]
    },
    {
     "name": "stderr",
     "output_type": "stream",
     "text": [
      "Processing <PIL.Image.Image image mode=RGB size=164x183 at 0x1DE136C2D00>: 100%|██████████| 59/59 [00:00<00:00, 799.67 Samples/s]\n"
     ]
    },
    {
     "name": "stdout",
     "output_type": "stream",
     "text": [
      "Initialised with 60 image(s) found.\n",
      "Output directory set to ./dataset/data/CUB_200_2011/cropped/136.Barn_Swallow\\../../rotated/136.Barn_Swallow."
     ]
    },
    {
     "name": "stderr",
     "output_type": "stream",
     "text": [
      "Processing <PIL.Image.Image image mode=RGB size=256x259 at 0x1DE135AE610>: 100%|██████████| 60/60 [00:00<00:00, 771.35 Samples/s]"
     ]
    },
    {
     "name": "stdout",
     "output_type": "stream",
     "text": [
      "Initialised with 60 image(s) found.\n"
     ]
    },
    {
     "name": "stderr",
     "output_type": "stream",
     "text": [
      "\n"
     ]
    },
    {
     "name": "stdout",
     "output_type": "stream",
     "text": [
      "Output directory set to ./dataset/data/CUB_200_2011/cropped/136.Barn_Swallow\\../../skewed/136.Barn_Swallow."
     ]
    },
    {
     "name": "stderr",
     "output_type": "stream",
     "text": [
      "Processing <PIL.Image.Image image mode=RGB size=256x259 at 0x1DE13812130>: 100%|██████████| 60/60 [00:00<00:00, 757.31 Samples/s]"
     ]
    },
    {
     "name": "stdout",
     "output_type": "stream",
     "text": [
      "Initialised with 60 image(s) found.\n"
     ]
    },
    {
     "name": "stderr",
     "output_type": "stream",
     "text": [
      "\n"
     ]
    },
    {
     "name": "stdout",
     "output_type": "stream",
     "text": [
      "Output directory set to ./dataset/data/CUB_200_2011/cropped/136.Barn_Swallow\\../../sheared/136.Barn_Swallow."
     ]
    },
    {
     "name": "stderr",
     "output_type": "stream",
     "text": [
      "Processing <PIL.Image.Image image mode=RGB size=256x259 at 0x1DE1373ABB0>: 100%|██████████| 60/60 [00:00<00:00, 757.22 Samples/s]\n"
     ]
    },
    {
     "name": "stdout",
     "output_type": "stream",
     "text": [
      "Initialised with 60 image(s) found.\n",
      "Output directory set to ./dataset/data/CUB_200_2011/cropped/137.Cliff_Swallow\\../../rotated/137.Cliff_Swallow."
     ]
    },
    {
     "name": "stderr",
     "output_type": "stream",
     "text": [
      "Processing <PIL.Image.Image image mode=RGB size=154x197 at 0x1DE137CDD00>: 100%|██████████| 60/60 [00:00<00:00, 757.29 Samples/s]\n"
     ]
    },
    {
     "name": "stdout",
     "output_type": "stream",
     "text": [
      "Initialised with 60 image(s) found.\n",
      "Output directory set to ./dataset/data/CUB_200_2011/cropped/137.Cliff_Swallow\\../../skewed/137.Cliff_Swallow."
     ]
    },
    {
     "name": "stderr",
     "output_type": "stream",
     "text": [
      "Processing <PIL.Image.Image image mode=RGB size=154x197 at 0x1DE136E42E0>: 100%|██████████| 60/60 [00:00<00:00, 619.48 Samples/s]\n"
     ]
    },
    {
     "name": "stdout",
     "output_type": "stream",
     "text": [
      "Initialised with 60 image(s) found.\n",
      "Output directory set to ./dataset/data/CUB_200_2011/cropped/137.Cliff_Swallow\\../../sheared/137.Cliff_Swallow."
     ]
    },
    {
     "name": "stderr",
     "output_type": "stream",
     "text": [
      "Processing <PIL.Image.Image image mode=RGB size=154x197 at 0x1DE138066A0>: 100%|██████████| 60/60 [00:00<00:00, 776.01 Samples/s]\n"
     ]
    },
    {
     "name": "stdout",
     "output_type": "stream",
     "text": [
      "Initialised with 60 image(s) found.\n",
      "Output directory set to ./dataset/data/CUB_200_2011/cropped/138.Tree_Swallow\\../../rotated/138.Tree_Swallow."
     ]
    },
    {
     "name": "stderr",
     "output_type": "stream",
     "text": [
      "Processing <PIL.Image.Image image mode=RGB size=210x164 at 0x1DE13829940>: 100%|██████████| 60/60 [00:00<00:00, 776.48 Samples/s]"
     ]
    },
    {
     "name": "stdout",
     "output_type": "stream",
     "text": [
      "Initialised with 60 image(s) found.\n"
     ]
    },
    {
     "name": "stderr",
     "output_type": "stream",
     "text": [
      "\n"
     ]
    },
    {
     "name": "stdout",
     "output_type": "stream",
     "text": [
      "Output directory set to ./dataset/data/CUB_200_2011/cropped/138.Tree_Swallow\\../../skewed/138.Tree_Swallow."
     ]
    },
    {
     "name": "stderr",
     "output_type": "stream",
     "text": [
      "Processing <PIL.Image.Image image mode=RGB size=210x164 at 0x1DE1219EA00>: 100%|██████████| 60/60 [00:00<00:00, 771.44 Samples/s]\n"
     ]
    },
    {
     "name": "stdout",
     "output_type": "stream",
     "text": [
      "Initialised with 60 image(s) found.\n",
      "Output directory set to ./dataset/data/CUB_200_2011/cropped/138.Tree_Swallow\\../../sheared/138.Tree_Swallow."
     ]
    },
    {
     "name": "stderr",
     "output_type": "stream",
     "text": [
      "Processing <PIL.Image.Image image mode=RGB size=210x164 at 0x1DE12195DF0>: 100%|██████████| 60/60 [00:00<00:00, 767.47 Samples/s]\n"
     ]
    },
    {
     "name": "stdout",
     "output_type": "stream",
     "text": [
      "Initialised with 60 image(s) found.\n",
      "Output directory set to ./dataset/data/CUB_200_2011/cropped/139.Scarlet_Tanager\\../../rotated/139.Scarlet_Tanager."
     ]
    },
    {
     "name": "stderr",
     "output_type": "stream",
     "text": [
      "Processing <PIL.Image.Image image mode=RGB size=267x150 at 0x1DE136E4EE0>: 100%|██████████| 60/60 [00:00<00:00, 667.02 Samples/s]\n"
     ]
    },
    {
     "name": "stdout",
     "output_type": "stream",
     "text": [
      "Initialised with 60 image(s) found.\n",
      "Output directory set to ./dataset/data/CUB_200_2011/cropped/139.Scarlet_Tanager\\../../skewed/139.Scarlet_Tanager."
     ]
    },
    {
     "name": "stderr",
     "output_type": "stream",
     "text": [
      "Processing <PIL.Image.Image image mode=RGB size=267x150 at 0x1DE135AE700>: 100%|██████████| 60/60 [00:00<00:00, 724.68 Samples/s]\n"
     ]
    },
    {
     "name": "stdout",
     "output_type": "stream",
     "text": [
      "Initialised with 60 image(s) found.\n",
      "Output directory set to ./dataset/data/CUB_200_2011/cropped/139.Scarlet_Tanager\\../../sheared/139.Scarlet_Tanager."
     ]
    },
    {
     "name": "stderr",
     "output_type": "stream",
     "text": [
      "Processing <PIL.Image.Image image mode=RGB size=267x150 at 0x1DE136B2D90>: 100%|██████████| 60/60 [00:00<00:00, 813.50 Samples/s]"
     ]
    },
    {
     "name": "stdout",
     "output_type": "stream",
     "text": [
      "Initialised with 60 image(s) found.\n"
     ]
    },
    {
     "name": "stderr",
     "output_type": "stream",
     "text": [
      "\n"
     ]
    },
    {
     "name": "stdout",
     "output_type": "stream",
     "text": [
      "Output directory set to ./dataset/data/CUB_200_2011/cropped/140.Summer_Tanager\\../../rotated/140.Summer_Tanager."
     ]
    },
    {
     "name": "stderr",
     "output_type": "stream",
     "text": [
      "Processing <PIL.Image.Image image mode=RGB size=210x212 at 0x1DE12195EB0>: 100%|██████████| 60/60 [00:00<00:00, 797.45 Samples/s]"
     ]
    },
    {
     "name": "stdout",
     "output_type": "stream",
     "text": [
      "Initialised with 60 image(s) found.\n"
     ]
    },
    {
     "name": "stderr",
     "output_type": "stream",
     "text": [
      "\n"
     ]
    },
    {
     "name": "stdout",
     "output_type": "stream",
     "text": [
      "Output directory set to ./dataset/data/CUB_200_2011/cropped/140.Summer_Tanager\\../../skewed/140.Summer_Tanager."
     ]
    },
    {
     "name": "stderr",
     "output_type": "stream",
     "text": [
      "Processing <PIL.Image.Image image mode=RGB size=210x212 at 0x1DE12195E50>: 100%|██████████| 60/60 [00:00<00:00, 776.91 Samples/s]\n"
     ]
    },
    {
     "name": "stdout",
     "output_type": "stream",
     "text": [
      "Initialised with 60 image(s) found.\n",
      "Output directory set to ./dataset/data/CUB_200_2011/cropped/140.Summer_Tanager\\../../sheared/140.Summer_Tanager."
     ]
    },
    {
     "name": "stderr",
     "output_type": "stream",
     "text": [
      "Processing <PIL.Image.Image image mode=RGB size=210x212 at 0x1DE1370D250>: 100%|██████████| 60/60 [00:00<00:00, 724.32 Samples/s]"
     ]
    },
    {
     "name": "stdout",
     "output_type": "stream",
     "text": [
      "Initialised with 58 image(s) found.\n"
     ]
    },
    {
     "name": "stderr",
     "output_type": "stream",
     "text": [
      "\n"
     ]
    },
    {
     "name": "stdout",
     "output_type": "stream",
     "text": [
      "Output directory set to ./dataset/data/CUB_200_2011/cropped/141.Artic_Tern\\../../rotated/141.Artic_Tern."
     ]
    },
    {
     "name": "stderr",
     "output_type": "stream",
     "text": [
      "Processing <PIL.Image.Image image mode=RGB size=318x205 at 0x1DE136C2C70>: 100%|██████████| 58/58 [00:00<00:00, 567.78 Samples/s]\n"
     ]
    },
    {
     "name": "stdout",
     "output_type": "stream",
     "text": [
      "Initialised with 58 image(s) found.\n",
      "Output directory set to ./dataset/data/CUB_200_2011/cropped/141.Artic_Tern\\../../skewed/141.Artic_Tern."
     ]
    },
    {
     "name": "stderr",
     "output_type": "stream",
     "text": [
      "Processing <PIL.Image.Image image mode=RGB size=318x205 at 0x1DE135AE730>: 100%|██████████| 58/58 [00:00<00:00, 688.94 Samples/s]\n"
     ]
    },
    {
     "name": "stdout",
     "output_type": "stream",
     "text": [
      "Initialised with 58 image(s) found.\n",
      "Output directory set to ./dataset/data/CUB_200_2011/cropped/141.Artic_Tern\\../../sheared/141.Artic_Tern."
     ]
    },
    {
     "name": "stderr",
     "output_type": "stream",
     "text": [
      "Processing <PIL.Image.Image image mode=RGB size=318x205 at 0x1DE13829280>: 100%|██████████| 58/58 [00:00<00:00, 673.07 Samples/s]\n"
     ]
    },
    {
     "name": "stdout",
     "output_type": "stream",
     "text": [
      "Initialised with 60 image(s) found.\n",
      "Output directory set to ./dataset/data/CUB_200_2011/cropped/142.Black_Tern\\../../rotated/142.Black_Tern."
     ]
    },
    {
     "name": "stderr",
     "output_type": "stream",
     "text": [
      "Processing <PIL.Image.Image image mode=RGB size=260x180 at 0x1DE121959A0>: 100%|██████████| 60/60 [00:00<00:00, 752.22 Samples/s]\n"
     ]
    },
    {
     "name": "stdout",
     "output_type": "stream",
     "text": [
      "Initialised with 60 image(s) found.\n",
      "Output directory set to ./dataset/data/CUB_200_2011/cropped/142.Black_Tern\\../../skewed/142.Black_Tern."
     ]
    },
    {
     "name": "stderr",
     "output_type": "stream",
     "text": [
      "Processing <PIL.Image.Image image mode=RGB size=260x180 at 0x1DE13701CD0>: 100%|██████████| 60/60 [00:00<00:00, 712.63 Samples/s]\n"
     ]
    },
    {
     "name": "stdout",
     "output_type": "stream",
     "text": [
      "Initialised with 60 image(s) found.\n",
      "Output directory set to ./dataset/data/CUB_200_2011/cropped/142.Black_Tern\\../../sheared/142.Black_Tern."
     ]
    },
    {
     "name": "stderr",
     "output_type": "stream",
     "text": [
      "Processing <PIL.Image.Image image mode=RGB size=260x180 at 0x1DE1370D340>: 100%|██████████| 60/60 [00:00<00:00, 787.62 Samples/s]\n"
     ]
    },
    {
     "name": "stdout",
     "output_type": "stream",
     "text": [
      "Initialised with 60 image(s) found.\n",
      "Output directory set to ./dataset/data/CUB_200_2011/cropped/143.Caspian_Tern\\../../rotated/143.Caspian_Tern."
     ]
    },
    {
     "name": "stderr",
     "output_type": "stream",
     "text": [
      "Processing <PIL.Image.Image image mode=RGB size=187x268 at 0x1DE137D1BE0>: 100%|██████████| 60/60 [00:00<00:00, 653.29 Samples/s]\n"
     ]
    },
    {
     "name": "stdout",
     "output_type": "stream",
     "text": [
      "Initialised with 60 image(s) found.\n",
      "Output directory set to ./dataset/data/CUB_200_2011/cropped/143.Caspian_Tern\\../../skewed/143.Caspian_Tern."
     ]
    },
    {
     "name": "stderr",
     "output_type": "stream",
     "text": [
      "Processing <PIL.Image.Image image mode=RGB size=187x268 at 0x1DE137018B0>: 100%|██████████| 60/60 [00:00<00:00, 743.57 Samples/s]\n"
     ]
    },
    {
     "name": "stdout",
     "output_type": "stream",
     "text": [
      "Initialised with 60 image(s) found.\n",
      "Output directory set to ./dataset/data/CUB_200_2011/cropped/143.Caspian_Tern\\../../sheared/143.Caspian_Tern."
     ]
    },
    {
     "name": "stderr",
     "output_type": "stream",
     "text": [
      "Processing <PIL.Image.Image image mode=RGB size=187x268 at 0x1DE12195070>: 100%|██████████| 60/60 [00:00<00:00, 734.24 Samples/s]\n"
     ]
    },
    {
     "name": "stdout",
     "output_type": "stream",
     "text": [
      "Initialised with 60 image(s) found.\n",
      "Output directory set to ./dataset/data/CUB_200_2011/cropped/144.Common_Tern\\../../rotated/144.Common_Tern."
     ]
    },
    {
     "name": "stderr",
     "output_type": "stream",
     "text": [
      "Processing <PIL.Image.Image image mode=RGB size=279x168 at 0x1DE1375AE50>: 100%|██████████| 60/60 [00:00<00:00, 726.51 Samples/s]\n"
     ]
    },
    {
     "name": "stdout",
     "output_type": "stream",
     "text": [
      "Initialised with 60 image(s) found.\n",
      "Output directory set to ./dataset/data/CUB_200_2011/cropped/144.Common_Tern\\../../skewed/144.Common_Tern."
     ]
    },
    {
     "name": "stderr",
     "output_type": "stream",
     "text": [
      "Processing <PIL.Image.Image image mode=RGB size=279x168 at 0x1DE137CD7C0>: 100%|██████████| 60/60 [00:00<00:00, 676.56 Samples/s]\n"
     ]
    },
    {
     "name": "stdout",
     "output_type": "stream",
     "text": [
      "Initialised with 60 image(s) found.\n",
      "Output directory set to ./dataset/data/CUB_200_2011/cropped/144.Common_Tern\\../../sheared/144.Common_Tern."
     ]
    },
    {
     "name": "stderr",
     "output_type": "stream",
     "text": [
      "Processing <PIL.Image.Image image mode=RGB size=279x168 at 0x1DE13806CD0>: 100%|██████████| 60/60 [00:00<00:00, 668.41 Samples/s]\n"
     ]
    },
    {
     "name": "stdout",
     "output_type": "stream",
     "text": [
      "Initialised with 60 image(s) found.\n",
      "Output directory set to ./dataset/data/CUB_200_2011/cropped/145.Elegant_Tern\\../../rotated/145.Elegant_Tern."
     ]
    },
    {
     "name": "stderr",
     "output_type": "stream",
     "text": [
      "Processing <PIL.Image.Image image mode=RGB size=190x167 at 0x1DE1375A1C0>: 100%|██████████| 60/60 [00:00<00:00, 721.63 Samples/s]\n"
     ]
    },
    {
     "name": "stdout",
     "output_type": "stream",
     "text": [
      "Initialised with 60 image(s) found.\n",
      "Output directory set to ./dataset/data/CUB_200_2011/cropped/145.Elegant_Tern\\../../skewed/145.Elegant_Tern."
     ]
    },
    {
     "name": "stderr",
     "output_type": "stream",
     "text": [
      "Processing <PIL.Image.Image image mode=RGB size=190x167 at 0x1DE1375AB20>: 100%|██████████| 60/60 [00:00<00:00, 747.23 Samples/s]"
     ]
    },
    {
     "name": "stdout",
     "output_type": "stream",
     "text": [
      "Initialised with 60 image(s) found.\n"
     ]
    },
    {
     "name": "stderr",
     "output_type": "stream",
     "text": [
      "\n"
     ]
    },
    {
     "name": "stdout",
     "output_type": "stream",
     "text": [
      "Output directory set to ./dataset/data/CUB_200_2011/cropped/145.Elegant_Tern\\../../sheared/145.Elegant_Tern."
     ]
    },
    {
     "name": "stderr",
     "output_type": "stream",
     "text": [
      "Processing <PIL.Image.Image image mode=RGB size=190x167 at 0x1DE1370DB20>: 100%|██████████| 60/60 [00:00<00:00, 734.44 Samples/s]\n"
     ]
    },
    {
     "name": "stdout",
     "output_type": "stream",
     "text": [
      "Initialised with 60 image(s) found.\n",
      "Output directory set to ./dataset/data/CUB_200_2011/cropped/146.Forsters_Tern\\../../rotated/146.Forsters_Tern."
     ]
    },
    {
     "name": "stderr",
     "output_type": "stream",
     "text": [
      "Processing <PIL.Image.Image image mode=RGB size=404x246 at 0x1DE125ADE80>: 100%|██████████| 60/60 [00:00<00:00, 730.23 Samples/s]\n"
     ]
    },
    {
     "name": "stdout",
     "output_type": "stream",
     "text": [
      "Initialised with 60 image(s) found.\n",
      "Output directory set to ./dataset/data/CUB_200_2011/cropped/146.Forsters_Tern\\../../skewed/146.Forsters_Tern."
     ]
    },
    {
     "name": "stderr",
     "output_type": "stream",
     "text": [
      "Processing <PIL.Image.Image image mode=RGB size=404x246 at 0x1DE13829040>: 100%|██████████| 60/60 [00:00<00:00, 694.47 Samples/s]\n"
     ]
    },
    {
     "name": "stdout",
     "output_type": "stream",
     "text": [
      "Initialised with 60 image(s) found.\n",
      "Output directory set to ./dataset/data/CUB_200_2011/cropped/146.Forsters_Tern\\../../sheared/146.Forsters_Tern."
     ]
    },
    {
     "name": "stderr",
     "output_type": "stream",
     "text": [
      "Processing <PIL.Image.Image image mode=RGB size=404x246 at 0x1DE136E4580>: 100%|██████████| 60/60 [00:00<00:00, 676.51 Samples/s]\n"
     ]
    },
    {
     "name": "stdout",
     "output_type": "stream",
     "text": [
      "Initialised with 60 image(s) found.\n",
      "Output directory set to ./dataset/data/CUB_200_2011/cropped/147.Least_Tern\\../../rotated/147.Least_Tern."
     ]
    },
    {
     "name": "stderr",
     "output_type": "stream",
     "text": [
      "Processing <PIL.Image.Image image mode=RGB size=278x195 at 0x1DE125ADCD0>: 100%|██████████| 60/60 [00:00<00:00, 753.96 Samples/s]\n"
     ]
    },
    {
     "name": "stdout",
     "output_type": "stream",
     "text": [
      "Initialised with 60 image(s) found.\n",
      "Output directory set to ./dataset/data/CUB_200_2011/cropped/147.Least_Tern\\../../skewed/147.Least_Tern."
     ]
    },
    {
     "name": "stderr",
     "output_type": "stream",
     "text": [
      "Processing <PIL.Image.Image image mode=RGB size=278x195 at 0x1DE13767AF0>: 100%|██████████| 60/60 [00:00<00:00, 697.00 Samples/s]\n"
     ]
    },
    {
     "name": "stdout",
     "output_type": "stream",
     "text": [
      "Initialised with 60 image(s) found.\n",
      "Output directory set to ./dataset/data/CUB_200_2011/cropped/147.Least_Tern\\../../sheared/147.Least_Tern."
     ]
    },
    {
     "name": "stderr",
     "output_type": "stream",
     "text": [
      "Processing <PIL.Image.Image image mode=RGB size=278x195 at 0x1DE138069D0>: 100%|██████████| 60/60 [00:00<00:00, 767.28 Samples/s]\n"
     ]
    },
    {
     "name": "stdout",
     "output_type": "stream",
     "text": [
      "Initialised with 60 image(s) found.\n",
      "Output directory set to ./dataset/data/CUB_200_2011/cropped/148.Green_tailed_Towhee\\../../rotated/148.Green_tailed_Towhee."
     ]
    },
    {
     "name": "stderr",
     "output_type": "stream",
     "text": [
      "Processing <PIL.Image.Image image mode=RGB size=152x122 at 0x1DE137D1BE0>: 100%|██████████| 60/60 [00:00<00:00, 711.48 Samples/s]\n"
     ]
    },
    {
     "name": "stdout",
     "output_type": "stream",
     "text": [
      "Initialised with 60 image(s) found.\n",
      "Output directory set to ./dataset/data/CUB_200_2011/cropped/148.Green_tailed_Towhee\\../../skewed/148.Green_tailed_Towhee."
     ]
    },
    {
     "name": "stderr",
     "output_type": "stream",
     "text": [
      "Processing <PIL.Image.Image image mode=RGB size=152x122 at 0x1DE12195D60>: 100%|██████████| 60/60 [00:00<00:00, 581.40 Samples/s]\n"
     ]
    },
    {
     "name": "stdout",
     "output_type": "stream",
     "text": [
      "Initialised with 60 image(s) found.\n",
      "Output directory set to ./dataset/data/CUB_200_2011/cropped/148.Green_tailed_Towhee\\../../sheared/148.Green_tailed_Towhee."
     ]
    },
    {
     "name": "stderr",
     "output_type": "stream",
     "text": [
      "Processing <PIL.Image.Image image mode=RGB size=152x122 at 0x1DE13767760>: 100%|██████████| 60/60 [00:00<00:00, 758.32 Samples/s]\n"
     ]
    },
    {
     "name": "stdout",
     "output_type": "stream",
     "text": [
      "Initialised with 59 image(s) found.\n",
      "Output directory set to ./dataset/data/CUB_200_2011/cropped/149.Brown_Thrasher\\../../rotated/149.Brown_Thrasher."
     ]
    },
    {
     "name": "stderr",
     "output_type": "stream",
     "text": [
      "Processing <PIL.Image.Image image mode=RGB size=211x191 at 0x1DE13806880>: 100%|██████████| 59/59 [00:00<00:00, 713.84 Samples/s]\n"
     ]
    },
    {
     "name": "stdout",
     "output_type": "stream",
     "text": [
      "Initialised with 59 image(s) found.\n",
      "Output directory set to ./dataset/data/CUB_200_2011/cropped/149.Brown_Thrasher\\../../skewed/149.Brown_Thrasher."
     ]
    },
    {
     "name": "stderr",
     "output_type": "stream",
     "text": [
      "Processing <PIL.Image.Image image mode=RGB size=211x191 at 0x1DE136B25B0>: 100%|██████████| 59/59 [00:00<00:00, 745.17 Samples/s]\n"
     ]
    },
    {
     "name": "stdout",
     "output_type": "stream",
     "text": [
      "Initialised with 59 image(s) found.\n",
      "Output directory set to ./dataset/data/CUB_200_2011/cropped/149.Brown_Thrasher\\../../sheared/149.Brown_Thrasher."
     ]
    },
    {
     "name": "stderr",
     "output_type": "stream",
     "text": [
      "Processing <PIL.Image.Image image mode=RGB size=211x191 at 0x1DE137CDD90>: 100%|██████████| 59/59 [00:00<00:00, 744.89 Samples/s]\n"
     ]
    },
    {
     "name": "stdout",
     "output_type": "stream",
     "text": [
      "Initialised with 60 image(s) found.\n",
      "Output directory set to ./dataset/data/CUB_200_2011/cropped/150.Sage_Thrasher\\../../rotated/150.Sage_Thrasher."
     ]
    },
    {
     "name": "stderr",
     "output_type": "stream",
     "text": [
      "Processing <PIL.Image.Image image mode=RGB size=275x291 at 0x1DE1373ABB0>: 100%|██████████| 60/60 [00:00<00:00, 660.99 Samples/s]\n"
     ]
    },
    {
     "name": "stdout",
     "output_type": "stream",
     "text": [
      "Initialised with 60 image(s) found.\n",
      "Output directory set to ./dataset/data/CUB_200_2011/cropped/150.Sage_Thrasher\\../../skewed/150.Sage_Thrasher."
     ]
    },
    {
     "name": "stderr",
     "output_type": "stream",
     "text": [
      "Processing <PIL.Image.Image image mode=RGB size=275x291 at 0x1DE12195040>: 100%|██████████| 60/60 [00:00<00:00, 700.17 Samples/s]\n"
     ]
    },
    {
     "name": "stdout",
     "output_type": "stream",
     "text": [
      "Initialised with 60 image(s) found.\n",
      "Output directory set to ./dataset/data/CUB_200_2011/cropped/150.Sage_Thrasher\\../../sheared/150.Sage_Thrasher."
     ]
    },
    {
     "name": "stderr",
     "output_type": "stream",
     "text": [
      "Processing <PIL.Image.Image image mode=RGB size=275x291 at 0x1DE12195790>: 100%|██████████| 60/60 [00:00<00:00, 456.90 Samples/s]\n"
     ]
    },
    {
     "name": "stdout",
     "output_type": "stream",
     "text": [
      "Initialised with 51 image(s) found.\n",
      "Output directory set to ./dataset/data/CUB_200_2011/cropped/151.Black_capped_Vireo\\../../rotated/151.Black_capped_Vireo."
     ]
    },
    {
     "name": "stderr",
     "output_type": "stream",
     "text": [
      "Processing <PIL.Image.Image image mode=RGB size=274x136 at 0x1DE1370DB20>: 100%|██████████| 51/51 [00:00<00:00, 801.72 Samples/s]\n"
     ]
    },
    {
     "name": "stdout",
     "output_type": "stream",
     "text": [
      "Initialised with 51 image(s) found.\n",
      "Output directory set to ./dataset/data/CUB_200_2011/cropped/151.Black_capped_Vireo\\../../skewed/151.Black_capped_Vireo."
     ]
    },
    {
     "name": "stderr",
     "output_type": "stream",
     "text": [
      "Processing <PIL.Image.Image image mode=RGB size=274x136 at 0x1DE13712370>: 100%|██████████| 51/51 [00:00<00:00, 749.98 Samples/s]\n"
     ]
    },
    {
     "name": "stdout",
     "output_type": "stream",
     "text": [
      "Initialised with 51 image(s) found.\n",
      "Output directory set to ./dataset/data/CUB_200_2011/cropped/151.Black_capped_Vireo\\../../sheared/151.Black_capped_Vireo."
     ]
    },
    {
     "name": "stderr",
     "output_type": "stream",
     "text": [
      "Processing <PIL.Image.Image image mode=RGB size=274x136 at 0x1DE136C00D0>: 100%|██████████| 51/51 [00:00<00:00, 759.07 Samples/s]\n"
     ]
    },
    {
     "name": "stdout",
     "output_type": "stream",
     "text": [
      "Initialised with 60 image(s) found.\n",
      "Output directory set to ./dataset/data/CUB_200_2011/cropped/152.Blue_headed_Vireo\\../../rotated/152.Blue_headed_Vireo."
     ]
    },
    {
     "name": "stderr",
     "output_type": "stream",
     "text": [
      "Processing <PIL.Image.Image image mode=RGB size=126x115 at 0x1DE12195040>: 100%|██████████| 60/60 [00:00<00:00, 643.49 Samples/s]\n"
     ]
    },
    {
     "name": "stdout",
     "output_type": "stream",
     "text": [
      "Initialised with 60 image(s) found.\n",
      "Output directory set to ./dataset/data/CUB_200_2011/cropped/152.Blue_headed_Vireo\\../../skewed/152.Blue_headed_Vireo."
     ]
    },
    {
     "name": "stderr",
     "output_type": "stream",
     "text": [
      "Processing <PIL.Image.Image image mode=RGB size=126x115 at 0x1DE137667C0>: 100%|██████████| 60/60 [00:00<00:00, 729.63 Samples/s]\n"
     ]
    },
    {
     "name": "stdout",
     "output_type": "stream",
     "text": [
      "Initialised with 60 image(s) found.\n",
      "Output directory set to ./dataset/data/CUB_200_2011/cropped/152.Blue_headed_Vireo\\../../sheared/152.Blue_headed_Vireo."
     ]
    },
    {
     "name": "stderr",
     "output_type": "stream",
     "text": [
      "Processing <PIL.Image.Image image mode=RGB size=126x115 at 0x1DE136C07C0>: 100%|██████████| 60/60 [00:00<00:00, 802.51 Samples/s]"
     ]
    },
    {
     "name": "stdout",
     "output_type": "stream",
     "text": [
      "Initialised with 59 image(s) found.\n"
     ]
    },
    {
     "name": "stderr",
     "output_type": "stream",
     "text": [
      "\n"
     ]
    },
    {
     "name": "stdout",
     "output_type": "stream",
     "text": [
      "Output directory set to ./dataset/data/CUB_200_2011/cropped/153.Philadelphia_Vireo\\../../rotated/153.Philadelphia_Vireo."
     ]
    },
    {
     "name": "stderr",
     "output_type": "stream",
     "text": [
      "Processing <PIL.Image.Image image mode=RGB size=241x182 at 0x1DE135AE610>: 100%|██████████| 59/59 [00:00<00:00, 754.20 Samples/s]\n"
     ]
    },
    {
     "name": "stdout",
     "output_type": "stream",
     "text": [
      "Initialised with 59 image(s) found.\n",
      "Output directory set to ./dataset/data/CUB_200_2011/cropped/153.Philadelphia_Vireo\\../../skewed/153.Philadelphia_Vireo."
     ]
    },
    {
     "name": "stderr",
     "output_type": "stream",
     "text": [
      "Processing <PIL.Image.Image image mode=RGB size=241x182 at 0x1DE136C0070>: 100%|██████████| 59/59 [00:00<00:00, 740.98 Samples/s]\n"
     ]
    },
    {
     "name": "stdout",
     "output_type": "stream",
     "text": [
      "Initialised with 59 image(s) found.\n",
      "Output directory set to ./dataset/data/CUB_200_2011/cropped/153.Philadelphia_Vireo\\../../sheared/153.Philadelphia_Vireo."
     ]
    },
    {
     "name": "stderr",
     "output_type": "stream",
     "text": [
      "Processing <PIL.Image.Image image mode=RGB size=241x182 at 0x1DE137266D0>: 100%|██████████| 59/59 [00:00<00:00, 783.55 Samples/s]\n"
     ]
    },
    {
     "name": "stdout",
     "output_type": "stream",
     "text": [
      "Initialised with 60 image(s) found.\n",
      "Output directory set to ./dataset/data/CUB_200_2011/cropped/154.Red_eyed_Vireo\\../../rotated/154.Red_eyed_Vireo."
     ]
    },
    {
     "name": "stderr",
     "output_type": "stream",
     "text": [
      "Processing <PIL.Image.Image image mode=RGB size=139x222 at 0x1DE13829760>: 100%|██████████| 60/60 [00:00<00:00, 622.09 Samples/s]\n"
     ]
    },
    {
     "name": "stdout",
     "output_type": "stream",
     "text": [
      "Initialised with 60 image(s) found.\n",
      "Output directory set to ./dataset/data/CUB_200_2011/cropped/154.Red_eyed_Vireo\\../../skewed/154.Red_eyed_Vireo."
     ]
    },
    {
     "name": "stderr",
     "output_type": "stream",
     "text": [
      "Processing <PIL.Image.Image image mode=RGB size=139x222 at 0x1DE136C2E80>: 100%|██████████| 60/60 [00:00<00:00, 766.58 Samples/s]\n"
     ]
    },
    {
     "name": "stdout",
     "output_type": "stream",
     "text": [
      "Initialised with 60 image(s) found.\n",
      "Output directory set to ./dataset/data/CUB_200_2011/cropped/154.Red_eyed_Vireo\\../../sheared/154.Red_eyed_Vireo."
     ]
    },
    {
     "name": "stderr",
     "output_type": "stream",
     "text": [
      "Processing <PIL.Image.Image image mode=RGB size=139x222 at 0x1DE1375AB20>: 100%|██████████| 60/60 [00:00<00:00, 791.70 Samples/s]"
     ]
    },
    {
     "name": "stdout",
     "output_type": "stream",
     "text": [
      "Initialised with 60 image(s) found.\n"
     ]
    },
    {
     "name": "stderr",
     "output_type": "stream",
     "text": [
      "\n"
     ]
    },
    {
     "name": "stdout",
     "output_type": "stream",
     "text": [
      "Output directory set to ./dataset/data/CUB_200_2011/cropped/155.Warbling_Vireo\\../../rotated/155.Warbling_Vireo."
     ]
    },
    {
     "name": "stderr",
     "output_type": "stream",
     "text": [
      "Processing <PIL.Image.Image image mode=RGB size=179x320 at 0x1DE136C03A0>: 100%|██████████| 60/60 [00:00<00:00, 792.88 Samples/s]"
     ]
    },
    {
     "name": "stdout",
     "output_type": "stream",
     "text": [
      "Initialised with 60 image(s) found.\n"
     ]
    },
    {
     "name": "stderr",
     "output_type": "stream",
     "text": [
      "\n"
     ]
    },
    {
     "name": "stdout",
     "output_type": "stream",
     "text": [
      "Output directory set to ./dataset/data/CUB_200_2011/cropped/155.Warbling_Vireo\\../../skewed/155.Warbling_Vireo."
     ]
    },
    {
     "name": "stderr",
     "output_type": "stream",
     "text": [
      "Processing <PIL.Image.Image image mode=RGB size=179x320 at 0x1DE1375AE50>: 100%|██████████| 60/60 [00:00<00:00, 775.48 Samples/s]"
     ]
    },
    {
     "name": "stdout",
     "output_type": "stream",
     "text": [
      "Initialised with 60 image(s) found.\n",
      "Output directory set to ./dataset/data/CUB_200_2011/cropped/155.Warbling_Vireo\\../../sheared/155.Warbling_Vireo."
     ]
    },
    {
     "name": "stderr",
     "output_type": "stream",
     "text": [
      "\n",
      "Processing <PIL.Image.Image image mode=RGB size=179x320 at 0x1DE136C0370>: 100%|██████████| 60/60 [00:00<00:00, 703.85 Samples/s]"
     ]
    },
    {
     "name": "stdout",
     "output_type": "stream",
     "text": [
      "Initialised with 60 image(s) found.\n"
     ]
    },
    {
     "name": "stderr",
     "output_type": "stream",
     "text": [
      "\n"
     ]
    },
    {
     "name": "stdout",
     "output_type": "stream",
     "text": [
      "Output directory set to ./dataset/data/CUB_200_2011/cropped/156.White_eyed_Vireo\\../../rotated/156.White_eyed_Vireo."
     ]
    },
    {
     "name": "stderr",
     "output_type": "stream",
     "text": [
      "Processing <PIL.Image.Image image mode=RGB size=297x218 at 0x1DE1370D250>: 100%|██████████| 60/60 [00:00<00:00, 680.31 Samples/s]\n"
     ]
    },
    {
     "name": "stdout",
     "output_type": "stream",
     "text": [
      "Initialised with 60 image(s) found.\n",
      "Output directory set to ./dataset/data/CUB_200_2011/cropped/156.White_eyed_Vireo\\../../skewed/156.White_eyed_Vireo."
     ]
    },
    {
     "name": "stderr",
     "output_type": "stream",
     "text": [
      "Processing <PIL.Image.Image image mode=RGB size=297x218 at 0x1DE136B21F0>: 100%|██████████| 60/60 [00:00<00:00, 762.52 Samples/s]\n"
     ]
    },
    {
     "name": "stdout",
     "output_type": "stream",
     "text": [
      "Initialised with 60 image(s) found.\n",
      "Output directory set to ./dataset/data/CUB_200_2011/cropped/156.White_eyed_Vireo\\../../sheared/156.White_eyed_Vireo."
     ]
    },
    {
     "name": "stderr",
     "output_type": "stream",
     "text": [
      "Processing <PIL.Image.Image image mode=RGB size=297x218 at 0x1DE125ADE80>: 100%|██████████| 60/60 [00:00<00:00, 767.16 Samples/s]\n"
     ]
    },
    {
     "name": "stdout",
     "output_type": "stream",
     "text": [
      "Initialised with 59 image(s) found.\n",
      "Output directory set to ./dataset/data/CUB_200_2011/cropped/157.Yellow_throated_Vireo\\../../rotated/157.Yellow_throated_Vireo."
     ]
    },
    {
     "name": "stderr",
     "output_type": "stream",
     "text": [
      "Processing <PIL.Image.Image image mode=RGB size=189x146 at 0x1DE13829190>: 100%|██████████| 59/59 [00:00<00:00, 748.66 Samples/s]\n"
     ]
    },
    {
     "name": "stdout",
     "output_type": "stream",
     "text": [
      "Initialised with 59 image(s) found.\n",
      "Output directory set to ./dataset/data/CUB_200_2011/cropped/157.Yellow_throated_Vireo\\../../skewed/157.Yellow_throated_Vireo."
     ]
    },
    {
     "name": "stderr",
     "output_type": "stream",
     "text": [
      "Processing <PIL.Image.Image image mode=RGB size=189x146 at 0x1DE1370DD30>: 100%|██████████| 59/59 [00:00<00:00, 693.30 Samples/s]\n"
     ]
    },
    {
     "name": "stdout",
     "output_type": "stream",
     "text": [
      "Initialised with 59 image(s) found.\n",
      "Output directory set to ./dataset/data/CUB_200_2011/cropped/157.Yellow_throated_Vireo\\../../sheared/157.Yellow_throated_Vireo."
     ]
    },
    {
     "name": "stderr",
     "output_type": "stream",
     "text": [
      "Processing <PIL.Image.Image image mode=RGB size=189x146 at 0x1DE137448E0>: 100%|██████████| 59/59 [00:00<00:00, 720.54 Samples/s]\n"
     ]
    },
    {
     "name": "stdout",
     "output_type": "stream",
     "text": [
      "Initialised with 60 image(s) found.\n",
      "Output directory set to ./dataset/data/CUB_200_2011/cropped/158.Bay_breasted_Warbler\\../../rotated/158.Bay_breasted_Warbler."
     ]
    },
    {
     "name": "stderr",
     "output_type": "stream",
     "text": [
      "Processing <PIL.Image.Image image mode=RGB size=413x177 at 0x1DE137D1370>: 100%|██████████| 60/60 [00:00<00:00, 726.41 Samples/s]\n"
     ]
    },
    {
     "name": "stdout",
     "output_type": "stream",
     "text": [
      "Initialised with 60 image(s) found.\n",
      "Output directory set to ./dataset/data/CUB_200_2011/cropped/158.Bay_breasted_Warbler\\../../skewed/158.Bay_breasted_Warbler."
     ]
    },
    {
     "name": "stderr",
     "output_type": "stream",
     "text": [
      "Processing <PIL.Image.Image image mode=RGB size=413x177 at 0x1DE136B2430>: 100%|██████████| 60/60 [00:00<00:00, 747.77 Samples/s]\n"
     ]
    },
    {
     "name": "stdout",
     "output_type": "stream",
     "text": [
      "Initialised with 60 image(s) found.\n",
      "Output directory set to ./dataset/data/CUB_200_2011/cropped/158.Bay_breasted_Warbler\\../../sheared/158.Bay_breasted_Warbler."
     ]
    },
    {
     "name": "stderr",
     "output_type": "stream",
     "text": [
      "Processing <PIL.Image.Image image mode=RGB size=413x177 at 0x1DE1370D0A0>: 100%|██████████| 60/60 [00:00<00:00, 798.40 Samples/s]\n"
     ]
    },
    {
     "name": "stdout",
     "output_type": "stream",
     "text": [
      "Initialised with 60 image(s) found.\n",
      "Output directory set to ./dataset/data/CUB_200_2011/cropped/159.Black_and_white_Warbler\\../../rotated/159.Black_and_white_Warbler."
     ]
    },
    {
     "name": "stderr",
     "output_type": "stream",
     "text": [
      "Processing <PIL.Image.Image image mode=RGB size=300x205 at 0x1DE136C2E80>: 100%|██████████| 60/60 [00:00<00:00, 733.97 Samples/s]\n"
     ]
    },
    {
     "name": "stdout",
     "output_type": "stream",
     "text": [
      "Initialised with 60 image(s) found.\n",
      "Output directory set to ./dataset/data/CUB_200_2011/cropped/159.Black_and_white_Warbler\\../../skewed/159.Black_and_white_Warbler."
     ]
    },
    {
     "name": "stderr",
     "output_type": "stream",
     "text": [
      "Processing <PIL.Image.Image image mode=RGB size=300x205 at 0x1DE136C2D30>: 100%|██████████| 60/60 [00:00<00:00, 699.43 Samples/s]\n"
     ]
    },
    {
     "name": "stdout",
     "output_type": "stream",
     "text": [
      "Initialised with 60 image(s) found.\n",
      "Output directory set to ./dataset/data/CUB_200_2011/cropped/159.Black_and_white_Warbler\\../../sheared/159.Black_and_white_Warbler."
     ]
    },
    {
     "name": "stderr",
     "output_type": "stream",
     "text": [
      "Processing <PIL.Image.Image image mode=RGB size=300x205 at 0x1DE1219E940>: 100%|██████████| 60/60 [00:00<00:00, 647.01 Samples/s]\n"
     ]
    },
    {
     "name": "stdout",
     "output_type": "stream",
     "text": [
      "Initialised with 59 image(s) found.\n",
      "Output directory set to ./dataset/data/CUB_200_2011/cropped/160.Black_throated_Blue_Warbler\\../../rotated/160.Black_throated_Blue_Warbler."
     ]
    },
    {
     "name": "stderr",
     "output_type": "stream",
     "text": [
      "Processing <PIL.Image.Image image mode=RGB size=174x342 at 0x1DE135AE5B0>: 100%|██████████| 59/59 [00:00<00:00, 703.57 Samples/s]\n"
     ]
    },
    {
     "name": "stdout",
     "output_type": "stream",
     "text": [
      "Initialised with 59 image(s) found.\n",
      "Output directory set to ./dataset/data/CUB_200_2011/cropped/160.Black_throated_Blue_Warbler\\../../skewed/160.Black_throated_Blue_Warbler."
     ]
    },
    {
     "name": "stderr",
     "output_type": "stream",
     "text": [
      "Processing <PIL.Image.Image image mode=RGB size=174x342 at 0x1DE137CD850>: 100%|██████████| 59/59 [00:00<00:00, 730.90 Samples/s]\n"
     ]
    },
    {
     "name": "stdout",
     "output_type": "stream",
     "text": [
      "Initialised with 59 image(s) found.\n",
      "Output directory set to ./dataset/data/CUB_200_2011/cropped/160.Black_throated_Blue_Warbler\\../../sheared/160.Black_throated_Blue_Warbler."
     ]
    },
    {
     "name": "stderr",
     "output_type": "stream",
     "text": [
      "Processing <PIL.Image.Image image mode=RGB size=174x342 at 0x1DE136E47F0>: 100%|██████████| 59/59 [00:00<00:00, 750.53 Samples/s]\n"
     ]
    },
    {
     "name": "stdout",
     "output_type": "stream",
     "text": [
      "Initialised with 60 image(s) found.\n",
      "Output directory set to ./dataset/data/CUB_200_2011/cropped/161.Blue_winged_Warbler\\../../rotated/161.Blue_winged_Warbler."
     ]
    },
    {
     "name": "stderr",
     "output_type": "stream",
     "text": [
      "Processing <PIL.Image.Image image mode=RGB size=177x183 at 0x1DE121953D0>: 100%|██████████| 60/60 [00:00<00:00, 756.43 Samples/s]\n"
     ]
    },
    {
     "name": "stdout",
     "output_type": "stream",
     "text": [
      "Initialised with 60 image(s) found.\n",
      "Output directory set to ./dataset/data/CUB_200_2011/cropped/161.Blue_winged_Warbler\\../../skewed/161.Blue_winged_Warbler."
     ]
    },
    {
     "name": "stderr",
     "output_type": "stream",
     "text": [
      "Processing <PIL.Image.Image image mode=RGB size=177x183 at 0x1DE13767580>: 100%|██████████| 60/60 [00:00<00:00, 733.11 Samples/s]\n"
     ]
    },
    {
     "name": "stdout",
     "output_type": "stream",
     "text": [
      "Initialised with 60 image(s) found.\n",
      "Output directory set to ./dataset/data/CUB_200_2011/cropped/161.Blue_winged_Warbler\\../../sheared/161.Blue_winged_Warbler."
     ]
    },
    {
     "name": "stderr",
     "output_type": "stream",
     "text": [
      "Processing <PIL.Image.Image image mode=RGB size=177x183 at 0x1DE137CDBE0>: 100%|██████████| 60/60 [00:00<00:00, 683.65 Samples/s]\n"
     ]
    },
    {
     "name": "stdout",
     "output_type": "stream",
     "text": [
      "Initialised with 60 image(s) found.\n",
      "Output directory set to ./dataset/data/CUB_200_2011/cropped/162.Canada_Warbler\\../../rotated/162.Canada_Warbler."
     ]
    },
    {
     "name": "stderr",
     "output_type": "stream",
     "text": [
      "Processing <PIL.Image.Image image mode=RGB size=216x125 at 0x1DE137445B0>: 100%|██████████| 60/60 [00:00<00:00, 787.24 Samples/s]\n"
     ]
    },
    {
     "name": "stdout",
     "output_type": "stream",
     "text": [
      "Initialised with 60 image(s) found.\n",
      "Output directory set to ./dataset/data/CUB_200_2011/cropped/162.Canada_Warbler\\../../skewed/162.Canada_Warbler."
     ]
    },
    {
     "name": "stderr",
     "output_type": "stream",
     "text": [
      "Processing <PIL.Image.Image image mode=RGB size=216x125 at 0x1DE136B2F10>: 100%|██████████| 60/60 [00:00<00:00, 756.82 Samples/s]\n"
     ]
    },
    {
     "name": "stdout",
     "output_type": "stream",
     "text": [
      "Initialised with 60 image(s) found.\n",
      "Output directory set to ./dataset/data/CUB_200_2011/cropped/162.Canada_Warbler\\../../sheared/162.Canada_Warbler."
     ]
    },
    {
     "name": "stderr",
     "output_type": "stream",
     "text": [
      "Processing <PIL.Image.Image image mode=RGB size=216x125 at 0x1DE136E4910>: 100%|██████████| 60/60 [00:00<00:00, 688.42 Samples/s]\n"
     ]
    },
    {
     "name": "stdout",
     "output_type": "stream",
     "text": [
      "Initialised with 60 image(s) found.\n",
      "Output directory set to ./dataset/data/CUB_200_2011/cropped/163.Cape_May_Warbler\\../../rotated/163.Cape_May_Warbler."
     ]
    },
    {
     "name": "stderr",
     "output_type": "stream",
     "text": [
      "Processing <PIL.Image.Image image mode=RGB size=223x113 at 0x1DE136C0370>: 100%|██████████| 60/60 [00:00<00:00, 712.66 Samples/s]\n"
     ]
    },
    {
     "name": "stdout",
     "output_type": "stream",
     "text": [
      "Initialised with 60 image(s) found.\n",
      "Output directory set to ./dataset/data/CUB_200_2011/cropped/163.Cape_May_Warbler\\../../skewed/163.Cape_May_Warbler."
     ]
    },
    {
     "name": "stderr",
     "output_type": "stream",
     "text": [
      "Processing <PIL.Image.Image image mode=RGB size=223x113 at 0x1DE136E0280>: 100%|██████████| 60/60 [00:00<00:00, 559.55 Samples/s]\n"
     ]
    },
    {
     "name": "stdout",
     "output_type": "stream",
     "text": [
      "Initialised with 60 image(s) found.\n",
      "Output directory set to ./dataset/data/CUB_200_2011/cropped/163.Cape_May_Warbler\\../../sheared/163.Cape_May_Warbler."
     ]
    },
    {
     "name": "stderr",
     "output_type": "stream",
     "text": [
      "Processing <PIL.Image.Image image mode=RGB size=223x113 at 0x1DE136E0640>: 100%|██████████| 60/60 [00:00<00:00, 631.02 Samples/s]\n"
     ]
    },
    {
     "name": "stdout",
     "output_type": "stream",
     "text": [
      "Initialised with 60 image(s) found.\n",
      "Output directory set to ./dataset/data/CUB_200_2011/cropped/164.Cerulean_Warbler\\../../rotated/164.Cerulean_Warbler."
     ]
    },
    {
     "name": "stderr",
     "output_type": "stream",
     "text": [
      "Processing <PIL.Image.Image image mode=RGB size=416x311 at 0x1DE136ED1F0>: 100%|██████████| 60/60 [00:00<00:00, 737.85 Samples/s]\n"
     ]
    },
    {
     "name": "stdout",
     "output_type": "stream",
     "text": [
      "Initialised with 60 image(s) found.\n",
      "Output directory set to ./dataset/data/CUB_200_2011/cropped/164.Cerulean_Warbler\\../../skewed/164.Cerulean_Warbler."
     ]
    },
    {
     "name": "stderr",
     "output_type": "stream",
     "text": [
      "Processing <PIL.Image.Image image mode=RGB size=416x311 at 0x1DE13767880>: 100%|██████████| 60/60 [00:00<00:00, 738.05 Samples/s]"
     ]
    },
    {
     "name": "stdout",
     "output_type": "stream",
     "text": [
      "Initialised with 60 image(s) found.\n"
     ]
    },
    {
     "name": "stderr",
     "output_type": "stream",
     "text": [
      "\n"
     ]
    },
    {
     "name": "stdout",
     "output_type": "stream",
     "text": [
      "Output directory set to ./dataset/data/CUB_200_2011/cropped/164.Cerulean_Warbler\\../../sheared/164.Cerulean_Warbler."
     ]
    },
    {
     "name": "stderr",
     "output_type": "stream",
     "text": [
      "Processing <PIL.Image.Image image mode=RGB size=416x311 at 0x1DE1249F2B0>: 100%|██████████| 60/60 [00:00<00:00, 830.45 Samples/s]\n"
     ]
    },
    {
     "name": "stdout",
     "output_type": "stream",
     "text": [
      "Initialised with 60 image(s) found.\n",
      "Output directory set to ./dataset/data/CUB_200_2011/cropped/165.Chestnut_sided_Warbler\\../../rotated/165.Chestnut_sided_Warbler."
     ]
    },
    {
     "name": "stderr",
     "output_type": "stream",
     "text": [
      "Processing <PIL.Image.Image image mode=RGB size=258x180 at 0x1DE136E42E0>: 100%|██████████| 60/60 [00:00<00:00, 639.26 Samples/s]\n"
     ]
    },
    {
     "name": "stdout",
     "output_type": "stream",
     "text": [
      "Initialised with 60 image(s) found.\n",
      "Output directory set to ./dataset/data/CUB_200_2011/cropped/165.Chestnut_sided_Warbler\\../../skewed/165.Chestnut_sided_Warbler."
     ]
    },
    {
     "name": "stderr",
     "output_type": "stream",
     "text": [
      "Processing <PIL.Image.Image image mode=RGB size=258x180 at 0x1DE13829820>: 100%|██████████| 60/60 [00:00<00:00, 744.07 Samples/s]\n"
     ]
    },
    {
     "name": "stdout",
     "output_type": "stream",
     "text": [
      "Initialised with 60 image(s) found.\n",
      "Output directory set to ./dataset/data/CUB_200_2011/cropped/165.Chestnut_sided_Warbler\\../../sheared/165.Chestnut_sided_Warbler."
     ]
    },
    {
     "name": "stderr",
     "output_type": "stream",
     "text": [
      "Processing <PIL.Image.Image image mode=RGB size=258x180 at 0x1DE136C0F70>: 100%|██████████| 60/60 [00:00<00:00, 767.43 Samples/s]\n"
     ]
    },
    {
     "name": "stdout",
     "output_type": "stream",
     "text": [
      "Initialised with 59 image(s) found.\n",
      "Output directory set to ./dataset/data/CUB_200_2011/cropped/166.Golden_winged_Warbler\\../../rotated/166.Golden_winged_Warbler."
     ]
    },
    {
     "name": "stderr",
     "output_type": "stream",
     "text": [
      "Processing <PIL.Image.Image image mode=RGB size=154x244 at 0x1DE1219E790>: 100%|██████████| 59/59 [00:00<00:00, 704.14 Samples/s]\n"
     ]
    },
    {
     "name": "stdout",
     "output_type": "stream",
     "text": [
      "Initialised with 59 image(s) found.\n",
      "Output directory set to ./dataset/data/CUB_200_2011/cropped/166.Golden_winged_Warbler\\../../skewed/166.Golden_winged_Warbler."
     ]
    },
    {
     "name": "stderr",
     "output_type": "stream",
     "text": [
      "Processing <PIL.Image.Image image mode=RGB size=154x244 at 0x1DE13744AF0>: 100%|██████████| 59/59 [00:00<00:00, 753.73 Samples/s]"
     ]
    },
    {
     "name": "stdout",
     "output_type": "stream",
     "text": [
      "Initialised with 59 image(s) found.\n"
     ]
    },
    {
     "name": "stderr",
     "output_type": "stream",
     "text": [
      "\n"
     ]
    },
    {
     "name": "stdout",
     "output_type": "stream",
     "text": [
      "Output directory set to ./dataset/data/CUB_200_2011/cropped/166.Golden_winged_Warbler\\../../sheared/166.Golden_winged_Warbler."
     ]
    },
    {
     "name": "stderr",
     "output_type": "stream",
     "text": [
      "Processing <PIL.Image.Image image mode=RGB size=154x244 at 0x1DE137CDDF0>: 100%|██████████| 59/59 [00:00<00:00, 777.83 Samples/s]"
     ]
    },
    {
     "name": "stdout",
     "output_type": "stream",
     "text": [
      "Initialised with 60 image(s) found.\n"
     ]
    },
    {
     "name": "stderr",
     "output_type": "stream",
     "text": [
      "\n"
     ]
    },
    {
     "name": "stdout",
     "output_type": "stream",
     "text": [
      "Output directory set to ./dataset/data/CUB_200_2011/cropped/167.Hooded_Warbler\\../../rotated/167.Hooded_Warbler."
     ]
    },
    {
     "name": "stderr",
     "output_type": "stream",
     "text": [
      "Processing <PIL.Image.Image image mode=RGB size=224x106 at 0x1DE1249F5B0>: 100%|██████████| 60/60 [00:00<00:00, 699.25 Samples/s]\n"
     ]
    },
    {
     "name": "stdout",
     "output_type": "stream",
     "text": [
      "Initialised with 60 image(s) found.\n",
      "Output directory set to ./dataset/data/CUB_200_2011/cropped/167.Hooded_Warbler\\../../skewed/167.Hooded_Warbler."
     ]
    },
    {
     "name": "stderr",
     "output_type": "stream",
     "text": [
      "Processing <PIL.Image.Image image mode=RGB size=224x106 at 0x1DE136E0460>: 100%|██████████| 60/60 [00:00<00:00, 632.52 Samples/s]\n"
     ]
    },
    {
     "name": "stdout",
     "output_type": "stream",
     "text": [
      "Initialised with 60 image(s) found.\n",
      "Output directory set to ./dataset/data/CUB_200_2011/cropped/167.Hooded_Warbler\\../../sheared/167.Hooded_Warbler."
     ]
    },
    {
     "name": "stderr",
     "output_type": "stream",
     "text": [
      "Processing <PIL.Image.Image image mode=RGB size=224x106 at 0x1DE13829DF0>: 100%|██████████| 60/60 [00:00<00:00, 699.02 Samples/s]\n"
     ]
    },
    {
     "name": "stdout",
     "output_type": "stream",
     "text": [
      "Initialised with 59 image(s) found.\n",
      "Output directory set to ./dataset/data/CUB_200_2011/cropped/168.Kentucky_Warbler\\../../rotated/168.Kentucky_Warbler."
     ]
    },
    {
     "name": "stderr",
     "output_type": "stream",
     "text": [
      "Processing <PIL.Image.Image image mode=RGB size=383x252 at 0x1DE136C0FA0>: 100%|██████████| 59/59 [00:00<00:00, 735.98 Samples/s]\n"
     ]
    },
    {
     "name": "stdout",
     "output_type": "stream",
     "text": [
      "Initialised with 59 image(s) found.\n",
      "Output directory set to ./dataset/data/CUB_200_2011/cropped/168.Kentucky_Warbler\\../../skewed/168.Kentucky_Warbler."
     ]
    },
    {
     "name": "stderr",
     "output_type": "stream",
     "text": [
      "Processing <PIL.Image.Image image mode=RGB size=383x252 at 0x1DE121950D0>: 100%|██████████| 59/59 [00:00<00:00, 691.14 Samples/s]\n"
     ]
    },
    {
     "name": "stdout",
     "output_type": "stream",
     "text": [
      "Initialised with 59 image(s) found.\n",
      "Output directory set to ./dataset/data/CUB_200_2011/cropped/168.Kentucky_Warbler\\../../sheared/168.Kentucky_Warbler."
     ]
    },
    {
     "name": "stderr",
     "output_type": "stream",
     "text": [
      "Processing <PIL.Image.Image image mode=RGB size=383x252 at 0x1DE137443D0>: 100%|██████████| 59/59 [00:00<00:00, 773.55 Samples/s]\n"
     ]
    },
    {
     "name": "stdout",
     "output_type": "stream",
     "text": [
      "Initialised with 59 image(s) found.\n",
      "Output directory set to ./dataset/data/CUB_200_2011/cropped/169.Magnolia_Warbler\\../../rotated/169.Magnolia_Warbler."
     ]
    },
    {
     "name": "stderr",
     "output_type": "stream",
     "text": [
      "Processing <PIL.Image.Image image mode=RGB size=287x203 at 0x1DE13744070>: 100%|██████████| 59/59 [00:00<00:00, 703.71 Samples/s]\n"
     ]
    },
    {
     "name": "stdout",
     "output_type": "stream",
     "text": [
      "Initialised with 59 image(s) found.\n",
      "Output directory set to ./dataset/data/CUB_200_2011/cropped/169.Magnolia_Warbler\\../../skewed/169.Magnolia_Warbler."
     ]
    },
    {
     "name": "stderr",
     "output_type": "stream",
     "text": [
      "Processing <PIL.Image.Image image mode=RGB size=287x203 at 0x1DE13812A30>: 100%|██████████| 59/59 [00:00<00:00, 679.69 Samples/s]\n"
     ]
    },
    {
     "name": "stdout",
     "output_type": "stream",
     "text": [
      "Initialised with 59 image(s) found.\n",
      "Output directory set to ./dataset/data/CUB_200_2011/cropped/169.Magnolia_Warbler\\../../sheared/169.Magnolia_Warbler."
     ]
    },
    {
     "name": "stderr",
     "output_type": "stream",
     "text": [
      "Processing <PIL.Image.Image image mode=RGB size=287x203 at 0x1DE1373A970>: 100%|██████████| 59/59 [00:00<00:00, 773.04 Samples/s]\n"
     ]
    },
    {
     "name": "stdout",
     "output_type": "stream",
     "text": [
      "Initialised with 60 image(s) found.\n",
      "Output directory set to ./dataset/data/CUB_200_2011/cropped/170.Mourning_Warbler\\../../rotated/170.Mourning_Warbler."
     ]
    },
    {
     "name": "stderr",
     "output_type": "stream",
     "text": [
      "Processing <PIL.Image.Image image mode=RGB size=263x210 at 0x1DE136ED100>: 100%|██████████| 60/60 [00:00<00:00, 771.10 Samples/s]\n"
     ]
    },
    {
     "name": "stdout",
     "output_type": "stream",
     "text": [
      "Initialised with 60 image(s) found.\n",
      "Output directory set to ./dataset/data/CUB_200_2011/cropped/170.Mourning_Warbler\\../../skewed/170.Mourning_Warbler."
     ]
    },
    {
     "name": "stderr",
     "output_type": "stream",
     "text": [
      "Processing <PIL.Image.Image image mode=RGB size=263x210 at 0x1DE13806FA0>: 100%|██████████| 60/60 [00:00<00:00, 751.10 Samples/s]"
     ]
    },
    {
     "name": "stdout",
     "output_type": "stream",
     "text": [
      "Initialised with 60 image(s) found.\n"
     ]
    },
    {
     "name": "stderr",
     "output_type": "stream",
     "text": [
      "\n"
     ]
    },
    {
     "name": "stdout",
     "output_type": "stream",
     "text": [
      "Output directory set to ./dataset/data/CUB_200_2011/cropped/170.Mourning_Warbler\\../../sheared/170.Mourning_Warbler."
     ]
    },
    {
     "name": "stderr",
     "output_type": "stream",
     "text": [
      "Processing <PIL.Image.Image image mode=RGB size=263x210 at 0x1DE1370D0A0>: 100%|██████████| 60/60 [00:00<00:00, 627.77 Samples/s]\n"
     ]
    },
    {
     "name": "stdout",
     "output_type": "stream",
     "text": [
      "Initialised with 60 image(s) found.\n",
      "Output directory set to ./dataset/data/CUB_200_2011/cropped/171.Myrtle_Warbler\\../../rotated/171.Myrtle_Warbler."
     ]
    },
    {
     "name": "stderr",
     "output_type": "stream",
     "text": [
      "Processing <PIL.Image.Image image mode=RGB size=254x299 at 0x1DE137D15B0>: 100%|██████████| 60/60 [00:00<00:00, 639.76 Samples/s]\n"
     ]
    },
    {
     "name": "stdout",
     "output_type": "stream",
     "text": [
      "Initialised with 60 image(s) found.\n",
      "Output directory set to ./dataset/data/CUB_200_2011/cropped/171.Myrtle_Warbler\\../../skewed/171.Myrtle_Warbler."
     ]
    },
    {
     "name": "stderr",
     "output_type": "stream",
     "text": [
      "Processing <PIL.Image.Image image mode=RGB size=254x299 at 0x1DE137D15B0>: 100%|██████████| 60/60 [00:00<00:00, 756.63 Samples/s]\n"
     ]
    },
    {
     "name": "stdout",
     "output_type": "stream",
     "text": [
      "Initialised with 60 image(s) found.\n",
      "Output directory set to ./dataset/data/CUB_200_2011/cropped/171.Myrtle_Warbler\\../../sheared/171.Myrtle_Warbler."
     ]
    },
    {
     "name": "stderr",
     "output_type": "stream",
     "text": [
      "Processing <PIL.Image.Image image mode=RGB size=254x299 at 0x1DE13744B80>: 100%|██████████| 60/60 [00:00<00:00, 776.84 Samples/s]"
     ]
    },
    {
     "name": "stdout",
     "output_type": "stream",
     "text": [
      "Initialised with 60 image(s) found.\n"
     ]
    },
    {
     "name": "stderr",
     "output_type": "stream",
     "text": [
      "\n"
     ]
    },
    {
     "name": "stdout",
     "output_type": "stream",
     "text": [
      "Output directory set to ./dataset/data/CUB_200_2011/cropped/172.Nashville_Warbler\\../../rotated/172.Nashville_Warbler."
     ]
    },
    {
     "name": "stderr",
     "output_type": "stream",
     "text": [
      "Processing <PIL.Image.Image image mode=RGB size=187x208 at 0x1DE137018B0>: 100%|██████████| 60/60 [00:00<00:00, 813.59 Samples/s]\n"
     ]
    },
    {
     "name": "stdout",
     "output_type": "stream",
     "text": [
      "Initialised with 60 image(s) found.\n",
      "Output directory set to ./dataset/data/CUB_200_2011/cropped/172.Nashville_Warbler\\../../skewed/172.Nashville_Warbler."
     ]
    },
    {
     "name": "stderr",
     "output_type": "stream",
     "text": [
      "Processing <PIL.Image.Image image mode=RGB size=187x208 at 0x1DE13829D60>: 100%|██████████| 60/60 [00:00<00:00, 771.44 Samples/s]"
     ]
    },
    {
     "name": "stdout",
     "output_type": "stream",
     "text": [
      "Initialised with 60 image(s) found.\n"
     ]
    },
    {
     "name": "stderr",
     "output_type": "stream",
     "text": [
      "\n"
     ]
    },
    {
     "name": "stdout",
     "output_type": "stream",
     "text": [
      "Output directory set to ./dataset/data/CUB_200_2011/cropped/172.Nashville_Warbler\\../../sheared/172.Nashville_Warbler."
     ]
    },
    {
     "name": "stderr",
     "output_type": "stream",
     "text": [
      "Processing <PIL.Image.Image image mode=RGB size=187x208 at 0x1DE125689D0>: 100%|██████████| 60/60 [00:00<00:00, 787.04 Samples/s]\n"
     ]
    },
    {
     "name": "stdout",
     "output_type": "stream",
     "text": [
      "Initialised with 60 image(s) found.\n",
      "Output directory set to ./dataset/data/CUB_200_2011/cropped/173.Orange_crowned_Warbler\\../../rotated/173.Orange_crowned_Warbler."
     ]
    },
    {
     "name": "stderr",
     "output_type": "stream",
     "text": [
      "Processing <PIL.Image.Image image mode=RGB size=291x197 at 0x1DE136E01C0>: 100%|██████████| 60/60 [00:00<00:00, 796.61 Samples/s]\n"
     ]
    },
    {
     "name": "stdout",
     "output_type": "stream",
     "text": [
      "Initialised with 60 image(s) found.\n",
      "Output directory set to ./dataset/data/CUB_200_2011/cropped/173.Orange_crowned_Warbler\\../../skewed/173.Orange_crowned_Warbler."
     ]
    },
    {
     "name": "stderr",
     "output_type": "stream",
     "text": [
      "Processing <PIL.Image.Image image mode=RGB size=291x197 at 0x1DE1375AF70>: 100%|██████████| 60/60 [00:00<00:00, 786.22 Samples/s]"
     ]
    },
    {
     "name": "stdout",
     "output_type": "stream",
     "text": [
      "Initialised with 60 image(s) found.\n"
     ]
    },
    {
     "name": "stderr",
     "output_type": "stream",
     "text": [
      "\n"
     ]
    },
    {
     "name": "stdout",
     "output_type": "stream",
     "text": [
      "Output directory set to ./dataset/data/CUB_200_2011/cropped/173.Orange_crowned_Warbler\\../../sheared/173.Orange_crowned_Warbler."
     ]
    },
    {
     "name": "stderr",
     "output_type": "stream",
     "text": [
      "Processing <PIL.Image.Image image mode=RGB size=291x197 at 0x1DE136C01C0>: 100%|██████████| 60/60 [00:00<00:00, 807.23 Samples/s]\n"
     ]
    },
    {
     "name": "stdout",
     "output_type": "stream",
     "text": [
      "Initialised with 60 image(s) found.\n",
      "Output directory set to ./dataset/data/CUB_200_2011/cropped/174.Palm_Warbler\\../../rotated/174.Palm_Warbler."
     ]
    },
    {
     "name": "stderr",
     "output_type": "stream",
     "text": [
      "Processing <PIL.Image.Image image mode=RGB size=200x224 at 0x1DE1370D340>: 100%|██████████| 60/60 [00:00<00:00, 699.77 Samples/s]"
     ]
    },
    {
     "name": "stdout",
     "output_type": "stream",
     "text": [
      "Initialised with 60 image(s) found.\n",
      "Output directory set to ./dataset/data/CUB_200_2011/cropped/174.Palm_Warbler\\../../skewed/174.Palm_Warbler."
     ]
    },
    {
     "name": "stderr",
     "output_type": "stream",
     "text": [
      "\n",
      "Processing <PIL.Image.Image image mode=RGB size=200x224 at 0x1DE1219E670>: 100%|██████████| 60/60 [00:00<00:00, 583.39 Samples/s]\n"
     ]
    },
    {
     "name": "stdout",
     "output_type": "stream",
     "text": [
      "Initialised with 60 image(s) found.\n",
      "Output directory set to ./dataset/data/CUB_200_2011/cropped/174.Palm_Warbler\\../../sheared/174.Palm_Warbler."
     ]
    },
    {
     "name": "stderr",
     "output_type": "stream",
     "text": [
      "Processing <PIL.Image.Image image mode=RGB size=200x224 at 0x1DE12195DC0>: 100%|██████████| 60/60 [00:00<00:00, 734.03 Samples/s]\n"
     ]
    },
    {
     "name": "stdout",
     "output_type": "stream",
     "text": [
      "Initialised with 60 image(s) found.\n",
      "Output directory set to ./dataset/data/CUB_200_2011/cropped/175.Pine_Warbler\\../../rotated/175.Pine_Warbler."
     ]
    },
    {
     "name": "stderr",
     "output_type": "stream",
     "text": [
      "Processing <PIL.Image.Image image mode=RGB size=363x256 at 0x1DE136C0280>: 100%|██████████| 60/60 [00:00<00:00, 692.78 Samples/s]\n"
     ]
    },
    {
     "name": "stdout",
     "output_type": "stream",
     "text": [
      "Initialised with 60 image(s) found.\n",
      "Output directory set to ./dataset/data/CUB_200_2011/cropped/175.Pine_Warbler\\../../skewed/175.Pine_Warbler."
     ]
    },
    {
     "name": "stderr",
     "output_type": "stream",
     "text": [
      "Processing <PIL.Image.Image image mode=RGB size=363x256 at 0x1DE13744B80>: 100%|██████████| 60/60 [00:00<00:00, 738.68 Samples/s]\n"
     ]
    },
    {
     "name": "stdout",
     "output_type": "stream",
     "text": [
      "Initialised with 60 image(s) found.\n",
      "Output directory set to ./dataset/data/CUB_200_2011/cropped/175.Pine_Warbler\\../../sheared/175.Pine_Warbler."
     ]
    },
    {
     "name": "stderr",
     "output_type": "stream",
     "text": [
      "Processing <PIL.Image.Image image mode=RGB size=363x256 at 0x1DE135AE610>: 100%|██████████| 60/60 [00:00<00:00, 766.05 Samples/s]"
     ]
    },
    {
     "name": "stdout",
     "output_type": "stream",
     "text": [
      "Initialised with 60 image(s) found.\n"
     ]
    },
    {
     "name": "stderr",
     "output_type": "stream",
     "text": [
      "\n"
     ]
    },
    {
     "name": "stdout",
     "output_type": "stream",
     "text": [
      "Output directory set to ./dataset/data/CUB_200_2011/cropped/176.Prairie_Warbler\\../../rotated/176.Prairie_Warbler."
     ]
    },
    {
     "name": "stderr",
     "output_type": "stream",
     "text": [
      "Processing <PIL.Image.Image image mode=RGB size=181x194 at 0x1DE136E4370>: 100%|██████████| 60/60 [00:00<00:00, 721.11 Samples/s]\n"
     ]
    },
    {
     "name": "stdout",
     "output_type": "stream",
     "text": [
      "Initialised with 60 image(s) found.\n",
      "Output directory set to ./dataset/data/CUB_200_2011/cropped/176.Prairie_Warbler\\../../skewed/176.Prairie_Warbler."
     ]
    },
    {
     "name": "stderr",
     "output_type": "stream",
     "text": [
      "Processing <PIL.Image.Image image mode=RGB size=181x194 at 0x1DE136E0250>: 100%|██████████| 60/60 [00:00<00:00, 703.10 Samples/s]\n"
     ]
    },
    {
     "name": "stdout",
     "output_type": "stream",
     "text": [
      "Initialised with 60 image(s) found.\n",
      "Output directory set to ./dataset/data/CUB_200_2011/cropped/176.Prairie_Warbler\\../../sheared/176.Prairie_Warbler."
     ]
    },
    {
     "name": "stderr",
     "output_type": "stream",
     "text": [
      "Processing <PIL.Image.Image image mode=RGB size=181x194 at 0x1DE125ADD00>: 100%|██████████| 60/60 [00:00<00:00, 729.83 Samples/s]\n"
     ]
    },
    {
     "name": "stdout",
     "output_type": "stream",
     "text": [
      "Initialised with 60 image(s) found.\n",
      "Output directory set to ./dataset/data/CUB_200_2011/cropped/177.Prothonotary_Warbler\\../../rotated/177.Prothonotary_Warbler."
     ]
    },
    {
     "name": "stderr",
     "output_type": "stream",
     "text": [
      "Processing <PIL.Image.Image image mode=RGB size=376x324 at 0x1DE136E08B0>: 100%|██████████| 60/60 [00:00<00:00, 734.04 Samples/s]\n"
     ]
    },
    {
     "name": "stdout",
     "output_type": "stream",
     "text": [
      "Initialised with 60 image(s) found.\n",
      "Output directory set to ./dataset/data/CUB_200_2011/cropped/177.Prothonotary_Warbler\\../../skewed/177.Prothonotary_Warbler."
     ]
    },
    {
     "name": "stderr",
     "output_type": "stream",
     "text": [
      "Processing <PIL.Image.Image image mode=RGB size=376x324 at 0x1DE136B2430>: 100%|██████████| 60/60 [00:00<00:00, 764.63 Samples/s]\n"
     ]
    },
    {
     "name": "stdout",
     "output_type": "stream",
     "text": [
      "Initialised with 60 image(s) found.\n",
      "Output directory set to ./dataset/data/CUB_200_2011/cropped/177.Prothonotary_Warbler\\../../sheared/177.Prothonotary_Warbler."
     ]
    },
    {
     "name": "stderr",
     "output_type": "stream",
     "text": [
      "Processing <PIL.Image.Image image mode=RGB size=376x324 at 0x1DE136EDE80>: 100%|██████████| 60/60 [00:00<00:00, 761.54 Samples/s]"
     ]
    },
    {
     "name": "stdout",
     "output_type": "stream",
     "text": [
      "Initialised with 56 image(s) found.\n",
      "Output directory set to ./dataset/data/CUB_200_2011/cropped/178.Swainson_Warbler\\../../rotated/178.Swainson_Warbler."
     ]
    },
    {
     "name": "stderr",
     "output_type": "stream",
     "text": [
      "\n",
      "Processing <PIL.Image.Image image mode=RGB size=192x272 at 0x1DE125ADE80>: 100%|██████████| 56/56 [00:00<00:00, 711.06 Samples/s]"
     ]
    },
    {
     "name": "stdout",
     "output_type": "stream",
     "text": [
      "Initialised with 56 image(s) found.\n"
     ]
    },
    {
     "name": "stderr",
     "output_type": "stream",
     "text": [
      "\n"
     ]
    },
    {
     "name": "stdout",
     "output_type": "stream",
     "text": [
      "Output directory set to ./dataset/data/CUB_200_2011/cropped/178.Swainson_Warbler\\../../skewed/178.Swainson_Warbler."
     ]
    },
    {
     "name": "stderr",
     "output_type": "stream",
     "text": [
      "Processing <PIL.Image.Image image mode=RGB size=192x272 at 0x1DE136C01F0>: 100%|██████████| 56/56 [00:00<00:00, 726.07 Samples/s]\n"
     ]
    },
    {
     "name": "stdout",
     "output_type": "stream",
     "text": [
      "Initialised with 56 image(s) found.\n",
      "Output directory set to ./dataset/data/CUB_200_2011/cropped/178.Swainson_Warbler\\../../sheared/178.Swainson_Warbler."
     ]
    },
    {
     "name": "stderr",
     "output_type": "stream",
     "text": [
      "Processing <PIL.Image.Image image mode=RGB size=192x272 at 0x1DE13812BE0>: 100%|██████████| 56/56 [00:00<00:00, 792.92 Samples/s]"
     ]
    },
    {
     "name": "stdout",
     "output_type": "stream",
     "text": [
      "Initialised with 59 image(s) found.\n"
     ]
    },
    {
     "name": "stderr",
     "output_type": "stream",
     "text": [
      "\n"
     ]
    },
    {
     "name": "stdout",
     "output_type": "stream",
     "text": [
      "Output directory set to ./dataset/data/CUB_200_2011/cropped/179.Tennessee_Warbler\\../../rotated/179.Tennessee_Warbler."
     ]
    },
    {
     "name": "stderr",
     "output_type": "stream",
     "text": [
      "Processing <PIL.Image.Image image mode=RGB size=286x156 at 0x1DE137661C0>: 100%|██████████| 59/59 [00:00<00:00, 805.45 Samples/s]\n"
     ]
    },
    {
     "name": "stdout",
     "output_type": "stream",
     "text": [
      "Initialised with 59 image(s) found.\n",
      "Output directory set to ./dataset/data/CUB_200_2011/cropped/179.Tennessee_Warbler\\../../skewed/179.Tennessee_Warbler."
     ]
    },
    {
     "name": "stderr",
     "output_type": "stream",
     "text": [
      "Processing <PIL.Image.Image image mode=RGB size=286x156 at 0x1DE13726970>: 100%|██████████| 59/59 [00:00<00:00, 779.32 Samples/s]\n"
     ]
    },
    {
     "name": "stdout",
     "output_type": "stream",
     "text": [
      "Initialised with 59 image(s) found.\n",
      "Output directory set to ./dataset/data/CUB_200_2011/cropped/179.Tennessee_Warbler\\../../sheared/179.Tennessee_Warbler."
     ]
    },
    {
     "name": "stderr",
     "output_type": "stream",
     "text": [
      "Processing <PIL.Image.Image image mode=RGB size=286x156 at 0x1DE1219EE20>: 100%|██████████| 59/59 [00:00<00:00, 779.17 Samples/s]\n"
     ]
    },
    {
     "name": "stdout",
     "output_type": "stream",
     "text": [
      "Initialised with 60 image(s) found.\n",
      "Output directory set to ./dataset/data/CUB_200_2011/cropped/180.Wilson_Warbler\\../../rotated/180.Wilson_Warbler."
     ]
    },
    {
     "name": "stderr",
     "output_type": "stream",
     "text": [
      "Processing <PIL.Image.Image image mode=RGB size=187x170 at 0x1DE136C0040>: 100%|██████████| 60/60 [00:00<00:00, 766.53 Samples/s]\n"
     ]
    },
    {
     "name": "stdout",
     "output_type": "stream",
     "text": [
      "Initialised with 60 image(s) found.\n",
      "Output directory set to ./dataset/data/CUB_200_2011/cropped/180.Wilson_Warbler\\../../skewed/180.Wilson_Warbler."
     ]
    },
    {
     "name": "stderr",
     "output_type": "stream",
     "text": [
      "Processing <PIL.Image.Image image mode=RGB size=187x170 at 0x1DE137019A0>: 100%|██████████| 60/60 [00:00<00:00, 771.00 Samples/s]\n"
     ]
    },
    {
     "name": "stdout",
     "output_type": "stream",
     "text": [
      "Initialised with 60 image(s) found.\n",
      "Output directory set to ./dataset/data/CUB_200_2011/cropped/180.Wilson_Warbler\\../../sheared/180.Wilson_Warbler."
     ]
    },
    {
     "name": "stderr",
     "output_type": "stream",
     "text": [
      "Processing <PIL.Image.Image image mode=RGB size=187x170 at 0x1DE13767E80>: 100%|██████████| 60/60 [00:00<00:00, 777.95 Samples/s]\n"
     ]
    },
    {
     "name": "stdout",
     "output_type": "stream",
     "text": [
      "Initialised with 59 image(s) found.\n",
      "Output directory set to ./dataset/data/CUB_200_2011/cropped/181.Worm_eating_Warbler\\../../rotated/181.Worm_eating_Warbler."
     ]
    },
    {
     "name": "stderr",
     "output_type": "stream",
     "text": [
      "Processing <PIL.Image.Image image mode=RGB size=223x242 at 0x1DE135AE5E0>: 100%|██████████| 59/59 [00:00<00:00, 739.36 Samples/s]\n"
     ]
    },
    {
     "name": "stdout",
     "output_type": "stream",
     "text": [
      "Initialised with 59 image(s) found.\n",
      "Output directory set to ./dataset/data/CUB_200_2011/cropped/181.Worm_eating_Warbler\\../../skewed/181.Worm_eating_Warbler."
     ]
    },
    {
     "name": "stderr",
     "output_type": "stream",
     "text": [
      "Processing <PIL.Image.Image image mode=RGB size=223x242 at 0x1DE136E4790>: 100%|██████████| 59/59 [00:00<00:00, 713.35 Samples/s]\n"
     ]
    },
    {
     "name": "stdout",
     "output_type": "stream",
     "text": [
      "Initialised with 59 image(s) found.\n",
      "Output directory set to ./dataset/data/CUB_200_2011/cropped/181.Worm_eating_Warbler\\../../sheared/181.Worm_eating_Warbler."
     ]
    },
    {
     "name": "stderr",
     "output_type": "stream",
     "text": [
      "Processing <PIL.Image.Image image mode=RGB size=223x242 at 0x1DE1219E760>: 100%|██████████| 59/59 [00:00<00:00, 790.32 Samples/s]"
     ]
    },
    {
     "name": "stdout",
     "output_type": "stream",
     "text": [
      "Initialised with 60 image(s) found.\n"
     ]
    },
    {
     "name": "stderr",
     "output_type": "stream",
     "text": [
      "\n"
     ]
    },
    {
     "name": "stdout",
     "output_type": "stream",
     "text": [
      "Output directory set to ./dataset/data/CUB_200_2011/cropped/182.Yellow_Warbler\\../../rotated/182.Yellow_Warbler."
     ]
    },
    {
     "name": "stderr",
     "output_type": "stream",
     "text": [
      "Processing <PIL.Image.Image image mode=RGB size=192x297 at 0x1DE13744070>: 100%|██████████| 60/60 [00:00<00:00, 762.27 Samples/s]\n"
     ]
    },
    {
     "name": "stdout",
     "output_type": "stream",
     "text": [
      "Initialised with 60 image(s) found.\n",
      "Output directory set to ./dataset/data/CUB_200_2011/cropped/182.Yellow_Warbler\\../../skewed/182.Yellow_Warbler."
     ]
    },
    {
     "name": "stderr",
     "output_type": "stream",
     "text": [
      "Processing <PIL.Image.Image image mode=RGB size=192x297 at 0x1DE137121C0>: 100%|██████████| 60/60 [00:00<00:00, 766.75 Samples/s]"
     ]
    },
    {
     "name": "stdout",
     "output_type": "stream",
     "text": [
      "Initialised with 60 image(s) found.\n",
      "Output directory set to ./dataset/data/CUB_200_2011/cropped/182.Yellow_Warbler\\../../sheared/182.Yellow_Warbler."
     ]
    },
    {
     "name": "stderr",
     "output_type": "stream",
     "text": [
      "\n",
      "Processing <PIL.Image.Image image mode=RGB size=192x297 at 0x1DE1249F8B0>: 100%|██████████| 60/60 [00:00<00:00, 793.24 Samples/s]"
     ]
    },
    {
     "name": "stdout",
     "output_type": "stream",
     "text": [
      "Initialised with 60 image(s) found.\n"
     ]
    },
    {
     "name": "stderr",
     "output_type": "stream",
     "text": [
      "\n"
     ]
    },
    {
     "name": "stdout",
     "output_type": "stream",
     "text": [
      "Output directory set to ./dataset/data/CUB_200_2011/cropped/183.Northern_Waterthrush\\../../rotated/183.Northern_Waterthrush."
     ]
    },
    {
     "name": "stderr",
     "output_type": "stream",
     "text": [
      "Processing <PIL.Image.Image image mode=RGB size=342x222 at 0x1DE136E08B0>: 100%|██████████| 60/60 [00:00<00:00, 747.63 Samples/s]"
     ]
    },
    {
     "name": "stdout",
     "output_type": "stream",
     "text": [
      "Initialised with 60 image(s) found.\n"
     ]
    },
    {
     "name": "stderr",
     "output_type": "stream",
     "text": [
      "\n"
     ]
    },
    {
     "name": "stdout",
     "output_type": "stream",
     "text": [
      "Output directory set to ./dataset/data/CUB_200_2011/cropped/183.Northern_Waterthrush\\../../skewed/183.Northern_Waterthrush."
     ]
    },
    {
     "name": "stderr",
     "output_type": "stream",
     "text": [
      "Processing <PIL.Image.Image image mode=RGB size=342x222 at 0x1DE12195DC0>: 100%|██████████| 60/60 [00:00<00:00, 781.42 Samples/s]"
     ]
    },
    {
     "name": "stdout",
     "output_type": "stream",
     "text": [
      "Initialised with 60 image(s) found.\n",
      "Output directory set to ./dataset/data/CUB_200_2011/cropped/183.Northern_Waterthrush\\../../sheared/183.Northern_Waterthrush."
     ]
    },
    {
     "name": "stderr",
     "output_type": "stream",
     "text": [
      "\n",
      "Processing <PIL.Image.Image image mode=RGB size=342x222 at 0x1DE136E41C0>: 100%|██████████| 60/60 [00:00<00:00, 696.08 Samples/s]\n"
     ]
    },
    {
     "name": "stdout",
     "output_type": "stream",
     "text": [
      "Initialised with 60 image(s) found.\n",
      "Output directory set to ./dataset/data/CUB_200_2011/cropped/184.Louisiana_Waterthrush\\../../rotated/184.Louisiana_Waterthrush."
     ]
    },
    {
     "name": "stderr",
     "output_type": "stream",
     "text": [
      "Processing <PIL.Image.Image image mode=RGB size=209x131 at 0x1DE136ED1F0>: 100%|██████████| 60/60 [00:00<00:00, 767.76 Samples/s]\n"
     ]
    },
    {
     "name": "stdout",
     "output_type": "stream",
     "text": [
      "Initialised with 60 image(s) found.\n",
      "Output directory set to ./dataset/data/CUB_200_2011/cropped/184.Louisiana_Waterthrush\\../../skewed/184.Louisiana_Waterthrush."
     ]
    },
    {
     "name": "stderr",
     "output_type": "stream",
     "text": [
      "Processing <PIL.Image.Image image mode=RGB size=209x131 at 0x1DE13744C70>: 100%|██████████| 60/60 [00:00<00:00, 738.31 Samples/s]\n"
     ]
    },
    {
     "name": "stdout",
     "output_type": "stream",
     "text": [
      "Initialised with 60 image(s) found.\n",
      "Output directory set to ./dataset/data/CUB_200_2011/cropped/184.Louisiana_Waterthrush\\../../sheared/184.Louisiana_Waterthrush."
     ]
    },
    {
     "name": "stderr",
     "output_type": "stream",
     "text": [
      "Processing <PIL.Image.Image image mode=RGB size=209x131 at 0x1DE136C2D30>: 100%|██████████| 60/60 [00:00<00:00, 694.29 Samples/s]\n"
     ]
    },
    {
     "name": "stdout",
     "output_type": "stream",
     "text": [
      "Initialised with 60 image(s) found.\n",
      "Output directory set to ./dataset/data/CUB_200_2011/cropped/185.Bohemian_Waxwing\\../../rotated/185.Bohemian_Waxwing."
     ]
    },
    {
     "name": "stderr",
     "output_type": "stream",
     "text": [
      "Processing <PIL.Image.Image image mode=RGB size=362x398 at 0x1DE137128E0>: 100%|██████████| 60/60 [00:00<00:00, 695.81 Samples/s]\n"
     ]
    },
    {
     "name": "stdout",
     "output_type": "stream",
     "text": [
      "Initialised with 60 image(s) found.\n",
      "Output directory set to ./dataset/data/CUB_200_2011/cropped/185.Bohemian_Waxwing\\../../skewed/185.Bohemian_Waxwing."
     ]
    },
    {
     "name": "stderr",
     "output_type": "stream",
     "text": [
      "Processing <PIL.Image.Image image mode=RGB size=362x398 at 0x1DE136C2D00>: 100%|██████████| 60/60 [00:00<00:00, 657.29 Samples/s]\n"
     ]
    },
    {
     "name": "stdout",
     "output_type": "stream",
     "text": [
      "Initialised with 60 image(s) found.\n",
      "Output directory set to ./dataset/data/CUB_200_2011/cropped/185.Bohemian_Waxwing\\../../sheared/185.Bohemian_Waxwing."
     ]
    },
    {
     "name": "stderr",
     "output_type": "stream",
     "text": [
      "Processing <PIL.Image.Image image mode=RGB size=362x398 at 0x1DE137D1370>: 100%|██████████| 60/60 [00:00<00:00, 626.85 Samples/s]\n"
     ]
    },
    {
     "name": "stdout",
     "output_type": "stream",
     "text": [
      "Initialised with 60 image(s) found.\n",
      "Output directory set to ./dataset/data/CUB_200_2011/cropped/186.Cedar_Waxwing\\../../rotated/186.Cedar_Waxwing."
     ]
    },
    {
     "name": "stderr",
     "output_type": "stream",
     "text": [
      "Processing <PIL.Image.Image image mode=RGB size=287x318 at 0x1DE1219E340>: 100%|██████████| 60/60 [00:00<00:00, 705.66 Samples/s]\n"
     ]
    },
    {
     "name": "stdout",
     "output_type": "stream",
     "text": [
      "Initialised with 60 image(s) found.\n",
      "Output directory set to ./dataset/data/CUB_200_2011/cropped/186.Cedar_Waxwing\\../../skewed/186.Cedar_Waxwing."
     ]
    },
    {
     "name": "stderr",
     "output_type": "stream",
     "text": [
      "Processing <PIL.Image.Image image mode=RGB size=287x318 at 0x1DE125ADD90>: 100%|██████████| 60/60 [00:00<00:00, 728.85 Samples/s]\n"
     ]
    },
    {
     "name": "stdout",
     "output_type": "stream",
     "text": [
      "Initialised with 60 image(s) found.\n",
      "Output directory set to ./dataset/data/CUB_200_2011/cropped/186.Cedar_Waxwing\\../../sheared/186.Cedar_Waxwing."
     ]
    },
    {
     "name": "stderr",
     "output_type": "stream",
     "text": [
      "Processing <PIL.Image.Image image mode=RGB size=287x318 at 0x1DE13744AF0>: 100%|██████████| 60/60 [00:00<00:00, 787.14 Samples/s]"
     ]
    },
    {
     "name": "stdout",
     "output_type": "stream",
     "text": [
      "Initialised with 50 image(s) found.\n"
     ]
    },
    {
     "name": "stderr",
     "output_type": "stream",
     "text": [
      "\n"
     ]
    },
    {
     "name": "stdout",
     "output_type": "stream",
     "text": [
      "Output directory set to ./dataset/data/CUB_200_2011/cropped/187.American_Three_toed_Woodpecker\\../../rotated/187.American_Three_toed_Woodpecker."
     ]
    },
    {
     "name": "stderr",
     "output_type": "stream",
     "text": [
      "Processing <PIL.Image.Image image mode=RGB size=154x312 at 0x1DE138060D0>: 100%|██████████| 50/50 [00:00<00:00, 717.27 Samples/s]\n"
     ]
    },
    {
     "name": "stdout",
     "output_type": "stream",
     "text": [
      "Initialised with 50 image(s) found.\n",
      "Output directory set to ./dataset/data/CUB_200_2011/cropped/187.American_Three_toed_Woodpecker\\../../skewed/187.American_Three_toed_Woodpecker."
     ]
    },
    {
     "name": "stderr",
     "output_type": "stream",
     "text": [
      "Processing <PIL.Image.Image image mode=RGB size=154x312 at 0x1DE137D1AC0>: 100%|██████████| 50/50 [00:00<00:00, 626.74 Samples/s]\n"
     ]
    },
    {
     "name": "stdout",
     "output_type": "stream",
     "text": [
      "Initialised with 50 image(s) found.\n",
      "Output directory set to ./dataset/data/CUB_200_2011/cropped/187.American_Three_toed_Woodpecker\\../../sheared/187.American_Three_toed_Woodpecker."
     ]
    },
    {
     "name": "stderr",
     "output_type": "stream",
     "text": [
      "Processing <PIL.Image.Image image mode=RGB size=154x312 at 0x1DE136C2C70>: 100%|██████████| 50/50 [00:00<00:00, 700.42 Samples/s]\n"
     ]
    },
    {
     "name": "stdout",
     "output_type": "stream",
     "text": [
      "Initialised with 60 image(s) found.\n",
      "Output directory set to ./dataset/data/CUB_200_2011/cropped/188.Pileated_Woodpecker\\../../rotated/188.Pileated_Woodpecker."
     ]
    },
    {
     "name": "stderr",
     "output_type": "stream",
     "text": [
      "Processing <PIL.Image.Image image mode=RGB size=168x321 at 0x1DE138290A0>: 100%|██████████| 60/60 [00:00<00:00, 733.04 Samples/s]\n"
     ]
    },
    {
     "name": "stdout",
     "output_type": "stream",
     "text": [
      "Initialised with 60 image(s) found.\n",
      "Output directory set to ./dataset/data/CUB_200_2011/cropped/188.Pileated_Woodpecker\\../../skewed/188.Pileated_Woodpecker."
     ]
    },
    {
     "name": "stderr",
     "output_type": "stream",
     "text": [
      "Processing <PIL.Image.Image image mode=RGB size=168x321 at 0x1DE137CD7C0>: 100%|██████████| 60/60 [00:00<00:00, 664.36 Samples/s]\n"
     ]
    },
    {
     "name": "stdout",
     "output_type": "stream",
     "text": [
      "Initialised with 60 image(s) found.\n",
      "Output directory set to ./dataset/data/CUB_200_2011/cropped/188.Pileated_Woodpecker\\../../sheared/188.Pileated_Woodpecker."
     ]
    },
    {
     "name": "stderr",
     "output_type": "stream",
     "text": [
      "Processing <PIL.Image.Image image mode=RGB size=168x321 at 0x1DE136B2430>: 100%|██████████| 60/60 [00:00<00:00, 767.30 Samples/s]\n"
     ]
    },
    {
     "name": "stdout",
     "output_type": "stream",
     "text": [
      "Initialised with 60 image(s) found.\n",
      "Output directory set to ./dataset/data/CUB_200_2011/cropped/189.Red_bellied_Woodpecker\\../../rotated/189.Red_bellied_Woodpecker."
     ]
    },
    {
     "name": "stderr",
     "output_type": "stream",
     "text": [
      "Processing <PIL.Image.Image image mode=RGB size=133x284 at 0x1DE1370DBB0>: 100%|██████████| 60/60 [00:00<00:00, 671.71 Samples/s]\n"
     ]
    },
    {
     "name": "stdout",
     "output_type": "stream",
     "text": [
      "Initialised with 60 image(s) found.\n",
      "Output directory set to ./dataset/data/CUB_200_2011/cropped/189.Red_bellied_Woodpecker\\../../skewed/189.Red_bellied_Woodpecker."
     ]
    },
    {
     "name": "stderr",
     "output_type": "stream",
     "text": [
      "Processing <PIL.Image.Image image mode=RGB size=133x284 at 0x1DE13812B20>: 100%|██████████| 60/60 [00:00<00:00, 605.20 Samples/s]\n"
     ]
    },
    {
     "name": "stdout",
     "output_type": "stream",
     "text": [
      "Initialised with 60 image(s) found.\n",
      "Output directory set to ./dataset/data/CUB_200_2011/cropped/189.Red_bellied_Woodpecker\\../../sheared/189.Red_bellied_Woodpecker."
     ]
    },
    {
     "name": "stderr",
     "output_type": "stream",
     "text": [
      "Processing <PIL.Image.Image image mode=RGB size=133x284 at 0x1DE136EDA60>: 100%|██████████| 60/60 [00:00<00:00, 713.59 Samples/s]\n"
     ]
    },
    {
     "name": "stdout",
     "output_type": "stream",
     "text": [
      "Initialised with 58 image(s) found.\n",
      "Output directory set to ./dataset/data/CUB_200_2011/cropped/190.Red_cockaded_Woodpecker\\../../rotated/190.Red_cockaded_Woodpecker."
     ]
    },
    {
     "name": "stderr",
     "output_type": "stream",
     "text": [
      "Processing <PIL.Image.Image image mode=RGB size=142x315 at 0x1DE136E0190>: 100%|██████████| 58/58 [00:00<00:00, 791.08 Samples/s]\n"
     ]
    },
    {
     "name": "stdout",
     "output_type": "stream",
     "text": [
      "Initialised with 58 image(s) found.\n",
      "Output directory set to ./dataset/data/CUB_200_2011/cropped/190.Red_cockaded_Woodpecker\\../../skewed/190.Red_cockaded_Woodpecker."
     ]
    },
    {
     "name": "stderr",
     "output_type": "stream",
     "text": [
      "Processing <PIL.Image.Image image mode=RGB size=142x315 at 0x1DE13767790>: 100%|██████████| 58/58 [00:00<00:00, 755.93 Samples/s]\n"
     ]
    },
    {
     "name": "stdout",
     "output_type": "stream",
     "text": [
      "Initialised with 58 image(s) found.\n",
      "Output directory set to ./dataset/data/CUB_200_2011/cropped/190.Red_cockaded_Woodpecker\\../../sheared/190.Red_cockaded_Woodpecker."
     ]
    },
    {
     "name": "stderr",
     "output_type": "stream",
     "text": [
      "Processing <PIL.Image.Image image mode=RGB size=142x315 at 0x1DE136B2D30>: 100%|██████████| 58/58 [00:00<00:00, 780.66 Samples/s]\n"
     ]
    },
    {
     "name": "stdout",
     "output_type": "stream",
     "text": [
      "Initialised with 60 image(s) found.\n",
      "Output directory set to ./dataset/data/CUB_200_2011/cropped/191.Red_headed_Woodpecker\\../../rotated/191.Red_headed_Woodpecker."
     ]
    },
    {
     "name": "stderr",
     "output_type": "stream",
     "text": [
      "Processing <PIL.Image.Image image mode=RGB size=232x428 at 0x1DE12195100>: 100%|██████████| 60/60 [00:00<00:00, 579.77 Samples/s]\n"
     ]
    },
    {
     "name": "stdout",
     "output_type": "stream",
     "text": [
      "Initialised with 60 image(s) found.\n",
      "Output directory set to ./dataset/data/CUB_200_2011/cropped/191.Red_headed_Woodpecker\\../../skewed/191.Red_headed_Woodpecker."
     ]
    },
    {
     "name": "stderr",
     "output_type": "stream",
     "text": [
      "Processing <PIL.Image.Image image mode=RGB size=232x428 at 0x1DE1219ECD0>: 100%|██████████| 60/60 [00:00<00:00, 577.31 Samples/s]\n"
     ]
    },
    {
     "name": "stdout",
     "output_type": "stream",
     "text": [
      "Initialised with 60 image(s) found.\n",
      "Output directory set to ./dataset/data/CUB_200_2011/cropped/191.Red_headed_Woodpecker\\../../sheared/191.Red_headed_Woodpecker."
     ]
    },
    {
     "name": "stderr",
     "output_type": "stream",
     "text": [
      "Processing <PIL.Image.Image image mode=RGB size=232x428 at 0x1DE137018B0>: 100%|██████████| 60/60 [00:00<00:00, 629.53 Samples/s]\n"
     ]
    },
    {
     "name": "stdout",
     "output_type": "stream",
     "text": [
      "Initialised with 60 image(s) found.\n",
      "Output directory set to ./dataset/data/CUB_200_2011/cropped/192.Downy_Woodpecker\\../../rotated/192.Downy_Woodpecker."
     ]
    },
    {
     "name": "stderr",
     "output_type": "stream",
     "text": [
      "Processing <PIL.Image.Image image mode=RGB size=219x421 at 0x1DE1373A5B0>: 100%|██████████| 60/60 [00:00<00:00, 695.28 Samples/s]\n"
     ]
    },
    {
     "name": "stdout",
     "output_type": "stream",
     "text": [
      "Initialised with 60 image(s) found.\n",
      "Output directory set to ./dataset/data/CUB_200_2011/cropped/192.Downy_Woodpecker\\../../skewed/192.Downy_Woodpecker."
     ]
    },
    {
     "name": "stderr",
     "output_type": "stream",
     "text": [
      "Processing <PIL.Image.Image image mode=RGB size=219x421 at 0x1DE1375AF70>: 100%|██████████| 60/60 [00:00<00:00, 716.97 Samples/s]\n"
     ]
    },
    {
     "name": "stdout",
     "output_type": "stream",
     "text": [
      "Initialised with 60 image(s) found.\n",
      "Output directory set to ./dataset/data/CUB_200_2011/cropped/192.Downy_Woodpecker\\../../sheared/192.Downy_Woodpecker."
     ]
    },
    {
     "name": "stderr",
     "output_type": "stream",
     "text": [
      "Processing <PIL.Image.Image image mode=RGB size=219x421 at 0x1DE136C2D60>: 100%|██████████| 60/60 [00:00<00:00, 619.46 Samples/s]\n"
     ]
    },
    {
     "name": "stdout",
     "output_type": "stream",
     "text": [
      "Initialised with 60 image(s) found.\n",
      "Output directory set to ./dataset/data/CUB_200_2011/cropped/193.Bewick_Wren\\../../rotated/193.Bewick_Wren."
     ]
    },
    {
     "name": "stderr",
     "output_type": "stream",
     "text": [
      "Processing <PIL.Image.Image image mode=RGB size=319x283 at 0x1DE136ED250>: 100%|██████████| 60/60 [00:00<00:00, 656.65 Samples/s]\n"
     ]
    },
    {
     "name": "stdout",
     "output_type": "stream",
     "text": [
      "Initialised with 60 image(s) found.\n",
      "Output directory set to ./dataset/data/CUB_200_2011/cropped/193.Bewick_Wren\\../../skewed/193.Bewick_Wren."
     ]
    },
    {
     "name": "stderr",
     "output_type": "stream",
     "text": [
      "Processing <PIL.Image.Image image mode=RGB size=319x283 at 0x1DE136C2E80>: 100%|██████████| 60/60 [00:00<00:00, 716.77 Samples/s]\n"
     ]
    },
    {
     "name": "stdout",
     "output_type": "stream",
     "text": [
      "Initialised with 60 image(s) found.\n",
      "Output directory set to ./dataset/data/CUB_200_2011/cropped/193.Bewick_Wren\\../../sheared/193.Bewick_Wren."
     ]
    },
    {
     "name": "stderr",
     "output_type": "stream",
     "text": [
      "Processing <PIL.Image.Image image mode=RGB size=319x283 at 0x1DE13829AF0>: 100%|██████████| 60/60 [00:00<00:00, 733.41 Samples/s]\n"
     ]
    },
    {
     "name": "stdout",
     "output_type": "stream",
     "text": [
      "Initialised with 60 image(s) found.\n",
      "Output directory set to ./dataset/data/CUB_200_2011/cropped/194.Cactus_Wren\\../../rotated/194.Cactus_Wren."
     ]
    },
    {
     "name": "stderr",
     "output_type": "stream",
     "text": [
      "Processing <PIL.Image.Image image mode=RGB size=332x163 at 0x1DE137D1820>: 100%|██████████| 60/60 [00:00<00:00, 695.48 Samples/s]\n"
     ]
    },
    {
     "name": "stdout",
     "output_type": "stream",
     "text": [
      "Initialised with 60 image(s) found.\n",
      "Output directory set to ./dataset/data/CUB_200_2011/cropped/194.Cactus_Wren\\../../skewed/194.Cactus_Wren."
     ]
    },
    {
     "name": "stderr",
     "output_type": "stream",
     "text": [
      "Processing <PIL.Image.Image image mode=RGB size=332x163 at 0x1DE137660D0>: 100%|██████████| 60/60 [00:00<00:00, 613.88 Samples/s]\n"
     ]
    },
    {
     "name": "stdout",
     "output_type": "stream",
     "text": [
      "Initialised with 60 image(s) found.\n",
      "Output directory set to ./dataset/data/CUB_200_2011/cropped/194.Cactus_Wren\\../../sheared/194.Cactus_Wren."
     ]
    },
    {
     "name": "stderr",
     "output_type": "stream",
     "text": [
      "Processing <PIL.Image.Image image mode=RGB size=332x163 at 0x1DE12195310>: 100%|██████████| 60/60 [00:00<00:00, 699.93 Samples/s]\n"
     ]
    },
    {
     "name": "stdout",
     "output_type": "stream",
     "text": [
      "Initialised with 60 image(s) found.\n",
      "Output directory set to ./dataset/data/CUB_200_2011/cropped/195.Carolina_Wren\\../../rotated/195.Carolina_Wren."
     ]
    },
    {
     "name": "stderr",
     "output_type": "stream",
     "text": [
      "Processing <PIL.Image.Image image mode=RGB size=214x342 at 0x1DE1373A250>: 100%|██████████| 60/60 [00:00<00:00, 688.39 Samples/s]\n"
     ]
    },
    {
     "name": "stdout",
     "output_type": "stream",
     "text": [
      "Initialised with 60 image(s) found.\n",
      "Output directory set to ./dataset/data/CUB_200_2011/cropped/195.Carolina_Wren\\../../skewed/195.Carolina_Wren."
     ]
    },
    {
     "name": "stderr",
     "output_type": "stream",
     "text": [
      "Processing <PIL.Image.Image image mode=RGB size=214x342 at 0x1DE137CD3D0>: 100%|██████████| 60/60 [00:00<00:00, 742.19 Samples/s]\n"
     ]
    },
    {
     "name": "stdout",
     "output_type": "stream",
     "text": [
      "Initialised with 60 image(s) found.\n",
      "Output directory set to ./dataset/data/CUB_200_2011/cropped/195.Carolina_Wren\\../../sheared/195.Carolina_Wren."
     ]
    },
    {
     "name": "stderr",
     "output_type": "stream",
     "text": [
      "Processing <PIL.Image.Image image mode=RGB size=214x342 at 0x1DE136E4910>: 100%|██████████| 60/60 [00:00<00:00, 739.64 Samples/s]\n"
     ]
    },
    {
     "name": "stdout",
     "output_type": "stream",
     "text": [
      "Initialised with 59 image(s) found.\n",
      "Output directory set to ./dataset/data/CUB_200_2011/cropped/196.House_Wren\\../../rotated/196.House_Wren."
     ]
    },
    {
     "name": "stderr",
     "output_type": "stream",
     "text": [
      "Processing <PIL.Image.Image image mode=RGB size=311x250 at 0x1DE1219E9D0>: 100%|██████████| 59/59 [00:00<00:00, 749.67 Samples/s]\n"
     ]
    },
    {
     "name": "stdout",
     "output_type": "stream",
     "text": [
      "Initialised with 59 image(s) found.\n",
      "Output directory set to ./dataset/data/CUB_200_2011/cropped/196.House_Wren\\../../skewed/196.House_Wren."
     ]
    },
    {
     "name": "stderr",
     "output_type": "stream",
     "text": [
      "Processing <PIL.Image.Image image mode=RGB size=311x250 at 0x1DE136C2F10>: 100%|██████████| 59/59 [00:00<00:00, 705.62 Samples/s]\n"
     ]
    },
    {
     "name": "stdout",
     "output_type": "stream",
     "text": [
      "Initialised with 59 image(s) found.\n",
      "Output directory set to ./dataset/data/CUB_200_2011/cropped/196.House_Wren\\../../sheared/196.House_Wren."
     ]
    },
    {
     "name": "stderr",
     "output_type": "stream",
     "text": [
      "Processing <PIL.Image.Image image mode=RGB size=311x250 at 0x1DE13744B80>: 100%|██████████| 59/59 [00:00<00:00, 460.06 Samples/s]\n"
     ]
    },
    {
     "name": "stdout",
     "output_type": "stream",
     "text": [
      "Initialised with 60 image(s) found.\n",
      "Output directory set to ./dataset/data/CUB_200_2011/cropped/197.Marsh_Wren\\../../rotated/197.Marsh_Wren."
     ]
    },
    {
     "name": "stderr",
     "output_type": "stream",
     "text": [
      "Processing <PIL.Image.Image image mode=RGB size=183x212 at 0x1DE138299A0>: 100%|██████████| 60/60 [00:00<00:00, 791.55 Samples/s]\n"
     ]
    },
    {
     "name": "stdout",
     "output_type": "stream",
     "text": [
      "Initialised with 60 image(s) found.\n",
      "Output directory set to ./dataset/data/CUB_200_2011/cropped/197.Marsh_Wren\\../../skewed/197.Marsh_Wren."
     ]
    },
    {
     "name": "stderr",
     "output_type": "stream",
     "text": [
      "Processing <PIL.Image.Image image mode=RGB size=183x212 at 0x1DE13712790>: 100%|██████████| 60/60 [00:00<00:00, 782.50 Samples/s]\n"
     ]
    },
    {
     "name": "stdout",
     "output_type": "stream",
     "text": [
      "Initialised with 60 image(s) found.\n",
      "Output directory set to ./dataset/data/CUB_200_2011/cropped/197.Marsh_Wren\\../../sheared/197.Marsh_Wren."
     ]
    },
    {
     "name": "stderr",
     "output_type": "stream",
     "text": [
      "Processing <PIL.Image.Image image mode=RGB size=183x212 at 0x1DE137D14F0>: 100%|██████████| 60/60 [00:00<00:00, 742.59 Samples/s]"
     ]
    },
    {
     "name": "stdout",
     "output_type": "stream",
     "text": [
      "Initialised with 60 image(s) found.\n"
     ]
    },
    {
     "name": "stderr",
     "output_type": "stream",
     "text": [
      "\n"
     ]
    },
    {
     "name": "stdout",
     "output_type": "stream",
     "text": [
      "Output directory set to ./dataset/data/CUB_200_2011/cropped/198.Rock_Wren\\../../rotated/198.Rock_Wren."
     ]
    },
    {
     "name": "stderr",
     "output_type": "stream",
     "text": [
      "Processing <PIL.Image.Image image mode=RGB size=122x121 at 0x1DE136C01C0>: 100%|██████████| 60/60 [00:00<00:00, 721.98 Samples/s]\n"
     ]
    },
    {
     "name": "stdout",
     "output_type": "stream",
     "text": [
      "Initialised with 60 image(s) found.\n",
      "Output directory set to ./dataset/data/CUB_200_2011/cropped/198.Rock_Wren\\../../skewed/198.Rock_Wren."
     ]
    },
    {
     "name": "stderr",
     "output_type": "stream",
     "text": [
      "Processing <PIL.Image.Image image mode=RGB size=122x121 at 0x1DE1219ED30>: 100%|██████████| 60/60 [00:00<00:00, 654.50 Samples/s]\n"
     ]
    },
    {
     "name": "stdout",
     "output_type": "stream",
     "text": [
      "Initialised with 60 image(s) found.\n",
      "Output directory set to ./dataset/data/CUB_200_2011/cropped/198.Rock_Wren\\../../sheared/198.Rock_Wren."
     ]
    },
    {
     "name": "stderr",
     "output_type": "stream",
     "text": [
      "Processing <PIL.Image.Image image mode=RGB size=122x121 at 0x1DE13767880>: 100%|██████████| 60/60 [00:00<00:00, 700.43 Samples/s]\n"
     ]
    },
    {
     "name": "stdout",
     "output_type": "stream",
     "text": [
      "Initialised with 60 image(s) found.\n",
      "Output directory set to ./dataset/data/CUB_200_2011/cropped/199.Winter_Wren\\../../rotated/199.Winter_Wren."
     ]
    },
    {
     "name": "stderr",
     "output_type": "stream",
     "text": [
      "Processing <PIL.Image.Image image mode=RGB size=143x128 at 0x1DE136C2C70>: 100%|██████████| 60/60 [00:00<00:00, 756.45 Samples/s]\n"
     ]
    },
    {
     "name": "stdout",
     "output_type": "stream",
     "text": [
      "Initialised with 60 image(s) found.\n",
      "Output directory set to ./dataset/data/CUB_200_2011/cropped/199.Winter_Wren\\../../skewed/199.Winter_Wren."
     ]
    },
    {
     "name": "stderr",
     "output_type": "stream",
     "text": [
      "Processing <PIL.Image.Image image mode=RGB size=143x128 at 0x1DE12195E20>: 100%|██████████| 60/60 [00:00<00:00, 773.67 Samples/s]\n"
     ]
    },
    {
     "name": "stdout",
     "output_type": "stream",
     "text": [
      "Initialised with 60 image(s) found.\n",
      "Output directory set to ./dataset/data/CUB_200_2011/cropped/199.Winter_Wren\\../../sheared/199.Winter_Wren."
     ]
    },
    {
     "name": "stderr",
     "output_type": "stream",
     "text": [
      "Processing <PIL.Image.Image image mode=RGB size=143x128 at 0x1DE13726970>: 100%|██████████| 60/60 [00:00<00:00, 813.71 Samples/s]"
     ]
    },
    {
     "name": "stdout",
     "output_type": "stream",
     "text": [
      "Initialised with 60 image(s) found.\n"
     ]
    },
    {
     "name": "stderr",
     "output_type": "stream",
     "text": [
      "\n"
     ]
    },
    {
     "name": "stdout",
     "output_type": "stream",
     "text": [
      "Output directory set to ./dataset/data/CUB_200_2011/cropped/200.Common_Yellowthroat\\../../rotated/200.Common_Yellowthroat."
     ]
    },
    {
     "name": "stderr",
     "output_type": "stream",
     "text": [
      "Processing <PIL.Image.Image image mode=RGB size=318x241 at 0x1DE1373AF70>: 100%|██████████| 60/60 [00:00<00:00, 707.61 Samples/s]"
     ]
    },
    {
     "name": "stdout",
     "output_type": "stream",
     "text": [
      "Initialised with 60 image(s) found.\n"
     ]
    },
    {
     "name": "stderr",
     "output_type": "stream",
     "text": [
      "\n"
     ]
    },
    {
     "name": "stdout",
     "output_type": "stream",
     "text": [
      "Output directory set to ./dataset/data/CUB_200_2011/cropped/200.Common_Yellowthroat\\../../skewed/200.Common_Yellowthroat."
     ]
    },
    {
     "name": "stderr",
     "output_type": "stream",
     "text": [
      "Processing <PIL.Image.Image image mode=RGB size=318x241 at 0x1DE13712610>: 100%|██████████| 60/60 [00:00<00:00, 745.25 Samples/s]\n"
     ]
    },
    {
     "name": "stdout",
     "output_type": "stream",
     "text": [
      "Initialised with 60 image(s) found.\n",
      "Output directory set to ./dataset/data/CUB_200_2011/cropped/200.Common_Yellowthroat\\../../sheared/200.Common_Yellowthroat."
     ]
    },
    {
     "name": "stderr",
     "output_type": "stream",
     "text": [
      "Processing <PIL.Image.Image image mode=RGB size=318x241 at 0x1DE1373A130>: 100%|██████████| 60/60 [00:00<00:00, 813.49 Samples/s]\n"
     ]
    }
   ],
   "source": [
    "def makedir(path):\n",
    "    if not os.path.exists(path):\n",
    "        os.makedirs(path)\n",
    "\n",
    "datasets_root_dir = './dataset/data/CUB_200_2011/'\n",
    "dir = datasets_root_dir + 'cropped/'\n",
    "out_root = '../../'\n",
    "rotate_dir = out_root + 'rotated/'\n",
    "skew_dir = out_root + 'skewed/'\n",
    "shear_dir = out_root + 'sheared/'\n",
    "\n",
    "folders = [os.path.join(dir, folder) for folder in next(os.walk(dir))[1]]\n",
    "rotate_folders = [os.path.join(rotate_dir, folder) for folder in next(os.walk(dir))[1]]\n",
    "skew_folders = [os.path.join(skew_dir, folder) for folder in next(os.walk(dir))[1]]\n",
    "shear_folders = [os.path.join(shear_dir, folder) for folder in next(os.walk(dir))[1]]\n",
    "\n",
    "for i in range(len(folders)):\n",
    "    fd = folders[i]\n",
    "    rfd = rotate_folders[i]\n",
    "    skfd = skew_folders[i]\n",
    "    shfd = shear_folders[i]\n",
    "    # rotation\n",
    "    p = CustomPipeline(source_directory=fd, output_directory=rfd)\n",
    "    p.rotate(probability=1, max_left_rotation=10, max_right_rotation=10)\n",
    "    p.flip_left_right(probability=0.5)\n",
    "    p.process()\n",
    "    del p\n",
    "    # skew\n",
    "    p = CustomPipeline(source_directory=fd, output_directory=skfd)\n",
    "    p.skew(probability=1, magnitude=0.2)  # max 45 degrees\n",
    "    p.flip_left_right(probability=0.5)\n",
    "    p.process()\n",
    "    del p\n",
    "    # shear\n",
    "    p = CustomPipeline(source_directory=fd, output_directory=shfd)\n",
    "    p.shear(probability=1, max_shear_left=10, max_shear_right=10)\n",
    "    p.flip_left_right(probability=0.5)\n",
    "    p.process()\n",
    "    del p"
   ],
   "metadata": {
    "collapsed": false
   }
  }
 ],
 "metadata": {
  "kernelspec": {
   "display_name": "Python 3",
   "language": "python",
   "name": "python3"
  },
  "language_info": {
   "codemirror_mode": {
    "name": "ipython",
    "version": 2
   },
   "file_extension": ".py",
   "mimetype": "text/x-python",
   "name": "python",
   "nbconvert_exporter": "python",
   "pygments_lexer": "ipython2",
   "version": "2.7.6"
  }
 },
 "nbformat": 4,
 "nbformat_minor": 0
}
