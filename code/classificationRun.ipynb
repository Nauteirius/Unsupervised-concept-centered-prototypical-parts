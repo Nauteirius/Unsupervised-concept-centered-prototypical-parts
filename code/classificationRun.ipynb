{
 "cells": [
  {
   "cell_type": "code",
   "execution_count": null,
   "metadata": {
    "collapsed": true,
    "colab": {
     "base_uri": "https://localhost:8080/"
    },
    "id": "QfjLv1T5ti9E",
    "executionInfo": {
     "status": "ok",
     "timestamp": 1681396919915,
     "user_tz": -120,
     "elapsed": 5483,
     "user": {
      "displayName": "Nau Tei",
      "userId": "05419850125273823117"
     }
    },
    "outputId": "e89cef98-43f3-4f39-e27f-ff05a361e150"
   },
   "outputs": [
    {
     "output_type": "stream",
     "name": "stdout",
     "text": [
      "Drive already mounted at /content/drive; to attempt to forcibly remount, call drive.mount(\"/content/drive\", force_remount=True).\n"
     ]
    }
   ],
   "source": [
    "#imports and preprocessing, setting up train_loader\n",
    "from google.colab import drive\n",
    "drive.mount('/content/drive')"
   ]
  },
  {
   "cell_type": "code",
   "source": [
    "%cd /content/drive/MyDrive/Unsupervised-concept-centered-prototypical-parts/code"
   ],
   "metadata": {
    "colab": {
     "base_uri": "https://localhost:8080/"
    },
    "id": "MO_M99jGvdv6",
    "executionInfo": {
     "status": "ok",
     "timestamp": 1681396919916,
     "user_tz": -120,
     "elapsed": 34,
     "user": {
      "displayName": "Nau Tei",
      "userId": "05419850125273823117"
     }
    },
    "outputId": "38c90e1b-f382-4ee5-eb4a-447d34f2388e"
   },
   "execution_count": null,
   "outputs": [
    {
     "output_type": "stream",
     "name": "stdout",
     "text": [
      "/content/drive/MyDrive/Unsupervised-concept-centered-prototypical-parts/code\n"
     ]
    }
   ]
  },
  {
   "cell_type": "code",
   "execution_count": null,
   "outputs": [],
   "source": [
    "import torch\n",
    "import torch.backends.cudnn as cudnn\n",
    "import matplotlib.pyplot as plt\n",
    "from torchvision import transforms\n",
    "from dataset import utils\n",
    "from dataset.cub2011 import Cub2011\n",
    "from dataset.CombinedDataLoader import CDL\n"
   ],
   "metadata": {
    "id": "nomMLQz5ti9G"
   }
  },
  {
   "cell_type": "code",
   "execution_count": null,
   "outputs": [],
   "source": [
    "if torch.cuda.is_available():\n",
    "    device = torch.device('cuda')\n",
    "    cudnn.deterministic = True\n",
    "    cudnn.benchmark = True\n",
    "    gpu_index = 0\n",
    "else:\n",
    "    device = torch.device('cpu')\n",
    "    gpu_index = -1\n"
   ],
   "metadata": {
    "id": "o5LP31qhti9J"
   }
  },
  {
   "cell_type": "code",
   "source": [
    "print(device)"
   ],
   "metadata": {
    "colab": {
     "base_uri": "https://localhost:8080/"
    },
    "id": "OvbKvd3dvrGT",
    "executionInfo": {
     "status": "ok",
     "timestamp": 1681396919918,
     "user_tz": -120,
     "elapsed": 30,
     "user": {
      "displayName": "Nau Tei",
      "userId": "05419850125273823117"
     }
    },
    "outputId": "4763429a-1472-43aa-865e-3d8fd058bb98"
   },
   "execution_count": null,
   "outputs": [
    {
     "output_type": "stream",
     "name": "stdout",
     "text": [
      "cuda\n"
     ]
    }
   ]
  },
  {
   "cell_type": "code",
   "execution_count": null,
   "outputs": [],
   "source": [
    "root = './dataset/data'"
   ],
   "metadata": {
    "id": "9eQ2yQVjti9L"
   }
  },
  {
   "cell_type": "code",
   "execution_count": null,
   "outputs": [],
   "source": [
    "#ds_whole = Cub2011(root, train=None, download=True, transform=transforms.ToTensor())"
   ],
   "metadata": {
    "id": "QcrYZUZdti9M"
   }
  },
  {
   "cell_type": "code",
   "execution_count": null,
   "outputs": [],
   "source": [
    "#utils.crop_all_images(root)"
   ],
   "metadata": {
    "id": "6wYDa2tuti9N"
   }
  },
  {
   "cell_type": "code",
   "execution_count": null,
   "outputs": [],
   "source": [],
   "metadata": {
    "id": "27OsivEKti9O"
   }
  },
  {
   "cell_type": "code",
   "execution_count": null,
   "outputs": [],
   "source": [],
   "metadata": {
    "id": "QmCGsp3Jti9P"
   }
  },
  {
   "cell_type": "code",
   "execution_count": null,
   "outputs": [],
   "source": [
    "transformy = transforms.Compose([\n",
    "    transforms.Resize((224, 224)), # Resize the image to 224x224\n",
    "    transforms.ToTensor() # Convert the image to a tensor\n",
    "])"
   ],
   "metadata": {
    "id": "4XNnWhNxti9Q"
   }
  },
  {
   "cell_type": "code",
   "execution_count": null,
   "outputs": [],
   "source": [
    "train_loader1 = CDL(root, train=True, transform=transformy, num_classes=3, images=['cropped', \"grayscale\", \"gaussianBlur\", \"colorJitter\"])"
   ],
   "metadata": {
    "id": "13TLZF-Tti9S"
   }
  },
  {
   "cell_type": "code",
   "execution_count": null,
   "outputs": [],
   "source": [
    "train_loader = torch.utils.data.DataLoader(train_loader1, batch_size=32, shuffle=False, pin_memory=True, drop_last=True)\n"
   ],
   "metadata": {
    "id": "eBrvbZeIti9T"
   }
  },
  {
   "cell_type": "code",
   "execution_count": null,
   "outputs": [],
   "source": [
    "# declare train_dateset and train_loader"
   ],
   "metadata": {
    "id": "5-ohC3qSti9U"
   }
  },
  {
   "cell_type": "code",
   "execution_count": null,
   "outputs": [],
   "source": [],
   "metadata": {
    "id": "M9-dWBwzti9X"
   }
  },
  {
   "cell_type": "code",
   "execution_count": null,
   "outputs": [
    {
     "output_type": "stream",
     "name": "stderr",
     "text": [
      "/usr/local/lib/python3.9/dist-packages/torchvision/models/_utils.py:208: UserWarning: The parameter 'pretrained' is deprecated since 0.13 and may be removed in the future, please use 'weights' instead.\n",
      "  warnings.warn(\n",
      "/usr/local/lib/python3.9/dist-packages/torchvision/models/_utils.py:223: UserWarning: Arguments other than a weight enum or `None` for 'weights' are deprecated since 0.13 and may be removed in the future. The current behavior is equivalent to passing `weights=ResNet34_Weights.IMAGENET1K_V1`. You can also use `weights=ResNet34_Weights.DEFAULT` to get the most up-to-date weights.\n",
      "  warnings.warn(msg)\n"
     ]
    }
   ],
   "source": [
    "from models.classificationModel import ClassificationModel\n",
    "from models.classificationTrainer import Trainer\n",
    "\n",
    "model = ClassificationModel(out_dim=1000, dataset='./dataset/data/CUB_200_2011')\n",
    "\n"
   ],
   "metadata": {
    "colab": {
     "base_uri": "https://localhost:8080/"
    },
    "id": "fd1GMfZPti9Y",
    "executionInfo": {
     "status": "ok",
     "timestamp": 1681396919925,
     "user_tz": -120,
     "elapsed": 26,
     "user": {
      "displayName": "Nau Tei",
      "userId": "05419850125273823117"
     }
    },
    "outputId": "70ec4988-e1e9-4271-8643-39946e5c3562"
   }
  },
  {
   "cell_type": "code",
   "source": [
    "model.backbone.fc = torch.nn.Sequential(#wariant 1\n",
    "    torch.nn.Linear(in_features=512, out_features=128, bias=True),\n",
    "    torch.nn.Linear(in_features=128, out_features=20, bias=True),\n",
    ")"
   ],
   "metadata": {
    "id": "kuUpkOPm1JMi"
   },
   "execution_count": null,
   "outputs": []
  },
  {
   "cell_type": "code",
   "execution_count": null,
   "outputs": [],
   "source": [
    "optimizer = torch.optim.Adam(model.parameters(), 0.0003, weight_decay=1e-4)\n",
    "\n",
    "scheduler = torch.optim.lr_scheduler.CosineAnnealingLR(optimizer, T_max=len(train_loader), eta_min=0,\n",
    "                                                       last_epoch=-1)"
   ],
   "metadata": {
    "id": "6YPgrxX4ti9Y"
   }
  },
  {
   "cell_type": "code",
   "source": [],
   "metadata": {
    "id": "pO03LyAh21QF"
   },
   "execution_count": null,
   "outputs": []
  },
  {
   "cell_type": "code",
   "execution_count": null,
   "outputs": [
    {
     "output_type": "stream",
     "name": "stderr",
     "text": [
      "  0%|          | 0/22 [00:00<?, ?it/s]/usr/local/lib/python3.9/dist-packages/torch/optim/lr_scheduler.py:814: UserWarning: To get the last learning rate computed by the scheduler, please use `get_last_lr()`.\n",
      "  warnings.warn(\"To get the last learning rate computed by the scheduler, \"\n",
      "100%|██████████| 22/22 [02:13<00:00,  6.05s/it]\n",
      "100%|██████████| 22/22 [00:07<00:00,  3.03it/s]\n",
      "100%|██████████| 22/22 [00:07<00:00,  3.03it/s]\n",
      "100%|██████████| 22/22 [00:07<00:00,  3.05it/s]\n",
      "100%|██████████| 22/22 [00:07<00:00,  3.03it/s]\n",
      "100%|██████████| 22/22 [00:06<00:00,  3.17it/s]\n",
      "100%|██████████| 22/22 [00:06<00:00,  3.19it/s]\n",
      "100%|██████████| 22/22 [00:06<00:00,  3.21it/s]\n",
      "100%|██████████| 22/22 [00:06<00:00,  3.21it/s]\n",
      "100%|██████████| 22/22 [00:06<00:00,  3.14it/s]\n",
      "100%|██████████| 22/22 [00:06<00:00,  3.20it/s]\n",
      "100%|██████████| 22/22 [00:06<00:00,  3.19it/s]\n",
      "100%|██████████| 22/22 [00:06<00:00,  3.14it/s]\n",
      "100%|██████████| 22/22 [00:07<00:00,  3.08it/s]\n",
      "100%|██████████| 22/22 [00:07<00:00,  3.13it/s]\n",
      "100%|██████████| 22/22 [00:07<00:00,  3.14it/s]\n",
      "100%|██████████| 22/22 [00:06<00:00,  3.14it/s]\n",
      "100%|██████████| 22/22 [00:06<00:00,  3.16it/s]\n",
      "100%|██████████| 22/22 [00:07<00:00,  3.11it/s]\n",
      "100%|██████████| 22/22 [00:06<00:00,  3.18it/s]\n",
      "100%|██████████| 22/22 [00:06<00:00,  3.19it/s]\n",
      "100%|██████████| 22/22 [00:06<00:00,  3.18it/s]\n",
      "100%|██████████| 22/22 [00:07<00:00,  3.11it/s]\n",
      "100%|██████████| 22/22 [00:06<00:00,  3.18it/s]\n",
      "100%|██████████| 22/22 [00:06<00:00,  3.17it/s]\n",
      "100%|██████████| 22/22 [00:06<00:00,  3.14it/s]\n",
      "100%|██████████| 22/22 [00:06<00:00,  3.18it/s]\n",
      "100%|██████████| 22/22 [00:07<00:00,  3.07it/s]\n",
      "100%|██████████| 22/22 [00:06<00:00,  3.16it/s]\n",
      "100%|██████████| 22/22 [00:06<00:00,  3.16it/s]\n",
      "100%|██████████| 22/22 [00:06<00:00,  3.17it/s]\n",
      "100%|██████████| 22/22 [00:07<00:00,  3.11it/s]\n",
      "100%|██████████| 22/22 [00:06<00:00,  3.17it/s]\n",
      "100%|██████████| 22/22 [00:06<00:00,  3.18it/s]\n",
      "100%|██████████| 22/22 [00:06<00:00,  3.17it/s]\n",
      "100%|██████████| 22/22 [00:06<00:00,  3.18it/s]\n",
      "100%|██████████| 22/22 [00:07<00:00,  3.08it/s]\n",
      "100%|██████████| 22/22 [00:06<00:00,  3.17it/s]\n",
      "100%|██████████| 22/22 [00:06<00:00,  3.15it/s]\n",
      "100%|██████████| 22/22 [00:06<00:00,  3.17it/s]\n",
      "100%|██████████| 22/22 [00:07<00:00,  3.09it/s]\n",
      "100%|██████████| 22/22 [00:06<00:00,  3.17it/s]\n",
      "100%|██████████| 22/22 [00:06<00:00,  3.16it/s]\n",
      "100%|██████████| 22/22 [00:06<00:00,  3.17it/s]\n",
      "100%|██████████| 22/22 [00:06<00:00,  3.18it/s]\n",
      "100%|██████████| 22/22 [00:07<00:00,  3.08it/s]\n",
      "100%|██████████| 22/22 [00:06<00:00,  3.18it/s]\n",
      "100%|██████████| 22/22 [00:06<00:00,  3.17it/s]\n",
      "100%|██████████| 22/22 [00:06<00:00,  3.18it/s]\n",
      "100%|██████████| 22/22 [00:06<00:00,  3.16it/s]\n",
      "100%|██████████| 22/22 [00:07<00:00,  3.10it/s]\n",
      "100%|██████████| 22/22 [00:06<00:00,  3.15it/s]\n",
      "100%|██████████| 22/22 [00:06<00:00,  3.17it/s]\n",
      "100%|██████████| 22/22 [00:06<00:00,  3.15it/s]\n",
      "100%|██████████| 22/22 [00:07<00:00,  3.07it/s]\n",
      "100%|██████████| 22/22 [00:06<00:00,  3.18it/s]\n",
      "100%|██████████| 22/22 [00:06<00:00,  3.17it/s]\n",
      "100%|██████████| 22/22 [00:06<00:00,  3.18it/s]\n",
      "100%|██████████| 22/22 [00:06<00:00,  3.17it/s]\n",
      "100%|██████████| 22/22 [00:07<00:00,  3.10it/s]\n",
      "100%|██████████| 22/22 [00:06<00:00,  3.17it/s]\n",
      "100%|██████████| 22/22 [00:06<00:00,  3.17it/s]\n",
      "100%|██████████| 22/22 [00:06<00:00,  3.15it/s]\n",
      "100%|██████████| 22/22 [00:07<00:00,  3.10it/s]\n",
      "100%|██████████| 22/22 [00:06<00:00,  3.16it/s]\n",
      "100%|██████████| 22/22 [00:06<00:00,  3.17it/s]\n",
      "100%|██████████| 22/22 [00:06<00:00,  3.15it/s]\n",
      "100%|██████████| 22/22 [00:06<00:00,  3.17it/s]\n",
      "100%|██████████| 22/22 [00:07<00:00,  3.10it/s]\n",
      "100%|██████████| 22/22 [00:06<00:00,  3.18it/s]\n",
      "100%|██████████| 22/22 [00:06<00:00,  3.17it/s]\n",
      "100%|██████████| 22/22 [00:06<00:00,  3.17it/s]\n",
      "100%|██████████| 22/22 [00:07<00:00,  3.10it/s]\n",
      "100%|██████████| 22/22 [00:06<00:00,  3.17it/s]\n",
      "100%|██████████| 22/22 [00:06<00:00,  3.18it/s]\n",
      "100%|██████████| 22/22 [00:06<00:00,  3.14it/s]\n",
      "100%|██████████| 22/22 [00:06<00:00,  3.17it/s]\n",
      "100%|██████████| 22/22 [00:07<00:00,  3.08it/s]\n",
      "100%|██████████| 22/22 [00:06<00:00,  3.17it/s]\n",
      "100%|██████████| 22/22 [00:06<00:00,  3.15it/s]\n",
      "100%|██████████| 22/22 [00:06<00:00,  3.17it/s]\n",
      "100%|██████████| 22/22 [00:07<00:00,  3.10it/s]\n",
      "100%|██████████| 22/22 [00:06<00:00,  3.17it/s]\n",
      "100%|██████████| 22/22 [00:06<00:00,  3.18it/s]\n",
      "100%|██████████| 22/22 [00:06<00:00,  3.18it/s]\n",
      "100%|██████████| 22/22 [00:06<00:00,  3.18it/s]\n",
      "100%|██████████| 22/22 [00:07<00:00,  3.07it/s]\n",
      "100%|██████████| 22/22 [00:06<00:00,  3.18it/s]\n",
      "100%|██████████| 22/22 [00:06<00:00,  3.15it/s]\n",
      "100%|██████████| 22/22 [00:06<00:00,  3.17it/s]\n",
      "100%|██████████| 22/22 [00:07<00:00,  3.09it/s]\n",
      "100%|██████████| 22/22 [00:06<00:00,  3.18it/s]\n",
      "100%|██████████| 22/22 [00:06<00:00,  3.16it/s]\n",
      "100%|██████████| 22/22 [00:06<00:00,  3.19it/s]\n",
      "100%|██████████| 22/22 [00:06<00:00,  3.21it/s]\n",
      "100%|██████████| 22/22 [00:07<00:00,  3.11it/s]\n",
      "100%|██████████| 22/22 [00:06<00:00,  3.21it/s]\n",
      "100%|██████████| 22/22 [00:06<00:00,  3.20it/s]\n",
      "100%|██████████| 22/22 [00:06<00:00,  3.21it/s]\n",
      "100%|██████████| 22/22 [00:06<00:00,  3.21it/s]\n",
      "100%|██████████| 22/22 [00:07<00:00,  3.13it/s]\n",
      "100%|██████████| 22/22 [00:06<00:00,  3.19it/s]\n",
      "100%|██████████| 22/22 [00:06<00:00,  3.21it/s]\n",
      "100%|██████████| 22/22 [00:06<00:00,  3.19it/s]\n",
      "100%|██████████| 22/22 [00:07<00:00,  3.11it/s]\n",
      "100%|██████████| 22/22 [00:06<00:00,  3.19it/s]\n",
      "100%|██████████| 22/22 [00:06<00:00,  3.21it/s]\n",
      "100%|██████████| 22/22 [00:06<00:00,  3.19it/s]\n",
      "100%|██████████| 22/22 [00:06<00:00,  3.21it/s]\n",
      "100%|██████████| 22/22 [00:07<00:00,  3.14it/s]\n",
      "100%|██████████| 22/22 [00:06<00:00,  3.21it/s]\n",
      "100%|██████████| 22/22 [00:06<00:00,  3.21it/s]\n",
      "100%|██████████| 22/22 [00:06<00:00,  3.21it/s]\n",
      "100%|██████████| 22/22 [00:07<00:00,  3.14it/s]\n",
      "100%|██████████| 22/22 [00:06<00:00,  3.21it/s]\n",
      "100%|██████████| 22/22 [00:06<00:00,  3.20it/s]\n",
      "100%|██████████| 22/22 [00:06<00:00,  3.19it/s]\n",
      "100%|██████████| 22/22 [00:06<00:00,  3.20it/s]\n",
      "100%|██████████| 22/22 [00:07<00:00,  3.08it/s]\n",
      "100%|██████████| 22/22 [00:06<00:00,  3.20it/s]\n",
      "100%|██████████| 22/22 [00:06<00:00,  3.19it/s]\n",
      "100%|██████████| 22/22 [00:06<00:00,  3.19it/s]\n",
      "100%|██████████| 22/22 [00:07<00:00,  3.13it/s]\n",
      "100%|██████████| 22/22 [00:07<00:00,  3.13it/s]\n",
      "100%|██████████| 22/22 [00:06<00:00,  3.21it/s]\n",
      "100%|██████████| 22/22 [00:06<00:00,  3.21it/s]\n",
      "100%|██████████| 22/22 [00:06<00:00,  3.22it/s]\n",
      "100%|██████████| 22/22 [00:07<00:00,  3.12it/s]\n",
      "100%|██████████| 22/22 [00:06<00:00,  3.22it/s]\n",
      "100%|██████████| 22/22 [00:06<00:00,  3.18it/s]\n",
      "100%|██████████| 22/22 [00:06<00:00,  3.21it/s]\n",
      "100%|██████████| 22/22 [00:07<00:00,  3.11it/s]\n",
      "100%|██████████| 22/22 [00:06<00:00,  3.21it/s]\n",
      "100%|██████████| 22/22 [00:06<00:00,  3.20it/s]\n",
      "100%|██████████| 22/22 [00:06<00:00,  3.21it/s]\n",
      "100%|██████████| 22/22 [00:06<00:00,  3.18it/s]\n",
      "100%|██████████| 22/22 [00:07<00:00,  3.13it/s]\n",
      "100%|██████████| 22/22 [00:06<00:00,  3.21it/s]\n",
      "100%|██████████| 22/22 [00:06<00:00,  3.20it/s]\n",
      "100%|██████████| 22/22 [00:06<00:00,  3.21it/s]\n",
      "100%|██████████| 22/22 [00:07<00:00,  3.12it/s]\n",
      "100%|██████████| 22/22 [00:06<00:00,  3.22it/s]\n",
      "100%|██████████| 22/22 [00:06<00:00,  3.20it/s]\n",
      "100%|██████████| 22/22 [00:06<00:00,  3.20it/s]\n",
      "100%|██████████| 22/22 [00:06<00:00,  3.18it/s]\n",
      "100%|██████████| 22/22 [00:07<00:00,  3.13it/s]\n",
      "100%|██████████| 22/22 [00:06<00:00,  3.18it/s]\n",
      "100%|██████████| 22/22 [00:06<00:00,  3.20it/s]\n",
      "100%|██████████| 22/22 [00:06<00:00,  3.19it/s]\n",
      "100%|██████████| 22/22 [00:06<00:00,  3.19it/s]\n",
      "100%|██████████| 22/22 [00:07<00:00,  3.12it/s]\n",
      "100%|██████████| 22/22 [00:06<00:00,  3.20it/s]\n",
      "100%|██████████| 22/22 [00:06<00:00,  3.21it/s]\n",
      "100%|██████████| 22/22 [00:06<00:00,  3.20it/s]\n",
      "100%|██████████| 22/22 [00:07<00:00,  3.12it/s]\n",
      "100%|██████████| 22/22 [00:06<00:00,  3.20it/s]\n",
      "100%|██████████| 22/22 [00:06<00:00,  3.22it/s]\n",
      "100%|██████████| 22/22 [00:06<00:00,  3.20it/s]\n",
      "100%|██████████| 22/22 [00:06<00:00,  3.21it/s]\n",
      "100%|██████████| 22/22 [00:07<00:00,  3.09it/s]\n",
      "100%|██████████| 22/22 [00:06<00:00,  3.21it/s]\n",
      "100%|██████████| 22/22 [00:06<00:00,  3.19it/s]\n",
      "100%|██████████| 22/22 [00:06<00:00,  3.20it/s]\n",
      "100%|██████████| 22/22 [00:07<00:00,  3.11it/s]\n",
      "100%|██████████| 22/22 [00:06<00:00,  3.20it/s]\n",
      "100%|██████████| 22/22 [00:06<00:00,  3.21it/s]\n",
      "100%|██████████| 22/22 [00:06<00:00,  3.20it/s]\n",
      "100%|██████████| 22/22 [00:06<00:00,  3.20it/s]\n",
      "100%|██████████| 22/22 [00:07<00:00,  3.12it/s]\n",
      "100%|██████████| 22/22 [00:06<00:00,  3.21it/s]\n",
      "100%|██████████| 22/22 [00:06<00:00,  3.21it/s]\n",
      "100%|██████████| 22/22 [00:06<00:00,  3.21it/s]\n",
      "100%|██████████| 22/22 [00:07<00:00,  3.11it/s]\n",
      "100%|██████████| 22/22 [00:06<00:00,  3.22it/s]\n",
      "100%|██████████| 22/22 [00:06<00:00,  3.18it/s]\n",
      "100%|██████████| 22/22 [00:06<00:00,  3.21it/s]\n",
      "100%|██████████| 22/22 [00:06<00:00,  3.19it/s]\n",
      "100%|██████████| 22/22 [00:07<00:00,  3.13it/s]\n",
      "100%|██████████| 22/22 [00:06<00:00,  3.20it/s]\n",
      "100%|██████████| 22/22 [00:06<00:00,  3.19it/s]\n",
      "100%|██████████| 22/22 [00:06<00:00,  3.21it/s]\n",
      "100%|██████████| 22/22 [00:07<00:00,  3.13it/s]\n",
      "100%|██████████| 22/22 [00:06<00:00,  3.21it/s]\n",
      "100%|██████████| 22/22 [00:06<00:00,  3.21it/s]\n",
      "100%|██████████| 22/22 [00:06<00:00,  3.21it/s]\n",
      "100%|██████████| 22/22 [00:06<00:00,  3.21it/s]\n",
      "100%|██████████| 22/22 [00:07<00:00,  3.14it/s]\n",
      "100%|██████████| 22/22 [00:06<00:00,  3.18it/s]\n",
      "100%|██████████| 22/22 [00:06<00:00,  3.20it/s]\n",
      "100%|██████████| 22/22 [00:06<00:00,  3.19it/s]\n",
      "100%|██████████| 22/22 [00:07<00:00,  3.11it/s]\n",
      "100%|██████████| 22/22 [00:06<00:00,  3.19it/s]\n",
      "100%|██████████| 22/22 [00:06<00:00,  3.20it/s]\n",
      "100%|██████████| 22/22 [00:06<00:00,  3.19it/s]\n",
      "100%|██████████| 22/22 [00:06<00:00,  3.21it/s]\n",
      "100%|██████████| 22/22 [00:06<00:00,  3.15it/s]\n",
      "100%|██████████| 22/22 [00:06<00:00,  3.21it/s]\n",
      "100%|██████████| 22/22 [00:06<00:00,  3.21it/s]\n",
      "100%|██████████| 22/22 [00:06<00:00,  3.20it/s]\n",
      "100%|██████████| 22/22 [00:06<00:00,  3.21it/s]\n"
     ]
    }
   ],
   "source": [
    "with torch.cuda.device(gpu_index):\n",
    "    trainer = Trainer(model=model, optimizer=optimizer, scheduler=scheduler, device=device, epochs=200, log_every_n_steps=100,\n",
    "                      log_dir='test')\n",
    "    trainer.train(train_loader)"
   ],
   "metadata": {
    "colab": {
     "base_uri": "https://localhost:8080/"
    },
    "id": "sTmb1DfJti9Z",
    "executionInfo": {
     "status": "ok",
     "timestamp": 1681398506688,
     "user_tz": -120,
     "elapsed": 1574224,
     "user": {
      "displayName": "Nau Tei",
      "userId": "05419850125273823117"
     }
    },
    "outputId": "d7719449-fd07-4d10-9ec1-45db5ba8bd86"
   }
  },
  {
   "cell_type": "code",
   "execution_count": null,
   "outputs": [],
   "source": [
    "torch.save(model.state_dict(), 'saved_models/test.pth')"
   ],
   "metadata": {
    "id": "lYdQGyqxti9a"
   }
  }
 ],
 "metadata": {
  "kernelspec": {
   "display_name": "Python 3",
   "language": "python",
   "name": "python3"
  },
  "language_info": {
   "codemirror_mode": {
    "name": "ipython",
    "version": 2
   },
   "file_extension": ".py",
   "mimetype": "text/x-python",
   "name": "python",
   "nbconvert_exporter": "python",
   "pygments_lexer": "ipython2",
   "version": "2.7.6"
  },
  "colab": {
   "provenance": []
  },
  "accelerator": "GPU",
  "gpuClass": "standard"
 },
 "nbformat": 4,
 "nbformat_minor": 0
}
