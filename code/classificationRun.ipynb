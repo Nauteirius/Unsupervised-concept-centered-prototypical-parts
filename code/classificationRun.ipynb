{
 "cells": [
  {
   "cell_type": "code",
   "execution_count": 1,
   "metadata": {
    "collapsed": true,
    "colab": {
     "base_uri": "https://localhost:8080/"
    },
    "id": "QfjLv1T5ti9E",
    "executionInfo": {
     "status": "ok",
     "timestamp": 1681419102413,
     "user_tz": -120,
     "elapsed": 23981,
     "user": {
      "displayName": "Nau Tei",
      "userId": "05419850125273823117"
     }
    },
    "outputId": "3a121903-9387-4739-b3d9-5450955fe828"
   },
   "outputs": [
    {
     "output_type": "stream",
     "name": "stdout",
     "text": [
      "Mounted at /content/drive\n"
     ]
    }
   ],
   "source": [
    "#imports and preprocessing, setting up train_loader\n",
    "from google.colab import drive\n",
    "drive.mount('/content/drive')"
   ]
  },
  {
   "cell_type": "code",
   "source": [
    "%cd /content/drive/MyDrive/Unsupervised-concept-centered-prototypical-parts/code"
   ],
   "metadata": {
    "colab": {
     "base_uri": "https://localhost:8080/"
    },
    "id": "MO_M99jGvdv6",
    "executionInfo": {
     "status": "ok",
     "timestamp": 1681419103075,
     "user_tz": -120,
     "elapsed": 667,
     "user": {
      "displayName": "Nau Tei",
      "userId": "05419850125273823117"
     }
    },
    "outputId": "a07ceb35-903f-483a-9333-22a897d9b08d"
   },
   "execution_count": 2,
   "outputs": [
    {
     "output_type": "stream",
     "name": "stdout",
     "text": [
      "/content/drive/MyDrive/Unsupervised-concept-centered-prototypical-parts/code\n"
     ]
    }
   ]
  },
  {
   "cell_type": "code",
   "execution_count": 3,
   "outputs": [],
   "source": [
    "import torch\n",
    "import torch.backends.cudnn as cudnn\n",
    "import matplotlib.pyplot as plt\n",
    "from torchvision import transforms\n",
    "from dataset import utils\n",
    "from dataset.cub2011 import Cub2011\n",
    "from dataset.CombinedDataLoader import CDL\n"
   ],
   "metadata": {
    "id": "nomMLQz5ti9G",
    "executionInfo": {
     "status": "ok",
     "timestamp": 1681419110138,
     "user_tz": -120,
     "elapsed": 7068,
     "user": {
      "displayName": "Nau Tei",
      "userId": "05419850125273823117"
     }
    }
   }
  },
  {
   "cell_type": "code",
   "execution_count": 4,
   "outputs": [],
   "source": [
    "if torch.cuda.is_available():\n",
    "    device = torch.device('cuda')\n",
    "    cudnn.deterministic = True\n",
    "    cudnn.benchmark = True\n",
    "    gpu_index = 0\n",
    "else:\n",
    "    device = torch.device('cpu')\n",
    "    gpu_index = -1\n"
   ],
   "metadata": {
    "id": "o5LP31qhti9J",
    "executionInfo": {
     "status": "ok",
     "timestamp": 1681419110140,
     "user_tz": -120,
     "elapsed": 21,
     "user": {
      "displayName": "Nau Tei",
      "userId": "05419850125273823117"
     }
    }
   }
  },
  {
   "cell_type": "code",
   "source": [
    "print(device)"
   ],
   "metadata": {
    "colab": {
     "base_uri": "https://localhost:8080/"
    },
    "id": "OvbKvd3dvrGT",
    "executionInfo": {
     "status": "ok",
     "timestamp": 1681419110141,
     "user_tz": -120,
     "elapsed": 20,
     "user": {
      "displayName": "Nau Tei",
      "userId": "05419850125273823117"
     }
    },
    "outputId": "4b398ab0-388f-4365-bbb1-760087deb6a0"
   },
   "execution_count": 5,
   "outputs": [
    {
     "output_type": "stream",
     "name": "stdout",
     "text": [
      "cuda\n"
     ]
    }
   ]
  },
  {
   "cell_type": "code",
   "execution_count": 6,
   "outputs": [],
   "source": [
    "root = './dataset/data'"
   ],
   "metadata": {
    "id": "9eQ2yQVjti9L",
    "executionInfo": {
     "status": "ok",
     "timestamp": 1681419110141,
     "user_tz": -120,
     "elapsed": 15,
     "user": {
      "displayName": "Nau Tei",
      "userId": "05419850125273823117"
     }
    }
   }
  },
  {
   "cell_type": "code",
   "execution_count": 7,
   "outputs": [],
   "source": [
    "#ds_whole = Cub2011(root, train=None, download=True, transform=transforms.ToTensor())"
   ],
   "metadata": {
    "id": "QcrYZUZdti9M",
    "executionInfo": {
     "status": "ok",
     "timestamp": 1681419110142,
     "user_tz": -120,
     "elapsed": 14,
     "user": {
      "displayName": "Nau Tei",
      "userId": "05419850125273823117"
     }
    }
   }
  },
  {
   "cell_type": "code",
   "execution_count": 8,
   "outputs": [],
   "source": [
    "#utils.crop_all_images(root)"
   ],
   "metadata": {
    "id": "6wYDa2tuti9N",
    "executionInfo": {
     "status": "ok",
     "timestamp": 1681419110143,
     "user_tz": -120,
     "elapsed": 14,
     "user": {
      "displayName": "Nau Tei",
      "userId": "05419850125273823117"
     }
    }
   }
  },
  {
   "cell_type": "code",
   "execution_count": 8,
   "outputs": [],
   "source": [],
   "metadata": {
    "id": "27OsivEKti9O",
    "executionInfo": {
     "status": "ok",
     "timestamp": 1681419110143,
     "user_tz": -120,
     "elapsed": 14,
     "user": {
      "displayName": "Nau Tei",
      "userId": "05419850125273823117"
     }
    }
   }
  },
  {
   "cell_type": "code",
   "execution_count": 8,
   "outputs": [],
   "source": [],
   "metadata": {
    "id": "QmCGsp3Jti9P",
    "executionInfo": {
     "status": "ok",
     "timestamp": 1681419110144,
     "user_tz": -120,
     "elapsed": 14,
     "user": {
      "displayName": "Nau Tei",
      "userId": "05419850125273823117"
     }
    }
   }
  },
  {
   "cell_type": "code",
   "execution_count": 9,
   "outputs": [],
   "source": [
    "transformy = transforms.Compose([\n",
    "    transforms.Resize((224, 224)), # Resize the image to 224x224\n",
    "    transforms.ToTensor() # Convert the image to a tensor\n",
    "])"
   ],
   "metadata": {
    "id": "4XNnWhNxti9Q",
    "executionInfo": {
     "status": "ok",
     "timestamp": 1681419110144,
     "user_tz": -120,
     "elapsed": 13,
     "user": {
      "displayName": "Nau Tei",
      "userId": "05419850125273823117"
     }
    }
   }
  },
  {
   "cell_type": "code",
   "execution_count": 10,
   "outputs": [],
   "source": [
    "train_loader1 = CDL(root, train=True, transform=transformy, num_classes=3, images=['cropped', \"grayscale\", \"gaussianBlur\", \"colorJitter\"])"
   ],
   "metadata": {
    "id": "13TLZF-Tti9S",
    "executionInfo": {
     "status": "ok",
     "timestamp": 1681419112543,
     "user_tz": -120,
     "elapsed": 2412,
     "user": {
      "displayName": "Nau Tei",
      "userId": "05419850125273823117"
     }
    }
   }
  },
  {
   "cell_type": "code",
   "execution_count": 11,
   "outputs": [],
   "source": [
    "train_loader = torch.utils.data.DataLoader(train_loader1, batch_size=32, shuffle=False, pin_memory=True, drop_last=True)\n"
   ],
   "metadata": {
    "id": "eBrvbZeIti9T",
    "executionInfo": {
     "status": "ok",
     "timestamp": 1681419112545,
     "user_tz": -120,
     "elapsed": 6,
     "user": {
      "displayName": "Nau Tei",
      "userId": "05419850125273823117"
     }
    }
   }
  },
  {
   "cell_type": "code",
   "execution_count": 12,
   "outputs": [],
   "source": [
    "# declare train_dateset and train_loader"
   ],
   "metadata": {
    "id": "5-ohC3qSti9U",
    "executionInfo": {
     "status": "ok",
     "timestamp": 1681419112546,
     "user_tz": -120,
     "elapsed": 6,
     "user": {
      "displayName": "Nau Tei",
      "userId": "05419850125273823117"
     }
    }
   }
  },
  {
   "cell_type": "code",
   "execution_count": 12,
   "outputs": [],
   "source": [],
   "metadata": {
    "id": "M9-dWBwzti9X",
    "executionInfo": {
     "status": "ok",
     "timestamp": 1681419112549,
     "user_tz": -120,
     "elapsed": 8,
     "user": {
      "displayName": "Nau Tei",
      "userId": "05419850125273823117"
     }
    }
   }
  },
  {
   "cell_type": "code",
   "execution_count": 13,
   "outputs": [
    {
     "output_type": "stream",
     "name": "stderr",
     "text": [
      "/usr/local/lib/python3.9/dist-packages/torchvision/models/_utils.py:208: UserWarning: The parameter 'pretrained' is deprecated since 0.13 and may be removed in the future, please use 'weights' instead.\n",
      "  warnings.warn(\n",
      "/usr/local/lib/python3.9/dist-packages/torchvision/models/_utils.py:223: UserWarning: Arguments other than a weight enum or `None` for 'weights' are deprecated since 0.13 and may be removed in the future. The current behavior is equivalent to passing `weights=ResNet34_Weights.IMAGENET1K_V1`. You can also use `weights=ResNet34_Weights.DEFAULT` to get the most up-to-date weights.\n",
      "  warnings.warn(msg)\n",
      "Downloading: \"https://download.pytorch.org/models/resnet34-b627a593.pth\" to /root/.cache/torch/hub/checkpoints/resnet34-b627a593.pth\n",
      "100%|██████████| 83.3M/83.3M [00:00<00:00, 331MB/s]\n"
     ]
    }
   ],
   "source": [
    "from models.classificationModel import ClassificationModel\n",
    "from models.classificationTrainer import Trainer\n",
    "\n",
    "model = ClassificationModel(out_dim=1000, dataset='./dataset/data/CUB_200_2011')\n",
    "\n"
   ],
   "metadata": {
    "colab": {
     "base_uri": "https://localhost:8080/"
    },
    "id": "fd1GMfZPti9Y",
    "executionInfo": {
     "status": "ok",
     "timestamp": 1681419118886,
     "user_tz": -120,
     "elapsed": 6345,
     "user": {
      "displayName": "Nau Tei",
      "userId": "05419850125273823117"
     }
    },
    "outputId": "f85b5948-1b16-4345-ff66-276915979f39"
   }
  },
  {
   "cell_type": "code",
   "source": [
    "model.backbone.fc = torch.nn.Sequential(#wariant 1\n",
    "    torch.nn.Linear(in_features=512, out_features=128, bias=True),\n",
    "    torch.nn.Linear(in_features=128, out_features=20, bias=True),\n",
    ")"
   ],
   "metadata": {
    "id": "kuUpkOPm1JMi",
    "executionInfo": {
     "status": "ok",
     "timestamp": 1681419118887,
     "user_tz": -120,
     "elapsed": 8,
     "user": {
      "displayName": "Nau Tei",
      "userId": "05419850125273823117"
     }
    }
   },
   "execution_count": 14,
   "outputs": []
  },
  {
   "cell_type": "code",
   "execution_count": 15,
   "outputs": [],
   "source": [
    "optimizer = torch.optim.Adam(model.parameters(), 0.0003, weight_decay=1e-4)\n",
    "\n",
    "scheduler = torch.optim.lr_scheduler.CosineAnnealingLR(optimizer, T_max=len(train_loader), eta_min=0,\n",
    "                                                       last_epoch=-1)"
   ],
   "metadata": {
    "id": "6YPgrxX4ti9Y",
    "executionInfo": {
     "status": "ok",
     "timestamp": 1681419118889,
     "user_tz": -120,
     "elapsed": 9,
     "user": {
      "displayName": "Nau Tei",
      "userId": "05419850125273823117"
     }
    }
   }
  },
  {
   "cell_type": "code",
   "source": [],
   "metadata": {
    "id": "pO03LyAh21QF",
    "executionInfo": {
     "status": "ok",
     "timestamp": 1681419118889,
     "user_tz": -120,
     "elapsed": 8,
     "user": {
      "displayName": "Nau Tei",
      "userId": "05419850125273823117"
     }
    }
   },
   "execution_count": 15,
   "outputs": []
  },
  {
   "cell_type": "code",
   "execution_count": 16,
   "outputs": [
    {
     "output_type": "stream",
     "name": "stderr",
     "text": [
      "  0%|          | 0/11 [00:00<?, ?it/s]/usr/local/lib/python3.9/dist-packages/torch/optim/lr_scheduler.py:814: UserWarning: To get the last learning rate computed by the scheduler, please use `get_last_lr()`.\n",
      "  warnings.warn(\"To get the last learning rate computed by the scheduler, \"\n",
      "100%|██████████| 11/11 [04:51<00:00, 26.52s/it]\n",
      "100%|██████████| 11/11 [00:03<00:00,  3.29it/s]\n",
      "100%|██████████| 11/11 [00:03<00:00,  3.25it/s]\n",
      "100%|██████████| 11/11 [00:03<00:00,  3.20it/s]\n",
      "100%|██████████| 11/11 [00:03<00:00,  3.17it/s]\n",
      "100%|██████████| 11/11 [00:03<00:00,  3.18it/s]\n",
      "100%|██████████| 11/11 [00:03<00:00,  3.22it/s]\n",
      "100%|██████████| 11/11 [00:03<00:00,  3.07it/s]\n",
      "100%|██████████| 11/11 [00:03<00:00,  3.28it/s]\n",
      "100%|██████████| 11/11 [00:03<00:00,  3.19it/s]\n",
      "100%|██████████| 11/11 [00:03<00:00,  3.33it/s]\n",
      "100%|██████████| 11/11 [00:03<00:00,  3.29it/s]\n",
      "100%|██████████| 11/11 [00:03<00:00,  3.35it/s]\n",
      "100%|██████████| 11/11 [00:03<00:00,  3.29it/s]\n",
      "100%|██████████| 11/11 [00:03<00:00,  3.34it/s]\n",
      "100%|██████████| 11/11 [00:03<00:00,  3.29it/s]\n",
      "100%|██████████| 11/11 [00:03<00:00,  3.36it/s]\n",
      "100%|██████████| 11/11 [00:03<00:00,  3.39it/s]\n",
      "100%|██████████| 11/11 [00:03<00:00,  3.17it/s]\n",
      "100%|██████████| 11/11 [00:03<00:00,  3.31it/s]\n",
      "100%|██████████| 11/11 [00:03<00:00,  3.38it/s]\n",
      "100%|██████████| 11/11 [00:03<00:00,  3.36it/s]\n",
      "100%|██████████| 11/11 [00:03<00:00,  3.31it/s]\n",
      "100%|██████████| 11/11 [00:03<00:00,  3.36it/s]\n",
      "100%|██████████| 11/11 [00:03<00:00,  3.33it/s]\n",
      "100%|██████████| 11/11 [00:03<00:00,  3.34it/s]\n",
      "100%|██████████| 11/11 [00:03<00:00,  3.29it/s]\n",
      "100%|██████████| 11/11 [00:03<00:00,  3.20it/s]\n",
      "100%|██████████| 11/11 [00:03<00:00,  3.33it/s]\n",
      "100%|██████████| 11/11 [00:03<00:00,  3.32it/s]\n",
      "100%|██████████| 11/11 [00:03<00:00,  3.26it/s]\n",
      "100%|██████████| 11/11 [00:03<00:00,  3.27it/s]\n",
      "100%|██████████| 11/11 [00:03<00:00,  3.32it/s]\n",
      "100%|██████████| 11/11 [00:03<00:00,  3.33it/s]\n",
      "100%|██████████| 11/11 [00:03<00:00,  3.30it/s]\n",
      "100%|██████████| 11/11 [00:03<00:00,  3.34it/s]\n",
      "100%|██████████| 11/11 [00:03<00:00,  3.21it/s]\n",
      "100%|██████████| 11/11 [00:03<00:00,  3.34it/s]\n",
      "100%|██████████| 11/11 [00:03<00:00,  3.31it/s]\n",
      "100%|██████████| 11/11 [00:03<00:00,  3.36it/s]\n",
      "100%|██████████| 11/11 [00:03<00:00,  3.35it/s]\n",
      "100%|██████████| 11/11 [00:03<00:00,  3.35it/s]\n",
      "100%|██████████| 11/11 [00:03<00:00,  3.32it/s]\n",
      "100%|██████████| 11/11 [00:03<00:00,  3.36it/s]\n",
      "100%|██████████| 11/11 [00:03<00:00,  3.36it/s]\n",
      "100%|██████████| 11/11 [00:03<00:00,  3.15it/s]\n",
      "100%|██████████| 11/11 [00:03<00:00,  3.32it/s]\n",
      "100%|██████████| 11/11 [00:03<00:00,  3.34it/s]\n",
      "100%|██████████| 11/11 [00:03<00:00,  3.30it/s]\n",
      "100%|██████████| 11/11 [00:03<00:00,  3.34it/s]\n",
      "100%|██████████| 11/11 [00:03<00:00,  3.31it/s]\n",
      "100%|██████████| 11/11 [00:03<00:00,  3.35it/s]\n",
      "100%|██████████| 11/11 [00:03<00:00,  3.36it/s]\n",
      "100%|██████████| 11/11 [00:03<00:00,  3.28it/s]\n",
      "100%|██████████| 11/11 [00:03<00:00,  3.18it/s]\n",
      "100%|██████████| 11/11 [00:03<00:00,  3.34it/s]\n",
      "100%|██████████| 11/11 [00:03<00:00,  3.32it/s]\n",
      "100%|██████████| 11/11 [00:03<00:00,  3.29it/s]\n",
      "100%|██████████| 11/11 [00:03<00:00,  3.34it/s]\n",
      "100%|██████████| 11/11 [00:03<00:00,  3.33it/s]\n",
      "100%|██████████| 11/11 [00:03<00:00,  3.33it/s]\n",
      "100%|██████████| 11/11 [00:03<00:00,  3.28it/s]\n",
      "100%|██████████| 11/11 [00:03<00:00,  3.34it/s]\n",
      "100%|██████████| 11/11 [00:03<00:00,  3.20it/s]\n",
      "100%|██████████| 11/11 [00:03<00:00,  3.34it/s]\n",
      "100%|██████████| 11/11 [00:03<00:00,  3.28it/s]\n",
      "100%|██████████| 11/11 [00:03<00:00,  3.28it/s]\n",
      "100%|██████████| 11/11 [00:03<00:00,  3.35it/s]\n",
      "100%|██████████| 11/11 [00:03<00:00,  3.33it/s]\n",
      "100%|██████████| 11/11 [00:03<00:00,  3.30it/s]\n",
      "100%|██████████| 11/11 [00:03<00:00,  3.35it/s]\n",
      "100%|██████████| 11/11 [00:03<00:00,  3.34it/s]\n",
      "100%|██████████| 11/11 [00:03<00:00,  3.16it/s]\n",
      "100%|██████████| 11/11 [00:03<00:00,  3.29it/s]\n",
      "100%|██████████| 11/11 [00:03<00:00,  3.36it/s]\n",
      "100%|██████████| 11/11 [00:03<00:00,  3.35it/s]\n",
      "100%|██████████| 11/11 [00:03<00:00,  3.35it/s]\n",
      "100%|██████████| 11/11 [00:03<00:00,  3.30it/s]\n",
      "100%|██████████| 11/11 [00:03<00:00,  3.35it/s]\n",
      "100%|██████████| 11/11 [00:03<00:00,  3.35it/s]\n",
      "100%|██████████| 11/11 [00:03<00:00,  3.33it/s]\n",
      "100%|██████████| 11/11 [00:03<00:00,  3.16it/s]\n",
      "100%|██████████| 11/11 [00:03<00:00,  3.33it/s]\n",
      "100%|██████████| 11/11 [00:03<00:00,  3.29it/s]\n",
      "100%|██████████| 11/11 [00:03<00:00,  3.26it/s]\n",
      "100%|██████████| 11/11 [00:03<00:00,  3.34it/s]\n",
      "100%|██████████| 11/11 [00:03<00:00,  3.35it/s]\n",
      "100%|██████████| 11/11 [00:03<00:00,  3.34it/s]\n",
      "100%|██████████| 11/11 [00:03<00:00,  3.31it/s]\n",
      "100%|██████████| 11/11 [00:03<00:00,  3.34it/s]\n",
      "100%|██████████| 11/11 [00:03<00:00,  3.08it/s]\n",
      "100%|██████████| 11/11 [00:03<00:00,  3.33it/s]\n",
      "100%|██████████| 11/11 [00:03<00:00,  3.29it/s]\n",
      "100%|██████████| 11/11 [00:03<00:00,  3.34it/s]\n",
      "100%|██████████| 11/11 [00:03<00:00,  3.34it/s]\n",
      "100%|██████████| 11/11 [00:03<00:00,  3.33it/s]\n",
      "100%|██████████| 11/11 [00:03<00:00,  3.30it/s]\n",
      "100%|██████████| 11/11 [00:03<00:00,  3.35it/s]\n",
      "100%|██████████| 11/11 [00:03<00:00,  3.33it/s]\n",
      "100%|██████████| 11/11 [00:03<00:00,  3.33it/s]\n"
     ]
    }
   ],
   "source": [
    "from datetime import datetime\n",
    "with torch.cuda.device(gpu_index):\n",
    "    trainer = Trainer(model=model, optimizer=optimizer, scheduler=scheduler, device=device, epochs=100, log_every_n_steps=100,\n",
    "                      log_dir=f'logs/Training{datetime.now().strftime(\"%d-%m-%Y_%H-%M\")}')\n",
    "    trainer.train(train_loader)"
   ],
   "metadata": {
    "colab": {
     "base_uri": "https://localhost:8080/"
    },
    "id": "sTmb1DfJti9Z",
    "outputId": "b20b4aa4-a2d3-4529-df86-ed049e0b059f",
    "executionInfo": {
     "status": "ok",
     "timestamp": 1681419775764,
     "user_tz": -120,
     "elapsed": 656883,
     "user": {
      "displayName": "Nau Tei",
      "userId": "05419850125273823117"
     }
    }
   }
  },
  {
   "cell_type": "code",
   "execution_count": 17,
   "outputs": [],
   "source": [
    "torch.save(model.state_dict(), 'saved_models/test1.pth')"
   ],
   "metadata": {
    "id": "lYdQGyqxti9a",
    "executionInfo": {
     "status": "ok",
     "timestamp": 1681419775768,
     "user_tz": -120,
     "elapsed": 38,
     "user": {
      "displayName": "Nau Tei",
      "userId": "05419850125273823117"
     }
    }
   }
  }
 ],
 "metadata": {
  "kernelspec": {
   "display_name": "Python 3",
   "language": "python",
   "name": "python3"
  },
  "language_info": {
   "codemirror_mode": {
    "name": "ipython",
    "version": 2
   },
   "file_extension": ".py",
   "mimetype": "text/x-python",
   "name": "python",
   "nbconvert_exporter": "python",
   "pygments_lexer": "ipython2",
   "version": "2.7.6"
  },
  "colab": {
   "provenance": []
  },
  "accelerator": "GPU",
  "gpuClass": "standard"
 },
 "nbformat": 4,
 "nbformat_minor": 0
}
